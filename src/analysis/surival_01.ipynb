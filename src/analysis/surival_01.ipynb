{
 "cells": [
  {
   "cell_type": "code",
   "execution_count": 1,
   "metadata": {},
   "outputs": [],
   "source": [
    "import pandas as pds\n",
    "import seaborn as sns\n",
    "import matplotlib.pyplot as plt\n",
    "import numpy as np\n",
    "    "
   ]
  },
  {
   "cell_type": "code",
   "execution_count": 33,
   "metadata": {},
   "outputs": [],
   "source": [
    "# load csv files into dataframes\n",
    "# the paramaters low_memory=False, dtype=str tell pandas not to guess the datatype\n",
    "# and make everything a string\n",
    "# note: many posts say low_memory=False doesn't do anything ... \n",
    "df_patients = pds.read_csv('patients.csv', low_memory=False, dtype=str, encoding='utf-8')\n",
    "df_patients_teeth = pds.read_csv('patient_teeth.csv', low_memory=False, dtype=str, encoding='utf-8')\n",
    "df_tooth_caries = pds.read_csv('tooth_caries.csv', low_memory=False, dtype=str, encoding='utf-8')\n",
    "df_tooth_surface_caries = pds.read_csv('tooth_surface_caries.csv', low_memory=False, dtype=str, encoding='utf-8')\n",
    "df_tooth_procedures = pds.read_csv('tooth_procedures_no_es.csv', low_memory=False, dtype=str, encoding='utf-8')\n",
    "df_tooth_surface_procedures = pds.read_csv('tooth_surface_procedures_no_es.csv', low_memory=False, dtype=str, encoding='utf-8')"
   ]
  },
  {
   "cell_type": "code",
   "execution_count": null,
   "metadata": {},
   "outputs": [],
   "source": []
  },
  {
   "cell_type": "code",
   "execution_count": null,
   "metadata": {},
   "outputs": [],
   "source": []
  },
  {
   "cell_type": "code",
   "execution_count": 205,
   "metadata": {},
   "outputs": [],
   "source": [
    "# drop duplicates from dataframes\n",
    "df_patients.drop_duplicates(inplace=True)\n",
    "df_patients_teeth.drop_duplicates(inplace=True)\n",
    "df_tooth_caries.drop_duplicates(inplace=True)\n",
    "df_tooth_surface_caries.drop_duplicates(inplace=True)\n",
    "df_tooth_procedures.drop_duplicates(inplace=True)\n",
    "df_tooth_surface_procedures.drop_duplicates(inplace=True)"
   ]
  },
  {
   "cell_type": "code",
   "execution_count": 207,
   "metadata": {},
   "outputs": [],
   "source": [
    "# testing output\n",
    "# df_patients.head() # good\n",
    "# df_patients_teeth.head() # good\n",
    "# df_tooth_caries.head() # good\n",
    "# df_tooth_surface_caries.head() # good\n",
    "# df_tooth_procedures.head() # good\n",
    "# df_tooth_surface_procedures.head() # good"
   ]
  },
  {
   "cell_type": "code",
   "execution_count": 208,
   "metadata": {},
   "outputs": [],
   "source": [
    "# len(df_patients_teeth)"
   ]
  },
  {
   "cell_type": "code",
   "execution_count": 104,
   "metadata": {},
   "outputs": [],
   "source": []
  },
  {
   "cell_type": "code",
   "execution_count": 209,
   "metadata": {},
   "outputs": [
    {
     "data": {
      "text/html": [
       "<div>\n",
       "<style scoped>\n",
       "    .dataframe tbody tr th:only-of-type {\n",
       "        vertical-align: middle;\n",
       "    }\n",
       "\n",
       "    .dataframe tbody tr th {\n",
       "        vertical-align: top;\n",
       "    }\n",
       "\n",
       "    .dataframe thead th {\n",
       "        text-align: right;\n",
       "    }\n",
       "</style>\n",
       "<table border=\"1\" class=\"dataframe\">\n",
       "  <thead>\n",
       "    <tr style=\"text-align: right;\">\n",
       "      <th></th>\n",
       "      <th>practice</th>\n",
       "      <th>patient_id</th>\n",
       "      <th>gender</th>\n",
       "      <th>dob</th>\n",
       "      <th>first_visit</th>\n",
       "      <th>last_visit</th>\n",
       "      <th>tooth_id</th>\n",
       "      <th>tooth_num</th>\n",
       "      <th>first_PCR</th>\n",
       "      <th>first_RCT</th>\n",
       "      <th>extract_date</th>\n",
       "      <th>missing_date</th>\n",
       "      <th>exception</th>\n",
       "    </tr>\n",
       "  </thead>\n",
       "  <tbody>\n",
       "    <tr>\n",
       "      <th>0</th>\n",
       "      <td>A_1</td>\n",
       "      <td>A_1_1_3273</td>\n",
       "      <td>female</td>\n",
       "      <td>1932-04-22T00:00:00</td>\n",
       "      <td>1994-12-28T00:00:00</td>\n",
       "      <td>2015-09-26T00:00:00</td>\n",
       "      <td>A_1_1_3273_3</td>\n",
       "      <td>3</td>\n",
       "      <td>NaN</td>\n",
       "      <td>NaN</td>\n",
       "      <td>2014-01-15T00:00:00</td>\n",
       "      <td>2012-04-07T00:00:00</td>\n",
       "      <td>NaN</td>\n",
       "    </tr>\n",
       "    <tr>\n",
       "      <th>1</th>\n",
       "      <td>A_1</td>\n",
       "      <td>A_1_1_3273</td>\n",
       "      <td>female</td>\n",
       "      <td>1932-04-22T00:00:00</td>\n",
       "      <td>1994-12-28T00:00:00</td>\n",
       "      <td>2015-09-26T00:00:00</td>\n",
       "      <td>A_1_1_3273_6</td>\n",
       "      <td>6</td>\n",
       "      <td>NaN</td>\n",
       "      <td>NaN</td>\n",
       "      <td>2013-12-25T00:00:00</td>\n",
       "      <td>2012-04-03T00:00:00</td>\n",
       "      <td>NaN</td>\n",
       "    </tr>\n",
       "    <tr>\n",
       "      <th>2</th>\n",
       "      <td>A_1</td>\n",
       "      <td>A_1_1_3273</td>\n",
       "      <td>female</td>\n",
       "      <td>1932-04-22T00:00:00</td>\n",
       "      <td>1994-12-28T00:00:00</td>\n",
       "      <td>2015-09-26T00:00:00</td>\n",
       "      <td>A_1_1_3273_31</td>\n",
       "      <td>31</td>\n",
       "      <td>NaN</td>\n",
       "      <td>NaN</td>\n",
       "      <td>2014-04-22T00:00:00</td>\n",
       "      <td>2011-12-24T00:00:00</td>\n",
       "      <td>NaN</td>\n",
       "    </tr>\n",
       "    <tr>\n",
       "      <th>3</th>\n",
       "      <td>A_1</td>\n",
       "      <td>A_1_1_3273</td>\n",
       "      <td>female</td>\n",
       "      <td>1932-04-22T00:00:00</td>\n",
       "      <td>1994-12-28T00:00:00</td>\n",
       "      <td>2015-09-26T00:00:00</td>\n",
       "      <td>A_1_1_3273_20</td>\n",
       "      <td>20</td>\n",
       "      <td>NaN</td>\n",
       "      <td>NaN</td>\n",
       "      <td>2014-02-11T00:00:00</td>\n",
       "      <td>2011-12-24T00:00:00</td>\n",
       "      <td>NaN</td>\n",
       "    </tr>\n",
       "    <tr>\n",
       "      <th>4</th>\n",
       "      <td>A_1</td>\n",
       "      <td>A_1_1_3273</td>\n",
       "      <td>female</td>\n",
       "      <td>1932-04-22T00:00:00</td>\n",
       "      <td>1994-12-28T00:00:00</td>\n",
       "      <td>2015-09-26T00:00:00</td>\n",
       "      <td>A_1_1_3273_4</td>\n",
       "      <td>4</td>\n",
       "      <td>NaN</td>\n",
       "      <td>NaN</td>\n",
       "      <td>2015-10-18T00:00:00</td>\n",
       "      <td>2012-03-17T00:00:00</td>\n",
       "      <td>NaN</td>\n",
       "    </tr>\n",
       "  </tbody>\n",
       "</table>\n",
       "</div>"
      ],
      "text/plain": [
       "  practice  patient_id  gender                  dob          first_visit           last_visit       tooth_id tooth_num first_PCR first_RCT         extract_date         missing_date exception\n",
       "0      A_1  A_1_1_3273  female  1932-04-22T00:00:00  1994-12-28T00:00:00  2015-09-26T00:00:00   A_1_1_3273_3         3       NaN       NaN  2014-01-15T00:00:00  2012-04-07T00:00:00       NaN\n",
       "1      A_1  A_1_1_3273  female  1932-04-22T00:00:00  1994-12-28T00:00:00  2015-09-26T00:00:00   A_1_1_3273_6         6       NaN       NaN  2013-12-25T00:00:00  2012-04-03T00:00:00       NaN\n",
       "2      A_1  A_1_1_3273  female  1932-04-22T00:00:00  1994-12-28T00:00:00  2015-09-26T00:00:00  A_1_1_3273_31        31       NaN       NaN  2014-04-22T00:00:00  2011-12-24T00:00:00       NaN\n",
       "3      A_1  A_1_1_3273  female  1932-04-22T00:00:00  1994-12-28T00:00:00  2015-09-26T00:00:00  A_1_1_3273_20        20       NaN       NaN  2014-02-11T00:00:00  2011-12-24T00:00:00       NaN\n",
       "4      A_1  A_1_1_3273  female  1932-04-22T00:00:00  1994-12-28T00:00:00  2015-09-26T00:00:00   A_1_1_3273_4         4       NaN       NaN  2015-10-18T00:00:00  2012-03-17T00:00:00       NaN"
      ]
     },
     "execution_count": 209,
     "metadata": {},
     "output_type": "execute_result"
    }
   ],
   "source": [
    "# merge patients and teeth dataframes \n",
    "df_teeth = pds.merge(df_patients, df_patients_teeth, how='inner', on=['practice', 'patient_id']).drop_duplicates()\n",
    "df_teeth.head()"
   ]
  },
  {
   "cell_type": "code",
   "execution_count": 198,
   "metadata": {},
   "outputs": [],
   "source": [
    "# len(df_teeth)"
   ]
  },
  {
   "cell_type": "code",
   "execution_count": 199,
   "metadata": {},
   "outputs": [],
   "source": [
    "# create dataframe of teeth involved in procdures\n",
    "df_teeth = df_teeth[df_teeth.tooth_id.isin(df_tooth_procedures.tooth_id)].drop_duplicates()\n",
    "# len(df_teeth)"
   ]
  },
  {
   "cell_type": "code",
   "execution_count": 200,
   "metadata": {},
   "outputs": [],
   "source": [
    "# df_teeth.head()"
   ]
  },
  {
   "cell_type": "code",
   "execution_count": null,
   "metadata": {},
   "outputs": [],
   "source": []
  },
  {
   "cell_type": "code",
   "execution_count": null,
   "metadata": {},
   "outputs": [],
   "source": []
  },
  {
   "cell_type": "code",
   "execution_count": 233,
   "metadata": {},
   "outputs": [],
   "source": [
    "# merge procedures and surface data frames\n",
    "# this results in surface information being included to with procedure\n",
    "# information (when applicable)\n",
    "df_procedures = pds.merge(df_tooth_procedures, df_tooth_surface_procedures, how='left', \\\n",
    "                                               on=['event_id', 'tooth_id', 'tooth_num']).drop_duplicates()\n",
    "# fill NaN with '0'\n",
    "df_procedures = df_procedures.fillna(0)\n",
    "# df_procedures.head()"
   ]
  },
  {
   "cell_type": "code",
   "execution_count": null,
   "metadata": {},
   "outputs": [],
   "source": []
  },
  {
   "cell_type": "code",
   "execution_count": null,
   "metadata": {},
   "outputs": [],
   "source": []
  },
  {
   "cell_type": "code",
   "execution_count": 133,
   "metadata": {},
   "outputs": [],
   "source": [
    "# len(df_teeth)"
   ]
  },
  {
   "cell_type": "code",
   "execution_count": null,
   "metadata": {},
   "outputs": [],
   "source": []
  },
  {
   "cell_type": "code",
   "execution_count": 234,
   "metadata": {},
   "outputs": [],
   "source": [
    "# merge teeth and procedures data frames\n",
    "# this links patients, teeth, and procedures together\n",
    "df_obs = pds.merge(df_teeth, df_procedures, \\\n",
    "                             how='inner', on=['tooth_id', 'tooth_num'])\n",
    "df_obs.drop_duplicates(inplace=True)\n",
    "# df_obs.head()"
   ]
  },
  {
   "cell_type": "code",
   "execution_count": null,
   "metadata": {},
   "outputs": [],
   "source": []
  },
  {
   "cell_type": "code",
   "execution_count": null,
   "metadata": {},
   "outputs": [],
   "source": []
  },
  {
   "cell_type": "code",
   "execution_count": null,
   "metadata": {},
   "outputs": [],
   "source": []
  },
  {
   "cell_type": "code",
   "execution_count": null,
   "metadata": {},
   "outputs": [],
   "source": []
  },
  {
   "cell_type": "code",
   "execution_count": null,
   "metadata": {},
   "outputs": [],
   "source": []
  },
  {
   "cell_type": "code",
   "execution_count": null,
   "metadata": {},
   "outputs": [],
   "source": []
  },
  {
   "cell_type": "code",
   "execution_count": null,
   "metadata": {},
   "outputs": [],
   "source": []
  },
  {
   "cell_type": "code",
   "execution_count": 215,
   "metadata": {},
   "outputs": [
    {
     "name": "stdout",
     "output_type": "stream",
     "text": [
      "Index(['practice', 'patient_id', 'gender', 'dob', 'first_visit', 'last_visit', 'tooth_id', 'tooth_num', 'first_PCR', 'first_RCT', 'extract_date', 'missing_date', 'exception', 'event_id', 'event_name', 'event_date', 'ada_code', 'm', 'o', 'd', 'b', 'l', 'f', 'i'], dtype='object')\n"
     ]
    }
   ],
   "source": [
    "# print column names for easy reference\n",
    "print(df_obs.columns)"
   ]
  },
  {
   "cell_type": "code",
   "execution_count": 235,
   "metadata": {},
   "outputs": [],
   "source": [
    "# convert columns to datetime datatype (in case they aren't stored as datetimes)\n",
    "df_obs.dob = pds.to_datetime(df_obs.dob)\n",
    "df_obs.first_visit = pds.to_datetime(df_obs.first_visit, errors = 'coerce')\n",
    "df_obs.last_visit = pds.to_datetime(df_obs.last_visit, errors = 'coerce')\n",
    "df_obs.first_PCR = pds.to_datetime(df_obs.first_PCR, errors = 'coerce')\n",
    "df_obs.first_RCT = pds.to_datetime(df_obs.first_RCT, errors = 'coerce')\n",
    "df_obs.event_date = pds.to_datetime(df_obs.event_date, errors = 'coerce')\n",
    "df_obs.extract_date = pds.to_datetime(df_obs.extract_date, errors = 'coerce')\n",
    "df_obs.missing_date = pds.to_datetime(df_obs.missing_date, errors = 'coerce')\n",
    "\n",
    "# df_obs.head()"
   ]
  },
  {
   "cell_type": "code",
   "execution_count": 236,
   "metadata": {},
   "outputs": [],
   "source": [
    "# add patient ages to observations (using year 2017)\n",
    "df_obs['patient_age'] = 2017 - pds.to_datetime(df_obs.dob).dt.year\n",
    "\n",
    "# df_obs[['dob', 'patient_age']].head()"
   ]
  },
  {
   "cell_type": "code",
   "execution_count": 238,
   "metadata": {},
   "outputs": [],
   "source": [
    "# some of the patient ages are less than zero due to bad DOB data\n",
    "# let's drop the records\n",
    "df_obs = pds.DataFrame(df_obs.query('patient_age > 0'))\n",
    "\n",
    "# df_obs[['dob', 'patient_age']].head()\n",
    "# df_obs.head()"
   ]
  },
  {
   "cell_type": "code",
   "execution_count": 239,
   "metadata": {},
   "outputs": [],
   "source": [
    "# df_teeth.tooth_num.count()\n",
    "# df_teeth.groupby('tooth_num').count()\n",
    "\n",
    "# temp = df_teeth[~np.isnat(df_teeth.extract_date)]\n",
    "# temp = df_teeth[~df_teeth.extract_date.isnull()]\n",
    "# temp = temp.query(\"tooth_num == '7'\")\n",
    "# temp.groupby('tooth_num').count()\n",
    "# temp.head()"
   ]
  },
  {
   "cell_type": "code",
   "execution_count": 240,
   "metadata": {},
   "outputs": [],
   "source": [
    "# create dataframe of patient demographics\n",
    "# note the use of drop_duplicates so that we have distict patients\n",
    "df_demographics = df_obs[['practice', 'patient_id', 'gender', 'dob', 'patient_age']].drop_duplicates()\n",
    "\n",
    "# df_demographics.head()"
   ]
  },
  {
   "cell_type": "code",
   "execution_count": 242,
   "metadata": {},
   "outputs": [
    {
     "data": {
      "text/plain": [
       "218560"
      ]
     },
     "execution_count": 242,
     "metadata": {},
     "output_type": "execute_result"
    }
   ],
   "source": [
    "# print number of patients\n",
    "# alternative method: df_demographics.count() -> 219037\n",
    "len(df_demographics) # simplier"
   ]
  },
  {
   "cell_type": "code",
   "execution_count": null,
   "metadata": {},
   "outputs": [],
   "source": [
    "# print out gender counts\n",
    "# 122945 + 122945 = 122945\n",
    "grouped = df_demographics.groupby('gender')['patient_id'].count()\n",
    "print(grouped)"
   ]
  },
  {
   "cell_type": "code",
   "execution_count": 243,
   "metadata": {},
   "outputs": [
    {
     "data": {
      "image/png": "[encoded data removed]",
      "text/plain": [
       "<Figure size 432x288 with 1 Axes>"
      ]
     },
     "metadata": {},
     "output_type": "display_data"
    }
   ],
   "source": [
    "# plot gender counts\n",
    "ax = sns.countplot(x=\"gender\", data=df_demographics)"
   ]
  },
  {
   "cell_type": "code",
   "execution_count": 226,
   "metadata": {},
   "outputs": [],
   "source": [
    "# create separate dataframes for genders\n",
    "# there is probably a better way to do this ...\n",
    "df_females = df_demographics.query(\"gender == 'female'\")[['gender', 'patient_age']]\n",
    "df_males = df_demographics.query(\"gender == 'male'\")[['gender', 'patient_age']]\n",
    "\n",
    "# testing output\n",
    "# df_females.head()\n",
    "# print(len(df_females))\n",
    "# df_females.groupby('patient_age').count()"
   ]
  },
  {
   "cell_type": "code",
   "execution_count": 244,
   "metadata": {},
   "outputs": [
    {
     "data": {
      "image/png": "[encoded data removed]",
      "text/plain": [
       "<Figure size 864x504 with 1 Axes>"
      ]
     },
     "metadata": {},
     "output_type": "display_data"
    }
   ],
   "source": [
    "# plot age/gender distribution\n",
    "ax = df_females[\"patient_age\"]\\\n",
    "        .hist(bins=20, alpha=0.5, color='magenta', label='female', edgecolor='black', linewidth=1.5,figsize=(12,7))\n",
    "ax = df_males[\"patient_age\"]\\\n",
    "        .hist(bins=20, alpha=0.5, color='cyan', label='male', edgecolor='black', linewidth=1.5, figsize=(12,7))\n",
    "\n",
    "ax.set_xlabel(\"\\nAge of Patient\", fontsize=15)\n",
    "ax.set_ylabel(\"Count\\n\", fontsize=17)\n",
    "\n",
    "plt.legend(loc='upper right', prop={'size': 18})\n",
    "plt.show()"
   ]
  },
  {
   "cell_type": "code",
   "execution_count": 262,
   "metadata": {},
   "outputs": [
    {
     "name": "stderr",
     "output_type": "stream",
     "text": [
      "/usr/local/anaconda3/lib/python3.6/site-packages/pandas/core/generic.py:4405: SettingWithCopyWarning: \n",
      "A value is trying to be set on a copy of a slice from a DataFrame.\n",
      "Try using .loc[row_indexer,col_indexer] = value instead\n",
      "\n",
      "See the caveats in the documentation: http://pandas.pydata.org/pandas-docs/stable/indexing.html#indexing-view-versus-copy\n",
      "  self[name] = value\n"
     ]
    }
   ],
   "source": [
    "# build dataframe of restorations on surfaces\n",
    "df_fillings = df_obs[['tooth_id', 'tooth_num', 'ada_code', 'event_name', 'm','o', 'd', 'b', 'l', 'f', 'i']]\n",
    "# df_fillings = df_fillings.query(\"\"\" \\\n",
    "#                     ada_code.str.startswith('D') \\\n",
    "#                     and event_name.str.contains('filling') \\\n",
    "#                     and (m==1 or o==1 or d==1 or b==1 or l==1 or f==1 or i==1)\"\"\"\n",
    "#                     , engine=\"python\") # engine=\"python\" is needed for str functions to work\n",
    "# df_fillings = df_fillings.query(\"\"\" m==1 or o==1 or d==1 or b==1 or l==1 or f==1 or i==1\"\"\"\n",
    "#                                     , engine=\"python\") # engine=\"python\" is needed for str functions to work\n",
    "df_fillings.m = pds.to_numeric(df_fillings.m)\n",
    "df_fillings.o = pds.to_numeric(df_fillings.o)\n",
    "df_fillings.d = pds.to_numeric(df_fillings.d)\n",
    "df_fillings.b = pds.to_numeric(df_fillings.b)\n",
    "df_fillings.l = pds.to_numeric(df_fillings.l)\n",
    "df_fillings.f = pds.to_numeric(df_fillings.f)\n",
    "df_fillings.i = pds.to_numeric(df_fillings.i)\n",
    "# df_fillings.head()"
   ]
  },
  {
   "cell_type": "code",
   "execution_count": 263,
   "metadata": {},
   "outputs": [
    {
     "name": "stderr",
     "output_type": "stream",
     "text": [
      "/usr/local/anaconda3/lib/python3.6/site-packages/ipykernel_launcher.py:2: SettingWithCopyWarning: \n",
      "A value is trying to be set on a copy of a slice from a DataFrame.\n",
      "Try using .loc[row_indexer,col_indexer] = value instead\n",
      "\n",
      "See the caveats in the documentation: http://pandas.pydata.org/pandas-docs/stable/indexing.html#indexing-view-versus-copy\n",
      "  \n"
     ]
    }
   ],
   "source": [
    "# add column with number of surfaces restored during procedure\n",
    "df_fillings['num_restored_surfaces'] = df_fillings.m + df_fillings.o + df_fillings.d \\\n",
    "                                       + df_fillings.b + df_fillings.l + df_fillings.f + df_fillings.i"
   ]
  },
  {
   "cell_type": "code",
   "execution_count": 264,
   "metadata": {},
   "outputs": [
    {
     "name": "stderr",
     "output_type": "stream",
     "text": [
      "/usr/local/anaconda3/lib/python3.6/site-packages/pandas/core/generic.py:4405: SettingWithCopyWarning: \n",
      "A value is trying to be set on a copy of a slice from a DataFrame.\n",
      "Try using .loc[row_indexer,col_indexer] = value instead\n",
      "\n",
      "See the caveats in the documentation: http://pandas.pydata.org/pandas-docs/stable/indexing.html#indexing-view-versus-copy\n",
      "  self[name] = value\n"
     ]
    },
    {
     "data": {
      "text/html": [
       "<div>\n",
       "<style scoped>\n",
       "    .dataframe tbody tr th:only-of-type {\n",
       "        vertical-align: middle;\n",
       "    }\n",
       "\n",
       "    .dataframe tbody tr th {\n",
       "        vertical-align: top;\n",
       "    }\n",
       "\n",
       "    .dataframe thead th {\n",
       "        text-align: right;\n",
       "    }\n",
       "</style>\n",
       "<table border=\"1\" class=\"dataframe\">\n",
       "  <thead>\n",
       "    <tr style=\"text-align: right;\">\n",
       "      <th></th>\n",
       "      <th>tooth_id</th>\n",
       "      <th>tooth_num</th>\n",
       "      <th>ada_code</th>\n",
       "      <th>event_name</th>\n",
       "      <th>m</th>\n",
       "      <th>o</th>\n",
       "      <th>d</th>\n",
       "      <th>b</th>\n",
       "      <th>l</th>\n",
       "      <th>f</th>\n",
       "      <th>i</th>\n",
       "      <th>num_restored_surfaces</th>\n",
       "    </tr>\n",
       "  </thead>\n",
       "  <tbody>\n",
       "    <tr>\n",
       "      <th>0</th>\n",
       "      <td>A_1_1_3273_3</td>\n",
       "      <td>3</td>\n",
       "      <td>D2750</td>\n",
       "      <td>porcelain fused to high noble metal crown rest...</td>\n",
       "      <td>0</td>\n",
       "      <td>0</td>\n",
       "      <td>0</td>\n",
       "      <td>0</td>\n",
       "      <td>0</td>\n",
       "      <td>0</td>\n",
       "      <td>0</td>\n",
       "      <td>0</td>\n",
       "    </tr>\n",
       "    <tr>\n",
       "      <th>1</th>\n",
       "      <td>A_1_1_3273_3</td>\n",
       "      <td>3</td>\n",
       "      <td>D6750</td>\n",
       "      <td>porcelain fused to high noble metal crown rest...</td>\n",
       "      <td>0</td>\n",
       "      <td>0</td>\n",
       "      <td>0</td>\n",
       "      <td>0</td>\n",
       "      <td>0</td>\n",
       "      <td>0</td>\n",
       "      <td>0</td>\n",
       "      <td>0</td>\n",
       "    </tr>\n",
       "    <tr>\n",
       "      <th>2</th>\n",
       "      <td>A_1_1_3273_6</td>\n",
       "      <td>6</td>\n",
       "      <td>D2750</td>\n",
       "      <td>porcelain fused to high noble metal crown rest...</td>\n",
       "      <td>0</td>\n",
       "      <td>0</td>\n",
       "      <td>0</td>\n",
       "      <td>0</td>\n",
       "      <td>0</td>\n",
       "      <td>0</td>\n",
       "      <td>0</td>\n",
       "      <td>0</td>\n",
       "    </tr>\n",
       "    <tr>\n",
       "      <th>3</th>\n",
       "      <td>A_1_1_3273_6</td>\n",
       "      <td>6</td>\n",
       "      <td>D6750</td>\n",
       "      <td>porcelain fused to high noble metal crown rest...</td>\n",
       "      <td>0</td>\n",
       "      <td>0</td>\n",
       "      <td>0</td>\n",
       "      <td>0</td>\n",
       "      <td>0</td>\n",
       "      <td>0</td>\n",
       "      <td>0</td>\n",
       "      <td>0</td>\n",
       "    </tr>\n",
       "    <tr>\n",
       "      <th>4</th>\n",
       "      <td>A_1_1_3273_31</td>\n",
       "      <td>31</td>\n",
       "      <td>D2752</td>\n",
       "      <td>porcelain fused to noble metal crown restorati...</td>\n",
       "      <td>0</td>\n",
       "      <td>0</td>\n",
       "      <td>0</td>\n",
       "      <td>0</td>\n",
       "      <td>0</td>\n",
       "      <td>0</td>\n",
       "      <td>0</td>\n",
       "      <td>0</td>\n",
       "    </tr>\n",
       "  </tbody>\n",
       "</table>\n",
       "</div>"
      ],
      "text/plain": [
       "        tooth_id tooth_num ada_code                                         event_name  m  o  d  b  l  f  i  num_restored_surfaces\n",
       "0   A_1_1_3273_3         3    D2750  porcelain fused to high noble metal crown rest...  0  0  0  0  0  0  0                      0\n",
       "1   A_1_1_3273_3         3    D6750  porcelain fused to high noble metal crown rest...  0  0  0  0  0  0  0                      0\n",
       "2   A_1_1_3273_6         6    D2750  porcelain fused to high noble metal crown rest...  0  0  0  0  0  0  0                      0\n",
       "3   A_1_1_3273_6         6    D6750  porcelain fused to high noble metal crown rest...  0  0  0  0  0  0  0                      0\n",
       "4  A_1_1_3273_31        31    D2752  porcelain fused to noble metal crown restorati...  0  0  0  0  0  0  0                      0"
      ]
     },
     "execution_count": 264,
     "metadata": {},
     "output_type": "execute_result"
    }
   ],
   "source": [
    "df_fillings.num_restored_surfaces = pds.to_numeric(df_fillings.num_restored_surfaces)\n",
    "df_fillings.head()"
   ]
  },
  {
   "cell_type": "code",
   "execution_count": 265,
   "metadata": {},
   "outputs": [
    {
     "data": {
      "text/html": [
       "<div>\n",
       "<style scoped>\n",
       "    .dataframe tbody tr th:only-of-type {\n",
       "        vertical-align: middle;\n",
       "    }\n",
       "\n",
       "    .dataframe tbody tr th {\n",
       "        vertical-align: top;\n",
       "    }\n",
       "\n",
       "    .dataframe thead th {\n",
       "        text-align: right;\n",
       "    }\n",
       "</style>\n",
       "<table border=\"1\" class=\"dataframe\">\n",
       "  <thead>\n",
       "    <tr style=\"text-align: right;\">\n",
       "      <th></th>\n",
       "      <th>tooth_id</th>\n",
       "      <th>tooth_num</th>\n",
       "      <th>ada_code</th>\n",
       "      <th>event_name</th>\n",
       "      <th>m</th>\n",
       "      <th>o</th>\n",
       "      <th>d</th>\n",
       "      <th>b</th>\n",
       "      <th>l</th>\n",
       "      <th>f</th>\n",
       "      <th>i</th>\n",
       "      <th>num_restored_surfaces</th>\n",
       "    </tr>\n",
       "  </thead>\n",
       "  <tbody>\n",
       "    <tr>\n",
       "      <th>7</th>\n",
       "      <td>A_1_1_3273_18</td>\n",
       "      <td>18</td>\n",
       "      <td>D2391</td>\n",
       "      <td>resin filling restoration procedure</td>\n",
       "      <td>0</td>\n",
       "      <td>1</td>\n",
       "      <td>0</td>\n",
       "      <td>0</td>\n",
       "      <td>0</td>\n",
       "      <td>0</td>\n",
       "      <td>0</td>\n",
       "      <td>1</td>\n",
       "    </tr>\n",
       "    <tr>\n",
       "      <th>8</th>\n",
       "      <td>A_1_1_3273_14</td>\n",
       "      <td>14</td>\n",
       "      <td>D2150</td>\n",
       "      <td>amalgam filling restoration procedure</td>\n",
       "      <td>1</td>\n",
       "      <td>0</td>\n",
       "      <td>0</td>\n",
       "      <td>0</td>\n",
       "      <td>1</td>\n",
       "      <td>0</td>\n",
       "      <td>0</td>\n",
       "      <td>2</td>\n",
       "    </tr>\n",
       "    <tr>\n",
       "      <th>9</th>\n",
       "      <td>A_1_1_3273_9</td>\n",
       "      <td>9</td>\n",
       "      <td>D2331</td>\n",
       "      <td>resin filling restoration procedure</td>\n",
       "      <td>1</td>\n",
       "      <td>0</td>\n",
       "      <td>0</td>\n",
       "      <td>0</td>\n",
       "      <td>0</td>\n",
       "      <td>0</td>\n",
       "      <td>1</td>\n",
       "      <td>2</td>\n",
       "    </tr>\n",
       "    <tr>\n",
       "      <th>10</th>\n",
       "      <td>A_1_1_3273_24</td>\n",
       "      <td>24</td>\n",
       "      <td>D2330</td>\n",
       "      <td>resin filling restoration procedure</td>\n",
       "      <td>0</td>\n",
       "      <td>0</td>\n",
       "      <td>0</td>\n",
       "      <td>0</td>\n",
       "      <td>0</td>\n",
       "      <td>0</td>\n",
       "      <td>1</td>\n",
       "      <td>1</td>\n",
       "    </tr>\n",
       "    <tr>\n",
       "      <th>11</th>\n",
       "      <td>A_1_1_3273_25</td>\n",
       "      <td>25</td>\n",
       "      <td>D2330</td>\n",
       "      <td>resin filling restoration procedure</td>\n",
       "      <td>0</td>\n",
       "      <td>0</td>\n",
       "      <td>0</td>\n",
       "      <td>0</td>\n",
       "      <td>0</td>\n",
       "      <td>0</td>\n",
       "      <td>1</td>\n",
       "      <td>1</td>\n",
       "    </tr>\n",
       "  </tbody>\n",
       "</table>\n",
       "</div>"
      ],
      "text/plain": [
       "         tooth_id tooth_num ada_code                             event_name  m  o  d  b  l  f  i  num_restored_surfaces\n",
       "7   A_1_1_3273_18        18    D2391    resin filling restoration procedure  0  1  0  0  0  0  0                      1\n",
       "8   A_1_1_3273_14        14    D2150  amalgam filling restoration procedure  1  0  0  0  1  0  0                      2\n",
       "9    A_1_1_3273_9         9    D2331    resin filling restoration procedure  1  0  0  0  0  0  1                      2\n",
       "10  A_1_1_3273_24        24    D2330    resin filling restoration procedure  0  0  0  0  0  0  1                      1\n",
       "11  A_1_1_3273_25        25    D2330    resin filling restoration procedure  0  0  0  0  0  0  1                      1"
      ]
     },
     "execution_count": 265,
     "metadata": {},
     "output_type": "execute_result"
    }
   ],
   "source": [
    "df_fillings[df_fillings.num_restored_surfaces > 0].head()"
   ]
  },
  {
   "cell_type": "code",
   "execution_count": null,
   "metadata": {},
   "outputs": [],
   "source": [
    "# find number of procedures per tooth\n",
    "tooth_counts = df_fillings.groupby('tooth_num')['tooth_num'].count()\n",
    "# tooth_counts"
   ]
  },
  {
   "cell_type": "code",
   "execution_count": null,
   "metadata": {},
   "outputs": [],
   "source": [
    "%matplotlib inline\n",
    "# draw bar chart showing the number of procedures performed on each tooth (number)\n",
    "ax = tooth_counts.plot.bar(figsize=(15,10)) \n",
    "\n",
    "# rotate the ticks on the x axis\n",
    "plt.xticks(rotation=0)\n",
    "\n",
    "# configure labels\n",
    "# note the use of '\\n' to create space between ticks and labels\n",
    "ax.set_xlabel(\"\\nTooth Number\", fontsize=15)\n",
    "ax.set_ylabel(\"Procedure Count\\n\", fontsize=15)\n",
    "ax.tick_params(labelsize='large')\n",
    "\n",
    "plt.show()"
   ]
  },
  {
   "cell_type": "code",
   "execution_count": 35,
   "metadata": {},
   "outputs": [
    {
     "data": {
      "text/html": [
       "<div>\n",
       "<style scoped>\n",
       "    .dataframe tbody tr th:only-of-type {\n",
       "        vertical-align: middle;\n",
       "    }\n",
       "\n",
       "    .dataframe tbody tr th {\n",
       "        vertical-align: top;\n",
       "    }\n",
       "\n",
       "    .dataframe thead th {\n",
       "        text-align: right;\n",
       "    }\n",
       "</style>\n",
       "<table border=\"1\" class=\"dataframe\">\n",
       "  <thead>\n",
       "    <tr style=\"text-align: right;\">\n",
       "      <th></th>\n",
       "      <th>tooth_id</th>\n",
       "      <th>extract_date</th>\n",
       "      <th>missing_date</th>\n",
       "    </tr>\n",
       "    <tr>\n",
       "      <th>tooth_num</th>\n",
       "      <th></th>\n",
       "      <th></th>\n",
       "      <th></th>\n",
       "    </tr>\n",
       "  </thead>\n",
       "  <tbody>\n",
       "    <tr>\n",
       "      <th>1</th>\n",
       "      <td>154</td>\n",
       "      <td>135</td>\n",
       "      <td>154</td>\n",
       "    </tr>\n",
       "    <tr>\n",
       "      <th>10</th>\n",
       "      <td>204</td>\n",
       "      <td>169</td>\n",
       "      <td>204</td>\n",
       "    </tr>\n",
       "    <tr>\n",
       "      <th>11</th>\n",
       "      <td>139</td>\n",
       "      <td>124</td>\n",
       "      <td>139</td>\n",
       "    </tr>\n",
       "    <tr>\n",
       "      <th>12</th>\n",
       "      <td>246</td>\n",
       "      <td>204</td>\n",
       "      <td>246</td>\n",
       "    </tr>\n",
       "    <tr>\n",
       "      <th>13</th>\n",
       "      <td>241</td>\n",
       "      <td>204</td>\n",
       "      <td>241</td>\n",
       "    </tr>\n",
       "    <tr>\n",
       "      <th>14</th>\n",
       "      <td>505</td>\n",
       "      <td>446</td>\n",
       "      <td>505</td>\n",
       "    </tr>\n",
       "    <tr>\n",
       "      <th>15</th>\n",
       "      <td>508</td>\n",
       "      <td>445</td>\n",
       "      <td>508</td>\n",
       "    </tr>\n",
       "    <tr>\n",
       "      <th>16</th>\n",
       "      <td>153</td>\n",
       "      <td>135</td>\n",
       "      <td>153</td>\n",
       "    </tr>\n",
       "    <tr>\n",
       "      <th>17</th>\n",
       "      <td>171</td>\n",
       "      <td>155</td>\n",
       "      <td>171</td>\n",
       "    </tr>\n",
       "    <tr>\n",
       "      <th>18</th>\n",
       "      <td>537</td>\n",
       "      <td>457</td>\n",
       "      <td>537</td>\n",
       "    </tr>\n",
       "    <tr>\n",
       "      <th>19</th>\n",
       "      <td>476</td>\n",
       "      <td>404</td>\n",
       "      <td>476</td>\n",
       "    </tr>\n",
       "    <tr>\n",
       "      <th>2</th>\n",
       "      <td>503</td>\n",
       "      <td>436</td>\n",
       "      <td>503</td>\n",
       "    </tr>\n",
       "    <tr>\n",
       "      <th>20</th>\n",
       "      <td>263</td>\n",
       "      <td>227</td>\n",
       "      <td>263</td>\n",
       "    </tr>\n",
       "    <tr>\n",
       "      <th>21</th>\n",
       "      <td>149</td>\n",
       "      <td>123</td>\n",
       "      <td>149</td>\n",
       "    </tr>\n",
       "    <tr>\n",
       "      <th>22</th>\n",
       "      <td>71</td>\n",
       "      <td>61</td>\n",
       "      <td>71</td>\n",
       "    </tr>\n",
       "    <tr>\n",
       "      <th>23</th>\n",
       "      <td>43</td>\n",
       "      <td>38</td>\n",
       "      <td>43</td>\n",
       "    </tr>\n",
       "    <tr>\n",
       "      <th>24</th>\n",
       "      <td>27</td>\n",
       "      <td>23</td>\n",
       "      <td>27</td>\n",
       "    </tr>\n",
       "    <tr>\n",
       "      <th>25</th>\n",
       "      <td>28</td>\n",
       "      <td>24</td>\n",
       "      <td>28</td>\n",
       "    </tr>\n",
       "    <tr>\n",
       "      <th>26</th>\n",
       "      <td>49</td>\n",
       "      <td>41</td>\n",
       "      <td>49</td>\n",
       "    </tr>\n",
       "    <tr>\n",
       "      <th>27</th>\n",
       "      <td>77</td>\n",
       "      <td>69</td>\n",
       "      <td>77</td>\n",
       "    </tr>\n",
       "    <tr>\n",
       "      <th>28</th>\n",
       "      <td>158</td>\n",
       "      <td>140</td>\n",
       "      <td>158</td>\n",
       "    </tr>\n",
       "    <tr>\n",
       "      <th>29</th>\n",
       "      <td>261</td>\n",
       "      <td>222</td>\n",
       "      <td>261</td>\n",
       "    </tr>\n",
       "    <tr>\n",
       "      <th>3</th>\n",
       "      <td>478</td>\n",
       "      <td>408</td>\n",
       "      <td>478</td>\n",
       "    </tr>\n",
       "    <tr>\n",
       "      <th>30</th>\n",
       "      <td>491</td>\n",
       "      <td>417</td>\n",
       "      <td>491</td>\n",
       "    </tr>\n",
       "    <tr>\n",
       "      <th>31</th>\n",
       "      <td>514</td>\n",
       "      <td>441</td>\n",
       "      <td>514</td>\n",
       "    </tr>\n",
       "    <tr>\n",
       "      <th>32</th>\n",
       "      <td>144</td>\n",
       "      <td>123</td>\n",
       "      <td>144</td>\n",
       "    </tr>\n",
       "    <tr>\n",
       "      <th>4</th>\n",
       "      <td>287</td>\n",
       "      <td>253</td>\n",
       "      <td>287</td>\n",
       "    </tr>\n",
       "    <tr>\n",
       "      <th>5</th>\n",
       "      <td>246</td>\n",
       "      <td>213</td>\n",
       "      <td>246</td>\n",
       "    </tr>\n",
       "    <tr>\n",
       "      <th>6</th>\n",
       "      <td>168</td>\n",
       "      <td>148</td>\n",
       "      <td>168</td>\n",
       "    </tr>\n",
       "    <tr>\n",
       "      <th>7</th>\n",
       "      <td>43692</td>\n",
       "      <td>43665</td>\n",
       "      <td>43692</td>\n",
       "    </tr>\n",
       "    <tr>\n",
       "      <th>8</th>\n",
       "      <td>46393</td>\n",
       "      <td>46370</td>\n",
       "      <td>28148</td>\n",
       "    </tr>\n",
       "    <tr>\n",
       "      <th>9</th>\n",
       "      <td>195</td>\n",
       "      <td>164</td>\n",
       "      <td>195</td>\n",
       "    </tr>\n",
       "  </tbody>\n",
       "</table>\n",
       "</div>"
      ],
      "text/plain": [
       "           tooth_id  extract_date  missing_date\n",
       "tooth_num                                      \n",
       "1               154           135           154\n",
       "10              204           169           204\n",
       "11              139           124           139\n",
       "12              246           204           246\n",
       "13              241           204           241\n",
       "14              505           446           505\n",
       "15              508           445           508\n",
       "16              153           135           153\n",
       "17              171           155           171\n",
       "18              537           457           537\n",
       "19              476           404           476\n",
       "2               503           436           503\n",
       "20              263           227           263\n",
       "21              149           123           149\n",
       "22               71            61            71\n",
       "23               43            38            43\n",
       "24               27            23            27\n",
       "25               28            24            28\n",
       "26               49            41            49\n",
       "27               77            69            77\n",
       "28              158           140           158\n",
       "29              261           222           261\n",
       "3               478           408           478\n",
       "30              491           417           491\n",
       "31              514           441           514\n",
       "32              144           123           144\n",
       "4               287           253           287\n",
       "5               246           213           246\n",
       "6               168           148           168\n",
       "7             43692         43665         43692\n",
       "8             46393         46370         28148\n",
       "9               195           164           195"
      ]
     },
     "execution_count": 35,
     "metadata": {},
     "output_type": "execute_result"
    }
   ],
   "source": [
    "import numpy\n",
    "nan = numpy.nan\n",
    "# build dataframe of teeth that have been extracted or missing\n",
    "# note the use of engine=\"python\"\n",
    "# df_missing = df_obs[df_obs.extract_date.notnull() | df_obs.missing_date.notnull()]\n",
    "\n",
    "df_missing = df_obs[ ~np.isnat(df_obs.extract_date) | ~np.isnat(df_obs.missing_date)]\n",
    "\n",
    "temp = df_missing[['tooth_id', 'tooth_num', 'extract_date', 'missing_date']]\n",
    "# temp.head()\n",
    "temp.groupby('tooth_num').count()"
   ]
  },
  {
   "cell_type": "code",
   "execution_count": null,
   "metadata": {},
   "outputs": [],
   "source": [
    "# find counts for each tooth type\n",
    "\n",
    "missing_counts = temp.groupby('tooth_num')['tooth_num'].value_counts()\n",
    "# missing_counts = df_missing['tooth_num'].size()\n",
    "\n",
    "missing_counts"
   ]
  },
  {
   "cell_type": "code",
   "execution_count": null,
   "metadata": {},
   "outputs": [],
   "source": [
    "# draw bar chart showing the number of extracted or missing teeth for each tooth (number)\n",
    "ax = missing_counts.plot.bar(figsize=(15,10)) \n",
    "\n",
    "# rotate the ticks on the x axis\n",
    "plt.xticks(rotation=0)\n",
    "\n",
    "# configure labels\n",
    "# note the use of '\\n' to create space between ticks and labels\n",
    "ax.set_xlabel(\"\\nExtraced or Missing Tooth\", fontsize=15)\n",
    "ax.set_ylabel(\"Extracted or Missing Count\\n\", fontsize=15)\n",
    "ax.tick_params(labelsize='large')\n",
    "\n",
    "plt.show()\n",
    "\n",
    "# DOES THIS PLOT MAKE SENSE? IT SEEMS WRONG."
   ]
  },
  {
   "cell_type": "code",
   "execution_count": null,
   "metadata": {},
   "outputs": [],
   "source": [
    "# create dataframe of only suface info\n",
    "df_surfaces = df_fillings[['m', 'o', 'd', 'b', 'l', 'f', 'i', 'num_restored_surfaces']]\n",
    "\n",
    "# df_surfaces.head()"
   ]
  },
  {
   "cell_type": "code",
   "execution_count": null,
   "metadata": {},
   "outputs": [],
   "source": [
    "# calc number of surfaces restored for each surface\n",
    "# note we are ignoring the number of restored surfaces (for now)\n",
    "surface_counts = df_surfaces[['m', 'o', 'd', 'b', 'l', 'f', 'i']].apply(sum)\n",
    "\n",
    "# surface_counts"
   ]
  },
  {
   "cell_type": "code",
   "execution_count": null,
   "metadata": {},
   "outputs": [],
   "source": [
    "# create bar chart (flipped on its side) to show number of restorations per service\n",
    "ax = surface_counts.plot.barh(figsize=(10,5))\n",
    "\n",
    "# configure labels\n",
    "ax.set_xlabel(\"\\nSurface Restored Count\", fontsize=15)\n",
    "ax.set_ylabel(\"Tooth Surface\\n\", fontsize=15)\n",
    "ax.tick_params(labelsize='x-large')\n",
    "\n",
    "plt.show()"
   ]
  },
  {
   "cell_type": "code",
   "execution_count": null,
   "metadata": {},
   "outputs": [],
   "source": [
    "# calc number of surfaces restored on a tooth for each procedure (i.e., number of surfaces filled during procedure)\n",
    "temp = pds.DataFrame(df_fillings[['tooth_num', 'num_restored_surfaces']]\\\n",
    "                        .groupby(['num_restored_surfaces', 'tooth_num']).size())\n",
    "\n",
    "# temp.head()"
   ]
  },
  {
   "cell_type": "code",
   "execution_count": null,
   "metadata": {},
   "outputs": [],
   "source": [
    "# note the use of fill_values for NaN\n",
    "restored_surface_counts = temp.unstack('num_restored_surfaces', fill_value=0)\n",
    "restored_surface_counts.columns = ['1', '2', '3', '4', '5', '6']\n",
    "\n",
    "# restored_surface_counts"
   ]
  },
  {
   "cell_type": "code",
   "execution_count": null,
   "metadata": {},
   "outputs": [],
   "source": [
    "# do some checks\n",
    "# df_fillings.query('tooth_num == 32 and num_restored_surfaces == 5')['num_restored_surfaces'].count() # matches\n",
    "# df_fillings.query('tooth_num == 30 and num_restored_surfaces == 5')['num_restored_surfaces'].count() # matches\n",
    "# df_fillings.query('tooth_num == 20 and num_restored_surfaces == 2')['num_restored_surfaces'].count() # matches"
   ]
  },
  {
   "cell_type": "code",
   "execution_count": null,
   "metadata": {},
   "outputs": [],
   "source": [
    "# make simple plot of counts\n",
    "# first do a check, and note that there are only 3 restorations of 6 surfaces (which seems not possible)\n",
    "# the heatmap also reflects this ...\n",
    "counts_per_surface = pds.DataFrame(restored_surface_counts.apply(sum))\n",
    "\n",
    "# set index and column name\n",
    "counts_per_surface.index.name = 'num_surfaces_restored'\n",
    "counts_per_surface.columns = ['count']\n",
    "\n",
    "# counts_per_surface"
   ]
  },
  {
   "cell_type": "code",
   "execution_count": null,
   "metadata": {},
   "outputs": [],
   "source": [
    "ax = counts_per_surface.plot.bar(figsize=(10,5), color='green', legend=False)\n",
    "\n",
    "# configure X and Y labels\n",
    "ax.set_xlabel(\"\\nNumber of Surfaces Restored\", fontsize=20)\n",
    "ax.set_ylabel(\"Procedure Count\\n\", fontsize=20)\n",
    "ax.tick_params(labelsize='xx-large')\n",
    "\n",
    "# rotate the ticks on the x axis\n",
    "plt.xticks(rotation=0)\n",
    "\n",
    "plt.show()"
   ]
  },
  {
   "cell_type": "code",
   "execution_count": null,
   "metadata": {},
   "outputs": [],
   "source": [
    "plt.figure(figsize = (20,30)) # this sets width and height of the figure\n",
    "\n",
    "# fmt='d' means annotations are digits, annot_kws={\"size\":15} sets the size of the annotation font\n",
    "ax = sns.heatmap(restored_surface_counts, cmap='Spectral_r', linewidths=1.0, annot=True, fmt='d', annot_kws={\"size\":15})\n",
    "\n",
    "# rotate the ticks on the y axis\n",
    "plt.yticks(rotation=0)\n",
    "\n",
    "# configure X and Y labels\n",
    "ax.set_xlabel(\"\\nTooth Surface\", fontsize=25)\n",
    "ax.set_ylabel(\"Number of Surfaces Restored by Procedure\\n\", fontsize=25)\n",
    "ax.tick_params(labelsize='xx-large')\n",
    "\n",
    "plt.show()"
   ]
  },
  {
   "cell_type": "code",
   "execution_count": null,
   "metadata": {},
   "outputs": [],
   "source": [
    "# create a data structures to show a heatmap of teeth and surfaces\n",
    "# build dataframe of tooth and surface info\n",
    "df_tooth_surfaces = df_fillings[['tooth_num', 'm', 'o', 'd', 'b', 'l', 'f', 'i']]\n",
    "\n",
    "# df_tooth_surfaces.head()"
   ]
  },
  {
   "cell_type": "code",
   "execution_count": null,
   "metadata": {},
   "outputs": [],
   "source": [
    "# for each tooth group, sum the surfaces restored\n",
    "grouped_df = pds.DataFrame(df_tooth_surfaces.groupby('tooth_num').sum())\n",
    "grouped_df.columns = ['m', 'o', 'd', 'b', 'l', 'f', 'i']\n",
    "\n",
    "# grouped_df.head()"
   ]
  },
  {
   "cell_type": "code",
   "execution_count": null,
   "metadata": {},
   "outputs": [],
   "source": [
    "# make a heat map that shows the number of surfaces restored per tooth\n",
    "# the surface is on the X axis, the tooth is on the Y axis\n",
    "\n",
    "plt.figure(figsize = (20,30)) # this sets width and height of the figure\n",
    "\n",
    "# fmt='d' means annotations are digits\n",
    "ax = sns.heatmap(grouped_df, cmap='Spectral_r', linewidths=1.0, annot=True, fmt='d', annot_kws={\"size\":15})\n",
    "\n",
    "# rotate the ticks on the y axis\n",
    "plt.yticks(rotation=0)\n",
    "\n",
    "# configure X and Y labels\n",
    "ax.set_xlabel(\"\\nTooth Surface\", fontsize=25)\n",
    "ax.set_ylabel(\"Tooth Number\\n\", fontsize=25)\n",
    "ax.tick_params(labelsize='xx-large')\n",
    "\n",
    "plt.show()\n"
   ]
  },
  {
   "cell_type": "code",
   "execution_count": null,
   "metadata": {},
   "outputs": [],
   "source": []
  }
 ],
 "metadata": {
  "kernelspec": {
   "display_name": "Python 3",
   "language": "python",
   "name": "python3"
  },
  "language_info": {
   "codemirror_mode": {
    "name": "ipython",
    "version": 3
   },
   "file_extension": ".py",
   "mimetype": "text/x-python",
   "name": "python",
   "nbconvert_exporter": "python",
   "pygments_lexer": "ipython3",
   "version": "3.6.6"
  }
 },
 "nbformat": 4,
 "nbformat_minor": 2
}
