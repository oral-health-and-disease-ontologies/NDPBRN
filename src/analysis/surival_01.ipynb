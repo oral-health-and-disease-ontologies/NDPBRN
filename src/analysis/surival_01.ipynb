{
 "cells": [
  {
   "cell_type": "code",
   "execution_count": 1,
   "metadata": {},
   "outputs": [],
   "source": [
    "import pandas as pds\n",
    "import seaborn as sns\n",
    "import matplotlib.pyplot as plt\n",
    "import numpy as np\n",
    "    "
   ]
  },
  {
   "cell_type": "code",
   "execution_count": 2,
   "metadata": {},
   "outputs": [],
   "source": [
    "# load csv files into dataframes\n",
    "# the paramaters low_memory=False, dtype=str tell pandas not to guess the datatype\n",
    "# and make everything a string\n",
    "# note: many posts say low_memory=False doesn't do anything ... \n",
    "df_patients = pds.read_csv('patients.csv', low_memory=False, dtype=str, encoding='utf-8')\n",
    "df_patients_teeth = pds.read_csv('patient_teeth.csv', low_memory=False, dtype=str, encoding='utf-8')\n",
    "df_tooth_caries = pds.read_csv('tooth_caries.csv', low_memory=False, dtype=str, encoding='utf-8')\n",
    "df_tooth_surface_caries = pds.read_csv('tooth_surface_caries.csv', low_memory=False, dtype=str, encoding='utf-8')\n",
    "df_tooth_procedures = pds.read_csv('tooth_procedures_no_es.csv', low_memory=False, dtype=str, encoding='utf-8')\n",
    "df_tooth_surface_procedures = pds.read_csv('tooth_surface_procedures_no_es.csv', low_memory=False, dtype=str, encoding='utf-8')"
   ]
  },
  {
   "cell_type": "code",
   "execution_count": null,
   "metadata": {},
   "outputs": [],
   "source": []
  },
  {
   "cell_type": "code",
   "execution_count": null,
   "metadata": {},
   "outputs": [],
   "source": []
  },
  {
   "cell_type": "code",
   "execution_count": 3,
   "metadata": {},
   "outputs": [],
   "source": [
    "# drop duplicates from dataframes\n",
    "df_patients.drop_duplicates(inplace=True)\n",
    "df_patients_teeth.drop_duplicates(inplace=True)\n",
    "df_tooth_caries.drop_duplicates(inplace=True)\n",
    "df_tooth_surface_caries.drop_duplicates(inplace=True)\n",
    "df_tooth_procedures.drop_duplicates(inplace=True)\n",
    "df_tooth_surface_procedures.drop_duplicates(inplace=True)"
   ]
  },
  {
   "cell_type": "code",
   "execution_count": 4,
   "metadata": {},
   "outputs": [],
   "source": [
    "# testing output\n",
    "# df_patients.head() # good\n",
    "# df_patients_teeth.head() # good\n",
    "# df_tooth_caries.head() # good\n",
    "# df_tooth_surface_caries.head() # good\n",
    "# df_tooth_procedures.head() # good\n",
    "# df_tooth_surface_procedures.head() # good"
   ]
  },
  {
   "cell_type": "code",
   "execution_count": null,
   "metadata": {},
   "outputs": [],
   "source": []
  },
  {
   "cell_type": "code",
   "execution_count": 5,
   "metadata": {},
   "outputs": [],
   "source": [
    "# len(df_patients) # 229,414"
   ]
  },
  {
   "cell_type": "code",
   "execution_count": 6,
   "metadata": {},
   "outputs": [],
   "source": [
    "# len(df_patients_teeth) # 1,231,726"
   ]
  },
  {
   "cell_type": "code",
   "execution_count": null,
   "metadata": {},
   "outputs": [],
   "source": []
  },
  {
   "cell_type": "code",
   "execution_count": 7,
   "metadata": {},
   "outputs": [],
   "source": [
    "# print number of patients\n",
    "# alternative method: df_patients.count() # 229,414\n",
    "# len(df_patients) # simplier -> 229,414\n",
    "\n",
    "# get counts of genders\n",
    "group = df_patients.gender.value_counts()"
   ]
  },
  {
   "cell_type": "code",
   "execution_count": 8,
   "metadata": {},
   "outputs": [
    {
     "data": {
      "image/png": "[encoded data removed]",
      "text/plain": [
       "<Figure size 432x288 with 1 Axes>"
      ]
     },
     "metadata": {
      "needs_background": "light"
     },
     "output_type": "display_data"
    }
   ],
   "source": [
    "# plot gender counts\n",
    "# ax = sns.countplot(x=\"gender\", data=group)\n",
    "ax = sns.barplot(x=group.index, y=group.values)\n",
    "ax.set_xlabel(\"\\nPatient Gender\", size=20)\n",
    "ax.set_ylabel(\"Gender Count\\n\", size=20)\n",
    "plt.xticks(size=15)\n",
    "plt.yticks(size=15)\n",
    "plt.show()"
   ]
  },
  {
   "cell_type": "code",
   "execution_count": null,
   "metadata": {},
   "outputs": [],
   "source": []
  },
  {
   "cell_type": "code",
   "execution_count": 9,
   "metadata": {},
   "outputs": [],
   "source": [
    "# merge, patients, teeth data frames\n",
    "df_teeth = pds.merge(df_patients, df_patients_teeth, \\\n",
    "                             how='inner', on=['patient_id'])\n",
    "df_teeth.drop_duplicates(inplace=True)\n",
    "# df_teeth.head()"
   ]
  },
  {
   "cell_type": "code",
   "execution_count": 10,
   "metadata": {},
   "outputs": [],
   "source": [
    "# len(df_teeth) # left join -> 1,238,655; inner join -> 1,227,812; right join -> 1,227,812\n",
    "# len(df_patients_teeth) # 1,227,812"
   ]
  },
  {
   "cell_type": "code",
   "execution_count": 11,
   "metadata": {},
   "outputs": [],
   "source": [
    "# merge teeth and procedures data frames\n",
    "temp = df_tooth_procedures[df_tooth_procedures.tooth_id.isin(df_teeth.tooth_id)]\n",
    "# len(df_tooth_procedures) # 1,681,694\n",
    "# len(temp) # 1,675,416\n",
    "\n",
    "df_procedures = pds.merge(df_teeth, temp, how='left', on=['tooth_id', 'tooth_num'])\n",
    "# len(df_procedures) # 1,682,057\n",
    "# df_procedures.head()"
   ]
  },
  {
   "cell_type": "code",
   "execution_count": 12,
   "metadata": {},
   "outputs": [
    {
     "data": {
      "text/plain": [
       "1696526"
      ]
     },
     "execution_count": 12,
     "metadata": {},
     "output_type": "execute_result"
    }
   ],
   "source": [
    "# merge procedures with surface information\n",
    "# this final dataset will be the 'observations' dataset\n",
    "temp = df_tooth_surface_procedures[df_tooth_surface_procedures.event_id.isin(df_procedures.event_id)]\n",
    "# len(df_tooth_surface_procedures) # 1,245,022\n",
    "# len(temp) # 1,241,352\n",
    "\n",
    "df_obs = pds.merge(df_procedures, temp, how='left', on=['event_id', 'tooth_id', 'tooth_num'])\n",
    "len(df_obs) # 1,682,057; this matches df_procedures count above ... good"
   ]
  },
  {
   "cell_type": "code",
   "execution_count": 13,
   "metadata": {},
   "outputs": [
    {
     "data": {
      "text/html": [
       "<div>\n",
       "<style scoped>\n",
       "    .dataframe tbody tr th:only-of-type {\n",
       "        vertical-align: middle;\n",
       "    }\n",
       "\n",
       "    .dataframe tbody tr th {\n",
       "        vertical-align: top;\n",
       "    }\n",
       "\n",
       "    .dataframe thead th {\n",
       "        text-align: right;\n",
       "    }\n",
       "</style>\n",
       "<table border=\"1\" class=\"dataframe\">\n",
       "  <thead>\n",
       "    <tr style=\"text-align: right;\">\n",
       "      <th></th>\n",
       "      <th>tooth_id</th>\n",
       "    </tr>\n",
       "    <tr>\n",
       "      <th>tooth_num</th>\n",
       "      <th></th>\n",
       "    </tr>\n",
       "  </thead>\n",
       "  <tbody>\n",
       "    <tr>\n",
       "      <th>1</th>\n",
       "      <td>953</td>\n",
       "    </tr>\n",
       "    <tr>\n",
       "      <th>2</th>\n",
       "      <td>2098</td>\n",
       "    </tr>\n",
       "    <tr>\n",
       "      <th>3</th>\n",
       "      <td>1831</td>\n",
       "    </tr>\n",
       "    <tr>\n",
       "      <th>4</th>\n",
       "      <td>1373</td>\n",
       "    </tr>\n",
       "    <tr>\n",
       "      <th>5</th>\n",
       "      <td>1226</td>\n",
       "    </tr>\n",
       "    <tr>\n",
       "      <th>6</th>\n",
       "      <td>624</td>\n",
       "    </tr>\n",
       "    <tr>\n",
       "      <th>7</th>\n",
       "      <td>842</td>\n",
       "    </tr>\n",
       "    <tr>\n",
       "      <th>8</th>\n",
       "      <td>740</td>\n",
       "    </tr>\n",
       "    <tr>\n",
       "      <th>9</th>\n",
       "      <td>772</td>\n",
       "    </tr>\n",
       "    <tr>\n",
       "      <th>10</th>\n",
       "      <td>817</td>\n",
       "    </tr>\n",
       "    <tr>\n",
       "      <th>11</th>\n",
       "      <td>603</td>\n",
       "    </tr>\n",
       "    <tr>\n",
       "      <th>12</th>\n",
       "      <td>1226</td>\n",
       "    </tr>\n",
       "    <tr>\n",
       "      <th>13</th>\n",
       "      <td>1354</td>\n",
       "    </tr>\n",
       "    <tr>\n",
       "      <th>14</th>\n",
       "      <td>1819</td>\n",
       "    </tr>\n",
       "    <tr>\n",
       "      <th>15</th>\n",
       "      <td>2275</td>\n",
       "    </tr>\n",
       "    <tr>\n",
       "      <th>16</th>\n",
       "      <td>962</td>\n",
       "    </tr>\n",
       "    <tr>\n",
       "      <th>17</th>\n",
       "      <td>898</td>\n",
       "    </tr>\n",
       "    <tr>\n",
       "      <th>18</th>\n",
       "      <td>2055</td>\n",
       "    </tr>\n",
       "    <tr>\n",
       "      <th>19</th>\n",
       "      <td>1941</td>\n",
       "    </tr>\n",
       "    <tr>\n",
       "      <th>20</th>\n",
       "      <td>1022</td>\n",
       "    </tr>\n",
       "    <tr>\n",
       "      <th>21</th>\n",
       "      <td>551</td>\n",
       "    </tr>\n",
       "    <tr>\n",
       "      <th>22</th>\n",
       "      <td>236</td>\n",
       "    </tr>\n",
       "    <tr>\n",
       "      <th>23</th>\n",
       "      <td>321</td>\n",
       "    </tr>\n",
       "    <tr>\n",
       "      <th>24</th>\n",
       "      <td>336</td>\n",
       "    </tr>\n",
       "    <tr>\n",
       "      <th>25</th>\n",
       "      <td>368</td>\n",
       "    </tr>\n",
       "    <tr>\n",
       "      <th>26</th>\n",
       "      <td>316</td>\n",
       "    </tr>\n",
       "    <tr>\n",
       "      <th>27</th>\n",
       "      <td>240</td>\n",
       "    </tr>\n",
       "    <tr>\n",
       "      <th>28</th>\n",
       "      <td>598</td>\n",
       "    </tr>\n",
       "    <tr>\n",
       "      <th>29</th>\n",
       "      <td>1051</td>\n",
       "    </tr>\n",
       "    <tr>\n",
       "      <th>30</th>\n",
       "      <td>1968</td>\n",
       "    </tr>\n",
       "    <tr>\n",
       "      <th>31</th>\n",
       "      <td>2186</td>\n",
       "    </tr>\n",
       "    <tr>\n",
       "      <th>32</th>\n",
       "      <td>875</td>\n",
       "    </tr>\n",
       "  </tbody>\n",
       "</table>\n",
       "</div>"
      ],
      "text/plain": [
       "           tooth_id\n",
       "tooth_num          \n",
       "1               953\n",
       "2              2098\n",
       "3              1831\n",
       "4              1373\n",
       "5              1226\n",
       "6               624\n",
       "7               842\n",
       "8               740\n",
       "9               772\n",
       "10              817\n",
       "11              603\n",
       "12             1226\n",
       "13             1354\n",
       "14             1819\n",
       "15             2275\n",
       "16              962\n",
       "17              898\n",
       "18             2055\n",
       "19             1941\n",
       "20             1022\n",
       "21              551\n",
       "22              236\n",
       "23              321\n",
       "24              336\n",
       "25              368\n",
       "26              316\n",
       "27              240\n",
       "28              598\n",
       "29             1051\n",
       "30             1968\n",
       "31             2186\n",
       "32              875"
      ]
     },
     "execution_count": 13,
     "metadata": {},
     "output_type": "execute_result"
    }
   ],
   "source": [
    "df_extracted = df_obs[df_obs.extract_date.notnull()][['tooth_id','tooth_num']]\n",
    "# df_extracted = df_obs[df_obs.extract_date.notna()][['tooth_id','tooth_num']]\n",
    "df_extracted.tooth_num = pds.to_numeric(df_extracted.tooth_num)\n",
    "df_extracted.drop_duplicates(inplace=True)\n",
    "df_extracted.head()\n",
    "df_extracted.groupby('tooth_num').count()\n",
    "# len(df_extracted) # isnull -> 1,617,783; isna -> 1,617,783; notnull -> 41,331; notna -> 41,331"
   ]
  },
  {
   "cell_type": "code",
   "execution_count": 14,
   "metadata": {},
   "outputs": [
    {
     "name": "stdout",
     "output_type": "stream",
     "text": [
      "89804\n"
     ]
    },
    {
     "name": "stderr",
     "output_type": "stream",
     "text": [
      "/anaconda3/lib/python3.6/site-packages/ipykernel_launcher.py:10: SettingWithCopyWarning: \n",
      "A value is trying to be set on a copy of a slice from a DataFrame\n",
      "\n",
      "See the caveats in the documentation: http://pandas.pydata.org/pandas-docs/stable/indexing.html#indexing-view-versus-copy\n",
      "  # Remove the CWD from sys.path while we load stuff.\n"
     ]
    },
    {
     "data": {
      "text/plain": [
       "15    2275\n",
       "31    2186\n",
       "2     2098\n",
       "18    2055\n",
       "30    1968\n",
       "19    1941\n",
       "3     1831\n",
       "14    1819\n",
       "4     1373\n",
       "13    1354\n",
       "12    1226\n",
       "5     1226\n",
       "29    1051\n",
       "20    1022\n",
       "16     962\n",
       "1      953\n",
       "17     898\n",
       "32     875\n",
       "7      842\n",
       "10     817\n",
       "9      772\n",
       "8      740\n",
       "6      624\n",
       "11     603\n",
       "28     598\n",
       "21     551\n",
       "25     368\n",
       "24     336\n",
       "23     321\n",
       "26     316\n",
       "27     240\n",
       "22     236\n",
       "Name: tooth_num, dtype: int64"
      ]
     },
     "execution_count": 14,
     "metadata": {},
     "output_type": "execute_result"
    }
   ],
   "source": [
    "temp1 = df_obs[['tooth_num', 'tooth_id', 'extract_date']] #.fillna(0)\n",
    "len(temp1)\n",
    "# temp2 = temp1[temp1.extract_date == 0]\n",
    "# temp2 = temp1.query(\"extract_date != extract_date\")\n",
    "temp2 = temp1[temp1.extract_date.notnull()]\n",
    "# temp2.drop_duplicates(inplace=True)\n",
    "temp3 = temp2[['tooth_num', 'tooth_id']]\n",
    "print(len(temp3))\n",
    "# temp3.groupby('tooth_num').size()\n",
    "temp3.drop_duplicates(inplace=True)\n",
    "temp3.tooth_num.value_counts()\n",
    "# print(len(temp3))\n",
    "# temp2.head()\n",
    "# temp3.groupby('tooth_num').size()\n",
    "# temp2.tooth_num.value_counts()\n",
    "# temp3 = temp2.query(\"tooth_num == '1'\")\n",
    "# temp3.drop_duplicates(inplace=True)\n",
    "# print(len(temp3))"
   ]
  },
  {
   "cell_type": "code",
   "execution_count": 15,
   "metadata": {},
   "outputs": [
    {
     "data": {
      "text/html": [
       "<div>\n",
       "<style scoped>\n",
       "    .dataframe tbody tr th:only-of-type {\n",
       "        vertical-align: middle;\n",
       "    }\n",
       "\n",
       "    .dataframe tbody tr th {\n",
       "        vertical-align: top;\n",
       "    }\n",
       "\n",
       "    .dataframe thead th {\n",
       "        text-align: right;\n",
       "    }\n",
       "</style>\n",
       "<table border=\"1\" class=\"dataframe\">\n",
       "  <thead>\n",
       "    <tr style=\"text-align: right;\">\n",
       "      <th></th>\n",
       "      <th>tooth_num</th>\n",
       "      <th>tooth_id</th>\n",
       "    </tr>\n",
       "  </thead>\n",
       "  <tbody>\n",
       "    <tr>\n",
       "      <th>275</th>\n",
       "      <td>1</td>\n",
       "      <td>A_1_1_1_1</td>\n",
       "    </tr>\n",
       "    <tr>\n",
       "      <th>1084</th>\n",
       "      <td>1</td>\n",
       "      <td>A_1_1_149_1</td>\n",
       "    </tr>\n",
       "    <tr>\n",
       "      <th>8836</th>\n",
       "      <td>1</td>\n",
       "      <td>A_1_1_2946_1</td>\n",
       "    </tr>\n",
       "    <tr>\n",
       "      <th>13571</th>\n",
       "      <td>1</td>\n",
       "      <td>A_1_1_3302_1</td>\n",
       "    </tr>\n",
       "    <tr>\n",
       "      <th>15481</th>\n",
       "      <td>1</td>\n",
       "      <td>A_1_1_3046_1</td>\n",
       "    </tr>\n",
       "  </tbody>\n",
       "</table>\n",
       "</div>"
      ],
      "text/plain": [
       "      tooth_num      tooth_id\n",
       "275           1     A_1_1_1_1\n",
       "1084          1   A_1_1_149_1\n",
       "8836          1  A_1_1_2946_1\n",
       "13571         1  A_1_1_3302_1\n",
       "15481         1  A_1_1_3046_1"
      ]
     },
     "execution_count": 15,
     "metadata": {},
     "output_type": "execute_result"
    }
   ],
   "source": [
    "temp4 = temp3.query(\"tooth_num == '1'\")\n",
    "temp4.head()"
   ]
  },
  {
   "cell_type": "code",
   "execution_count": null,
   "metadata": {},
   "outputs": [],
   "source": []
  },
  {
   "cell_type": "code",
   "execution_count": null,
   "metadata": {},
   "outputs": [],
   "source": []
  },
  {
   "cell_type": "code",
   "execution_count": 16,
   "metadata": {},
   "outputs": [
    {
     "name": "stdout",
     "output_type": "stream",
     "text": [
      "Index(['practice', 'patient_id', 'gender', 'dob', 'first_visit', 'last_visit',\n",
      "       'tooth_id', 'tooth_num', 'first_PCR', 'first_RCT', 'extract_date',\n",
      "       'missing_date', 'event_id', 'event_name', 'event_date', 'ada_code', 'm',\n",
      "       'o', 'd', 'b', 'l', 'f', 'i'],\n",
      "      dtype='object')\n"
     ]
    }
   ],
   "source": [
    "# print column names for easy reference\n",
    "print(df_obs.columns)"
   ]
  },
  {
   "cell_type": "code",
   "execution_count": 17,
   "metadata": {},
   "outputs": [],
   "source": [
    "# convert columns to datetime datatype (in case they aren't stored as datetimes)\n",
    "df_obs.dob = pds.to_datetime(df_obs.dob)\n",
    "df_obs.first_visit = pds.to_datetime(df_obs.first_visit, errors = 'coerce')\n",
    "df_obs.last_visit = pds.to_datetime(df_obs.last_visit, errors = 'coerce')\n",
    "df_obs.first_PCR = pds.to_datetime(df_obs.first_PCR, errors = 'coerce')\n",
    "df_obs.first_RCT = pds.to_datetime(df_obs.first_RCT, errors = 'coerce')\n",
    "df_obs.event_date = pds.to_datetime(df_obs.event_date, errors = 'coerce')\n",
    "df_obs.extract_date = pds.to_datetime(df_obs.extract_date, errors = 'coerce')\n",
    "df_obs.missing_date = pds.to_datetime(df_obs.missing_date, errors = 'coerce')\n",
    "\n",
    "# df_obs.head()"
   ]
  },
  {
   "cell_type": "code",
   "execution_count": 18,
   "metadata": {},
   "outputs": [],
   "source": [
    "# add patient ages to observations (using year 2017)\n",
    "df_obs['patient_age'] = 2017 - pds.to_datetime(df_obs.dob).dt.year\n",
    "\n",
    "# df_obs[['dob', 'patient_age']].head()"
   ]
  },
  {
   "cell_type": "code",
   "execution_count": 19,
   "metadata": {},
   "outputs": [],
   "source": [
    "# some of the patient ages are less than zero due to bad DOB data\n",
    "# let's drop the records\n",
    "df_obs = pds.DataFrame(df_obs.query('patient_age > 0'))\n",
    "\n",
    "# df_obs[['dob', 'patient_age']].head()\n",
    "# df_obs.head()"
   ]
  },
  {
   "cell_type": "code",
   "execution_count": 20,
   "metadata": {},
   "outputs": [],
   "source": [
    "# df_teeth.tooth_num.count()\n",
    "# df_teeth.groupby('tooth_num').count()\n",
    "\n",
    "# temp = df_teeth[~np.isnat(df_teeth.extract_date)]\n",
    "# temp = df_teeth[~df_teeth.extract_date.isnull()]\n",
    "# temp = temp.query(\"tooth_num == '7'\")\n",
    "# temp.groupby('tooth_num').count()\n",
    "# temp.head()"
   ]
  },
  {
   "cell_type": "code",
   "execution_count": 21,
   "metadata": {},
   "outputs": [],
   "source": [
    "# create dataframe of patient demographics\n",
    "# note the use of drop_duplicates so that we have distict patients\n",
    "df_demographics = df_obs[['practice', 'patient_id', 'gender', 'dob', 'patient_age']].drop_duplicates()\n",
    "\n",
    "# df_demographics.head()"
   ]
  },
  {
   "cell_type": "code",
   "execution_count": null,
   "metadata": {},
   "outputs": [],
   "source": []
  },
  {
   "cell_type": "code",
   "execution_count": null,
   "metadata": {},
   "outputs": [],
   "source": []
  },
  {
   "cell_type": "code",
   "execution_count": null,
   "metadata": {},
   "outputs": [],
   "source": []
  },
  {
   "cell_type": "code",
   "execution_count": 22,
   "metadata": {},
   "outputs": [],
   "source": [
    "# create separate dataframes for genders\n",
    "# there is probably a better way to do this ...\n",
    "df_females = df_demographics.query(\"gender == 'female'\")[['gender', 'patient_age']]\n",
    "df_males = df_demographics.query(\"gender == 'male'\")[['gender', 'patient_age']]\n",
    "\n",
    "# testing output\n",
    "# df_females.head()\n",
    "# print(len(df_females))\n",
    "# df_females.groupby('patient_age').count()"
   ]
  },
  {
   "cell_type": "code",
   "execution_count": 23,
   "metadata": {},
   "outputs": [
    {
     "data": {
      "image/png": "[encoded data removed]",
      "text/plain": [
       "<Figure size 864x504 with 1 Axes>"
      ]
     },
     "metadata": {
      "needs_background": "light"
     },
     "output_type": "display_data"
    }
   ],
   "source": [
    "# plot age/gender distribution\n",
    "ax = df_females[\"patient_age\"]\\\n",
    "        .hist(bins=20, alpha=0.5, color='magenta', label='female', edgecolor='black', linewidth=1.5,figsize=(12,7))\n",
    "ax = df_males[\"patient_age\"]\\\n",
    "        .hist(bins=20, alpha=0.5, color='cyan', label='male', edgecolor='black', linewidth=1.5, figsize=(12,7))\n",
    "\n",
    "ax.set_xlabel(\"\\nAge of Patient\", fontsize=15)\n",
    "ax.set_ylabel(\"Count\\n\", fontsize=17)\n",
    "\n",
    "plt.legend(loc='upper right', prop={'size': 18})\n",
    "plt.show()"
   ]
  },
  {
   "cell_type": "code",
   "execution_count": 33,
   "metadata": {},
   "outputs": [],
   "source": [
    "# build dataframe of restorations on surfaces\n",
    "df_fillings = df_obs[['tooth_id', 'tooth_num', 'ada_code', 'event_name', 'm','o', 'd', 'b', 'l', 'f', 'i']]\n",
    "# df_fillings = df_fillings.query(\"\"\" \\\n",
    "#                     ada_code.str.startswith('D') \\\n",
    "#                     and event_name.str.contains('filling') \\\n",
    "#                     and (m==1 or o==1 or d==1 or b==1 or l==1 or f==1 or i==1)\"\"\"\n",
    "#                     , engine=\"python\") # engine=\"python\" is needed for str functions to work\n",
    "# df_fillings = df_fillings.query(\"\"\" m==1 or o==1 or d==1 or b==1 or l==1 or f==1 or i==1\"\"\"\n",
    "#                                     , engine=\"python\") # engine=\"python\" is needed for str functions to work\n",
    "df_fillings.m = pds.to_numeric(df_fillings.m)\n",
    "df_fillings.o = pds.to_numeric(df_fillings.o)\n",
    "df_fillings.d = pds.to_numeric(df_fillings.d)\n",
    "df_fillings.b = pds.to_numeric(df_fillings.b)\n",
    "df_fillings.l = pds.to_numeric(df_fillings.l)\n",
    "df_fillings.f = pds.to_numeric(df_fillings.f)\n",
    "df_fillings.i = pds.to_numeric(df_fillings.i)\n",
    "# df_fillings.head()"
   ]
  },
  {
   "cell_type": "code",
   "execution_count": 34,
   "metadata": {},
   "outputs": [
    {
     "name": "stderr",
     "output_type": "stream",
     "text": [
      "/anaconda3/lib/python3.6/site-packages/ipykernel_launcher.py:3: SettingWithCopyWarning: \n",
      "A value is trying to be set on a copy of a slice from a DataFrame.\n",
      "Try using .loc[row_indexer,col_indexer] = value instead\n",
      "\n",
      "See the caveats in the documentation: http://pandas.pydata.org/pandas-docs/stable/indexing.html#indexing-view-versus-copy\n",
      "  This is separate from the ipykernel package so we can avoid doing imports until\n"
     ]
    }
   ],
   "source": [
    "# add column with number of surfaces restored during procedure\n",
    "df_fillings['num_restored_surfaces'] = df_fillings.m + df_fillings.o + df_fillings.d \\\n",
    "                                       + df_fillings.b + df_fillings.l + df_fillings.f + df_fillings.i"
   ]
  },
  {
   "cell_type": "code",
   "execution_count": 35,
   "metadata": {},
   "outputs": [
    {
     "data": {
      "text/html": [
       "<div>\n",
       "<style scoped>\n",
       "    .dataframe tbody tr th:only-of-type {\n",
       "        vertical-align: middle;\n",
       "    }\n",
       "\n",
       "    .dataframe tbody tr th {\n",
       "        vertical-align: top;\n",
       "    }\n",
       "\n",
       "    .dataframe thead th {\n",
       "        text-align: right;\n",
       "    }\n",
       "</style>\n",
       "<table border=\"1\" class=\"dataframe\">\n",
       "  <thead>\n",
       "    <tr style=\"text-align: right;\">\n",
       "      <th></th>\n",
       "      <th>tooth_id</th>\n",
       "      <th>tooth_num</th>\n",
       "      <th>ada_code</th>\n",
       "      <th>event_name</th>\n",
       "      <th>m</th>\n",
       "      <th>o</th>\n",
       "      <th>d</th>\n",
       "      <th>b</th>\n",
       "      <th>l</th>\n",
       "      <th>f</th>\n",
       "      <th>i</th>\n",
       "      <th>num_restored_surfaces</th>\n",
       "    </tr>\n",
       "  </thead>\n",
       "  <tbody>\n",
       "  </tbody>\n",
       "</table>\n",
       "</div>"
      ],
      "text/plain": [
       "Empty DataFrame\n",
       "Columns: [tooth_id, tooth_num, ada_code, event_name, m, o, d, b, l, f, i, num_restored_surfaces]\n",
       "Index: []"
      ]
     },
     "execution_count": 35,
     "metadata": {},
     "output_type": "execute_result"
    }
   ],
   "source": [
    "df_fillings.num_restored_surfaces = pds.to_numeric(df_fillings.num_restored_surfaces)\n",
    "df_fillings = df_fillings[df_fillings.num_restored_surfaces > 0]\n",
    "df_fillings.head()"
   ]
  },
  {
   "cell_type": "code",
   "execution_count": 27,
   "metadata": {},
   "outputs": [],
   "source": [
    "# df_fillings.head()"
   ]
  },
  {
   "cell_type": "code",
   "execution_count": 32,
   "metadata": {},
   "outputs": [
    {
     "data": {
      "text/plain": [
       "Series([], Name: tooth_num, dtype: int64)"
      ]
     },
     "execution_count": 32,
     "metadata": {},
     "output_type": "execute_result"
    }
   ],
   "source": [
    "# find number of procedures per tooth\n",
    "# tooth_counts = pds.DataFrame(df_fillings.groupby('tooth_num')['tooth_num'].count())\n",
    "tooth_counts = df_fillings.groupby('tooth_num')['tooth_num'].count()\n",
    "# tooth_counts['num_int'] = tooth_counts.\n",
    "tooth_counts.columns = ['count']\n",
    "tooth_counts.index = pds.to_numeric(tooth_counts.index)\n",
    "tooth_counts.sort_index(inplace=True) # sort data by tooth number 1 -> 32\n",
    "tooth_counts"
   ]
  },
  {
   "cell_type": "code",
   "execution_count": 29,
   "metadata": {},
   "outputs": [
    {
     "ename": "TypeError",
     "evalue": "Empty 'DataFrame': no numeric data to plot",
     "output_type": "error",
     "traceback": [
      "\u001b[0;31m---------------------------------------------------------------------------\u001b[0m",
      "\u001b[0;31mTypeError\u001b[0m                                 Traceback (most recent call last)",
      "\u001b[0;32m<ipython-input-29-a43795f0cc0c>\u001b[0m in \u001b[0;36m<module>\u001b[0;34m\u001b[0m\n\u001b[1;32m      1\u001b[0m \u001b[0mget_ipython\u001b[0m\u001b[0;34m(\u001b[0m\u001b[0;34m)\u001b[0m\u001b[0;34m.\u001b[0m\u001b[0mrun_line_magic\u001b[0m\u001b[0;34m(\u001b[0m\u001b[0;34m'matplotlib'\u001b[0m\u001b[0;34m,\u001b[0m \u001b[0;34m'inline'\u001b[0m\u001b[0;34m)\u001b[0m\u001b[0;34m\u001b[0m\u001b[0m\n\u001b[1;32m      2\u001b[0m \u001b[0;31m# draw bar chart showing the number of procedures performed on each tooth (number)\u001b[0m\u001b[0;34m\u001b[0m\u001b[0;34m\u001b[0m\u001b[0m\n\u001b[0;32m----> 3\u001b[0;31m \u001b[0max\u001b[0m \u001b[0;34m=\u001b[0m \u001b[0mtooth_counts\u001b[0m\u001b[0;34m.\u001b[0m\u001b[0mplot\u001b[0m\u001b[0;34m.\u001b[0m\u001b[0mbar\u001b[0m\u001b[0;34m(\u001b[0m\u001b[0mfigsize\u001b[0m\u001b[0;34m=\u001b[0m\u001b[0;34m(\u001b[0m\u001b[0;36m15\u001b[0m\u001b[0;34m,\u001b[0m\u001b[0;36m10\u001b[0m\u001b[0;34m)\u001b[0m\u001b[0;34m)\u001b[0m\u001b[0;34m\u001b[0m\u001b[0m\n\u001b[0m\u001b[1;32m      4\u001b[0m \u001b[0;34m\u001b[0m\u001b[0m\n\u001b[1;32m      5\u001b[0m \u001b[0;31m# rotate the ticks on the x axis\u001b[0m\u001b[0;34m\u001b[0m\u001b[0;34m\u001b[0m\u001b[0m\n",
      "\u001b[0;32m/anaconda3/lib/python3.6/site-packages/pandas/plotting/_core.py\u001b[0m in \u001b[0;36mbar\u001b[0;34m(self, **kwds)\u001b[0m\n\u001b[1;32m   2781\u001b[0m         \u001b[0maxes\u001b[0m \u001b[0;34m:\u001b[0m \u001b[0;34m:\u001b[0m\u001b[0;32mclass\u001b[0m\u001b[0;34m:\u001b[0m\u001b[0;31m`\u001b[0m\u001b[0mmatplotlib\u001b[0m\u001b[0;34m.\u001b[0m\u001b[0maxes\u001b[0m\u001b[0;34m.\u001b[0m\u001b[0mAxes\u001b[0m\u001b[0;31m`\u001b[0m \u001b[0;32mor\u001b[0m \u001b[0mnumpy\u001b[0m\u001b[0;34m.\u001b[0m\u001b[0mndarray\u001b[0m \u001b[0mof\u001b[0m \u001b[0mthem\u001b[0m\u001b[0;34m\u001b[0m\u001b[0m\n\u001b[1;32m   2782\u001b[0m         \"\"\"\n\u001b[0;32m-> 2783\u001b[0;31m         \u001b[0;32mreturn\u001b[0m \u001b[0mself\u001b[0m\u001b[0;34m(\u001b[0m\u001b[0mkind\u001b[0m\u001b[0;34m=\u001b[0m\u001b[0;34m'bar'\u001b[0m\u001b[0;34m,\u001b[0m \u001b[0;34m**\u001b[0m\u001b[0mkwds\u001b[0m\u001b[0;34m)\u001b[0m\u001b[0;34m\u001b[0m\u001b[0m\n\u001b[0m\u001b[1;32m   2784\u001b[0m \u001b[0;34m\u001b[0m\u001b[0m\n\u001b[1;32m   2785\u001b[0m     \u001b[0;32mdef\u001b[0m \u001b[0mbarh\u001b[0m\u001b[0;34m(\u001b[0m\u001b[0mself\u001b[0m\u001b[0;34m,\u001b[0m \u001b[0;34m**\u001b[0m\u001b[0mkwds\u001b[0m\u001b[0;34m)\u001b[0m\u001b[0;34m:\u001b[0m\u001b[0;34m\u001b[0m\u001b[0m\n",
      "\u001b[0;32m/anaconda3/lib/python3.6/site-packages/pandas/plotting/_core.py\u001b[0m in \u001b[0;36m__call__\u001b[0;34m(self, kind, ax, figsize, use_index, title, grid, legend, style, logx, logy, loglog, xticks, yticks, xlim, ylim, rot, fontsize, colormap, table, yerr, xerr, label, secondary_y, **kwds)\u001b[0m\n\u001b[1;32m   2739\u001b[0m                            \u001b[0mcolormap\u001b[0m\u001b[0;34m=\u001b[0m\u001b[0mcolormap\u001b[0m\u001b[0;34m,\u001b[0m \u001b[0mtable\u001b[0m\u001b[0;34m=\u001b[0m\u001b[0mtable\u001b[0m\u001b[0;34m,\u001b[0m \u001b[0myerr\u001b[0m\u001b[0;34m=\u001b[0m\u001b[0myerr\u001b[0m\u001b[0;34m,\u001b[0m\u001b[0;34m\u001b[0m\u001b[0m\n\u001b[1;32m   2740\u001b[0m                            \u001b[0mxerr\u001b[0m\u001b[0;34m=\u001b[0m\u001b[0mxerr\u001b[0m\u001b[0;34m,\u001b[0m \u001b[0mlabel\u001b[0m\u001b[0;34m=\u001b[0m\u001b[0mlabel\u001b[0m\u001b[0;34m,\u001b[0m \u001b[0msecondary_y\u001b[0m\u001b[0;34m=\u001b[0m\u001b[0msecondary_y\u001b[0m\u001b[0;34m,\u001b[0m\u001b[0;34m\u001b[0m\u001b[0m\n\u001b[0;32m-> 2741\u001b[0;31m                            **kwds)\n\u001b[0m\u001b[1;32m   2742\u001b[0m     \u001b[0m__call__\u001b[0m\u001b[0;34m.\u001b[0m\u001b[0m__doc__\u001b[0m \u001b[0;34m=\u001b[0m \u001b[0mplot_series\u001b[0m\u001b[0;34m.\u001b[0m\u001b[0m__doc__\u001b[0m\u001b[0;34m\u001b[0m\u001b[0m\n\u001b[1;32m   2743\u001b[0m \u001b[0;34m\u001b[0m\u001b[0m\n",
      "\u001b[0;32m/anaconda3/lib/python3.6/site-packages/pandas/plotting/_core.py\u001b[0m in \u001b[0;36mplot_series\u001b[0;34m(data, kind, ax, figsize, use_index, title, grid, legend, style, logx, logy, loglog, xticks, yticks, xlim, ylim, rot, fontsize, colormap, table, yerr, xerr, label, secondary_y, **kwds)\u001b[0m\n\u001b[1;32m   2000\u001b[0m                  \u001b[0myerr\u001b[0m\u001b[0;34m=\u001b[0m\u001b[0myerr\u001b[0m\u001b[0;34m,\u001b[0m \u001b[0mxerr\u001b[0m\u001b[0;34m=\u001b[0m\u001b[0mxerr\u001b[0m\u001b[0;34m,\u001b[0m\u001b[0;34m\u001b[0m\u001b[0m\n\u001b[1;32m   2001\u001b[0m                  \u001b[0mlabel\u001b[0m\u001b[0;34m=\u001b[0m\u001b[0mlabel\u001b[0m\u001b[0;34m,\u001b[0m \u001b[0msecondary_y\u001b[0m\u001b[0;34m=\u001b[0m\u001b[0msecondary_y\u001b[0m\u001b[0;34m,\u001b[0m\u001b[0;34m\u001b[0m\u001b[0m\n\u001b[0;32m-> 2002\u001b[0;31m                  **kwds)\n\u001b[0m\u001b[1;32m   2003\u001b[0m \u001b[0;34m\u001b[0m\u001b[0m\n\u001b[1;32m   2004\u001b[0m \u001b[0;34m\u001b[0m\u001b[0m\n",
      "\u001b[0;32m/anaconda3/lib/python3.6/site-packages/pandas/plotting/_core.py\u001b[0m in \u001b[0;36m_plot\u001b[0;34m(data, x, y, subplots, ax, kind, **kwds)\u001b[0m\n\u001b[1;32m   1802\u001b[0m         \u001b[0mplot_obj\u001b[0m \u001b[0;34m=\u001b[0m \u001b[0mklass\u001b[0m\u001b[0;34m(\u001b[0m\u001b[0mdata\u001b[0m\u001b[0;34m,\u001b[0m \u001b[0msubplots\u001b[0m\u001b[0;34m=\u001b[0m\u001b[0msubplots\u001b[0m\u001b[0;34m,\u001b[0m \u001b[0max\u001b[0m\u001b[0;34m=\u001b[0m\u001b[0max\u001b[0m\u001b[0;34m,\u001b[0m \u001b[0mkind\u001b[0m\u001b[0;34m=\u001b[0m\u001b[0mkind\u001b[0m\u001b[0;34m,\u001b[0m \u001b[0;34m**\u001b[0m\u001b[0mkwds\u001b[0m\u001b[0;34m)\u001b[0m\u001b[0;34m\u001b[0m\u001b[0m\n\u001b[1;32m   1803\u001b[0m \u001b[0;34m\u001b[0m\u001b[0m\n\u001b[0;32m-> 1804\u001b[0;31m     \u001b[0mplot_obj\u001b[0m\u001b[0;34m.\u001b[0m\u001b[0mgenerate\u001b[0m\u001b[0;34m(\u001b[0m\u001b[0;34m)\u001b[0m\u001b[0;34m\u001b[0m\u001b[0m\n\u001b[0m\u001b[1;32m   1805\u001b[0m     \u001b[0mplot_obj\u001b[0m\u001b[0;34m.\u001b[0m\u001b[0mdraw\u001b[0m\u001b[0;34m(\u001b[0m\u001b[0;34m)\u001b[0m\u001b[0;34m\u001b[0m\u001b[0m\n\u001b[1;32m   1806\u001b[0m     \u001b[0;32mreturn\u001b[0m \u001b[0mplot_obj\u001b[0m\u001b[0;34m.\u001b[0m\u001b[0mresult\u001b[0m\u001b[0;34m\u001b[0m\u001b[0m\n",
      "\u001b[0;32m/anaconda3/lib/python3.6/site-packages/pandas/plotting/_core.py\u001b[0m in \u001b[0;36mgenerate\u001b[0;34m(self)\u001b[0m\n\u001b[1;32m    256\u001b[0m     \u001b[0;32mdef\u001b[0m \u001b[0mgenerate\u001b[0m\u001b[0;34m(\u001b[0m\u001b[0mself\u001b[0m\u001b[0;34m)\u001b[0m\u001b[0;34m:\u001b[0m\u001b[0;34m\u001b[0m\u001b[0m\n\u001b[1;32m    257\u001b[0m         \u001b[0mself\u001b[0m\u001b[0;34m.\u001b[0m\u001b[0m_args_adjust\u001b[0m\u001b[0;34m(\u001b[0m\u001b[0;34m)\u001b[0m\u001b[0;34m\u001b[0m\u001b[0m\n\u001b[0;32m--> 258\u001b[0;31m         \u001b[0mself\u001b[0m\u001b[0;34m.\u001b[0m\u001b[0m_compute_plot_data\u001b[0m\u001b[0;34m(\u001b[0m\u001b[0;34m)\u001b[0m\u001b[0;34m\u001b[0m\u001b[0m\n\u001b[0m\u001b[1;32m    259\u001b[0m         \u001b[0mself\u001b[0m\u001b[0;34m.\u001b[0m\u001b[0m_setup_subplots\u001b[0m\u001b[0;34m(\u001b[0m\u001b[0;34m)\u001b[0m\u001b[0;34m\u001b[0m\u001b[0m\n\u001b[1;32m    260\u001b[0m         \u001b[0mself\u001b[0m\u001b[0;34m.\u001b[0m\u001b[0m_make_plot\u001b[0m\u001b[0;34m(\u001b[0m\u001b[0;34m)\u001b[0m\u001b[0;34m\u001b[0m\u001b[0m\n",
      "\u001b[0;32m/anaconda3/lib/python3.6/site-packages/pandas/plotting/_core.py\u001b[0m in \u001b[0;36m_compute_plot_data\u001b[0;34m(self)\u001b[0m\n\u001b[1;32m    371\u001b[0m         \u001b[0;32mif\u001b[0m \u001b[0mis_empty\u001b[0m\u001b[0;34m:\u001b[0m\u001b[0;34m\u001b[0m\u001b[0m\n\u001b[1;32m    372\u001b[0m             raise TypeError('Empty {0!r}: no numeric data to '\n\u001b[0;32m--> 373\u001b[0;31m                             'plot'.format(numeric_data.__class__.__name__))\n\u001b[0m\u001b[1;32m    374\u001b[0m \u001b[0;34m\u001b[0m\u001b[0m\n\u001b[1;32m    375\u001b[0m         \u001b[0mself\u001b[0m\u001b[0;34m.\u001b[0m\u001b[0mdata\u001b[0m \u001b[0;34m=\u001b[0m \u001b[0mnumeric_data\u001b[0m\u001b[0;34m\u001b[0m\u001b[0m\n",
      "\u001b[0;31mTypeError\u001b[0m: Empty 'DataFrame': no numeric data to plot"
     ]
    }
   ],
   "source": [
    "%matplotlib inline\n",
    "# draw bar chart showing the number of procedures performed on each tooth (number)\n",
    "ax = tooth_counts.plot.bar(figsize=(15,10)) \n",
    "\n",
    "# rotate the ticks on the x axis\n",
    "plt.xticks(rotation=0)\n",
    "\n",
    "# configure labels\n",
    "# note the use of '\\n' to create space between ticks and labels\n",
    "ax.set_xlabel(\"\\nTooth Number\", fontsize=15)\n",
    "ax.set_ylabel(\"Procedure Count\\n\", fontsize=15)\n",
    "ax.tick_params(labelsize='large')\n",
    "\n",
    "plt.show()"
   ]
  },
  {
   "cell_type": "code",
   "execution_count": null,
   "metadata": {},
   "outputs": [],
   "source": [
    "# build dataframe of teeth that have been extracted\n",
    "# note the use of engine=\"python\"\n",
    "# df_extracted = df_obs[df_obs.extract_date.notnull()]\n",
    "df_extracted = df_obs[~np.isnat(df_obs.extract_date)][['tooth_id','tooth_num','extract_date']]\n",
    "# df_extracted = df_obs[~np.isnat(df_obs.extract_date)][['tooth_id','tooth_num']]\n",
    "df_extracted.tooth_num = pds.to_numeric(df_extracted.tooth_num)\n",
    "df_extracted.drop_duplicates(inplace=True)\n",
    "df_extracted.head()"
   ]
  },
  {
   "cell_type": "code",
   "execution_count": null,
   "metadata": {},
   "outputs": [],
   "source": [
    "# query results from triplestore\n",
    "df_tooth1 = pds.read_csv('extracted_tooth_1_no_es.csv')\n",
    "df_tooth1.drop_duplicates(inplace=True)\n",
    "df_tooth1.head()"
   ]
  },
  {
   "cell_type": "code",
   "execution_count": null,
   "metadata": {},
   "outputs": [],
   "source": [
    "df_tooth1.tooth_num.value_counts()"
   ]
  },
  {
   "cell_type": "code",
   "execution_count": null,
   "metadata": {},
   "outputs": [],
   "source": [
    "# extract = df_obs[df_obs.tooth_id.isin(df_tooth1.tooth_id)][['tooth_id','tooth_num', 'extract_date']]\n",
    "temp = df_obs.query(\"tooth_num == '1'\")\n",
    "extract = temp[df_obs.extract_date.notnull()][['tooth_id','tooth_num', 'extract_date']]\n",
    "extract.drop_duplicates(inplace=True)\n",
    "extract.head()"
   ]
  },
  {
   "cell_type": "code",
   "execution_count": null,
   "metadata": {},
   "outputs": [],
   "source": [
    "extract.tooth_num.value_counts()"
   ]
  },
  {
   "cell_type": "code",
   "execution_count": null,
   "metadata": {},
   "outputs": [],
   "source": [
    "extract.extract_date.unique()"
   ]
  },
  {
   "cell_type": "code",
   "execution_count": null,
   "metadata": {},
   "outputs": [],
   "source": [
    "extract2 = extract.drop_duplicates()\n",
    "extract2.tooth_num.value_counts()"
   ]
  },
  {
   "cell_type": "code",
   "execution_count": null,
   "metadata": {},
   "outputs": [],
   "source": [
    "extract3 = extract[['tooth_id','tooth_num']].drop_duplicates()\n",
    "extract3.tooth_num.value_counts()"
   ]
  },
  {
   "cell_type": "code",
   "execution_count": null,
   "metadata": {},
   "outputs": [],
   "source": [
    "extract.extract_date.unique()"
   ]
  },
  {
   "cell_type": "code",
   "execution_count": null,
   "metadata": {},
   "outputs": [],
   "source": [
    "extract[extract.extract_date.notnull()]['extract_date'].unique()"
   ]
  },
  {
   "cell_type": "code",
   "execution_count": null,
   "metadata": {},
   "outputs": [],
   "source": [
    "temp = df_extracted[~df_extracted.tooth_id.isin(extract.tooth_id)]\n",
    "temp\n",
    "temp.tooth_num.value_counts()"
   ]
  },
  {
   "cell_type": "code",
   "execution_count": null,
   "metadata": {},
   "outputs": [],
   "source": [
    "tooth_counts = df_extracted.groupby('tooth_num').count()\n",
    "tooth_counts"
   ]
  },
  {
   "cell_type": "code",
   "execution_count": null,
   "metadata": {},
   "outputs": [],
   "source": [
    "# plot extracted teeth according to tooth number\n",
    "ax = tooth_counts.plot.bar(figsize=(15,10)) \n",
    "\n",
    "# rotate the ticks on the x axis\n",
    "plt.xticks(rotation=0)\n",
    "\n",
    "# configure labels\n",
    "# note the use of '\\n' to create space between ticks and labels\n",
    "ax.set_xlabel(\"\\nTooth Number\", fontsize=15)\n",
    "ax.set_ylabel(\"Extracted Count\\n\", fontsize=15)\n",
    "ax.tick_params(labelsize='large')\n",
    "\n",
    "plt.show()"
   ]
  },
  {
   "cell_type": "code",
   "execution_count": null,
   "metadata": {},
   "outputs": [],
   "source": []
  },
  {
   "cell_type": "code",
   "execution_count": null,
   "metadata": {},
   "outputs": [],
   "source": []
  },
  {
   "cell_type": "code",
   "execution_count": null,
   "metadata": {},
   "outputs": [],
   "source": []
  },
  {
   "cell_type": "code",
   "execution_count": null,
   "metadata": {},
   "outputs": [],
   "source": []
  },
  {
   "cell_type": "code",
   "execution_count": null,
   "metadata": {},
   "outputs": [],
   "source": [
    "# build dataframe of teeth that have been found missing\n",
    "# note the use of engine=\"python\"\n",
    "df_missing = df_obs[df_obs.missing_date.notnull()]\n",
    "df_missing.tooth_num = pds.to_numeric(df_extracted.tooth_num)\n"
   ]
  },
  {
   "cell_type": "code",
   "execution_count": null,
   "metadata": {},
   "outputs": [],
   "source": [
    "tooth_counts =df_missing.groupby('tooth_num').size()\n",
    "# tooth_counts"
   ]
  },
  {
   "cell_type": "code",
   "execution_count": null,
   "metadata": {},
   "outputs": [],
   "source": [
    "# plot missing teeth according to tooth number\n",
    "ax = tooth_counts.plot.bar(figsize=(15,10)) \n",
    "\n",
    "# rotate the ticks on the x axis\n",
    "plt.xticks(rotation=0)\n",
    "\n",
    "# configure labels\n",
    "# note the use of '\\n' to create space between ticks and labels\n",
    "ax.set_xlabel(\"\\nTooth Number\", fontsize=15)\n",
    "ax.set_ylabel(\"Missing Count\\n\", fontsize=15)\n",
    "ax.tick_params(labelsize='large')\n",
    "\n",
    "plt.show()"
   ]
  },
  {
   "cell_type": "code",
   "execution_count": null,
   "metadata": {},
   "outputs": [],
   "source": []
  },
  {
   "cell_type": "code",
   "execution_count": null,
   "metadata": {},
   "outputs": [],
   "source": [
    "def missing_flag_by_row(row):\n",
    "    if pds.notnull(row['extract_date']) or pds.notnull(row['missing_date']):\n",
    "        return 1\n",
    "    else:\n",
    "        return 0\n",
    "\n",
    "def pcr_flag_by_row(row):\n",
    "    if pds.notnull(row['extract_date']) or pds.notnull(row['missing_date']):\n",
    "        return 1\n",
    "    else:\n",
    "        return 0\n",
    "\n",
    "def pcr_flag_by_columns(extract_date, missing_date):\n",
    "    if pds.notnull(extract_date) or pds.notnull(missing_date):\n",
    "        return 1\n",
    "    else:\n",
    "        return 0\n",
    "\n",
    "def pcr_flag_by_df(df):\n",
    "    if pds.notnull(df.extract_date) or pds.notnull(df.missing_date):\n",
    "        df['PCR_flag'] = 1\n",
    "    else:\n",
    "        df['PCR_flag'] = 0\n",
    "\n",
    "# temp = df_obs.iloc[:100000, :]\n",
    "temp = df_obs\n",
    "temp['missing_flag'] = temp.apply(missing_flag_by_row, axis=1)\n",
    "\n",
    "df_missing = temp[temp.missing_flag == 1]\n",
    "# temp[['extract_date', 'missing_date', 'missing_flag']][temp.missing_flag == 0].head()"
   ]
  },
  {
   "cell_type": "code",
   "execution_count": null,
   "metadata": {},
   "outputs": [],
   "source": [
    "df_missing[df_missing.missing_flag == 0].head() # should be none ..."
   ]
  },
  {
   "cell_type": "code",
   "execution_count": null,
   "metadata": {},
   "outputs": [],
   "source": []
  },
  {
   "cell_type": "code",
   "execution_count": null,
   "metadata": {},
   "outputs": [],
   "source": []
  },
  {
   "cell_type": "code",
   "execution_count": null,
   "metadata": {},
   "outputs": [],
   "source": [
    "# create dataframe of only suface info\n",
    "df_surfaces = df_fillings[['m', 'o', 'd', 'b', 'l', 'f', 'i', 'num_restored_surfaces']]\n",
    "\n",
    "# df_surfaces.head()"
   ]
  },
  {
   "cell_type": "code",
   "execution_count": null,
   "metadata": {},
   "outputs": [],
   "source": [
    "# calc number of surfaces restored for each surface\n",
    "# note we are ignoring the number of restored surfaces (for now)\n",
    "surface_counts = df_surfaces[['m', 'o', 'd', 'b', 'l', 'f', 'i']].apply(sum)\n",
    "\n",
    "# surface_counts"
   ]
  },
  {
   "cell_type": "code",
   "execution_count": null,
   "metadata": {},
   "outputs": [],
   "source": [
    "# create bar chart (flipped on its side) to show number of restorations per service\n",
    "ax = surface_counts.plot.barh(figsize=(10,5))\n",
    "\n",
    "# configure labels\n",
    "ax.set_xlabel(\"\\nSurface Restored Count\", fontsize=15)\n",
    "ax.set_ylabel(\"Tooth Surface\\n\", fontsize=15)\n",
    "ax.tick_params(labelsize='x-large')\n",
    "\n",
    "plt.show()"
   ]
  },
  {
   "cell_type": "code",
   "execution_count": null,
   "metadata": {},
   "outputs": [],
   "source": [
    "# calc number of surfaces restored on a tooth for each procedure (i.e., number of surfaces filled during procedure)\n",
    "temp = pds.DataFrame(df_fillings[['tooth_num', 'num_restored_surfaces']]\\\n",
    "                        .groupby(['num_restored_surfaces', 'tooth_num']).size())\n",
    "\n",
    "# temp.head()"
   ]
  },
  {
   "cell_type": "code",
   "execution_count": null,
   "metadata": {},
   "outputs": [],
   "source": [
    "# note the use of fill_values for NaN\n",
    "restored_surface_counts = temp.unstack('num_restored_surfaces', fill_value=0)\n",
    "restored_surface_counts.columns = ['1', '2', '3', '4', '5', '6']\n",
    "\n",
    "# restored_surface_counts"
   ]
  },
  {
   "cell_type": "code",
   "execution_count": null,
   "metadata": {},
   "outputs": [],
   "source": [
    "# do some checks\n",
    "# df_fillings.query('tooth_num == 32 and num_restored_surfaces == 5')['num_restored_surfaces'].count() # matches\n",
    "# df_fillings.query('tooth_num == 30 and num_restored_surfaces == 5')['num_restored_surfaces'].count() # matches\n",
    "# df_fillings.query('tooth_num == 20 and num_restored_surfaces == 2')['num_restored_surfaces'].count() # matches"
   ]
  },
  {
   "cell_type": "code",
   "execution_count": null,
   "metadata": {},
   "outputs": [],
   "source": [
    "# make simple plot of counts\n",
    "# first do a check, and note that there are only 3 restorations of 6 surfaces (which seems not possible)\n",
    "# the heatmap also reflects this ...\n",
    "counts_per_surface = pds.DataFrame(restored_surface_counts.apply(sum))\n",
    "\n",
    "# set index and column name\n",
    "counts_per_surface.index.name = 'num_surfaces_restored'\n",
    "counts_per_surface.columns = ['count']\n",
    "\n",
    "# counts_per_surface"
   ]
  },
  {
   "cell_type": "code",
   "execution_count": null,
   "metadata": {},
   "outputs": [],
   "source": [
    "ax = counts_per_surface.plot.bar(figsize=(10,5), color='green', legend=False)\n",
    "\n",
    "# configure X and Y labels\n",
    "ax.set_xlabel(\"\\nNumber of Surfaces Restored\", fontsize=20)\n",
    "ax.set_ylabel(\"Procedure Count\\n\", fontsize=20)\n",
    "ax.tick_params(labelsize='xx-large')\n",
    "\n",
    "# rotate the ticks on the x axis\n",
    "plt.xticks(rotation=0)\n",
    "\n",
    "plt.show()"
   ]
  },
  {
   "cell_type": "code",
   "execution_count": null,
   "metadata": {},
   "outputs": [],
   "source": [
    "plt.figure(figsize = (20,30)) # this sets width and height of the figure\n",
    "\n",
    "# fmt='d' means annotations are digits, annot_kws={\"size\":15} sets the size of the annotation font\n",
    "ax = sns.heatmap(restored_surface_counts, cmap='Spectral_r', linewidths=1.0, annot=True, fmt='d', annot_kws={\"size\":15})\n",
    "\n",
    "# rotate the ticks on the y axis\n",
    "plt.yticks(rotation=0)\n",
    "\n",
    "# configure X and Y labels\n",
    "ax.set_ylabel(\"Tooth Number\\n\", fontsize=25)\n",
    "ax.set_xlabel(\"\\nNumber of Surfaces Restored by Procedure\", fontsize=25)\n",
    "ax.tick_params(labelsize='xx-large')\n",
    "\n",
    "plt.show()"
   ]
  },
  {
   "cell_type": "code",
   "execution_count": null,
   "metadata": {},
   "outputs": [],
   "source": [
    "# create a data structures to show a heatmap of teeth and surfaces\n",
    "# build dataframe of tooth and surface info\n",
    "df_tooth_surfaces = df_fillings[['tooth_num', 'm', 'o', 'd', 'b', 'l', 'f', 'i']]\n",
    "\n",
    "# df_tooth_surfaces.head()"
   ]
  },
  {
   "cell_type": "code",
   "execution_count": null,
   "metadata": {},
   "outputs": [],
   "source": [
    "# for each tooth group, sum the surfaces restored\n",
    "grouped_df = pds.DataFrame(df_tooth_surfaces.groupby('tooth_num').sum())\n",
    "grouped_df.columns = ['m', 'o', 'd', 'b', 'l', 'f', 'i']\n",
    "grouped_df.index = pds.to_numeric(grouped_df.index)\n",
    "grouped_df.sort_index(inplace=True)\n",
    "grouped_df.head()"
   ]
  },
  {
   "cell_type": "code",
   "execution_count": null,
   "metadata": {},
   "outputs": [],
   "source": [
    "# make a heat map that shows the number of surfaces restored per tooth\n",
    "# the surface is on the X axis, the tooth is on the Y axis\n",
    "\n",
    "plt.figure(figsize = (20,30)) # this sets width and height of the figure\n",
    "\n",
    "# fmt='d' means annotations are digits\n",
    "ax = sns.heatmap(grouped_df, cmap='Spectral_r', linewidths=1.0, annot=True, fmt='d', annot_kws={\"size\":15})\n",
    "\n",
    "# rotate the ticks on the y axis\n",
    "plt.yticks(rotation=0)\n",
    "\n",
    "# configure X and Y labels\n",
    "ax.set_xlabel(\"\\nTooth Surface\", fontsize=25)\n",
    "ax.set_ylabel(\"Tooth Number\\n\", fontsize=25)\n",
    "ax.tick_params(labelsize='xx-large')\n",
    "\n",
    "plt.show()\n"
   ]
  },
  {
   "cell_type": "code",
   "execution_count": null,
   "metadata": {},
   "outputs": [],
   "source": [
    "test = pds.DataFrame({'one': [1, 2, 3, 4, 5],\n",
    "                   'two': [6, 7, 8, 9, 10],\n",
    "              }, index=['a', 'b', 'c', 'd', 'e'])"
   ]
  },
  {
   "cell_type": "code",
   "execution_count": null,
   "metadata": {},
   "outputs": [],
   "source": [
    "test\n"
   ]
  },
  {
   "cell_type": "code",
   "execution_count": null,
   "metadata": {},
   "outputs": [],
   "source": [
    "test.iloc[:2, 0]"
   ]
  },
  {
   "cell_type": "code",
   "execution_count": null,
   "metadata": {},
   "outputs": [],
   "source": [
    "test['three'] = None"
   ]
  },
  {
   "cell_type": "code",
   "execution_count": null,
   "metadata": {},
   "outputs": [],
   "source": [
    "test\n"
   ]
  },
  {
   "cell_type": "code",
   "execution_count": null,
   "metadata": {},
   "outputs": [],
   "source": [
    "test = pds.DataFrame(\n",
    "            {'one': [1, 2, 3, 4, 5],\n",
    "             'two': [6, 7, 8, 9, 10],\n",
    "             'three': [\"2011-01-01T00:00:00\", None , \"2012-02-02T00:00:00\", None, \"2013-03-03T00:00:00\"]}, \n",
    "             index=['a', 'b', 'c', 'd', 'e'])\n",
    "\n",
    "test['four'] = None\n",
    "# test.apply(lambda x: x.loc[:, 'four'] = x.one + x.two, axis=1)\n",
    "# test.loc[:, 'four'].map(lambda x: test.one + test.two)\n",
    "# test['four'] = \n",
    "# pds.Series(map(lambda x: test.one + test.two, test[['one', 'two']]))\n",
    "# test.loc[:, 'four'] = test.loc[:, 'one'] + test.loc[:, 'two']\n",
    "# test.loc[:, 'four'] = map(lambda x,y: x + y, [test.loc[:, 'one'] , test.loc[:, 'two']])\n",
    "test.loc[:, 'four'] = list(map(lambda x, y: x + y, test.loc[:, 'one'], test.loc[:, 'two']))\n",
    "\n",
    "test"
   ]
  },
  {
   "cell_type": "code",
   "execution_count": null,
   "metadata": {},
   "outputs": [],
   "source": [
    "test.dtypes"
   ]
  },
  {
   "cell_type": "code",
   "execution_count": null,
   "metadata": {},
   "outputs": [],
   "source": [
    "test[test.three.notnull()]"
   ]
  },
  {
   "cell_type": "code",
   "execution_count": null,
   "metadata": {},
   "outputs": [],
   "source": [
    "test.dtypes"
   ]
  },
  {
   "cell_type": "code",
   "execution_count": null,
   "metadata": {},
   "outputs": [],
   "source": [
    "test.four = test.four.astype('str')\n",
    "# test.four.astype('str', copy=False)\n",
    "# test.dtypes\n",
    "test.four + test.four\n",
    "test"
   ]
  },
  {
   "cell_type": "code",
   "execution_count": null,
   "metadata": {},
   "outputs": [],
   "source": []
  }
 ],
 "metadata": {
  "kernelspec": {
   "display_name": "Python 3",
   "language": "python",
   "name": "python3"
  },
  "language_info": {
   "codemirror_mode": {
    "name": "ipython",
    "version": 3
   },
   "file_extension": ".py",
   "mimetype": "text/x-python",
   "name": "python",
   "nbconvert_exporter": "python",
   "pygments_lexer": "ipython3",
   "version": "3.6.6"
  }
 },
 "nbformat": 4,
 "nbformat_minor": 2
}
