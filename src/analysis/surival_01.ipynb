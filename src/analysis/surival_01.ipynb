{
 "cells": [
  {
   "cell_type": "code",
   "execution_count": 1,
   "metadata": {},
   "outputs": [],
   "source": [
    "import pandas as pds\n",
    "import seaborn as sns\n",
    "import matplotlib.pyplot as plt\n",
    "import numpy as np\n",
    "    "
   ]
  },
  {
   "cell_type": "code",
   "execution_count": 2,
   "metadata": {},
   "outputs": [],
   "source": [
    "# load csv files into dataframes\n",
    "# the paramaters low_memory=False, dtype=str tell pandas not to guess the datatype\n",
    "# and make everything a string\n",
    "# note: many posts say low_memory=False doesn't do anything ... \n",
    "df_patients = pds.read_csv('patients.csv', low_memory=False, dtype=str, encoding='utf-8')\n",
    "df_patients_teeth = pds.read_csv('patient_teeth.csv', low_memory=False, dtype=str, encoding='utf-8')\n",
    "df_tooth_caries = pds.read_csv('tooth_caries.csv', low_memory=False, dtype=str, encoding='utf-8')\n",
    "df_tooth_surface_caries = pds.read_csv('tooth_surface_caries.csv', low_memory=False, dtype=str, encoding='utf-8')\n",
    "df_tooth_procedures = pds.read_csv('tooth_procedures_no_es.csv', low_memory=False, dtype=str, encoding='utf-8')\n",
    "df_tooth_surface_procedures = pds.read_csv('tooth_surface_procedures_no_es.csv', low_memory=False, dtype=str, encoding='utf-8')"
   ]
  },
  {
   "cell_type": "code",
   "execution_count": null,
   "metadata": {},
   "outputs": [],
   "source": []
  },
  {
   "cell_type": "code",
   "execution_count": null,
   "metadata": {},
   "outputs": [],
   "source": []
  },
  {
   "cell_type": "code",
   "execution_count": 3,
   "metadata": {},
   "outputs": [],
   "source": [
    "# drop duplicates from dataframes\n",
    "df_patients.drop_duplicates(inplace=True)\n",
    "df_patients_teeth.drop_duplicates(inplace=True)\n",
    "df_tooth_caries.drop_duplicates(inplace=True)\n",
    "df_tooth_surface_caries.drop_duplicates(inplace=True)\n",
    "df_tooth_procedures.drop_duplicates(inplace=True)\n",
    "df_tooth_surface_procedures.drop_duplicates(inplace=True)"
   ]
  },
  {
   "cell_type": "code",
   "execution_count": 4,
   "metadata": {},
   "outputs": [],
   "source": [
    "# testing output\n",
    "# df_patients.head() # good\n",
    "# df_patients_teeth.head() # good\n",
    "# df_tooth_caries.head() # good\n",
    "# df_tooth_surface_caries.head() # good\n",
    "# df_tooth_procedures.head() # good\n",
    "# df_tooth_surface_procedures.head() # good"
   ]
  },
  {
   "cell_type": "code",
   "execution_count": null,
   "metadata": {},
   "outputs": [],
   "source": []
  },
  {
   "cell_type": "code",
   "execution_count": 5,
   "metadata": {},
   "outputs": [],
   "source": [
    "# len(df_patients) # 229,414"
   ]
  },
  {
   "cell_type": "code",
   "execution_count": 6,
   "metadata": {},
   "outputs": [],
   "source": [
    "# len(df_patients_teeth) # 1,231,726"
   ]
  },
  {
   "cell_type": "code",
   "execution_count": null,
   "metadata": {},
   "outputs": [],
   "source": []
  },
  {
   "cell_type": "code",
   "execution_count": 7,
   "metadata": {},
   "outputs": [],
   "source": [
    "# print number of patients\n",
    "# alternative method: df_patients.count() # 229,414\n",
    "# len(df_patients) # simplier -> 229,414\n",
    "\n",
    "# get counts of genders\n",
    "group = df_patients.gender.value_counts()"
   ]
  },
  {
   "cell_type": "code",
   "execution_count": 8,
   "metadata": {},
   "outputs": [
    {
     "data": {
      "image/png": "[encoded data removed]",
      "text/plain": [
       "<Figure size 432x288 with 1 Axes>"
      ]
     },
     "metadata": {},
     "output_type": "display_data"
    }
   ],
   "source": [
    "# plot gender counts\n",
    "# ax = sns.countplot(x=\"gender\", data=group)\n",
    "ax = sns.barplot(x=group.index, y=group.values)\n",
    "ax.set_xlabel(\"\\nPatient Gender\", size=20)\n",
    "ax.set_ylabel(\"Gender Count\\n\", size=20)\n",
    "plt.xticks(size=15)\n",
    "plt.yticks(size=15)\n",
    "plt.show()"
   ]
  },
  {
   "cell_type": "code",
   "execution_count": null,
   "metadata": {},
   "outputs": [],
   "source": []
  },
  {
   "cell_type": "code",
   "execution_count": 9,
   "metadata": {},
   "outputs": [],
   "source": [
    "# merge, patients, teeth data frames\n",
    "df_teeth = pds.merge(df_patients, df_patients_teeth, \\\n",
    "                             how='inner', on=['patient_id'])\n",
    "df_teeth.drop_duplicates(inplace=True)\n",
    "# df_teeth.head()"
   ]
  },
  {
   "cell_type": "code",
   "execution_count": 10,
   "metadata": {},
   "outputs": [],
   "source": [
    "# len(df_teeth) # left join -> 1,238,655; inner join -> 1,227,812; right join -> 1,227,812\n",
    "# len(df_patients_teeth) # 1,227,812"
   ]
  },
  {
   "cell_type": "code",
   "execution_count": 11,
   "metadata": {},
   "outputs": [],
   "source": [
    "# merge teeth and procedures data frames\n",
    "temp = df_tooth_procedures[df_tooth_procedures.tooth_id.isin(df_teeth.tooth_id)]\n",
    "# len(df_tooth_procedures) # 1,681,694\n",
    "# len(temp) # 1,675,416\n",
    "\n",
    "df_procedures = pds.merge(df_teeth, temp, how='left', on=['tooth_id', 'tooth_num'])\n",
    "# len(df_procedures) # 1,682,057\n",
    "# df_procedures.head()"
   ]
  },
  {
   "cell_type": "code",
   "execution_count": 12,
   "metadata": {},
   "outputs": [
    {
     "data": {
      "text/plain": [
       "1682057"
      ]
     },
     "execution_count": 12,
     "metadata": {},
     "output_type": "execute_result"
    }
   ],
   "source": [
    "# merge procedures with surface information\n",
    "# this final dataset will be the 'observations' dataset\n",
    "temp = df_tooth_surface_procedures[df_tooth_surface_procedures.event_id.isin(df_procedures.event_id)]\n",
    "# len(df_tooth_surface_procedures) # 1,245,022\n",
    "# len(temp) # 1,241,352\n",
    "\n",
    "df_obs = pds.merge(df_procedures, temp, how='left', on=['event_id', 'tooth_id', 'tooth_num'])\n",
    "len(df_obs) # 1,682,057; this matches df_procedures count above ... good"
   ]
  },
  {
   "cell_type": "code",
   "execution_count": 13,
   "metadata": {},
   "outputs": [
    {
     "data": {
      "text/html": [
       "<div>\n",
       "<style scoped>\n",
       "    .dataframe tbody tr th:only-of-type {\n",
       "        vertical-align: middle;\n",
       "    }\n",
       "\n",
       "    .dataframe tbody tr th {\n",
       "        vertical-align: top;\n",
       "    }\n",
       "\n",
       "    .dataframe thead th {\n",
       "        text-align: right;\n",
       "    }\n",
       "</style>\n",
       "<table border=\"1\" class=\"dataframe\">\n",
       "  <thead>\n",
       "    <tr style=\"text-align: right;\">\n",
       "      <th></th>\n",
       "      <th>tooth_id</th>\n",
       "    </tr>\n",
       "    <tr>\n",
       "      <th>tooth_num</th>\n",
       "      <th></th>\n",
       "    </tr>\n",
       "  </thead>\n",
       "  <tbody>\n",
       "    <tr>\n",
       "      <th>1</th>\n",
       "      <td>231</td>\n",
       "    </tr>\n",
       "    <tr>\n",
       "      <th>2</th>\n",
       "      <td>2288</td>\n",
       "    </tr>\n",
       "    <tr>\n",
       "      <th>3</th>\n",
       "      <td>2574</td>\n",
       "    </tr>\n",
       "    <tr>\n",
       "      <th>4</th>\n",
       "      <td>1764</td>\n",
       "    </tr>\n",
       "    <tr>\n",
       "      <th>5</th>\n",
       "      <td>1477</td>\n",
       "    </tr>\n",
       "    <tr>\n",
       "      <th>6</th>\n",
       "      <td>907</td>\n",
       "    </tr>\n",
       "    <tr>\n",
       "      <th>7</th>\n",
       "      <td>993</td>\n",
       "    </tr>\n",
       "    <tr>\n",
       "      <th>8</th>\n",
       "      <td>1243</td>\n",
       "    </tr>\n",
       "    <tr>\n",
       "      <th>9</th>\n",
       "      <td>1239</td>\n",
       "    </tr>\n",
       "    <tr>\n",
       "      <th>10</th>\n",
       "      <td>984</td>\n",
       "    </tr>\n",
       "    <tr>\n",
       "      <th>11</th>\n",
       "      <td>880</td>\n",
       "    </tr>\n",
       "    <tr>\n",
       "      <th>12</th>\n",
       "      <td>1492</td>\n",
       "    </tr>\n",
       "    <tr>\n",
       "      <th>13</th>\n",
       "      <td>1687</td>\n",
       "    </tr>\n",
       "    <tr>\n",
       "      <th>14</th>\n",
       "      <td>2599</td>\n",
       "    </tr>\n",
       "    <tr>\n",
       "      <th>15</th>\n",
       "      <td>2338</td>\n",
       "    </tr>\n",
       "    <tr>\n",
       "      <th>16</th>\n",
       "      <td>194</td>\n",
       "    </tr>\n",
       "    <tr>\n",
       "      <th>17</th>\n",
       "      <td>285</td>\n",
       "    </tr>\n",
       "    <tr>\n",
       "      <th>18</th>\n",
       "      <td>2541</td>\n",
       "    </tr>\n",
       "    <tr>\n",
       "      <th>19</th>\n",
       "      <td>2525</td>\n",
       "    </tr>\n",
       "    <tr>\n",
       "      <th>20</th>\n",
       "      <td>1625</td>\n",
       "    </tr>\n",
       "    <tr>\n",
       "      <th>21</th>\n",
       "      <td>946</td>\n",
       "    </tr>\n",
       "    <tr>\n",
       "      <th>22</th>\n",
       "      <td>530</td>\n",
       "    </tr>\n",
       "    <tr>\n",
       "      <th>23</th>\n",
       "      <td>340</td>\n",
       "    </tr>\n",
       "    <tr>\n",
       "      <th>24</th>\n",
       "      <td>464</td>\n",
       "    </tr>\n",
       "    <tr>\n",
       "      <th>25</th>\n",
       "      <td>452</td>\n",
       "    </tr>\n",
       "    <tr>\n",
       "      <th>26</th>\n",
       "      <td>352</td>\n",
       "    </tr>\n",
       "    <tr>\n",
       "      <th>27</th>\n",
       "      <td>528</td>\n",
       "    </tr>\n",
       "    <tr>\n",
       "      <th>28</th>\n",
       "      <td>959</td>\n",
       "    </tr>\n",
       "    <tr>\n",
       "      <th>29</th>\n",
       "      <td>1630</td>\n",
       "    </tr>\n",
       "    <tr>\n",
       "      <th>30</th>\n",
       "      <td>2568</td>\n",
       "    </tr>\n",
       "    <tr>\n",
       "      <th>31</th>\n",
       "      <td>2412</td>\n",
       "    </tr>\n",
       "    <tr>\n",
       "      <th>32</th>\n",
       "      <td>284</td>\n",
       "    </tr>\n",
       "  </tbody>\n",
       "</table>\n",
       "</div>"
      ],
      "text/plain": [
       "           tooth_id\n",
       "tooth_num          \n",
       "1               231\n",
       "2              2288\n",
       "3              2574\n",
       "4              1764\n",
       "5              1477\n",
       "6               907\n",
       "7               993\n",
       "8              1243\n",
       "9              1239\n",
       "10              984\n",
       "11              880\n",
       "12             1492\n",
       "13             1687\n",
       "14             2599\n",
       "15             2338\n",
       "16              194\n",
       "17              285\n",
       "18             2541\n",
       "19             2525\n",
       "20             1625\n",
       "21              946\n",
       "22              530\n",
       "23              340\n",
       "24              464\n",
       "25              452\n",
       "26              352\n",
       "27              528\n",
       "28              959\n",
       "29             1630\n",
       "30             2568\n",
       "31             2412\n",
       "32              284"
      ]
     },
     "execution_count": 13,
     "metadata": {},
     "output_type": "execute_result"
    }
   ],
   "source": [
    "df_extracted = df_obs[df_obs.extract_date.notnull()][['tooth_id','tooth_num']]\n",
    "# df_extracted = df_obs[df_obs.extract_date.notna()][['tooth_id','tooth_num']]\n",
    "df_extracted.tooth_num = pds.to_numeric(df_extracted.tooth_num)\n",
    "df_extracted.drop_duplicates(inplace=True)\n",
    "df_extracted.head()\n",
    "df_extracted.groupby('tooth_num').count()\n",
    "# len(df_extracted) # isnull -> 1,617,783; isna -> 1,617,783; notnull -> 41,331; notna -> 41,331"
   ]
  },
  {
   "cell_type": "code",
   "execution_count": 14,
   "metadata": {},
   "outputs": [
    {
     "name": "stdout",
     "output_type": "stream",
     "text": [
      "64274\n"
     ]
    },
    {
     "name": "stderr",
     "output_type": "stream",
     "text": [
      "/usr/local/anaconda3/lib/python3.6/site-packages/ipykernel_launcher.py:10: SettingWithCopyWarning: \n",
      "A value is trying to be set on a copy of a slice from a DataFrame\n",
      "\n",
      "See the caveats in the documentation: http://pandas.pydata.org/pandas-docs/stable/indexing.html#indexing-view-versus-copy\n",
      "  # Remove the CWD from sys.path while we load stuff.\n"
     ]
    },
    {
     "data": {
      "text/plain": [
       "14    2599\n",
       "3     2574\n",
       "30    2568\n",
       "18    2541\n",
       "19    2525\n",
       "31    2412\n",
       "15    2338\n",
       "2     2288\n",
       "4     1764\n",
       "13    1687\n",
       "29    1630\n",
       "20    1625\n",
       "12    1492\n",
       "5     1477\n",
       "8     1243\n",
       "9     1239\n",
       "7      993\n",
       "10     984\n",
       "28     959\n",
       "21     946\n",
       "6      907\n",
       "11     880\n",
       "22     530\n",
       "27     528\n",
       "24     464\n",
       "25     452\n",
       "26     352\n",
       "23     340\n",
       "17     285\n",
       "32     284\n",
       "1      231\n",
       "16     194\n",
       "Name: tooth_num, dtype: int64"
      ]
     },
     "execution_count": 14,
     "metadata": {},
     "output_type": "execute_result"
    }
   ],
   "source": [
    "temp1 = df_obs[['tooth_num', 'tooth_id', 'extract_date']] #.fillna(0)\n",
    "len(temp1)\n",
    "# temp2 = temp1[temp1.extract_date == 0]\n",
    "# temp2 = temp1.query(\"extract_date != extract_date\")\n",
    "temp2 = temp1[temp1.extract_date.notnull()]\n",
    "# temp2.drop_duplicates(inplace=True)\n",
    "temp3 = temp2[['tooth_num', 'tooth_id']]\n",
    "print(len(temp3))\n",
    "# temp3.groupby('tooth_num').size()\n",
    "temp3.drop_duplicates(inplace=True)\n",
    "temp3.tooth_num.value_counts()\n",
    "# print(len(temp3))\n",
    "# temp2.head()\n",
    "# temp3.groupby('tooth_num').size()\n",
    "# temp2.tooth_num.value_counts()\n",
    "# temp3 = temp2.query(\"tooth_num == '1'\")\n",
    "# temp3.drop_duplicates(inplace=True)\n",
    "# print(len(temp3))"
   ]
  },
  {
   "cell_type": "code",
   "execution_count": 15,
   "metadata": {},
   "outputs": [
    {
     "data": {
      "text/html": [
       "<div>\n",
       "<style scoped>\n",
       "    .dataframe tbody tr th:only-of-type {\n",
       "        vertical-align: middle;\n",
       "    }\n",
       "\n",
       "    .dataframe tbody tr th {\n",
       "        vertical-align: top;\n",
       "    }\n",
       "\n",
       "    .dataframe thead th {\n",
       "        text-align: right;\n",
       "    }\n",
       "</style>\n",
       "<table border=\"1\" class=\"dataframe\">\n",
       "  <thead>\n",
       "    <tr style=\"text-align: right;\">\n",
       "      <th></th>\n",
       "      <th>tooth_num</th>\n",
       "      <th>tooth_id</th>\n",
       "    </tr>\n",
       "  </thead>\n",
       "  <tbody>\n",
       "    <tr>\n",
       "      <th>174</th>\n",
       "      <td>1</td>\n",
       "      <td>A_1_1_3529_1</td>\n",
       "    </tr>\n",
       "    <tr>\n",
       "      <th>275</th>\n",
       "      <td>1</td>\n",
       "      <td>A_1_1_1_1</td>\n",
       "    </tr>\n",
       "    <tr>\n",
       "      <th>401</th>\n",
       "      <td>1</td>\n",
       "      <td>A_1_1_23_1</td>\n",
       "    </tr>\n",
       "    <tr>\n",
       "      <th>483</th>\n",
       "      <td>1</td>\n",
       "      <td>A_1_1_41_1</td>\n",
       "    </tr>\n",
       "    <tr>\n",
       "      <th>851</th>\n",
       "      <td>1</td>\n",
       "      <td>A_1_1_107_1</td>\n",
       "    </tr>\n",
       "  </tbody>\n",
       "</table>\n",
       "</div>"
      ],
      "text/plain": [
       "    tooth_num      tooth_id\n",
       "174         1  A_1_1_3529_1\n",
       "275         1     A_1_1_1_1\n",
       "401         1    A_1_1_23_1\n",
       "483         1    A_1_1_41_1\n",
       "851         1   A_1_1_107_1"
      ]
     },
     "execution_count": 15,
     "metadata": {},
     "output_type": "execute_result"
    }
   ],
   "source": [
    "temp4 = temp3.query(\"tooth_num == '1'\")\n",
    "temp4.head()"
   ]
  },
  {
   "cell_type": "code",
   "execution_count": null,
   "metadata": {},
   "outputs": [],
   "source": []
  },
  {
   "cell_type": "code",
   "execution_count": null,
   "metadata": {},
   "outputs": [],
   "source": []
  },
  {
   "cell_type": "code",
   "execution_count": 16,
   "metadata": {},
   "outputs": [
    {
     "name": "stdout",
     "output_type": "stream",
     "text": [
      "Index(['practice', 'patient_id', 'gender', 'dob', 'first_visit', 'last_visit',\n",
      "       'tooth_id', 'tooth_num', 'first_PCR', 'first_RCT', 'extract_date',\n",
      "       'missing_date', 'event_id', 'event_name', 'event_date', 'ada_code', 'm',\n",
      "       'o', 'd', 'b', 'l', 'f', 'i'],\n",
      "      dtype='object')\n"
     ]
    }
   ],
   "source": [
    "# print column names for easy reference\n",
    "print(df_obs.columns)"
   ]
  },
  {
   "cell_type": "code",
   "execution_count": 17,
   "metadata": {},
   "outputs": [],
   "source": [
    "# convert columns to datetime datatype (in case they aren't stored as datetimes)\n",
    "df_obs.dob = pds.to_datetime(df_obs.dob)\n",
    "df_obs.first_visit = pds.to_datetime(df_obs.first_visit, errors = 'coerce')\n",
    "df_obs.last_visit = pds.to_datetime(df_obs.last_visit, errors = 'coerce')\n",
    "df_obs.first_PCR = pds.to_datetime(df_obs.first_PCR, errors = 'coerce')\n",
    "df_obs.first_RCT = pds.to_datetime(df_obs.first_RCT, errors = 'coerce')\n",
    "df_obs.event_date = pds.to_datetime(df_obs.event_date, errors = 'coerce')\n",
    "df_obs.extract_date = pds.to_datetime(df_obs.extract_date, errors = 'coerce')\n",
    "df_obs.missing_date = pds.to_datetime(df_obs.missing_date, errors = 'coerce')\n",
    "\n",
    "# df_obs.head()"
   ]
  },
  {
   "cell_type": "code",
   "execution_count": 18,
   "metadata": {},
   "outputs": [],
   "source": [
    "# add patient ages to observations (using year 2017)\n",
    "df_obs['patient_age'] = 2017 - pds.to_datetime(df_obs.dob).dt.year\n",
    "\n",
    "# df_obs[['dob', 'patient_age']].head()"
   ]
  },
  {
   "cell_type": "code",
   "execution_count": 19,
   "metadata": {},
   "outputs": [],
   "source": [
    "# some of the patient ages are less than zero due to bad DOB data\n",
    "# let's drop the records\n",
    "df_obs = pds.DataFrame(df_obs.query('patient_age > 0'))\n",
    "\n",
    "# df_obs[['dob', 'patient_age']].head()\n",
    "# df_obs.head()"
   ]
  },
  {
   "cell_type": "code",
   "execution_count": 20,
   "metadata": {},
   "outputs": [],
   "source": [
    "# df_teeth.tooth_num.count()\n",
    "# df_teeth.groupby('tooth_num').count()\n",
    "\n",
    "# temp = df_teeth[~np.isnat(df_teeth.extract_date)]\n",
    "# temp = df_teeth[~df_teeth.extract_date.isnull()]\n",
    "# temp = temp.query(\"tooth_num == '7'\")\n",
    "# temp.groupby('tooth_num').count()\n",
    "# temp.head()"
   ]
  },
  {
   "cell_type": "code",
   "execution_count": 21,
   "metadata": {},
   "outputs": [],
   "source": [
    "# create dataframe of patient demographics\n",
    "# note the use of drop_duplicates so that we have distict patients\n",
    "df_demographics = df_obs[['practice', 'patient_id', 'gender', 'dob', 'patient_age']].drop_duplicates()\n",
    "\n",
    "# df_demographics.head()"
   ]
  },
  {
   "cell_type": "code",
   "execution_count": null,
   "metadata": {},
   "outputs": [],
   "source": []
  },
  {
   "cell_type": "code",
   "execution_count": null,
   "metadata": {},
   "outputs": [],
   "source": []
  },
  {
   "cell_type": "code",
   "execution_count": null,
   "metadata": {},
   "outputs": [],
   "source": []
  },
  {
   "cell_type": "code",
   "execution_count": 22,
   "metadata": {},
   "outputs": [],
   "source": [
    "# create separate dataframes for genders\n",
    "# there is probably a better way to do this ...\n",
    "df_females = df_demographics.query(\"gender == 'female'\")[['gender', 'patient_age']]\n",
    "df_males = df_demographics.query(\"gender == 'male'\")[['gender', 'patient_age']]\n",
    "\n",
    "# testing output\n",
    "# df_females.head()\n",
    "# print(len(df_females))\n",
    "# df_females.groupby('patient_age').count()"
   ]
  },
  {
   "cell_type": "code",
   "execution_count": 23,
   "metadata": {},
   "outputs": [
    {
     "data": {
      "image/png": "[encoded data removed]",
      "text/plain": [
       "<Figure size 864x504 with 1 Axes>"
      ]
     },
     "metadata": {},
     "output_type": "display_data"
    }
   ],
   "source": [
    "# plot age/gender distribution\n",
    "ax = df_females[\"patient_age\"]\\\n",
    "        .hist(bins=20, alpha=0.5, color='magenta', label='female', edgecolor='black', linewidth=1.5,figsize=(12,7))\n",
    "ax = df_males[\"patient_age\"]\\\n",
    "        .hist(bins=20, alpha=0.5, color='cyan', label='male', edgecolor='black', linewidth=1.5, figsize=(12,7))\n",
    "\n",
    "ax.set_xlabel(\"\\nAge of Patient\", fontsize=15)\n",
    "ax.set_ylabel(\"Count\\n\", fontsize=17)\n",
    "\n",
    "plt.legend(loc='upper right', prop={'size': 18})\n",
    "plt.show()"
   ]
  },
  {
   "cell_type": "code",
   "execution_count": 24,
   "metadata": {},
   "outputs": [
    {
     "name": "stderr",
     "output_type": "stream",
     "text": [
      "/usr/local/anaconda3/lib/python3.6/site-packages/pandas/core/generic.py:4405: SettingWithCopyWarning: \n",
      "A value is trying to be set on a copy of a slice from a DataFrame.\n",
      "Try using .loc[row_indexer,col_indexer] = value instead\n",
      "\n",
      "See the caveats in the documentation: http://pandas.pydata.org/pandas-docs/stable/indexing.html#indexing-view-versus-copy\n",
      "  self[name] = value\n"
     ]
    }
   ],
   "source": [
    "# build dataframe of restorations on surfaces\n",
    "df_fillings = df_obs[['tooth_id', 'tooth_num', 'ada_code', 'event_name', 'm','o', 'd', 'b', 'l', 'f', 'i']]\n",
    "# df_fillings = df_fillings.query(\"\"\" \\\n",
    "#                     ada_code.str.startswith('D') \\\n",
    "#                     and event_name.str.contains('filling') \\\n",
    "#                     and (m==1 or o==1 or d==1 or b==1 or l==1 or f==1 or i==1)\"\"\"\n",
    "#                     , engine=\"python\") # engine=\"python\" is needed for str functions to work\n",
    "# df_fillings = df_fillings.query(\"\"\" m==1 or o==1 or d==1 or b==1 or l==1 or f==1 or i==1\"\"\"\n",
    "#                                     , engine=\"python\") # engine=\"python\" is needed for str functions to work\n",
    "df_fillings.m = pds.to_numeric(df_fillings.m)\n",
    "df_fillings.o = pds.to_numeric(df_fillings.o)\n",
    "df_fillings.d = pds.to_numeric(df_fillings.d)\n",
    "df_fillings.b = pds.to_numeric(df_fillings.b)\n",
    "df_fillings.l = pds.to_numeric(df_fillings.l)\n",
    "df_fillings.f = pds.to_numeric(df_fillings.f)\n",
    "df_fillings.i = pds.to_numeric(df_fillings.i)\n",
    "# df_fillings.head()"
   ]
  },
  {
   "cell_type": "code",
   "execution_count": 25,
   "metadata": {},
   "outputs": [
    {
     "name": "stderr",
     "output_type": "stream",
     "text": [
      "/usr/local/anaconda3/lib/python3.6/site-packages/ipykernel_launcher.py:2: SettingWithCopyWarning: \n",
      "A value is trying to be set on a copy of a slice from a DataFrame.\n",
      "Try using .loc[row_indexer,col_indexer] = value instead\n",
      "\n",
      "See the caveats in the documentation: http://pandas.pydata.org/pandas-docs/stable/indexing.html#indexing-view-versus-copy\n",
      "  \n"
     ]
    }
   ],
   "source": [
    "# add column with number of surfaces restored during procedure\n",
    "df_fillings['num_restored_surfaces'] = df_fillings.m + df_fillings.o + df_fillings.d \\\n",
    "                                       + df_fillings.b + df_fillings.l + df_fillings.f + df_fillings.i"
   ]
  },
  {
   "cell_type": "code",
   "execution_count": 26,
   "metadata": {},
   "outputs": [
    {
     "name": "stderr",
     "output_type": "stream",
     "text": [
      "/usr/local/anaconda3/lib/python3.6/site-packages/pandas/core/generic.py:4405: SettingWithCopyWarning: \n",
      "A value is trying to be set on a copy of a slice from a DataFrame.\n",
      "Try using .loc[row_indexer,col_indexer] = value instead\n",
      "\n",
      "See the caveats in the documentation: http://pandas.pydata.org/pandas-docs/stable/indexing.html#indexing-view-versus-copy\n",
      "  self[name] = value\n"
     ]
    },
    {
     "data": {
      "text/html": [
       "<div>\n",
       "<style scoped>\n",
       "    .dataframe tbody tr th:only-of-type {\n",
       "        vertical-align: middle;\n",
       "    }\n",
       "\n",
       "    .dataframe tbody tr th {\n",
       "        vertical-align: top;\n",
       "    }\n",
       "\n",
       "    .dataframe thead th {\n",
       "        text-align: right;\n",
       "    }\n",
       "</style>\n",
       "<table border=\"1\" class=\"dataframe\">\n",
       "  <thead>\n",
       "    <tr style=\"text-align: right;\">\n",
       "      <th></th>\n",
       "      <th>tooth_id</th>\n",
       "      <th>tooth_num</th>\n",
       "      <th>ada_code</th>\n",
       "      <th>event_name</th>\n",
       "      <th>m</th>\n",
       "      <th>o</th>\n",
       "      <th>d</th>\n",
       "      <th>b</th>\n",
       "      <th>l</th>\n",
       "      <th>f</th>\n",
       "      <th>i</th>\n",
       "      <th>num_restored_surfaces</th>\n",
       "    </tr>\n",
       "  </thead>\n",
       "  <tbody>\n",
       "    <tr>\n",
       "      <th>10</th>\n",
       "      <td>A_1_1_155_15</td>\n",
       "      <td>15</td>\n",
       "      <td>D2150</td>\n",
       "      <td>amalgam filling restoration procedure</td>\n",
       "      <td>1.0</td>\n",
       "      <td>1.0</td>\n",
       "      <td>0.0</td>\n",
       "      <td>0.0</td>\n",
       "      <td>0.0</td>\n",
       "      <td>0.0</td>\n",
       "      <td>0.0</td>\n",
       "      <td>2.0</td>\n",
       "    </tr>\n",
       "    <tr>\n",
       "      <th>14</th>\n",
       "      <td>A_1_1_155_31</td>\n",
       "      <td>31</td>\n",
       "      <td>D2391</td>\n",
       "      <td>resin filling restoration procedure</td>\n",
       "      <td>0.0</td>\n",
       "      <td>1.0</td>\n",
       "      <td>0.0</td>\n",
       "      <td>0.0</td>\n",
       "      <td>0.0</td>\n",
       "      <td>0.0</td>\n",
       "      <td>0.0</td>\n",
       "      <td>1.0</td>\n",
       "    </tr>\n",
       "    <tr>\n",
       "      <th>18</th>\n",
       "      <td>A_1_1_155_30</td>\n",
       "      <td>30</td>\n",
       "      <td>D2391</td>\n",
       "      <td>resin filling restoration procedure</td>\n",
       "      <td>0.0</td>\n",
       "      <td>1.0</td>\n",
       "      <td>0.0</td>\n",
       "      <td>0.0</td>\n",
       "      <td>0.0</td>\n",
       "      <td>0.0</td>\n",
       "      <td>0.0</td>\n",
       "      <td>1.0</td>\n",
       "    </tr>\n",
       "    <tr>\n",
       "      <th>26</th>\n",
       "      <td>A_1_1_155_20</td>\n",
       "      <td>20</td>\n",
       "      <td>D2150</td>\n",
       "      <td>amalgam filling restoration procedure</td>\n",
       "      <td>0.0</td>\n",
       "      <td>1.0</td>\n",
       "      <td>1.0</td>\n",
       "      <td>0.0</td>\n",
       "      <td>0.0</td>\n",
       "      <td>0.0</td>\n",
       "      <td>0.0</td>\n",
       "      <td>2.0</td>\n",
       "    </tr>\n",
       "    <tr>\n",
       "      <th>27</th>\n",
       "      <td>A_1_1_155_8</td>\n",
       "      <td>8</td>\n",
       "      <td>D2330</td>\n",
       "      <td>resin filling restoration procedure</td>\n",
       "      <td>0.0</td>\n",
       "      <td>0.0</td>\n",
       "      <td>0.0</td>\n",
       "      <td>0.0</td>\n",
       "      <td>0.0</td>\n",
       "      <td>0.0</td>\n",
       "      <td>1.0</td>\n",
       "      <td>1.0</td>\n",
       "    </tr>\n",
       "  </tbody>\n",
       "</table>\n",
       "</div>"
      ],
      "text/plain": [
       "        tooth_id tooth_num ada_code                             event_name  \\\n",
       "10  A_1_1_155_15        15    D2150  amalgam filling restoration procedure   \n",
       "14  A_1_1_155_31        31    D2391    resin filling restoration procedure   \n",
       "18  A_1_1_155_30        30    D2391    resin filling restoration procedure   \n",
       "26  A_1_1_155_20        20    D2150  amalgam filling restoration procedure   \n",
       "27   A_1_1_155_8         8    D2330    resin filling restoration procedure   \n",
       "\n",
       "      m    o    d    b    l    f    i  num_restored_surfaces  \n",
       "10  1.0  1.0  0.0  0.0  0.0  0.0  0.0                    2.0  \n",
       "14  0.0  1.0  0.0  0.0  0.0  0.0  0.0                    1.0  \n",
       "18  0.0  1.0  0.0  0.0  0.0  0.0  0.0                    1.0  \n",
       "26  0.0  1.0  1.0  0.0  0.0  0.0  0.0                    2.0  \n",
       "27  0.0  0.0  0.0  0.0  0.0  0.0  1.0                    1.0  "
      ]
     },
     "execution_count": 26,
     "metadata": {},
     "output_type": "execute_result"
    }
   ],
   "source": [
    "df_fillings.num_restored_surfaces = pds.to_numeric(df_fillings.num_restored_surfaces)\n",
    "df_fillings = df_fillings[df_fillings.num_restored_surfaces > 0]\n",
    "df_fillings.head()"
   ]
  },
  {
   "cell_type": "code",
   "execution_count": 27,
   "metadata": {},
   "outputs": [],
   "source": [
    "# df_fillings.head()"
   ]
  },
  {
   "cell_type": "code",
   "execution_count": 28,
   "metadata": {},
   "outputs": [],
   "source": [
    "# find number of procedures per tooth\n",
    "# tooth_counts = pds.DataFrame(df_fillings.groupby('tooth_num')['tooth_num'].count())\n",
    "tooth_counts = df_fillings.groupby('tooth_num')['tooth_num'].count()\n",
    "# tooth_counts['num_int'] = tooth_counts.\n",
    "tooth_counts.columns = ['count']\n",
    "tooth_counts.index = pds.to_numeric(tooth_counts.index)\n",
    "tooth_counts.sort_index(inplace=True) # sort data by tooth number 1 -> 32\n",
    "# tooth_counts"
   ]
  },
  {
   "cell_type": "code",
   "execution_count": 29,
   "metadata": {},
   "outputs": [
    {
     "data": {
      "image/png": "[encoded data removed]",
      "text/plain": [
       "<Figure size 1080x720 with 1 Axes>"
      ]
     },
     "metadata": {},
     "output_type": "display_data"
    }
   ],
   "source": [
    "%matplotlib inline\n",
    "# draw bar chart showing the number of procedures performed on each tooth (number)\n",
    "ax = tooth_counts.plot.bar(figsize=(15,10)) \n",
    "\n",
    "# rotate the ticks on the x axis\n",
    "plt.xticks(rotation=0)\n",
    "\n",
    "# configure labels\n",
    "# note the use of '\\n' to create space between ticks and labels\n",
    "ax.set_xlabel(\"\\nTooth Number\", fontsize=15)\n",
    "ax.set_ylabel(\"Procedure Count\\n\", fontsize=15)\n",
    "ax.tick_params(labelsize='large')\n",
    "\n",
    "plt.show()"
   ]
  },
  {
   "cell_type": "code",
   "execution_count": 148,
   "metadata": {},
   "outputs": [
    {
     "data": {
      "text/html": [
       "<div>\n",
       "<style scoped>\n",
       "    .dataframe tbody tr th:only-of-type {\n",
       "        vertical-align: middle;\n",
       "    }\n",
       "\n",
       "    .dataframe tbody tr th {\n",
       "        vertical-align: top;\n",
       "    }\n",
       "\n",
       "    .dataframe thead th {\n",
       "        text-align: right;\n",
       "    }\n",
       "</style>\n",
       "<table border=\"1\" class=\"dataframe\">\n",
       "  <thead>\n",
       "    <tr style=\"text-align: right;\">\n",
       "      <th></th>\n",
       "      <th>tooth_id</th>\n",
       "      <th>tooth_num</th>\n",
       "      <th>extract_date</th>\n",
       "    </tr>\n",
       "  </thead>\n",
       "  <tbody>\n",
       "    <tr>\n",
       "      <th>0</th>\n",
       "      <td>A_1_1_155_19</td>\n",
       "      <td>19</td>\n",
       "      <td>2010-04-25</td>\n",
       "    </tr>\n",
       "    <tr>\n",
       "      <th>2</th>\n",
       "      <td>A_1_1_155_18</td>\n",
       "      <td>18</td>\n",
       "      <td>2004-11-09</td>\n",
       "    </tr>\n",
       "    <tr>\n",
       "      <th>4</th>\n",
       "      <td>A_1_1_155_10</td>\n",
       "      <td>10</td>\n",
       "      <td>2001-03-12</td>\n",
       "    </tr>\n",
       "    <tr>\n",
       "      <th>8</th>\n",
       "      <td>A_1_1_155_15</td>\n",
       "      <td>15</td>\n",
       "      <td>2010-10-02</td>\n",
       "    </tr>\n",
       "    <tr>\n",
       "      <th>11</th>\n",
       "      <td>A_1_1_155_29</td>\n",
       "      <td>29</td>\n",
       "      <td>2009-06-27</td>\n",
       "    </tr>\n",
       "  </tbody>\n",
       "</table>\n",
       "</div>"
      ],
      "text/plain": [
       "        tooth_id  tooth_num extract_date\n",
       "0   A_1_1_155_19         19   2010-04-25\n",
       "2   A_1_1_155_18         18   2004-11-09\n",
       "4   A_1_1_155_10         10   2001-03-12\n",
       "8   A_1_1_155_15         15   2010-10-02\n",
       "11  A_1_1_155_29         29   2009-06-27"
      ]
     },
     "execution_count": 148,
     "metadata": {},
     "output_type": "execute_result"
    }
   ],
   "source": [
    "# build dataframe of teeth that have been extracted\n",
    "# note the use of engine=\"python\"\n",
    "# df_extracted = df_obs[df_obs.extract_date.notnull()]\n",
    "df_extracted = df_obs[~np.isnat(df_obs.extract_date)][['tooth_id','tooth_num','extract_date']]\n",
    "# df_extracted = df_obs[~np.isnat(df_obs.extract_date)][['tooth_id','tooth_num']]\n",
    "df_extracted.tooth_num = pds.to_numeric(df_extracted.tooth_num)\n",
    "df_extracted.drop_duplicates(inplace=True)\n",
    "df_extracted.head()"
   ]
  },
  {
   "cell_type": "code",
   "execution_count": 153,
   "metadata": {},
   "outputs": [
    {
     "data": {
      "text/html": [
       "<div>\n",
       "<style scoped>\n",
       "    .dataframe tbody tr th:only-of-type {\n",
       "        vertical-align: middle;\n",
       "    }\n",
       "\n",
       "    .dataframe tbody tr th {\n",
       "        vertical-align: top;\n",
       "    }\n",
       "\n",
       "    .dataframe thead th {\n",
       "        text-align: right;\n",
       "    }\n",
       "</style>\n",
       "<table border=\"1\" class=\"dataframe\">\n",
       "  <thead>\n",
       "    <tr style=\"text-align: right;\">\n",
       "      <th></th>\n",
       "      <th>tooth_num</th>\n",
       "      <th>tooth_id</th>\n",
       "      <th>extract_date</th>\n",
       "    </tr>\n",
       "  </thead>\n",
       "  <tbody>\n",
       "    <tr>\n",
       "      <th>0</th>\n",
       "      <td>1</td>\n",
       "      <td>A_1_1_1_1</td>\n",
       "      <td>2003-05-16T00:00:00</td>\n",
       "    </tr>\n",
       "    <tr>\n",
       "      <th>1</th>\n",
       "      <td>1</td>\n",
       "      <td>A_1_1_2946_1</td>\n",
       "      <td>2012-01-30T00:00:00</td>\n",
       "    </tr>\n",
       "    <tr>\n",
       "      <th>2</th>\n",
       "      <td>1</td>\n",
       "      <td>A_1_1_149_1</td>\n",
       "      <td>2015-01-06T00:00:00</td>\n",
       "    </tr>\n",
       "    <tr>\n",
       "      <th>3</th>\n",
       "      <td>1</td>\n",
       "      <td>A_1_1_3046_1</td>\n",
       "      <td>2014-11-26T00:00:00</td>\n",
       "    </tr>\n",
       "    <tr>\n",
       "      <th>4</th>\n",
       "      <td>1</td>\n",
       "      <td>A_1_1_3302_1</td>\n",
       "      <td>2010-08-30T00:00:00</td>\n",
       "    </tr>\n",
       "  </tbody>\n",
       "</table>\n",
       "</div>"
      ],
      "text/plain": [
       "   tooth_num      tooth_id         extract_date\n",
       "0          1     A_1_1_1_1  2003-05-16T00:00:00\n",
       "1          1  A_1_1_2946_1  2012-01-30T00:00:00\n",
       "2          1   A_1_1_149_1  2015-01-06T00:00:00\n",
       "3          1  A_1_1_3046_1  2014-11-26T00:00:00\n",
       "4          1  A_1_1_3302_1  2010-08-30T00:00:00"
      ]
     },
     "execution_count": 153,
     "metadata": {},
     "output_type": "execute_result"
    }
   ],
   "source": [
    "# query results from triplestore\n",
    "df_tooth1 = pds.read_csv('extracted_tooth_1_no_es.csv')\n",
    "df_tooth1.drop_duplicates(inplace=True)\n",
    "df_tooth1.head()"
   ]
  },
  {
   "cell_type": "code",
   "execution_count": 154,
   "metadata": {},
   "outputs": [
    {
     "data": {
      "text/plain": [
       "1    954\n",
       "Name: tooth_num, dtype: int64"
      ]
     },
     "execution_count": 154,
     "metadata": {},
     "output_type": "execute_result"
    }
   ],
   "source": [
    "df_tooth1.tooth_num.value_counts()"
   ]
  },
  {
   "cell_type": "code",
   "execution_count": 165,
   "metadata": {},
   "outputs": [
    {
     "name": "stderr",
     "output_type": "stream",
     "text": [
      "/usr/local/anaconda3/lib/python3.6/site-packages/ipykernel_launcher.py:3: UserWarning: Boolean Series key will be reindexed to match DataFrame index.\n",
      "  This is separate from the ipykernel package so we can avoid doing imports until\n"
     ]
    },
    {
     "data": {
      "text/html": [
       "<div>\n",
       "<style scoped>\n",
       "    .dataframe tbody tr th:only-of-type {\n",
       "        vertical-align: middle;\n",
       "    }\n",
       "\n",
       "    .dataframe tbody tr th {\n",
       "        vertical-align: top;\n",
       "    }\n",
       "\n",
       "    .dataframe thead th {\n",
       "        text-align: right;\n",
       "    }\n",
       "</style>\n",
       "<table border=\"1\" class=\"dataframe\">\n",
       "  <thead>\n",
       "    <tr style=\"text-align: right;\">\n",
       "      <th></th>\n",
       "      <th>tooth_id</th>\n",
       "      <th>tooth_num</th>\n",
       "      <th>extract_date</th>\n",
       "    </tr>\n",
       "  </thead>\n",
       "  <tbody>\n",
       "    <tr>\n",
       "      <th>174</th>\n",
       "      <td>A_1_1_3529_1</td>\n",
       "      <td>1</td>\n",
       "      <td>2011-02-13</td>\n",
       "    </tr>\n",
       "    <tr>\n",
       "      <th>175</th>\n",
       "      <td>A_1_1_3529_1</td>\n",
       "      <td>1</td>\n",
       "      <td>2011-02-13</td>\n",
       "    </tr>\n",
       "    <tr>\n",
       "      <th>275</th>\n",
       "      <td>A_1_1_1_1</td>\n",
       "      <td>1</td>\n",
       "      <td>2008-08-19</td>\n",
       "    </tr>\n",
       "    <tr>\n",
       "      <th>276</th>\n",
       "      <td>A_1_1_1_1</td>\n",
       "      <td>1</td>\n",
       "      <td>2008-08-19</td>\n",
       "    </tr>\n",
       "    <tr>\n",
       "      <th>277</th>\n",
       "      <td>A_1_1_1_1</td>\n",
       "      <td>1</td>\n",
       "      <td>2008-08-19</td>\n",
       "    </tr>\n",
       "  </tbody>\n",
       "</table>\n",
       "</div>"
      ],
      "text/plain": [
       "         tooth_id tooth_num extract_date\n",
       "174  A_1_1_3529_1         1   2011-02-13\n",
       "175  A_1_1_3529_1         1   2011-02-13\n",
       "275     A_1_1_1_1         1   2008-08-19\n",
       "276     A_1_1_1_1         1   2008-08-19\n",
       "277     A_1_1_1_1         1   2008-08-19"
      ]
     },
     "execution_count": 165,
     "metadata": {},
     "output_type": "execute_result"
    }
   ],
   "source": [
    "# extract = df_obs[df_obs.tooth_id.isin(df_tooth1.tooth_id)][['tooth_id','tooth_num', 'extract_date']]\n",
    "temp = df_obs.query(\"tooth_num == '1'\")\n",
    "extract = temp[df_obs.extract_date.notnull()][['tooth_id','tooth_num', 'extract_date']]\n",
    "extract.drop_duplicates(inplace=True)\n",
    "extract.head()"
   ]
  },
  {
   "cell_type": "code",
   "execution_count": 170,
   "metadata": {},
   "outputs": [
    {
     "data": {
      "text/plain": [
       "1    287\n",
       "Name: tooth_num, dtype: int64"
      ]
     },
     "execution_count": 170,
     "metadata": {},
     "output_type": "execute_result"
    }
   ],
   "source": [
    "extract.tooth_num.value_counts()"
   ]
  },
  {
   "cell_type": "code",
   "execution_count": 169,
   "metadata": {},
   "outputs": [
    {
     "data": {
      "text/plain": [
       "array(['2011-02-13T00:00:00.000000000', '2008-08-19T00:00:00.000000000',\n",
       "       '2014-08-11T00:00:00.000000000', '2015-03-11T00:00:00.000000000',\n",
       "       '2015-05-23T00:00:00.000000000', '2010-10-28T00:00:00.000000000',\n",
       "       '2011-09-19T00:00:00.000000000', '2011-08-20T00:00:00.000000000',\n",
       "       '2008-02-19T00:00:00.000000000', '2015-11-10T00:00:00.000000000',\n",
       "       '2011-06-06T00:00:00.000000000', '2015-08-17T00:00:00.000000000',\n",
       "       '2001-03-18T00:00:00.000000000', '2006-12-02T00:00:00.000000000',\n",
       "       '2005-09-17T00:00:00.000000000', '2001-04-14T00:00:00.000000000',\n",
       "       '2008-06-27T00:00:00.000000000', '2015-06-21T00:00:00.000000000',\n",
       "       '2012-05-24T00:00:00.000000000', '2000-06-05T00:00:00.000000000',\n",
       "       '2006-11-23T00:00:00.000000000', '2007-07-29T00:00:00.000000000',\n",
       "       '2014-07-14T00:00:00.000000000', '2011-09-17T00:00:00.000000000',\n",
       "       '2016-01-17T00:00:00.000000000', '2015-02-18T00:00:00.000000000',\n",
       "       '2012-09-25T00:00:00.000000000', '2013-07-06T00:00:00.000000000',\n",
       "       '2015-10-08T00:00:00.000000000', '2015-12-28T00:00:00.000000000',\n",
       "       '2015-05-21T00:00:00.000000000', '2013-10-03T00:00:00.000000000',\n",
       "       '2013-10-26T00:00:00.000000000', '2011-11-05T00:00:00.000000000',\n",
       "       '2015-04-26T00:00:00.000000000', '2005-03-28T00:00:00.000000000',\n",
       "       '2007-03-24T00:00:00.000000000', '2014-11-24T00:00:00.000000000',\n",
       "       '2011-01-31T00:00:00.000000000', '2012-06-29T00:00:00.000000000',\n",
       "       '2010-03-21T00:00:00.000000000', '2015-11-04T00:00:00.000000000',\n",
       "       '2011-06-13T00:00:00.000000000', '2009-09-06T00:00:00.000000000',\n",
       "       '2012-07-28T00:00:00.000000000', '2015-07-23T00:00:00.000000000',\n",
       "       '2013-11-21T00:00:00.000000000', '2015-03-17T00:00:00.000000000',\n",
       "       '2015-03-09T00:00:00.000000000', '2013-10-12T00:00:00.000000000',\n",
       "       '2011-12-24T00:00:00.000000000', '2008-02-12T00:00:00.000000000',\n",
       "       '2013-06-08T00:00:00.000000000', '2011-09-26T00:00:00.000000000',\n",
       "       '2010-03-19T00:00:00.000000000', '2012-11-26T00:00:00.000000000',\n",
       "       '2011-05-28T00:00:00.000000000', '2011-01-25T00:00:00.000000000',\n",
       "       '2015-05-15T00:00:00.000000000', '2008-11-13T00:00:00.000000000',\n",
       "       '2015-05-11T00:00:00.000000000', '2014-07-15T00:00:00.000000000',\n",
       "       '2016-06-11T00:00:00.000000000', '2010-07-10T00:00:00.000000000',\n",
       "       '2011-01-17T00:00:00.000000000', '2014-07-08T00:00:00.000000000',\n",
       "       '2011-11-14T00:00:00.000000000', '2010-05-08T00:00:00.000000000',\n",
       "       '2005-11-03T00:00:00.000000000', '2011-02-12T00:00:00.000000000',\n",
       "       '2015-02-23T00:00:00.000000000', '2014-11-30T00:00:00.000000000',\n",
       "       '2012-12-02T00:00:00.000000000', '2007-12-17T00:00:00.000000000',\n",
       "       '2003-01-08T00:00:00.000000000', '2010-01-06T00:00:00.000000000',\n",
       "       '2007-06-30T00:00:00.000000000', '2011-01-09T00:00:00.000000000',\n",
       "       '2014-01-20T00:00:00.000000000', '2015-10-22T00:00:00.000000000',\n",
       "       '2003-02-28T00:00:00.000000000', '2004-02-16T00:00:00.000000000',\n",
       "       '2012-02-07T00:00:00.000000000', '2014-06-13T00:00:00.000000000',\n",
       "       '2010-01-25T00:00:00.000000000', '2009-12-15T00:00:00.000000000',\n",
       "       '2009-10-11T00:00:00.000000000', '2012-02-12T00:00:00.000000000',\n",
       "       '2016-02-02T00:00:00.000000000', '2007-10-11T00:00:00.000000000',\n",
       "       '2014-05-23T00:00:00.000000000', '2015-06-22T00:00:00.000000000',\n",
       "       '2011-11-19T00:00:00.000000000', '2008-12-03T00:00:00.000000000',\n",
       "       '2011-12-04T00:00:00.000000000', '2010-09-03T00:00:00.000000000',\n",
       "       '2016-03-22T00:00:00.000000000', '2015-03-14T00:00:00.000000000',\n",
       "       '2013-09-08T00:00:00.000000000', '2014-02-04T00:00:00.000000000',\n",
       "       '2012-02-21T00:00:00.000000000', '2010-01-13T00:00:00.000000000',\n",
       "       '2014-01-15T00:00:00.000000000', '2014-04-05T00:00:00.000000000',\n",
       "       '2014-04-25T00:00:00.000000000', '2014-12-29T00:00:00.000000000',\n",
       "       '2003-05-30T00:00:00.000000000', '2009-04-26T00:00:00.000000000',\n",
       "       '2013-02-05T00:00:00.000000000', '2005-12-19T00:00:00.000000000',\n",
       "       '2013-03-09T00:00:00.000000000', '2015-01-28T00:00:00.000000000',\n",
       "       '2005-11-21T00:00:00.000000000', '2011-02-27T00:00:00.000000000',\n",
       "       '2007-04-16T00:00:00.000000000', '2003-04-12T00:00:00.000000000',\n",
       "       '2013-03-24T00:00:00.000000000', '2001-10-28T00:00:00.000000000',\n",
       "       '2009-11-02T00:00:00.000000000', '2012-09-24T00:00:00.000000000',\n",
       "       '2013-08-23T00:00:00.000000000', '2007-12-21T00:00:00.000000000',\n",
       "       '2005-04-11T00:00:00.000000000', '2011-04-30T00:00:00.000000000',\n",
       "       '2011-07-28T00:00:00.000000000', '2013-01-06T00:00:00.000000000',\n",
       "       '2014-08-19T00:00:00.000000000', '2014-09-09T00:00:00.000000000',\n",
       "       '2006-10-20T00:00:00.000000000', '2015-11-14T00:00:00.000000000',\n",
       "       '2009-01-07T00:00:00.000000000', '1994-02-20T00:00:00.000000000',\n",
       "       '1999-05-21T00:00:00.000000000', '1993-06-26T00:00:00.000000000',\n",
       "       '2011-09-11T00:00:00.000000000', '2012-09-03T00:00:00.000000000',\n",
       "       '2011-05-27T00:00:00.000000000', '2011-08-07T00:00:00.000000000',\n",
       "       '2014-02-03T00:00:00.000000000', '2006-12-12T00:00:00.000000000',\n",
       "       '2005-05-19T00:00:00.000000000', '2015-09-05T00:00:00.000000000',\n",
       "       '2015-12-27T00:00:00.000000000', '2007-08-05T00:00:00.000000000',\n",
       "       '2009-06-09T00:00:00.000000000', '2009-03-24T00:00:00.000000000',\n",
       "       '2014-07-17T00:00:00.000000000', '2000-03-04T00:00:00.000000000',\n",
       "       '2005-09-14T00:00:00.000000000', '2011-09-05T00:00:00.000000000',\n",
       "       '2013-08-31T00:00:00.000000000', '2013-01-13T00:00:00.000000000',\n",
       "       '2008-09-04T00:00:00.000000000', '2013-04-13T00:00:00.000000000',\n",
       "       '2015-04-27T00:00:00.000000000', '2013-02-10T00:00:00.000000000',\n",
       "       '2006-03-27T00:00:00.000000000', '2008-12-14T00:00:00.000000000',\n",
       "       '2007-11-11T00:00:00.000000000', '2015-05-27T00:00:00.000000000',\n",
       "       '2013-07-21T00:00:00.000000000', '2016-05-03T00:00:00.000000000',\n",
       "       '2006-01-09T00:00:00.000000000', '2016-09-25T00:00:00.000000000',\n",
       "       '2010-09-21T00:00:00.000000000', '2014-08-13T00:00:00.000000000',\n",
       "       '2012-12-09T00:00:00.000000000', '2015-01-13T00:00:00.000000000',\n",
       "       '2014-07-22T00:00:00.000000000', '2016-10-15T00:00:00.000000000',\n",
       "       '2013-05-18T00:00:00.000000000', '2013-04-17T00:00:00.000000000',\n",
       "       '2016-08-06T00:00:00.000000000', '2012-02-13T00:00:00.000000000',\n",
       "       '2014-09-21T00:00:00.000000000', '2015-11-01T00:00:00.000000000',\n",
       "       '2010-02-16T00:00:00.000000000', '2014-07-27T00:00:00.000000000',\n",
       "       '2013-04-21T00:00:00.000000000', '2013-03-26T00:00:00.000000000',\n",
       "       '2009-08-02T00:00:00.000000000', '2016-10-25T00:00:00.000000000',\n",
       "       '2008-09-22T00:00:00.000000000', '2009-12-06T00:00:00.000000000',\n",
       "       '2007-09-11T00:00:00.000000000', '2014-10-27T00:00:00.000000000',\n",
       "       '2016-09-20T00:00:00.000000000', '2017-07-10T00:00:00.000000000',\n",
       "       '2004-10-23T00:00:00.000000000', '2013-11-26T00:00:00.000000000',\n",
       "       '2009-01-14T00:00:00.000000000', '2003-07-08T00:00:00.000000000',\n",
       "       '2010-08-03T00:00:00.000000000', '2012-08-13T00:00:00.000000000',\n",
       "       '2017-01-15T00:00:00.000000000', '2007-05-23T00:00:00.000000000',\n",
       "       '2008-03-09T00:00:00.000000000', '2011-02-07T00:00:00.000000000',\n",
       "       '2011-10-03T00:00:00.000000000', '2003-12-31T00:00:00.000000000',\n",
       "       '2007-10-24T00:00:00.000000000', '2015-02-10T00:00:00.000000000',\n",
       "       '2017-04-10T00:00:00.000000000', '2016-03-21T00:00:00.000000000',\n",
       "       '2007-11-14T00:00:00.000000000', '2016-06-08T00:00:00.000000000',\n",
       "       '2008-11-09T00:00:00.000000000', '2015-09-09T00:00:00.000000000',\n",
       "       '2010-05-09T00:00:00.000000000', '2004-10-25T00:00:00.000000000',\n",
       "       '2013-11-11T00:00:00.000000000', '2016-06-27T00:00:00.000000000',\n",
       "       '2005-09-19T00:00:00.000000000', '2010-04-13T00:00:00.000000000',\n",
       "       '2017-03-06T00:00:00.000000000', '2010-10-03T00:00:00.000000000',\n",
       "       '2009-02-18T00:00:00.000000000', '2012-04-15T00:00:00.000000000',\n",
       "       '2010-06-28T00:00:00.000000000', '2006-10-10T00:00:00.000000000',\n",
       "       '2008-10-18T00:00:00.000000000', '2015-01-19T00:00:00.000000000',\n",
       "       '2015-02-02T00:00:00.000000000', '2011-05-01T00:00:00.000000000',\n",
       "       '2004-08-04T00:00:00.000000000', '2016-04-02T00:00:00.000000000',\n",
       "       '2002-12-15T00:00:00.000000000', '2016-04-11T00:00:00.000000000',\n",
       "       '2017-03-13T00:00:00.000000000', '2011-10-24T00:00:00.000000000'],\n",
       "      dtype='datetime64[ns]')"
      ]
     },
     "execution_count": 169,
     "metadata": {},
     "output_type": "execute_result"
    }
   ],
   "source": [
    "extract.extract_date.unique()"
   ]
  },
  {
   "cell_type": "code",
   "execution_count": 160,
   "metadata": {},
   "outputs": [
    {
     "data": {
      "text/plain": [
       "14    2615\n",
       "3     2600\n",
       "30    2597\n",
       "18    2566\n",
       "19    2558\n",
       "31    2439\n",
       "15    2362\n",
       "2     2322\n",
       "4     1791\n",
       "13    1709\n",
       "29    1644\n",
       "20    1643\n",
       "12    1516\n",
       "5     1494\n",
       "8     1261\n",
       "9     1257\n",
       "7     1009\n",
       "10    1002\n",
       "28     972\n",
       "21     955\n",
       "6      927\n",
       "11     891\n",
       "22     537\n",
       "27     535\n",
       "24     467\n",
       "25     459\n",
       "26     354\n",
       "23     345\n",
       "32     292\n",
       "17     291\n",
       "1      236\n",
       "16     201\n",
       "Name: tooth_num, dtype: int64"
      ]
     },
     "execution_count": 160,
     "metadata": {},
     "output_type": "execute_result"
    }
   ],
   "source": [
    "extract2 = extract.drop_duplicates()\n",
    "extract2.tooth_num.value_counts()"
   ]
  },
  {
   "cell_type": "code",
   "execution_count": 142,
   "metadata": {},
   "outputs": [
    {
     "data": {
      "text/plain": [
       "1    953\n",
       "Name: tooth_num, dtype: int64"
      ]
     },
     "execution_count": 142,
     "metadata": {},
     "output_type": "execute_result"
    }
   ],
   "source": [
    "extract3 = extract[['tooth_id','tooth_num']].drop_duplicates()\n",
    "extract3.tooth_num.value_counts()"
   ]
  },
  {
   "cell_type": "code",
   "execution_count": 143,
   "metadata": {},
   "outputs": [
    {
     "data": {
      "text/plain": [
       "array(['2008-08-19T00:00:00.000000000', '2010-10-28T00:00:00.000000000',\n",
       "       '2012-09-25T00:00:00.000000000', '2015-11-04T00:00:00.000000000',\n",
       "       '2015-07-23T00:00:00.000000000', '2008-02-12T00:00:00.000000000',\n",
       "       '2011-09-26T00:00:00.000000000', '2008-11-13T00:00:00.000000000',\n",
       "       '2015-05-11T00:00:00.000000000', '2014-07-15T00:00:00.000000000',\n",
       "       '2016-06-11T00:00:00.000000000', '2014-07-08T00:00:00.000000000',\n",
       "       '2011-11-14T00:00:00.000000000', '2006-12-02T00:00:00.000000000',\n",
       "       '2011-02-12T00:00:00.000000000', '2003-01-08T00:00:00.000000000',\n",
       "       '2007-06-30T00:00:00.000000000', '2011-01-09T00:00:00.000000000',\n",
       "       '2012-02-07T00:00:00.000000000', '2014-05-23T00:00:00.000000000',\n",
       "       '2013-09-08T00:00:00.000000000', '2014-02-04T00:00:00.000000000',\n",
       "       '2014-12-29T00:00:00.000000000', '2009-04-26T00:00:00.000000000',\n",
       "       '2015-05-23T00:00:00.000000000', '2009-11-02T00:00:00.000000000',\n",
       "       '2012-09-24T00:00:00.000000000', '2013-08-23T00:00:00.000000000',\n",
       "       '2015-11-14T00:00:00.000000000', '2012-09-03T00:00:00.000000000',\n",
       "       '2011-08-07T00:00:00.000000000', '2006-12-12T00:00:00.000000000',\n",
       "       '2007-08-05T00:00:00.000000000', '2009-06-09T00:00:00.000000000',\n",
       "       '2009-03-24T00:00:00.000000000', '2014-07-17T00:00:00.000000000',\n",
       "       '2016-10-25T00:00:00.000000000', '2010-08-03T00:00:00.000000000',\n",
       "       '2011-10-03T00:00:00.000000000', '2015-02-10T00:00:00.000000000',\n",
       "       '2016-06-27T00:00:00.000000000', '2015-02-02T00:00:00.000000000',\n",
       "       '2016-04-11T00:00:00.000000000',                           'NaT'],\n",
       "      dtype='datetime64[ns]')"
      ]
     },
     "execution_count": 143,
     "metadata": {},
     "output_type": "execute_result"
    }
   ],
   "source": [
    "extract.extract_date.unique()"
   ]
  },
  {
   "cell_type": "code",
   "execution_count": 146,
   "metadata": {},
   "outputs": [
    {
     "data": {
      "text/plain": [
       "array(['2008-08-19T00:00:00.000000000', '2010-10-28T00:00:00.000000000',\n",
       "       '2012-09-25T00:00:00.000000000', '2015-11-04T00:00:00.000000000',\n",
       "       '2015-07-23T00:00:00.000000000', '2008-02-12T00:00:00.000000000',\n",
       "       '2011-09-26T00:00:00.000000000', '2008-11-13T00:00:00.000000000',\n",
       "       '2015-05-11T00:00:00.000000000', '2014-07-15T00:00:00.000000000',\n",
       "       '2016-06-11T00:00:00.000000000', '2014-07-08T00:00:00.000000000',\n",
       "       '2011-11-14T00:00:00.000000000', '2006-12-02T00:00:00.000000000',\n",
       "       '2011-02-12T00:00:00.000000000', '2003-01-08T00:00:00.000000000',\n",
       "       '2007-06-30T00:00:00.000000000', '2011-01-09T00:00:00.000000000',\n",
       "       '2012-02-07T00:00:00.000000000', '2014-05-23T00:00:00.000000000',\n",
       "       '2013-09-08T00:00:00.000000000', '2014-02-04T00:00:00.000000000',\n",
       "       '2014-12-29T00:00:00.000000000', '2009-04-26T00:00:00.000000000',\n",
       "       '2015-05-23T00:00:00.000000000', '2009-11-02T00:00:00.000000000',\n",
       "       '2012-09-24T00:00:00.000000000', '2013-08-23T00:00:00.000000000',\n",
       "       '2015-11-14T00:00:00.000000000', '2012-09-03T00:00:00.000000000',\n",
       "       '2011-08-07T00:00:00.000000000', '2006-12-12T00:00:00.000000000',\n",
       "       '2007-08-05T00:00:00.000000000', '2009-06-09T00:00:00.000000000',\n",
       "       '2009-03-24T00:00:00.000000000', '2014-07-17T00:00:00.000000000',\n",
       "       '2016-10-25T00:00:00.000000000', '2010-08-03T00:00:00.000000000',\n",
       "       '2011-10-03T00:00:00.000000000', '2015-02-10T00:00:00.000000000',\n",
       "       '2016-06-27T00:00:00.000000000', '2015-02-02T00:00:00.000000000',\n",
       "       '2016-04-11T00:00:00.000000000'], dtype='datetime64[ns]')"
      ]
     },
     "execution_count": 146,
     "metadata": {},
     "output_type": "execute_result"
    }
   ],
   "source": [
    "extract[extract.extract_date.notnull()]['extract_date'].unique()"
   ]
  },
  {
   "cell_type": "code",
   "execution_count": 152,
   "metadata": {},
   "outputs": [
    {
     "data": {
      "text/plain": [
       "14    2615\n",
       "3     2600\n",
       "30    2597\n",
       "18    2566\n",
       "19    2558\n",
       "31    2439\n",
       "15    2362\n",
       "2     2322\n",
       "4     1791\n",
       "13    1709\n",
       "29    1644\n",
       "20    1643\n",
       "12    1516\n",
       "5     1494\n",
       "8     1261\n",
       "9     1257\n",
       "7     1009\n",
       "10    1002\n",
       "28     972\n",
       "21     955\n",
       "6      927\n",
       "11     891\n",
       "22     537\n",
       "27     535\n",
       "24     467\n",
       "25     459\n",
       "26     354\n",
       "23     345\n",
       "32     292\n",
       "17     291\n",
       "16     201\n",
       "1      193\n",
       "Name: tooth_num, dtype: int64"
      ]
     },
     "execution_count": 152,
     "metadata": {},
     "output_type": "execute_result"
    }
   ],
   "source": [
    "temp = df_extracted[~df_extracted.tooth_id.isin(extract.tooth_id)]\n",
    "temp\n",
    "temp.tooth_num.value_counts()"
   ]
  },
  {
   "cell_type": "code",
   "execution_count": 31,
   "metadata": {},
   "outputs": [
    {
     "data": {
      "text/html": [
       "<div>\n",
       "<style scoped>\n",
       "    .dataframe tbody tr th:only-of-type {\n",
       "        vertical-align: middle;\n",
       "    }\n",
       "\n",
       "    .dataframe tbody tr th {\n",
       "        vertical-align: top;\n",
       "    }\n",
       "\n",
       "    .dataframe thead th {\n",
       "        text-align: right;\n",
       "    }\n",
       "</style>\n",
       "<table border=\"1\" class=\"dataframe\">\n",
       "  <thead>\n",
       "    <tr style=\"text-align: right;\">\n",
       "      <th></th>\n",
       "      <th>tooth_id</th>\n",
       "    </tr>\n",
       "    <tr>\n",
       "      <th>tooth_num</th>\n",
       "      <th></th>\n",
       "    </tr>\n",
       "  </thead>\n",
       "  <tbody>\n",
       "    <tr>\n",
       "      <th>1</th>\n",
       "      <td>231</td>\n",
       "    </tr>\n",
       "    <tr>\n",
       "      <th>2</th>\n",
       "      <td>2288</td>\n",
       "    </tr>\n",
       "    <tr>\n",
       "      <th>3</th>\n",
       "      <td>2574</td>\n",
       "    </tr>\n",
       "    <tr>\n",
       "      <th>4</th>\n",
       "      <td>1764</td>\n",
       "    </tr>\n",
       "    <tr>\n",
       "      <th>5</th>\n",
       "      <td>1477</td>\n",
       "    </tr>\n",
       "    <tr>\n",
       "      <th>6</th>\n",
       "      <td>907</td>\n",
       "    </tr>\n",
       "    <tr>\n",
       "      <th>7</th>\n",
       "      <td>993</td>\n",
       "    </tr>\n",
       "    <tr>\n",
       "      <th>8</th>\n",
       "      <td>1243</td>\n",
       "    </tr>\n",
       "    <tr>\n",
       "      <th>9</th>\n",
       "      <td>1239</td>\n",
       "    </tr>\n",
       "    <tr>\n",
       "      <th>10</th>\n",
       "      <td>984</td>\n",
       "    </tr>\n",
       "    <tr>\n",
       "      <th>11</th>\n",
       "      <td>880</td>\n",
       "    </tr>\n",
       "    <tr>\n",
       "      <th>12</th>\n",
       "      <td>1492</td>\n",
       "    </tr>\n",
       "    <tr>\n",
       "      <th>13</th>\n",
       "      <td>1687</td>\n",
       "    </tr>\n",
       "    <tr>\n",
       "      <th>14</th>\n",
       "      <td>2599</td>\n",
       "    </tr>\n",
       "    <tr>\n",
       "      <th>15</th>\n",
       "      <td>2338</td>\n",
       "    </tr>\n",
       "    <tr>\n",
       "      <th>16</th>\n",
       "      <td>194</td>\n",
       "    </tr>\n",
       "    <tr>\n",
       "      <th>17</th>\n",
       "      <td>285</td>\n",
       "    </tr>\n",
       "    <tr>\n",
       "      <th>18</th>\n",
       "      <td>2541</td>\n",
       "    </tr>\n",
       "    <tr>\n",
       "      <th>19</th>\n",
       "      <td>2525</td>\n",
       "    </tr>\n",
       "    <tr>\n",
       "      <th>20</th>\n",
       "      <td>1625</td>\n",
       "    </tr>\n",
       "    <tr>\n",
       "      <th>21</th>\n",
       "      <td>946</td>\n",
       "    </tr>\n",
       "    <tr>\n",
       "      <th>22</th>\n",
       "      <td>530</td>\n",
       "    </tr>\n",
       "    <tr>\n",
       "      <th>23</th>\n",
       "      <td>340</td>\n",
       "    </tr>\n",
       "    <tr>\n",
       "      <th>24</th>\n",
       "      <td>464</td>\n",
       "    </tr>\n",
       "    <tr>\n",
       "      <th>25</th>\n",
       "      <td>452</td>\n",
       "    </tr>\n",
       "    <tr>\n",
       "      <th>26</th>\n",
       "      <td>352</td>\n",
       "    </tr>\n",
       "    <tr>\n",
       "      <th>27</th>\n",
       "      <td>528</td>\n",
       "    </tr>\n",
       "    <tr>\n",
       "      <th>28</th>\n",
       "      <td>959</td>\n",
       "    </tr>\n",
       "    <tr>\n",
       "      <th>29</th>\n",
       "      <td>1630</td>\n",
       "    </tr>\n",
       "    <tr>\n",
       "      <th>30</th>\n",
       "      <td>2568</td>\n",
       "    </tr>\n",
       "    <tr>\n",
       "      <th>31</th>\n",
       "      <td>2412</td>\n",
       "    </tr>\n",
       "    <tr>\n",
       "      <th>32</th>\n",
       "      <td>284</td>\n",
       "    </tr>\n",
       "  </tbody>\n",
       "</table>\n",
       "</div>"
      ],
      "text/plain": [
       "           tooth_id\n",
       "tooth_num          \n",
       "1               231\n",
       "2              2288\n",
       "3              2574\n",
       "4              1764\n",
       "5              1477\n",
       "6               907\n",
       "7               993\n",
       "8              1243\n",
       "9              1239\n",
       "10              984\n",
       "11              880\n",
       "12             1492\n",
       "13             1687\n",
       "14             2599\n",
       "15             2338\n",
       "16              194\n",
       "17              285\n",
       "18             2541\n",
       "19             2525\n",
       "20             1625\n",
       "21              946\n",
       "22              530\n",
       "23              340\n",
       "24              464\n",
       "25              452\n",
       "26              352\n",
       "27              528\n",
       "28              959\n",
       "29             1630\n",
       "30             2568\n",
       "31             2412\n",
       "32              284"
      ]
     },
     "execution_count": 31,
     "metadata": {},
     "output_type": "execute_result"
    }
   ],
   "source": [
    "tooth_counts = df_extracted.groupby('tooth_num').count()\n",
    "tooth_counts"
   ]
  },
  {
   "cell_type": "code",
   "execution_count": 32,
   "metadata": {},
   "outputs": [
    {
     "data": {
      "image/png": "[encoded data removed]",
      "text/plain": [
       "<Figure size 1080x720 with 1 Axes>"
      ]
     },
     "metadata": {},
     "output_type": "display_data"
    }
   ],
   "source": [
    "# plot extracted teeth according to tooth number\n",
    "ax = tooth_counts.plot.bar(figsize=(15,10)) \n",
    "\n",
    "# rotate the ticks on the x axis\n",
    "plt.xticks(rotation=0)\n",
    "\n",
    "# configure labels\n",
    "# note the use of '\\n' to create space between ticks and labels\n",
    "ax.set_xlabel(\"\\nTooth Number\", fontsize=15)\n",
    "ax.set_ylabel(\"Extracted Count\\n\", fontsize=15)\n",
    "ax.tick_params(labelsize='large')\n",
    "\n",
    "plt.show()"
   ]
  },
  {
   "cell_type": "code",
   "execution_count": null,
   "metadata": {},
   "outputs": [],
   "source": []
  },
  {
   "cell_type": "code",
   "execution_count": null,
   "metadata": {},
   "outputs": [],
   "source": []
  },
  {
   "cell_type": "code",
   "execution_count": null,
   "metadata": {},
   "outputs": [],
   "source": []
  },
  {
   "cell_type": "code",
   "execution_count": null,
   "metadata": {},
   "outputs": [],
   "source": []
  },
  {
   "cell_type": "code",
   "execution_count": 33,
   "metadata": {},
   "outputs": [
    {
     "name": "stderr",
     "output_type": "stream",
     "text": [
      "/usr/local/anaconda3/lib/python3.6/site-packages/pandas/core/generic.py:4405: SettingWithCopyWarning: \n",
      "A value is trying to be set on a copy of a slice from a DataFrame.\n",
      "Try using .loc[row_indexer,col_indexer] = value instead\n",
      "\n",
      "See the caveats in the documentation: http://pandas.pydata.org/pandas-docs/stable/indexing.html#indexing-view-versus-copy\n",
      "  self[name] = value\n"
     ]
    }
   ],
   "source": [
    "# build dataframe of teeth that have been found missing\n",
    "# note the use of engine=\"python\"\n",
    "df_missing = df_obs[df_obs.missing_date.notnull()]\n",
    "df_missing.tooth_num = pds.to_numeric(df_extracted.tooth_num)\n"
   ]
  },
  {
   "cell_type": "code",
   "execution_count": 34,
   "metadata": {},
   "outputs": [],
   "source": [
    "tooth_counts =df_missing.groupby('tooth_num').size()\n",
    "# tooth_counts"
   ]
  },
  {
   "cell_type": "code",
   "execution_count": 35,
   "metadata": {},
   "outputs": [
    {
     "data": {
      "image/png": "[encoded data removed]",
      "text/plain": [
       "<Figure size 1080x720 with 1 Axes>"
      ]
     },
     "metadata": {},
     "output_type": "display_data"
    }
   ],
   "source": [
    "# plot missing teeth according to tooth number\n",
    "ax = tooth_counts.plot.bar(figsize=(15,10)) \n",
    "\n",
    "# rotate the ticks on the x axis\n",
    "plt.xticks(rotation=0)\n",
    "\n",
    "# configure labels\n",
    "# note the use of '\\n' to create space between ticks and labels\n",
    "ax.set_xlabel(\"\\nTooth Number\", fontsize=15)\n",
    "ax.set_ylabel(\"Missing Count\\n\", fontsize=15)\n",
    "ax.tick_params(labelsize='large')\n",
    "\n",
    "plt.show()"
   ]
  },
  {
   "cell_type": "code",
   "execution_count": null,
   "metadata": {},
   "outputs": [],
   "source": []
  },
  {
   "cell_type": "code",
   "execution_count": 36,
   "metadata": {},
   "outputs": [],
   "source": [
    "def missing_flag_by_row(row):\n",
    "    if pds.notnull(row['extract_date']) or pds.notnull(row['missing_date']):\n",
    "        return 1\n",
    "    else:\n",
    "        return 0\n",
    "\n",
    "def pcr_flag_by_row(row):\n",
    "    if pds.notnull(row['extract_date']) or pds.notnull(row['missing_date']):\n",
    "        return 1\n",
    "    else:\n",
    "        return 0\n",
    "\n",
    "def pcr_flag_by_columns(extract_date, missing_date):\n",
    "    if pds.notnull(extract_date) or pds.notnull(missing_date):\n",
    "        return 1\n",
    "    else:\n",
    "        return 0\n",
    "\n",
    "def pcr_flag_by_df(df):\n",
    "    if pds.notnull(df.extract_date) or pds.notnull(df.missing_date):\n",
    "        df['PCR_flag'] = 1\n",
    "    else:\n",
    "        df['PCR_flag'] = 0\n",
    "\n",
    "# temp = df_obs.iloc[:100000, :]\n",
    "temp = df_obs\n",
    "temp['missing_flag'] = temp.apply(missing_flag_by_row, axis=1)\n",
    "\n",
    "df_missing = temp[temp.missing_flag == 1]\n",
    "# temp[['extract_date', 'missing_date', 'missing_flag']][temp.missing_flag == 0].head()"
   ]
  },
  {
   "cell_type": "code",
   "execution_count": 37,
   "metadata": {},
   "outputs": [
    {
     "data": {
      "text/html": [
       "<div>\n",
       "<style scoped>\n",
       "    .dataframe tbody tr th:only-of-type {\n",
       "        vertical-align: middle;\n",
       "    }\n",
       "\n",
       "    .dataframe tbody tr th {\n",
       "        vertical-align: top;\n",
       "    }\n",
       "\n",
       "    .dataframe thead th {\n",
       "        text-align: right;\n",
       "    }\n",
       "</style>\n",
       "<table border=\"1\" class=\"dataframe\">\n",
       "  <thead>\n",
       "    <tr style=\"text-align: right;\">\n",
       "      <th></th>\n",
       "      <th>practice</th>\n",
       "      <th>patient_id</th>\n",
       "      <th>gender</th>\n",
       "      <th>dob</th>\n",
       "      <th>first_visit</th>\n",
       "      <th>last_visit</th>\n",
       "      <th>tooth_id</th>\n",
       "      <th>tooth_num</th>\n",
       "      <th>first_PCR</th>\n",
       "      <th>first_RCT</th>\n",
       "      <th>...</th>\n",
       "      <th>ada_code</th>\n",
       "      <th>m</th>\n",
       "      <th>o</th>\n",
       "      <th>d</th>\n",
       "      <th>b</th>\n",
       "      <th>l</th>\n",
       "      <th>f</th>\n",
       "      <th>i</th>\n",
       "      <th>patient_age</th>\n",
       "      <th>missing_flag</th>\n",
       "    </tr>\n",
       "  </thead>\n",
       "  <tbody>\n",
       "  </tbody>\n",
       "</table>\n",
       "<p>0 rows × 25 columns</p>\n",
       "</div>"
      ],
      "text/plain": [
       "Empty DataFrame\n",
       "Columns: [practice, patient_id, gender, dob, first_visit, last_visit, tooth_id, tooth_num, first_PCR, first_RCT, extract_date, missing_date, event_id, event_name, event_date, ada_code, m, o, d, b, l, f, i, patient_age, missing_flag]\n",
       "Index: []\n",
       "\n",
       "[0 rows x 25 columns]"
      ]
     },
     "execution_count": 37,
     "metadata": {},
     "output_type": "execute_result"
    }
   ],
   "source": [
    "df_missing[df_missing.missing_flag == 0].head() # should be none ..."
   ]
  },
  {
   "cell_type": "code",
   "execution_count": null,
   "metadata": {},
   "outputs": [],
   "source": []
  },
  {
   "cell_type": "code",
   "execution_count": null,
   "metadata": {},
   "outputs": [],
   "source": []
  },
  {
   "cell_type": "code",
   "execution_count": 38,
   "metadata": {},
   "outputs": [],
   "source": [
    "# create dataframe of only suface info\n",
    "df_surfaces = df_fillings[['m', 'o', 'd', 'b', 'l', 'f', 'i', 'num_restored_surfaces']]\n",
    "\n",
    "# df_surfaces.head()"
   ]
  },
  {
   "cell_type": "code",
   "execution_count": 39,
   "metadata": {},
   "outputs": [],
   "source": [
    "# calc number of surfaces restored for each surface\n",
    "# note we are ignoring the number of restored surfaces (for now)\n",
    "surface_counts = df_surfaces[['m', 'o', 'd', 'b', 'l', 'f', 'i']].apply(sum)\n",
    "\n",
    "# surface_counts"
   ]
  },
  {
   "cell_type": "code",
   "execution_count": 40,
   "metadata": {},
   "outputs": [
    {
     "data": {
      "image/png": "[encoded data removed]",
      "text/plain": [
       "<Figure size 720x360 with 1 Axes>"
      ]
     },
     "metadata": {},
     "output_type": "display_data"
    }
   ],
   "source": [
    "# create bar chart (flipped on its side) to show number of restorations per service\n",
    "ax = surface_counts.plot.barh(figsize=(10,5))\n",
    "\n",
    "# configure labels\n",
    "ax.set_xlabel(\"\\nSurface Restored Count\", fontsize=15)\n",
    "ax.set_ylabel(\"Tooth Surface\\n\", fontsize=15)\n",
    "ax.tick_params(labelsize='x-large')\n",
    "\n",
    "plt.show()"
   ]
  },
  {
   "cell_type": "code",
   "execution_count": 41,
   "metadata": {},
   "outputs": [],
   "source": [
    "# calc number of surfaces restored on a tooth for each procedure (i.e., number of surfaces filled during procedure)\n",
    "temp = pds.DataFrame(df_fillings[['tooth_num', 'num_restored_surfaces']]\\\n",
    "                        .groupby(['num_restored_surfaces', 'tooth_num']).size())\n",
    "\n",
    "# temp.head()"
   ]
  },
  {
   "cell_type": "code",
   "execution_count": 42,
   "metadata": {},
   "outputs": [],
   "source": [
    "# note the use of fill_values for NaN\n",
    "restored_surface_counts = temp.unstack('num_restored_surfaces', fill_value=0)\n",
    "restored_surface_counts.columns = ['1', '2', '3', '4', '5', '6']\n",
    "\n",
    "# restored_surface_counts"
   ]
  },
  {
   "cell_type": "code",
   "execution_count": 43,
   "metadata": {},
   "outputs": [],
   "source": [
    "# do some checks\n",
    "# df_fillings.query('tooth_num == 32 and num_restored_surfaces == 5')['num_restored_surfaces'].count() # matches\n",
    "# df_fillings.query('tooth_num == 30 and num_restored_surfaces == 5')['num_restored_surfaces'].count() # matches\n",
    "# df_fillings.query('tooth_num == 20 and num_restored_surfaces == 2')['num_restored_surfaces'].count() # matches"
   ]
  },
  {
   "cell_type": "code",
   "execution_count": 44,
   "metadata": {},
   "outputs": [],
   "source": [
    "# make simple plot of counts\n",
    "# first do a check, and note that there are only 3 restorations of 6 surfaces (which seems not possible)\n",
    "# the heatmap also reflects this ...\n",
    "counts_per_surface = pds.DataFrame(restored_surface_counts.apply(sum))\n",
    "\n",
    "# set index and column name\n",
    "counts_per_surface.index.name = 'num_surfaces_restored'\n",
    "counts_per_surface.columns = ['count']\n",
    "\n",
    "# counts_per_surface"
   ]
  },
  {
   "cell_type": "code",
   "execution_count": 45,
   "metadata": {},
   "outputs": [
    {
     "data": {
      "image/png": "[encoded data removed]",
      "text/plain": [
       "<Figure size 720x360 with 1 Axes>"
      ]
     },
     "metadata": {},
     "output_type": "display_data"
    }
   ],
   "source": [
    "ax = counts_per_surface.plot.bar(figsize=(10,5), color='green', legend=False)\n",
    "\n",
    "# configure X and Y labels\n",
    "ax.set_xlabel(\"\\nNumber of Surfaces Restored\", fontsize=20)\n",
    "ax.set_ylabel(\"Procedure Count\\n\", fontsize=20)\n",
    "ax.tick_params(labelsize='xx-large')\n",
    "\n",
    "# rotate the ticks on the x axis\n",
    "plt.xticks(rotation=0)\n",
    "\n",
    "plt.show()"
   ]
  },
  {
   "cell_type": "code",
   "execution_count": 46,
   "metadata": {},
   "outputs": [
    {
     "data": {
      "image/png": "[encoded data removed]",
      "text/plain": [
       "<Figure size 1440x2160 with 2 Axes>"
      ]
     },
     "metadata": {},
     "output_type": "display_data"
    }
   ],
   "source": [
    "plt.figure(figsize = (20,30)) # this sets width and height of the figure\n",
    "\n",
    "# fmt='d' means annotations are digits, annot_kws={\"size\":15} sets the size of the annotation font\n",
    "ax = sns.heatmap(restored_surface_counts, cmap='Spectral_r', linewidths=1.0, annot=True, fmt='d', annot_kws={\"size\":15})\n",
    "\n",
    "# rotate the ticks on the y axis\n",
    "plt.yticks(rotation=0)\n",
    "\n",
    "# configure X and Y labels\n",
    "ax.set_ylabel(\"Tooth Number\\n\", fontsize=25)\n",
    "ax.set_xlabel(\"\\nNumber of Surfaces Restored by Procedure\", fontsize=25)\n",
    "ax.tick_params(labelsize='xx-large')\n",
    "\n",
    "plt.show()"
   ]
  },
  {
   "cell_type": "code",
   "execution_count": 47,
   "metadata": {},
   "outputs": [],
   "source": [
    "# create a data structures to show a heatmap of teeth and surfaces\n",
    "# build dataframe of tooth and surface info\n",
    "df_tooth_surfaces = df_fillings[['tooth_num', 'm', 'o', 'd', 'b', 'l', 'f', 'i']]\n",
    "\n",
    "# df_tooth_surfaces.head()"
   ]
  },
  {
   "cell_type": "code",
   "execution_count": 48,
   "metadata": {},
   "outputs": [
    {
     "data": {
      "text/html": [
       "<div>\n",
       "<style scoped>\n",
       "    .dataframe tbody tr th:only-of-type {\n",
       "        vertical-align: middle;\n",
       "    }\n",
       "\n",
       "    .dataframe tbody tr th {\n",
       "        vertical-align: top;\n",
       "    }\n",
       "\n",
       "    .dataframe thead th {\n",
       "        text-align: right;\n",
       "    }\n",
       "</style>\n",
       "<table border=\"1\" class=\"dataframe\">\n",
       "  <thead>\n",
       "    <tr style=\"text-align: right;\">\n",
       "      <th></th>\n",
       "      <th>m</th>\n",
       "      <th>o</th>\n",
       "      <th>d</th>\n",
       "      <th>b</th>\n",
       "      <th>l</th>\n",
       "      <th>f</th>\n",
       "      <th>i</th>\n",
       "    </tr>\n",
       "    <tr>\n",
       "      <th>tooth_num</th>\n",
       "      <th></th>\n",
       "      <th></th>\n",
       "      <th></th>\n",
       "      <th></th>\n",
       "      <th></th>\n",
       "      <th></th>\n",
       "      <th></th>\n",
       "    </tr>\n",
       "  </thead>\n",
       "  <tbody>\n",
       "    <tr>\n",
       "      <th>1</th>\n",
       "      <td>1355.0</td>\n",
       "      <td>4597.0</td>\n",
       "      <td>590.0</td>\n",
       "      <td>426.0</td>\n",
       "      <td>922.0</td>\n",
       "      <td>658.0</td>\n",
       "      <td>1.0</td>\n",
       "    </tr>\n",
       "    <tr>\n",
       "      <th>2</th>\n",
       "      <td>17926.0</td>\n",
       "      <td>60892.0</td>\n",
       "      <td>10355.0</td>\n",
       "      <td>3923.0</td>\n",
       "      <td>21539.0</td>\n",
       "      <td>6259.0</td>\n",
       "      <td>10.0</td>\n",
       "    </tr>\n",
       "    <tr>\n",
       "      <th>3</th>\n",
       "      <td>27209.0</td>\n",
       "      <td>70615.0</td>\n",
       "      <td>17160.0</td>\n",
       "      <td>3053.0</td>\n",
       "      <td>35206.0</td>\n",
       "      <td>5452.0</td>\n",
       "      <td>13.0</td>\n",
       "    </tr>\n",
       "    <tr>\n",
       "      <th>4</th>\n",
       "      <td>20088.0</td>\n",
       "      <td>40423.0</td>\n",
       "      <td>28188.0</td>\n",
       "      <td>2332.0</td>\n",
       "      <td>3027.0</td>\n",
       "      <td>4559.0</td>\n",
       "      <td>14.0</td>\n",
       "    </tr>\n",
       "    <tr>\n",
       "      <th>5</th>\n",
       "      <td>9595.0</td>\n",
       "      <td>31060.0</td>\n",
       "      <td>23833.0</td>\n",
       "      <td>3667.0</td>\n",
       "      <td>2426.0</td>\n",
       "      <td>7715.0</td>\n",
       "      <td>14.0</td>\n",
       "    </tr>\n",
       "  </tbody>\n",
       "</table>\n",
       "</div>"
      ],
      "text/plain": [
       "                 m        o        d       b        l       f     i\n",
       "tooth_num                                                          \n",
       "1           1355.0   4597.0    590.0   426.0    922.0   658.0   1.0\n",
       "2          17926.0  60892.0  10355.0  3923.0  21539.0  6259.0  10.0\n",
       "3          27209.0  70615.0  17160.0  3053.0  35206.0  5452.0  13.0\n",
       "4          20088.0  40423.0  28188.0  2332.0   3027.0  4559.0  14.0\n",
       "5           9595.0  31060.0  23833.0  3667.0   2426.0  7715.0  14.0"
      ]
     },
     "execution_count": 48,
     "metadata": {},
     "output_type": "execute_result"
    }
   ],
   "source": [
    "# for each tooth group, sum the surfaces restored\n",
    "grouped_df = pds.DataFrame(df_tooth_surfaces.groupby('tooth_num').sum())\n",
    "grouped_df.columns = ['m', 'o', 'd', 'b', 'l', 'f', 'i']\n",
    "grouped_df.index = pds.to_numeric(grouped_df.index)\n",
    "grouped_df.sort_index(inplace=True)\n",
    "grouped_df.head()"
   ]
  },
  {
   "cell_type": "code",
   "execution_count": 49,
   "metadata": {},
   "outputs": [
    {
     "ename": "ValueError",
     "evalue": "Unknown format code 'd' for object of type 'float'",
     "output_type": "error",
     "traceback": [
      "\u001b[0;31m---------------------------------------------------------------------------\u001b[0m",
      "\u001b[0;31mValueError\u001b[0m                                Traceback (most recent call last)",
      "\u001b[0;32m<ipython-input-49-8e62928b2b71>\u001b[0m in \u001b[0;36m<module>\u001b[0;34m()\u001b[0m\n\u001b[1;32m      5\u001b[0m \u001b[0;34m\u001b[0m\u001b[0m\n\u001b[1;32m      6\u001b[0m \u001b[0;31m# fmt='d' means annotations are digits\u001b[0m\u001b[0;34m\u001b[0m\u001b[0;34m\u001b[0m\u001b[0m\n\u001b[0;32m----> 7\u001b[0;31m \u001b[0max\u001b[0m \u001b[0;34m=\u001b[0m \u001b[0msns\u001b[0m\u001b[0;34m.\u001b[0m\u001b[0mheatmap\u001b[0m\u001b[0;34m(\u001b[0m\u001b[0mgrouped_df\u001b[0m\u001b[0;34m,\u001b[0m \u001b[0mcmap\u001b[0m\u001b[0;34m=\u001b[0m\u001b[0;34m'Spectral_r'\u001b[0m\u001b[0;34m,\u001b[0m \u001b[0mlinewidths\u001b[0m\u001b[0;34m=\u001b[0m\u001b[0;36m1.0\u001b[0m\u001b[0;34m,\u001b[0m \u001b[0mannot\u001b[0m\u001b[0;34m=\u001b[0m\u001b[0;32mTrue\u001b[0m\u001b[0;34m,\u001b[0m \u001b[0mfmt\u001b[0m\u001b[0;34m=\u001b[0m\u001b[0;34m'd'\u001b[0m\u001b[0;34m,\u001b[0m \u001b[0mannot_kws\u001b[0m\u001b[0;34m=\u001b[0m\u001b[0;34m{\u001b[0m\u001b[0;34m\"size\"\u001b[0m\u001b[0;34m:\u001b[0m\u001b[0;36m15\u001b[0m\u001b[0;34m}\u001b[0m\u001b[0;34m)\u001b[0m\u001b[0;34m\u001b[0m\u001b[0m\n\u001b[0m\u001b[1;32m      8\u001b[0m \u001b[0;34m\u001b[0m\u001b[0m\n\u001b[1;32m      9\u001b[0m \u001b[0;31m# rotate the ticks on the y axis\u001b[0m\u001b[0;34m\u001b[0m\u001b[0;34m\u001b[0m\u001b[0m\n",
      "\u001b[0;32m/usr/local/anaconda3/lib/python3.6/site-packages/seaborn/matrix.py\u001b[0m in \u001b[0;36mheatmap\u001b[0;34m(data, vmin, vmax, cmap, center, robust, annot, fmt, annot_kws, linewidths, linecolor, cbar, cbar_kws, cbar_ax, square, xticklabels, yticklabels, mask, ax, **kwargs)\u001b[0m\n\u001b[1;32m    526\u001b[0m     \u001b[0;32mif\u001b[0m \u001b[0msquare\u001b[0m\u001b[0;34m:\u001b[0m\u001b[0;34m\u001b[0m\u001b[0m\n\u001b[1;32m    527\u001b[0m         \u001b[0max\u001b[0m\u001b[0;34m.\u001b[0m\u001b[0mset_aspect\u001b[0m\u001b[0;34m(\u001b[0m\u001b[0;34m\"equal\"\u001b[0m\u001b[0;34m)\u001b[0m\u001b[0;34m\u001b[0m\u001b[0m\n\u001b[0;32m--> 528\u001b[0;31m     \u001b[0mplotter\u001b[0m\u001b[0;34m.\u001b[0m\u001b[0mplot\u001b[0m\u001b[0;34m(\u001b[0m\u001b[0max\u001b[0m\u001b[0;34m,\u001b[0m \u001b[0mcbar_ax\u001b[0m\u001b[0;34m,\u001b[0m \u001b[0mkwargs\u001b[0m\u001b[0;34m)\u001b[0m\u001b[0;34m\u001b[0m\u001b[0m\n\u001b[0m\u001b[1;32m    529\u001b[0m     \u001b[0;32mreturn\u001b[0m \u001b[0max\u001b[0m\u001b[0;34m\u001b[0m\u001b[0m\n\u001b[1;32m    530\u001b[0m \u001b[0;34m\u001b[0m\u001b[0m\n",
      "\u001b[0;32m/usr/local/anaconda3/lib/python3.6/site-packages/seaborn/matrix.py\u001b[0m in \u001b[0;36mplot\u001b[0;34m(self, ax, cax, kws)\u001b[0m\n\u001b[1;32m    324\u001b[0m         \u001b[0;31m# Annotate the cells with the formatted values\u001b[0m\u001b[0;34m\u001b[0m\u001b[0;34m\u001b[0m\u001b[0m\n\u001b[1;32m    325\u001b[0m         \u001b[0;32mif\u001b[0m \u001b[0mself\u001b[0m\u001b[0;34m.\u001b[0m\u001b[0mannot\u001b[0m\u001b[0;34m:\u001b[0m\u001b[0;34m\u001b[0m\u001b[0m\n\u001b[0;32m--> 326\u001b[0;31m             \u001b[0mself\u001b[0m\u001b[0;34m.\u001b[0m\u001b[0m_annotate_heatmap\u001b[0m\u001b[0;34m(\u001b[0m\u001b[0max\u001b[0m\u001b[0;34m,\u001b[0m \u001b[0mmesh\u001b[0m\u001b[0;34m)\u001b[0m\u001b[0;34m\u001b[0m\u001b[0m\n\u001b[0m\u001b[1;32m    327\u001b[0m \u001b[0;34m\u001b[0m\u001b[0m\n\u001b[1;32m    328\u001b[0m         \u001b[0;31m# Invert the y axis to show the plot in matrix form\u001b[0m\u001b[0;34m\u001b[0m\u001b[0;34m\u001b[0m\u001b[0m\n",
      "\u001b[0;32m/usr/local/anaconda3/lib/python3.6/site-packages/seaborn/matrix.py\u001b[0m in \u001b[0;36m_annotate_heatmap\u001b[0;34m(self, ax, mesh)\u001b[0m\n\u001b[1;32m    242\u001b[0m                 \u001b[0ml\u001b[0m \u001b[0;34m=\u001b[0m \u001b[0mrelative_luminance\u001b[0m\u001b[0;34m(\u001b[0m\u001b[0mcolor\u001b[0m\u001b[0;34m)\u001b[0m\u001b[0;34m\u001b[0m\u001b[0m\n\u001b[1;32m    243\u001b[0m                 \u001b[0mtext_color\u001b[0m \u001b[0;34m=\u001b[0m \u001b[0;34m\".15\"\u001b[0m \u001b[0;32mif\u001b[0m \u001b[0ml\u001b[0m \u001b[0;34m>\u001b[0m \u001b[0;36m.408\u001b[0m \u001b[0;32melse\u001b[0m \u001b[0;34m\"w\"\u001b[0m\u001b[0;34m\u001b[0m\u001b[0m\n\u001b[0;32m--> 244\u001b[0;31m                 \u001b[0mannotation\u001b[0m \u001b[0;34m=\u001b[0m \u001b[0;34m(\u001b[0m\u001b[0;34m\"{:\"\u001b[0m \u001b[0;34m+\u001b[0m \u001b[0mself\u001b[0m\u001b[0;34m.\u001b[0m\u001b[0mfmt\u001b[0m \u001b[0;34m+\u001b[0m \u001b[0;34m\"}\"\u001b[0m\u001b[0;34m)\u001b[0m\u001b[0;34m.\u001b[0m\u001b[0mformat\u001b[0m\u001b[0;34m(\u001b[0m\u001b[0mval\u001b[0m\u001b[0;34m)\u001b[0m\u001b[0;34m\u001b[0m\u001b[0m\n\u001b[0m\u001b[1;32m    245\u001b[0m                 \u001b[0mtext_kwargs\u001b[0m \u001b[0;34m=\u001b[0m \u001b[0mdict\u001b[0m\u001b[0;34m(\u001b[0m\u001b[0mcolor\u001b[0m\u001b[0;34m=\u001b[0m\u001b[0mtext_color\u001b[0m\u001b[0;34m,\u001b[0m \u001b[0mha\u001b[0m\u001b[0;34m=\u001b[0m\u001b[0;34m\"center\"\u001b[0m\u001b[0;34m,\u001b[0m \u001b[0mva\u001b[0m\u001b[0;34m=\u001b[0m\u001b[0;34m\"center\"\u001b[0m\u001b[0;34m)\u001b[0m\u001b[0;34m\u001b[0m\u001b[0m\n\u001b[1;32m    246\u001b[0m                 \u001b[0mtext_kwargs\u001b[0m\u001b[0;34m.\u001b[0m\u001b[0mupdate\u001b[0m\u001b[0;34m(\u001b[0m\u001b[0mself\u001b[0m\u001b[0;34m.\u001b[0m\u001b[0mannot_kws\u001b[0m\u001b[0;34m)\u001b[0m\u001b[0;34m\u001b[0m\u001b[0m\n",
      "\u001b[0;31mValueError\u001b[0m: Unknown format code 'd' for object of type 'float'"
     ]
    },
    {
     "data": {
      "image/png": "[encoded data removed]",
      "text/plain": [
       "<Figure size 1440x2160 with 2 Axes>"
      ]
     },
     "metadata": {},
     "output_type": "display_data"
    }
   ],
   "source": [
    "# make a heat map that shows the number of surfaces restored per tooth\n",
    "# the surface is on the X axis, the tooth is on the Y axis\n",
    "\n",
    "plt.figure(figsize = (20,30)) # this sets width and height of the figure\n",
    "\n",
    "# fmt='d' means annotations are digits\n",
    "ax = sns.heatmap(grouped_df, cmap='Spectral_r', linewidths=1.0, annot=True, fmt='d', annot_kws={\"size\":15})\n",
    "\n",
    "# rotate the ticks on the y axis\n",
    "plt.yticks(rotation=0)\n",
    "\n",
    "# configure X and Y labels\n",
    "ax.set_xlabel(\"\\nTooth Surface\", fontsize=25)\n",
    "ax.set_ylabel(\"Tooth Number\\n\", fontsize=25)\n",
    "ax.tick_params(labelsize='xx-large')\n",
    "\n",
    "plt.show()\n"
   ]
  },
  {
   "cell_type": "code",
   "execution_count": 51,
   "metadata": {},
   "outputs": [],
   "source": [
    "test = pds.DataFrame({'one': [1, 2, 3, 4, 5],\n",
    "                   'two': [6, 7, 8, 9, 10],\n",
    "              }, index=['a', 'b', 'c', 'd', 'e'])"
   ]
  },
  {
   "cell_type": "code",
   "execution_count": 52,
   "metadata": {},
   "outputs": [
    {
     "data": {
      "text/html": [
       "<div>\n",
       "<style scoped>\n",
       "    .dataframe tbody tr th:only-of-type {\n",
       "        vertical-align: middle;\n",
       "    }\n",
       "\n",
       "    .dataframe tbody tr th {\n",
       "        vertical-align: top;\n",
       "    }\n",
       "\n",
       "    .dataframe thead th {\n",
       "        text-align: right;\n",
       "    }\n",
       "</style>\n",
       "<table border=\"1\" class=\"dataframe\">\n",
       "  <thead>\n",
       "    <tr style=\"text-align: right;\">\n",
       "      <th></th>\n",
       "      <th>one</th>\n",
       "      <th>two</th>\n",
       "    </tr>\n",
       "  </thead>\n",
       "  <tbody>\n",
       "    <tr>\n",
       "      <th>a</th>\n",
       "      <td>1</td>\n",
       "      <td>6</td>\n",
       "    </tr>\n",
       "    <tr>\n",
       "      <th>b</th>\n",
       "      <td>2</td>\n",
       "      <td>7</td>\n",
       "    </tr>\n",
       "    <tr>\n",
       "      <th>c</th>\n",
       "      <td>3</td>\n",
       "      <td>8</td>\n",
       "    </tr>\n",
       "    <tr>\n",
       "      <th>d</th>\n",
       "      <td>4</td>\n",
       "      <td>9</td>\n",
       "    </tr>\n",
       "    <tr>\n",
       "      <th>e</th>\n",
       "      <td>5</td>\n",
       "      <td>10</td>\n",
       "    </tr>\n",
       "  </tbody>\n",
       "</table>\n",
       "</div>"
      ],
      "text/plain": [
       "   one  two\n",
       "a    1    6\n",
       "b    2    7\n",
       "c    3    8\n",
       "d    4    9\n",
       "e    5   10"
      ]
     },
     "execution_count": 52,
     "metadata": {},
     "output_type": "execute_result"
    }
   ],
   "source": [
    "test\n"
   ]
  },
  {
   "cell_type": "code",
   "execution_count": 57,
   "metadata": {},
   "outputs": [
    {
     "data": {
      "text/plain": [
       "a    1\n",
       "b    2\n",
       "Name: one, dtype: int64"
      ]
     },
     "execution_count": 57,
     "metadata": {},
     "output_type": "execute_result"
    }
   ],
   "source": [
    "test.iloc[:2, 0]"
   ]
  },
  {
   "cell_type": "code",
   "execution_count": 58,
   "metadata": {},
   "outputs": [],
   "source": [
    "test['three'] = None"
   ]
  },
  {
   "cell_type": "code",
   "execution_count": 59,
   "metadata": {},
   "outputs": [
    {
     "data": {
      "text/html": [
       "<div>\n",
       "<style scoped>\n",
       "    .dataframe tbody tr th:only-of-type {\n",
       "        vertical-align: middle;\n",
       "    }\n",
       "\n",
       "    .dataframe tbody tr th {\n",
       "        vertical-align: top;\n",
       "    }\n",
       "\n",
       "    .dataframe thead th {\n",
       "        text-align: right;\n",
       "    }\n",
       "</style>\n",
       "<table border=\"1\" class=\"dataframe\">\n",
       "  <thead>\n",
       "    <tr style=\"text-align: right;\">\n",
       "      <th></th>\n",
       "      <th>one</th>\n",
       "      <th>two</th>\n",
       "      <th>three</th>\n",
       "    </tr>\n",
       "  </thead>\n",
       "  <tbody>\n",
       "    <tr>\n",
       "      <th>a</th>\n",
       "      <td>1</td>\n",
       "      <td>6</td>\n",
       "      <td>None</td>\n",
       "    </tr>\n",
       "    <tr>\n",
       "      <th>b</th>\n",
       "      <td>2</td>\n",
       "      <td>7</td>\n",
       "      <td>None</td>\n",
       "    </tr>\n",
       "    <tr>\n",
       "      <th>c</th>\n",
       "      <td>3</td>\n",
       "      <td>8</td>\n",
       "      <td>None</td>\n",
       "    </tr>\n",
       "    <tr>\n",
       "      <th>d</th>\n",
       "      <td>4</td>\n",
       "      <td>9</td>\n",
       "      <td>None</td>\n",
       "    </tr>\n",
       "    <tr>\n",
       "      <th>e</th>\n",
       "      <td>5</td>\n",
       "      <td>10</td>\n",
       "      <td>None</td>\n",
       "    </tr>\n",
       "  </tbody>\n",
       "</table>\n",
       "</div>"
      ],
      "text/plain": [
       "   one  two three\n",
       "a    1    6  None\n",
       "b    2    7  None\n",
       "c    3    8  None\n",
       "d    4    9  None\n",
       "e    5   10  None"
      ]
     },
     "execution_count": 59,
     "metadata": {},
     "output_type": "execute_result"
    }
   ],
   "source": [
    "test\n"
   ]
  },
  {
   "cell_type": "code",
   "execution_count": 126,
   "metadata": {},
   "outputs": [
    {
     "data": {
      "text/html": [
       "<div>\n",
       "<style scoped>\n",
       "    .dataframe tbody tr th:only-of-type {\n",
       "        vertical-align: middle;\n",
       "    }\n",
       "\n",
       "    .dataframe tbody tr th {\n",
       "        vertical-align: top;\n",
       "    }\n",
       "\n",
       "    .dataframe thead th {\n",
       "        text-align: right;\n",
       "    }\n",
       "</style>\n",
       "<table border=\"1\" class=\"dataframe\">\n",
       "  <thead>\n",
       "    <tr style=\"text-align: right;\">\n",
       "      <th></th>\n",
       "      <th>one</th>\n",
       "      <th>two</th>\n",
       "      <th>three</th>\n",
       "    </tr>\n",
       "  </thead>\n",
       "  <tbody>\n",
       "    <tr>\n",
       "      <th>a</th>\n",
       "      <td>1</td>\n",
       "      <td>6</td>\n",
       "      <td>7</td>\n",
       "    </tr>\n",
       "    <tr>\n",
       "      <th>b</th>\n",
       "      <td>2</td>\n",
       "      <td>7</td>\n",
       "      <td>9</td>\n",
       "    </tr>\n",
       "    <tr>\n",
       "      <th>c</th>\n",
       "      <td>3</td>\n",
       "      <td>8</td>\n",
       "      <td>11</td>\n",
       "    </tr>\n",
       "    <tr>\n",
       "      <th>d</th>\n",
       "      <td>4</td>\n",
       "      <td>9</td>\n",
       "      <td>13</td>\n",
       "    </tr>\n",
       "    <tr>\n",
       "      <th>e</th>\n",
       "      <td>5</td>\n",
       "      <td>10</td>\n",
       "      <td>15</td>\n",
       "    </tr>\n",
       "  </tbody>\n",
       "</table>\n",
       "</div>"
      ],
      "text/plain": [
       "   one  two  three\n",
       "a    1    6      7\n",
       "b    2    7      9\n",
       "c    3    8     11\n",
       "d    4    9     13\n",
       "e    5   10     15"
      ]
     },
     "execution_count": 126,
     "metadata": {},
     "output_type": "execute_result"
    }
   ],
   "source": [
    "test = pds.DataFrame({'one': [1, 2, 3, 4, 5],\n",
    "                   'two': [6, 7, 8, 9, 10],\n",
    "              }, index=['a', 'b', 'c', 'd', 'e'])\n",
    "\n",
    "test['three'] = None\n",
    "# test.apply(lambda x: x.loc[:, 'three'] = x.one + x.two, axis=1)\n",
    "# test.loc[:, 'three'].map(lambda x: test.one + test.two)\n",
    "# test['three'] = \n",
    "# pds.Series(map(lambda x: test.one + test.two, test[['one', 'two']]))\n",
    "# test.loc[:, 'three'] = test.loc[:, 'one'] + test.loc[:, 'two']\n",
    "# test.loc[:, 'three'] = map(lambda x,y: x + y, [test.loc[:, 'one'] , test.loc[:, 'two']])\n",
    "test.loc[:, 'three'] = list(map(lambda x, y: x + y, test.loc[:, 'one'], test.loc[:, 'two']))\n",
    "test"
   ]
  },
  {
   "cell_type": "code",
   "execution_count": 132,
   "metadata": {},
   "outputs": [
    {
     "data": {
      "text/plain": [
       "a      77\n",
       "b      99\n",
       "c    1111\n",
       "d    1313\n",
       "e    1515\n",
       "Name: three, dtype: object"
      ]
     },
     "execution_count": 132,
     "metadata": {},
     "output_type": "execute_result"
    }
   ],
   "source": [
    "\n",
    "test.three = test.three.astype('str')\n",
    "# test.three.astype('str', copy=False)\n",
    "# test.dtypes\n",
    "test.three + test.three\n",
    "# test"
   ]
  },
  {
   "cell_type": "code",
   "execution_count": null,
   "metadata": {},
   "outputs": [],
   "source": []
  }
 ],
 "metadata": {
  "kernelspec": {
   "display_name": "Python 3",
   "language": "python",
   "name": "python3"
  },
  "language_info": {
   "codemirror_mode": {
    "name": "ipython",
    "version": 3
   },
   "file_extension": ".py",
   "mimetype": "text/x-python",
   "name": "python",
   "nbconvert_exporter": "python",
   "pygments_lexer": "ipython3",
   "version": "3.6.6"
  }
 },
 "nbformat": 4,
 "nbformat_minor": 2
}
