{
 "cells": [
  {
   "cell_type": "code",
   "execution_count": 6,
   "metadata": {},
   "outputs": [],
   "source": [
    "from rdflib import Graph, ConjunctiveGraph, RDF, RDFS, OWL\n",
    "from SPARQLWrapper import SPARQLWrapper2\n",
    "import pandas as pds\n",
    "import seaborn as sns"
   ]
  },
  {
   "cell_type": "code",
   "execution_count": 7,
   "metadata": {},
   "outputs": [],
   "source": [
    "q = \"select ?s ?p ?o where { ?s ?p ?o } limit 10\"\n",
    "sparql = SPARQLWrapper2(\"http://192.168.1.243:7200/repositories/EDR_NO_ES\")\n",
    "sparql.setQuery(q)"
   ]
  },
  {
   "cell_type": "code",
   "execution_count": 12,
   "metadata": {},
   "outputs": [
    {
     "name": "stdout",
     "output_type": "stream",
     "text": [
      "{'s': Value(uri:'http://www.w3.org/1999/02/22-rdf-syntax-ns#type'), 'p': Value(uri:'http://www.w3.org/1999/02/22-rdf-syntax-ns#type'), 'o': Value(uri:'http://www.w3.org/1999/02/22-rdf-syntax-ns#Property')}\n",
      "{'s': Value(uri:'http://www.w3.org/1999/02/22-rdf-syntax-ns#type'), 'p': Value(uri:'http://www.w3.org/1999/02/22-rdf-syntax-ns#type'), 'o': Value(uri:'http://www.w3.org/2002/07/owl#Thing')}\n",
      "{'s': Value(uri:'http://www.w3.org/1999/02/22-rdf-syntax-ns#type'), 'p': Value(uri:'http://www.w3.org/1999/02/22-rdf-syntax-ns#type'), 'o': Value(uri:'http://www.w3.org/2002/07/owl#ObjectProperty')}\n",
      "{'s': Value(uri:'http://www.w3.org/1999/02/22-rdf-syntax-ns#Property'), 'p': Value(uri:'http://www.w3.org/1999/02/22-rdf-syntax-ns#type'), 'o': Value(uri:'http://www.w3.org/2000/01/rdf-schema#Class')}\n",
      "{'s': Value(uri:'http://www.w3.org/1999/02/22-rdf-syntax-ns#Property'), 'p': Value(uri:'http://www.w3.org/1999/02/22-rdf-syntax-ns#type'), 'o': Value(uri:'http://www.w3.org/2002/07/owl#Class')}\n",
      "{'s': Value(uri:'http://www.w3.org/1999/02/22-rdf-syntax-ns#Property'), 'p': Value(uri:'http://www.w3.org/1999/02/22-rdf-syntax-ns#type'), 'o': Value(uri:'http://www.w3.org/2002/07/owl#Thing')}\n",
      "{'s': Value(uri:'http://www.w3.org/2000/01/rdf-schema#Class'), 'p': Value(uri:'http://www.w3.org/1999/02/22-rdf-syntax-ns#type'), 'o': Value(uri:'http://www.w3.org/2000/01/rdf-schema#Class')}\n",
      "{'s': Value(uri:'http://www.w3.org/2000/01/rdf-schema#Class'), 'p': Value(uri:'http://www.w3.org/1999/02/22-rdf-syntax-ns#type'), 'o': Value(uri:'http://www.w3.org/2002/07/owl#Class')}\n",
      "{'s': Value(uri:'http://www.w3.org/2000/01/rdf-schema#Class'), 'p': Value(uri:'http://www.w3.org/1999/02/22-rdf-syntax-ns#type'), 'o': Value(uri:'http://www.w3.org/2002/07/owl#Thing')}\n",
      "{'s': Value(uri:'http://www.w3.org/2000/01/rdf-schema#Resource'), 'p': Value(uri:'http://www.w3.org/1999/02/22-rdf-syntax-ns#type'), 'o': Value(uri:'http://www.w3.org/2000/01/rdf-schema#Class')}\n"
     ]
    }
   ],
   "source": [
    "res = sparql.query().bindings\n",
    "for r in res:\n",
    "    print(r)"
   ]
  },
  {
   "cell_type": "code",
   "execution_count": 17,
   "metadata": {},
   "outputs": [
    {
     "name": "stdout",
     "output_type": "stream",
     "text": [
      "http://www.w3.org/1999/02/22-rdf-syntax-ns#type http://www.w3.org/1999/02/22-rdf-syntax-ns#type http://www.w3.org/1999/02/22-rdf-syntax-ns#Property\n",
      "http://www.w3.org/1999/02/22-rdf-syntax-ns#type http://www.w3.org/1999/02/22-rdf-syntax-ns#type http://www.w3.org/2002/07/owl#Thing\n",
      "http://www.w3.org/1999/02/22-rdf-syntax-ns#type http://www.w3.org/1999/02/22-rdf-syntax-ns#type http://www.w3.org/2002/07/owl#ObjectProperty\n",
      "http://www.w3.org/1999/02/22-rdf-syntax-ns#Property http://www.w3.org/1999/02/22-rdf-syntax-ns#type http://www.w3.org/2000/01/rdf-schema#Class\n",
      "http://www.w3.org/1999/02/22-rdf-syntax-ns#Property http://www.w3.org/1999/02/22-rdf-syntax-ns#type http://www.w3.org/2002/07/owl#Class\n",
      "http://www.w3.org/1999/02/22-rdf-syntax-ns#Property http://www.w3.org/1999/02/22-rdf-syntax-ns#type http://www.w3.org/2002/07/owl#Thing\n",
      "http://www.w3.org/2000/01/rdf-schema#Class http://www.w3.org/1999/02/22-rdf-syntax-ns#type http://www.w3.org/2000/01/rdf-schema#Class\n",
      "http://www.w3.org/2000/01/rdf-schema#Class http://www.w3.org/1999/02/22-rdf-syntax-ns#type http://www.w3.org/2002/07/owl#Class\n",
      "http://www.w3.org/2000/01/rdf-schema#Class http://www.w3.org/1999/02/22-rdf-syntax-ns#type http://www.w3.org/2002/07/owl#Thing\n",
      "http://www.w3.org/2000/01/rdf-schema#Resource http://www.w3.org/1999/02/22-rdf-syntax-ns#type http://www.w3.org/2000/01/rdf-schema#Class\n"
     ]
    }
   ],
   "source": [
    "for r in res:\n",
    "    print('%s %s %s' % (r[\"s\"].value, r[\"p\"].value, r[\"o\"].value))"
   ]
  },
  {
   "cell_type": "code",
   "execution_count": null,
   "metadata": {},
   "outputs": [],
   "source": []
  }
 ],
 "metadata": {
  "kernelspec": {
   "display_name": "Python 3",
   "language": "python",
   "name": "python3"
  },
  "language_info": {
   "codemirror_mode": {
    "name": "ipython",
    "version": 3
   },
   "file_extension": ".py",
   "mimetype": "text/x-python",
   "name": "python",
   "nbconvert_exporter": "python",
   "pygments_lexer": "ipython3",
   "version": "3.7.3"
  }
 },
 "nbformat": 4,
 "nbformat_minor": 4
}
