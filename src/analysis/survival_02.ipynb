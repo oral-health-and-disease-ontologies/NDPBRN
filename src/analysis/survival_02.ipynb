{
 "cells": [
  {
   "cell_type": "code",
   "execution_count": 1,
   "metadata": {},
   "outputs": [],
   "source": [
    "import pandas as pds\n",
    "import numpy as np\n",
    "import seaborn as sns\n",
    "import matplotlib.pyplot as plt\n",
    "import functools\n",
    "from pandasql import sqldf\n",
    "pysqldf = lambda q: sqldf(q, globals())"
   ]
  },
  {
   "cell_type": "code",
   "execution_count": 2,
   "metadata": {},
   "outputs": [],
   "source": [
    "# # load csv files into dataframes\n",
    "# # the paramaters low_memory=False, dtype=str tell pandas not to guess the datatype\n",
    "# # and make everything a string\n",
    "# # note: many posts say low_memory=False doesn't do anything ... \n",
    "# df_patients = pds.read_csv('patients.csv', low_memory=False, dtype=str, encoding='utf-8')\n",
    "# df_patients_teeth = pds.read_csv('patient_teeth.csv', low_memory=False, dtype=str, encoding='utf-8')\n",
    "# df_tooth_caries = pds.read_csv('tooth_caries.csv', low_memory=False, dtype=str, encoding='utf-8')\n",
    "# df_tooth_surface_caries = pds.read_csv('tooth_surface_caries.csv', low_memory=False, dtype=str, encoding='utf-8')\n",
    "# df_tooth_procedures = pds.read_csv('tooth_procedures_no_es.csv', low_memory=False, dtype=str, encoding='utf-8')\n",
    "# df_tooth_surface_procedures = pds.read_csv('tooth_surface_procedures_no_es.csv', low_memory=False, dtype=str, encoding='utf-8')"
   ]
  },
  {
   "cell_type": "code",
   "execution_count": 3,
   "metadata": {},
   "outputs": [],
   "source": [
    "# # drop duplicates from dataframes\n",
    "# df_patients.drop_duplicates(inplace=True)\n",
    "# df_patients_teeth.drop_duplicates(inplace=True)\n",
    "# df_tooth_caries.drop_duplicates(inplace=True)\n",
    "# df_tooth_surface_caries.drop_duplicates(inplace=True)\n",
    "# df_tooth_procedures.drop_duplicates(inplace=True)\n",
    "# df_tooth_surface_procedures.drop_duplicates(inplace=True)"
   ]
  },
  {
   "cell_type": "code",
   "execution_count": 4,
   "metadata": {},
   "outputs": [],
   "source": [
    "# len(df_patients) # 229,414"
   ]
  },
  {
   "cell_type": "code",
   "execution_count": 5,
   "metadata": {},
   "outputs": [],
   "source": [
    "# # merge, patients, teeth data frames\n",
    "# df_teeth = pds.merge(df_patients, df_patients_teeth, how='inner', on=['patient_id'])\n",
    "# df_teeth.drop_duplicates(inplace=True)\n",
    "# # df_teeth.head()"
   ]
  },
  {
   "cell_type": "code",
   "execution_count": 6,
   "metadata": {},
   "outputs": [],
   "source": [
    "# # merge teeth and procedures data frames\n",
    "# temp = df_tooth_procedures[df_tooth_procedures.tooth_id.isin(df_teeth.tooth_id)]\n",
    "# df_procedures = pds.merge(df_teeth, temp, how='left', on=['tooth_id', 'tooth_num'])\n",
    "# # len(df_procedures) \n",
    "# # df_procedures.head()"
   ]
  },
  {
   "cell_type": "code",
   "execution_count": 7,
   "metadata": {},
   "outputs": [],
   "source": [
    "# # merge procedures with surface information\n",
    "# # this final dataset will be the 'observations' dataset\n",
    "# temp = df_tooth_surface_procedures[df_tooth_surface_procedures.event_id.isin(df_procedures.event_id)]\n",
    "# df_obs = pds.merge(df_procedures, temp, how='left', on=['event_id', 'tooth_id', 'tooth_num'])\n",
    "# df_obs.tooth_num = df_obs.tooth_num.astype(int)\n",
    "# # len(df_obs)"
   ]
  },
  {
   "cell_type": "code",
   "execution_count": 8,
   "metadata": {},
   "outputs": [],
   "source": [
    "# # convert columns to datetime datatype (in case they aren't stored as datetimes)\n",
    "# df_obs.dob = pds.to_datetime(df_obs.dob)\n",
    "# df_obs.first_visit = pds.to_datetime(df_obs.first_visit, errors = 'coerce')\n",
    "# df_obs.last_visit = pds.to_datetime(df_obs.last_visit, errors = 'coerce')\n",
    "# df_obs.first_PCR = pds.to_datetime(df_obs.first_PCR, errors = 'coerce')\n",
    "# df_obs.first_RCT = pds.to_datetime(df_obs.first_RCT, errors = 'coerce')\n",
    "# df_obs.event_date = pds.to_datetime(df_obs.event_date, errors = 'coerce')\n",
    "# df_obs.extract_date = pds.to_datetime(df_obs.extract_date, errors = 'coerce')\n",
    "# df_obs.missing_date = pds.to_datetime(df_obs.missing_date, errors = 'coerce')\n"
   ]
  },
  {
   "cell_type": "code",
   "execution_count": 9,
   "metadata": {},
   "outputs": [],
   "source": [
    "# # load tooth meta info from file (i.e., info about which teeth are upper, lower, right, left, etc.)\n",
    "# tooth_info = pds.read_csv(\"tooth_meta_info.csv\", index_col='tooth')\n",
    "# # tooth_info"
   ]
  },
  {
   "cell_type": "code",
   "execution_count": 10,
   "metadata": {},
   "outputs": [],
   "source": [
    "# merge tooth meta data with tooth observations\n",
    "# df_obs = pds.merge(df_obs, tooth_info, left_on='tooth_num', right_on='tooth', how='left')"
   ]
  },
  {
   "cell_type": "code",
   "execution_count": 11,
   "metadata": {},
   "outputs": [],
   "source": [
    "# add patient ages to observations (using year 2017)\n",
    "# df_obs['patient_age'] = 2017 - pds.to_datetime(df_obs.dob).dt.year\n"
   ]
  },
  {
   "cell_type": "code",
   "execution_count": 12,
   "metadata": {},
   "outputs": [],
   "source": [
    "# some of the patient ages are less than zero due to bad DOB data\n",
    "# let's drop the records\n",
    "# df_obs = pds.DataFrame(df_obs.query('patient_age > 0'))"
   ]
  },
  {
   "cell_type": "code",
   "execution_count": 13,
   "metadata": {},
   "outputs": [],
   "source": [
    "# save observations data frame\n",
    "# df_obs.to_csv(\"observations.csv\", index=False)\n",
    "# df_obs.head()"
   ]
  },
  {
   "cell_type": "code",
   "execution_count": 14,
   "metadata": {},
   "outputs": [],
   "source": [
    "# read obseravtion data from file\n",
    "df_obs = pds.read_csv('observations.csv', low_memory=False, dtype=str, encoding='utf-8')"
   ]
  },
  {
   "cell_type": "code",
   "execution_count": 15,
   "metadata": {},
   "outputs": [],
   "source": [
    "# set surface flags to numeric\n",
    "df_obs.m = pds.to_numeric(df_obs.m)\n",
    "df_obs.o = pds.to_numeric(df_obs.o)\n",
    "df_obs.d = pds.to_numeric(df_obs.d)\n",
    "df_obs.b = pds.to_numeric(df_obs.b)\n",
    "df_obs.l = pds.to_numeric(df_obs.l)\n",
    "df_obs.f = pds.to_numeric(df_obs.f)\n",
    "df_obs.i = pds.to_numeric(df_obs.i)"
   ]
  },
  {
   "cell_type": "code",
   "execution_count": 16,
   "metadata": {},
   "outputs": [],
   "source": [
    "# convert columns to datetime datatype (in case they aren't stored as datetimes)\n",
    "df_obs.dob = pds.to_datetime(df_obs.dob)\n",
    "df_obs.first_visit = pds.to_datetime(df_obs.first_visit, errors = 'coerce')\n",
    "df_obs.last_visit = pds.to_datetime(df_obs.last_visit, errors = 'coerce')\n",
    "df_obs.first_PCR = pds.to_datetime(df_obs.first_PCR, errors = 'coerce')\n",
    "df_obs.first_RCT = pds.to_datetime(df_obs.first_RCT, errors = 'coerce')\n",
    "df_obs.event_date = pds.to_datetime(df_obs.event_date, errors = 'coerce')\n",
    "df_obs.extract_date = pds.to_datetime(df_obs.extract_date, errors = 'coerce')\n",
    "df_obs.missing_date = pds.to_datetime(df_obs.missing_date, errors = 'coerce')\n"
   ]
  },
  {
   "cell_type": "code",
   "execution_count": 17,
   "metadata": {},
   "outputs": [],
   "source": [
    "# build dataframe of restorations on surfaces\n",
    "df_fillings = df_obs[['tooth_id', 'tooth_num', 'ada_code', 'event_name', 'm','o', 'd', 'b', 'l', 'f', 'i']]"
   ]
  },
  {
   "cell_type": "code",
   "execution_count": 18,
   "metadata": {},
   "outputs": [
    {
     "data": {
      "text/html": [
       "<div>\n",
       "<style scoped>\n",
       "    .dataframe tbody tr th:only-of-type {\n",
       "        vertical-align: middle;\n",
       "    }\n",
       "\n",
       "    .dataframe tbody tr th {\n",
       "        vertical-align: top;\n",
       "    }\n",
       "\n",
       "    .dataframe thead th {\n",
       "        text-align: right;\n",
       "    }\n",
       "</style>\n",
       "<table border=\"1\" class=\"dataframe\">\n",
       "  <thead>\n",
       "    <tr style=\"text-align: right;\">\n",
       "      <th></th>\n",
       "      <th>tooth_id</th>\n",
       "      <th>tooth_num</th>\n",
       "      <th>ada_code</th>\n",
       "      <th>event_name</th>\n",
       "      <th>m</th>\n",
       "      <th>o</th>\n",
       "      <th>d</th>\n",
       "      <th>b</th>\n",
       "      <th>l</th>\n",
       "      <th>f</th>\n",
       "      <th>i</th>\n",
       "    </tr>\n",
       "  </thead>\n",
       "  <tbody>\n",
       "    <tr>\n",
       "      <th>0</th>\n",
       "      <td>A_1_1_155_19</td>\n",
       "      <td>19</td>\n",
       "      <td>D2750</td>\n",
       "      <td>porcelain fused to high noble metal crown rest...</td>\n",
       "      <td>NaN</td>\n",
       "      <td>NaN</td>\n",
       "      <td>NaN</td>\n",
       "      <td>NaN</td>\n",
       "      <td>NaN</td>\n",
       "      <td>NaN</td>\n",
       "      <td>NaN</td>\n",
       "    </tr>\n",
       "    <tr>\n",
       "      <th>1</th>\n",
       "      <td>A_1_1_155_19</td>\n",
       "      <td>19</td>\n",
       "      <td>D2750</td>\n",
       "      <td>porcelain fused to high noble metal crown rest...</td>\n",
       "      <td>NaN</td>\n",
       "      <td>NaN</td>\n",
       "      <td>NaN</td>\n",
       "      <td>NaN</td>\n",
       "      <td>NaN</td>\n",
       "      <td>NaN</td>\n",
       "      <td>NaN</td>\n",
       "    </tr>\n",
       "    <tr>\n",
       "      <th>2</th>\n",
       "      <td>A_1_1_155_18</td>\n",
       "      <td>18</td>\n",
       "      <td>D2750</td>\n",
       "      <td>porcelain fused to high noble metal crown rest...</td>\n",
       "      <td>NaN</td>\n",
       "      <td>NaN</td>\n",
       "      <td>NaN</td>\n",
       "      <td>NaN</td>\n",
       "      <td>NaN</td>\n",
       "      <td>NaN</td>\n",
       "      <td>NaN</td>\n",
       "    </tr>\n",
       "    <tr>\n",
       "      <th>3</th>\n",
       "      <td>A_1_1_155_18</td>\n",
       "      <td>18</td>\n",
       "      <td>D2750</td>\n",
       "      <td>porcelain fused to high noble metal crown rest...</td>\n",
       "      <td>NaN</td>\n",
       "      <td>NaN</td>\n",
       "      <td>NaN</td>\n",
       "      <td>NaN</td>\n",
       "      <td>NaN</td>\n",
       "      <td>NaN</td>\n",
       "      <td>NaN</td>\n",
       "    </tr>\n",
       "    <tr>\n",
       "      <th>4</th>\n",
       "      <td>A_1_1_155_10</td>\n",
       "      <td>10</td>\n",
       "      <td>D2750</td>\n",
       "      <td>porcelain fused to high noble metal crown rest...</td>\n",
       "      <td>NaN</td>\n",
       "      <td>NaN</td>\n",
       "      <td>NaN</td>\n",
       "      <td>NaN</td>\n",
       "      <td>NaN</td>\n",
       "      <td>NaN</td>\n",
       "      <td>NaN</td>\n",
       "    </tr>\n",
       "  </tbody>\n",
       "</table>\n",
       "</div>"
      ],
      "text/plain": [
       "       tooth_id tooth_num ada_code  \\\n",
       "0  A_1_1_155_19        19    D2750   \n",
       "1  A_1_1_155_19        19    D2750   \n",
       "2  A_1_1_155_18        18    D2750   \n",
       "3  A_1_1_155_18        18    D2750   \n",
       "4  A_1_1_155_10        10    D2750   \n",
       "\n",
       "                                          event_name   m   o   d   b   l   f  \\\n",
       "0  porcelain fused to high noble metal crown rest... NaN NaN NaN NaN NaN NaN   \n",
       "1  porcelain fused to high noble metal crown rest... NaN NaN NaN NaN NaN NaN   \n",
       "2  porcelain fused to high noble metal crown rest... NaN NaN NaN NaN NaN NaN   \n",
       "3  porcelain fused to high noble metal crown rest... NaN NaN NaN NaN NaN NaN   \n",
       "4  porcelain fused to high noble metal crown rest... NaN NaN NaN NaN NaN NaN   \n",
       "\n",
       "    i  \n",
       "0 NaN  \n",
       "1 NaN  \n",
       "2 NaN  \n",
       "3 NaN  \n",
       "4 NaN  "
      ]
     },
     "execution_count": 18,
     "metadata": {},
     "output_type": "execute_result"
    }
   ],
   "source": [
    "df_fillings.head()"
   ]
  },
  {
   "cell_type": "code",
   "execution_count": 19,
   "metadata": {},
   "outputs": [
    {
     "data": {
      "text/plain": [
       "Index(['practice', 'patient_id', 'gender', 'dob', 'first_visit', 'last_visit',\n",
       "       'tooth_id', 'tooth_num', 'first_PCR', 'first_RCT', 'extract_date',\n",
       "       'missing_date', 'event_id', 'event_name', 'event_date', 'ada_code', 'm',\n",
       "       'o', 'd', 'b', 'l', 'f', 'i', 'tooth_label', 'molar', 'premolar',\n",
       "       'canine', 'incisor', 'upper', 'lower', 'right', 'right upper',\n",
       "       'right lower', 'left', 'left upper', 'left lower', 'posterior',\n",
       "       'anterior', 'right upper molar', 'left upper molar',\n",
       "       'right lower molar', 'left lower molar', 'right upper premolar',\n",
       "       'left upper premolar', 'right lower premolar', 'left lower premolar',\n",
       "       'right upper canine', 'left upper canine', 'right lower canine',\n",
       "       'left lower canine', 'right upper incisor', 'left upper incisor',\n",
       "       'right lower incisor', 'left lower incisor', 'patient_age'],\n",
       "      dtype='object')"
      ]
     },
     "execution_count": 19,
     "metadata": {},
     "output_type": "execute_result"
    }
   ],
   "source": [
    "df_obs.columns"
   ]
  },
  {
   "cell_type": "code",
   "execution_count": 20,
   "metadata": {},
   "outputs": [],
   "source": [
    "data = {\n",
    "    'right upper posterior': [len(df_obs[(df_obs['right upper'] == '1') & (df_obs.posterior == '1')])],\n",
    "    'right upper anterior': [len(df_obs[(df_obs['right upper'] == '1') & (df_obs.anterior == '1')])],\n",
    "    'left upper anterior': [len(df_obs[(df_obs['left upper'] == '1') & (df_obs.anterior == '1')])],\n",
    "    'left upper posterior': [len(df_obs[(df_obs['left upper'] == '1') & (df_obs.posterior == '1')])],\n",
    "    'left lower posterior': [len(df_obs[(df_obs['left lower'] == '1') & (df_obs.posterior == '1')])],\n",
    "    'left lower anterior': [len(df_obs[(df_obs['left lower'] == '1') & (df_obs.anterior == '1')])],\n",
    "    'right lower anterior': [len(df_obs[(df_obs['right lower'] == '1') & (df_obs.anterior == '1')])],\n",
    "    'right lower posterior': [len(df_obs[(df_obs['right lower'] == '1') & (df_obs.posterior == '1')])]\n",
    "}\n",
    "data = \\\n",
    "    [len(df_obs[(df_obs['right upper'] == '1') & (df_obs.posterior == '1')]),\n",
    "     len(df_obs[(df_obs['right upper'] == '1') & (df_obs.anterior == '1')]),\n",
    "     len(df_obs[(df_obs['left upper'] == '1') & (df_obs.anterior == '1')]),\n",
    "     len(df_obs[(df_obs['left upper'] == '1') & (df_obs.posterior == '1')]),\n",
    "     len(df_obs[(df_obs['left lower'] == '1') & (df_obs.posterior == '1')]),\n",
    "     len(df_obs[(df_obs['left lower'] == '1') & (df_obs.anterior == '1')]),\n",
    "     len(df_obs[(df_obs['right lower'] == '1') & (df_obs.anterior == '1')]),\n",
    "     len(df_obs[(df_obs['right lower'] == '1') & (df_obs.posterior == '1')])]\n",
    "\n",
    "temp = pds.DataFrame(data, \n",
    "                     index=['right upper posterior', 'right upper anterior', \n",
    "                            'left upper anterior', 'left upper posterior', \n",
    "                            'left lower posterior', 'left lower anterior', \n",
    "                            'right lower anterior', 'right lower posterior'])\n",
    "# temp.head()"
   ]
  },
  {
   "cell_type": "code",
   "execution_count": 21,
   "metadata": {},
   "outputs": [
    {
     "data": {
      "image/png": "[encoded data removed]",
      "text/plain": [
       "<Figure size 1080x720 with 1 Axes>"
      ]
     },
     "metadata": {},
     "output_type": "display_data"
    }
   ],
   "source": [
    "%matplotlib inline\n",
    "\n",
    "# draw bar chart showing the number of procedures performed on each tooth (number)\n",
    "ax = temp.plot.bar(figsize=(15,10), width=0.4, legend=False, color = ['gbym']) \n",
    "# ax = temp.plot.bar(figsize=(2,10), width=0.4, legend=False) \n",
    "\n",
    "# rotate the ticks on the x axis\n",
    "plt.xticks(rotation=0)\n",
    "\n",
    "# configure labels\n",
    "# note the use of '\\n' to create space between ticks and labels\n",
    "ax.set_xlabel(\"\\nTooth\", fontsize=15)\n",
    "ax.set_ylabel(\"Procedure Count\\n\", fontsize=15)\n",
    "\n",
    "xlabels = ['Right Upper \\n Posterior', 'Right Upper \\n Anterior', \n",
    "            'Left Upper \\n Anterior', 'Left Upper \\n Posterior', \n",
    "            'Left Lower \\n Posterior', 'Left Lower \\n Anterior', \n",
    "            'Right Lower \\n Anterior', 'Right Lower \\n Posterior']\n",
    "ax.set_xticklabels(xlabels)\n",
    "ax.tick_params(labelsize='x-large')\n",
    "\n",
    "plt.show()"
   ]
  },
  {
   "cell_type": "code",
   "execution_count": 22,
   "metadata": {},
   "outputs": [
    {
     "data": {
      "text/plain": [
       "female    937968\n",
       "male      758552\n",
       "Name: gender, dtype: int64"
      ]
     },
     "execution_count": 22,
     "metadata": {},
     "output_type": "execute_result"
    }
   ],
   "source": [
    "genders = df_obs.gender.value_counts()\n",
    "genders"
   ]
  },
  {
   "cell_type": "code",
   "execution_count": 23,
   "metadata": {},
   "outputs": [
    {
     "data": {
      "image/png": "[encoded data removed]",
      "text/plain": [
       "<Figure size 432x288 with 1 Axes>"
      ]
     },
     "metadata": {},
     "output_type": "display_data"
    }
   ],
   "source": [
    "%matplotlib inline\n",
    "ax = sns.barplot(x=genders.index, y=genders.values)\n",
    "plt.show()"
   ]
  },
  {
   "cell_type": "code",
   "execution_count": 59,
   "metadata": {},
   "outputs": [],
   "source": [
    "ages = df_obs[['gender', 'patient_age']]\n",
    "ages_counts = pds.DataFrame(ages.patient_age.value_counts())\n",
    "# ages_counts.head()\n",
    "# ages.head()"
   ]
  },
  {
   "cell_type": "code",
   "execution_count": 112,
   "metadata": {},
   "outputs": [],
   "source": [
    "# ages.index\n",
    "females = pds.DataFrame(ages[ages.gender == 'female'])\n",
    "female_counts = pds.DataFrame(females.patient_age.value_counts())\n",
    "# female_counts.head()\n",
    "# type(female_counts)  # pandas Series\n",
    "# female_counts.head().values\n",
    "# females"
   ]
  },
  {
   "cell_type": "code",
   "execution_count": 113,
   "metadata": {},
   "outputs": [],
   "source": [
    "males = pds.DataFrame(ages[ages.gender == 'male'])\n",
    "male_counts = pds.DataFrame(males.patient_age.value_counts())\n",
    "# males"
   ]
  },
  {
   "cell_type": "code",
   "execution_count": 85,
   "metadata": {},
   "outputs": [
    {
     "name": "stderr",
     "output_type": "stream",
     "text": [
      "/usr/local/anaconda3/lib/python3.6/site-packages/pandas/core/generic.py:4405: SettingWithCopyWarning: \n",
      "A value is trying to be set on a copy of a slice from a DataFrame.\n",
      "Try using .loc[row_indexer,col_indexer] = value instead\n",
      "\n",
      "See the caveats in the documentation: http://pandas.pydata.org/pandas-docs/stable/indexing.html#indexing-view-versus-copy\n",
      "  self[name] = value\n"
     ]
    }
   ],
   "source": [
    "temp = males['patient_age'].astype(int)\n",
    "temp2 = ages.head(1000)\n",
    "temp2.patient_age = temp2.patient_age.astype(int)\n",
    "# temp2_counts = pds.DataFrame(temp2.groupby(['gender', 'patient_age']).count())\n",
    "q = \"\"\"\n",
    "select \n",
    "    gender, patient_age, count(*) as number\n",
    "from\n",
    "    temp2\n",
    "group by\n",
    "    gender, patient_age\n",
    "\"\"\"\n",
    "temp2_counts = pysqldf(q)\n",
    "# temp2\n",
    "# temp2_counts"
   ]
  },
  {
   "cell_type": "code",
   "execution_count": 91,
   "metadata": {},
   "outputs": [],
   "source": [
    "temp_females = temp2.query(\"gender == 'female'\")\n",
    "temp_males = temp2.query(\"gender == 'male'\")\n",
    "# temp_females"
   ]
  },
  {
   "cell_type": "code",
   "execution_count": 132,
   "metadata": {},
   "outputs": [
    {
     "data": {
      "image/png": "[encoded data removed]",
      "text/plain": [
       "<Figure size 432x288 with 1 Axes>"
      ]
     },
     "metadata": {},
     "output_type": "display_data"
    }
   ],
   "source": [
    "# %matplotlib inline\n",
    "# sns.distplot(females.patient_age.astype(int), bins=20)\n",
    "# sns.distplot(temp_females.patient_age, bins=20, kde=False) # I don't like the look ..\n",
    "# sns.distplot(temp_males.patient_age, bins=20, kde=False)   # I prefer 'side by side' look\n",
    "\n",
    "# sns.barplot(x=temp2_counts.patient_age, y=temp2_counts.number, \n",
    "#             hue=temp2.gender, data=temp2_counts)\n",
    "# females['patient_age'].astype(int).plot.hist()\n",
    "\n",
    "# ax = plt.hist([temp_females.patient_age, temp_males.patient_age], bins= 20, label=['female', 'male'])\n",
    "ax = plt.hist([females.patient_age, males.patient_age], bins=20, label=['female', 'male'])\n",
    "\n",
    "# ax = sns.barplot(x=female_counts.index, y=female_counts.patient_age)\n",
    "# ax = sns.barplot(x=males.index, y=males.values)\n",
    "# female_counts.plot.bar() # this cause each bar to be a different color\n",
    "# pds.DataFrame(female_counts).plot.bar() # this causes all colors to be the same\n",
    "plt.legend(loc='upper right')\n",
    "# plt.legend().set_visible(False) # this will hide the legend\n",
    "\n",
    "# plt.xticks(np.arange(min(ages.patient_age.astype(int)), \n",
    "#                      max(ages.patient_age.astype(int))+1, 1.0))\n",
    "# x = ax.get_xticks()\n",
    "# plt.xticks = x[::2]\n",
    "\n",
    "plt.show()"
   ]
  },
  {
   "cell_type": "code",
   "execution_count": null,
   "metadata": {},
   "outputs": [],
   "source": []
  },
  {
   "cell_type": "code",
   "execution_count": null,
   "metadata": {},
   "outputs": [],
   "source": []
  },
  {
   "cell_type": "code",
   "execution_count": null,
   "metadata": {},
   "outputs": [],
   "source": []
  },
  {
   "cell_type": "code",
   "execution_count": null,
   "metadata": {},
   "outputs": [],
   "source": []
  },
  {
   "cell_type": "code",
   "execution_count": null,
   "metadata": {},
   "outputs": [],
   "source": []
  },
  {
   "cell_type": "code",
   "execution_count": null,
   "metadata": {},
   "outputs": [],
   "source": []
  },
  {
   "cell_type": "code",
   "execution_count": null,
   "metadata": {},
   "outputs": [],
   "source": []
  },
  {
   "cell_type": "code",
   "execution_count": null,
   "metadata": {},
   "outputs": [],
   "source": []
  },
  {
   "cell_type": "code",
   "execution_count": null,
   "metadata": {},
   "outputs": [],
   "source": []
  },
  {
   "cell_type": "code",
   "execution_count": null,
   "metadata": {},
   "outputs": [],
   "source": []
  },
  {
   "cell_type": "code",
   "execution_count": null,
   "metadata": {},
   "outputs": [],
   "source": []
  },
  {
   "cell_type": "code",
   "execution_count": null,
   "metadata": {},
   "outputs": [],
   "source": []
  },
  {
   "cell_type": "code",
   "execution_count": null,
   "metadata": {},
   "outputs": [],
   "source": []
  },
  {
   "cell_type": "code",
   "execution_count": null,
   "metadata": {},
   "outputs": [],
   "source": []
  },
  {
   "cell_type": "code",
   "execution_count": null,
   "metadata": {},
   "outputs": [],
   "source": []
  },
  {
   "cell_type": "code",
   "execution_count": null,
   "metadata": {},
   "outputs": [],
   "source": []
  },
  {
   "cell_type": "code",
   "execution_count": null,
   "metadata": {},
   "outputs": [],
   "source": []
  },
  {
   "cell_type": "code",
   "execution_count": null,
   "metadata": {},
   "outputs": [],
   "source": []
  },
  {
   "cell_type": "code",
   "execution_count": null,
   "metadata": {},
   "outputs": [],
   "source": []
  },
  {
   "cell_type": "code",
   "execution_count": null,
   "metadata": {},
   "outputs": [],
   "source": []
  },
  {
   "cell_type": "code",
   "execution_count": null,
   "metadata": {},
   "outputs": [],
   "source": []
  },
  {
   "cell_type": "code",
   "execution_count": null,
   "metadata": {},
   "outputs": [],
   "source": []
  },
  {
   "cell_type": "code",
   "execution_count": null,
   "metadata": {},
   "outputs": [],
   "source": []
  },
  {
   "cell_type": "code",
   "execution_count": null,
   "metadata": {},
   "outputs": [],
   "source": []
  },
  {
   "cell_type": "code",
   "execution_count": null,
   "metadata": {},
   "outputs": [],
   "source": []
  },
  {
   "cell_type": "code",
   "execution_count": null,
   "metadata": {},
   "outputs": [],
   "source": []
  },
  {
   "cell_type": "code",
   "execution_count": null,
   "metadata": {},
   "outputs": [],
   "source": []
  },
  {
   "cell_type": "code",
   "execution_count": null,
   "metadata": {},
   "outputs": [],
   "source": []
  },
  {
   "cell_type": "code",
   "execution_count": null,
   "metadata": {},
   "outputs": [],
   "source": []
  },
  {
   "cell_type": "code",
   "execution_count": null,
   "metadata": {},
   "outputs": [],
   "source": []
  },
  {
   "cell_type": "code",
   "execution_count": null,
   "metadata": {},
   "outputs": [],
   "source": []
  },
  {
   "cell_type": "code",
   "execution_count": null,
   "metadata": {},
   "outputs": [],
   "source": []
  }
 ],
 "metadata": {
  "kernelspec": {
   "display_name": "Python 3",
   "language": "python",
   "name": "python3"
  },
  "language_info": {
   "codemirror_mode": {
    "name": "ipython",
    "version": 3
   },
   "file_extension": ".py",
   "mimetype": "text/x-python",
   "name": "python",
   "nbconvert_exporter": "python",
   "pygments_lexer": "ipython3",
   "version": "3.6.6"
  }
 },
 "nbformat": 4,
 "nbformat_minor": 2
}
