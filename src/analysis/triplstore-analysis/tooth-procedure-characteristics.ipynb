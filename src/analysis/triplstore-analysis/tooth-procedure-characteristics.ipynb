{
 "cells": [
  {
   "cell_type": "code",
   "execution_count": 2,
   "metadata": {},
   "outputs": [],
   "source": [
    "from rdflib import Graph, ConjunctiveGraph, RDF, RDFS, OWL\n",
    "from SPARQLWrapper import SPARQLWrapper2\n",
    "import pandas as pds\n",
    "import numpy as np\n",
    "import seaborn as sns\n",
    "import matplotlib.pyplot as plt\n",
    "from tabulate import tabulate\n",
    "from pandasql import sqldf\n",
    "import functools"
   ]
  },
  {
   "cell_type": "markdown",
   "metadata": {},
   "source": [
    "## define function for printing pandas dataframes as markdown"
   ]
  },
  {
   "cell_type": "code",
   "execution_count": 3,
   "metadata": {},
   "outputs": [],
   "source": [
    "def print_pandas_md(df):\n",
    "    print(tabulate(df, tablefmt=\"pipe\", headers=\"keys\"))"
   ]
  },
  {
   "cell_type": "markdown",
   "metadata": {},
   "source": [
    "## define function for converting sparql results to a dataframe"
   ]
  },
  {
   "cell_type": "code",
   "execution_count": 4,
   "metadata": {},
   "outputs": [],
   "source": [
    "def sparql_to_df(results):\n",
    "    data = {}\n",
    "    for variable in results.variables:\n",
    "        data[variable] = [x.value for x in results.getValues(variable)]\n",
    "    return pds.DataFrame(data)"
   ]
  },
  {
   "cell_type": "markdown",
   "metadata": {},
   "source": [
    "## define function to round values in an interval object"
   ]
  },
  {
   "cell_type": "code",
   "execution_count": 5,
   "metadata": {},
   "outputs": [],
   "source": [
    "def round_interval(interval):\n",
    "    left_val = round(interval.left)\n",
    "    right_val = round(interval.right)\n",
    "    return pds.Interval(left=left_val, right=right_val, closed='left')"
   ]
  },
  {
   "cell_type": "markdown",
   "metadata": {},
   "source": [
    "## set connection to local triple store"
   ]
  },
  {
   "cell_type": "code",
   "execution_count": 6,
   "metadata": {},
   "outputs": [],
   "source": [
    "# sparql = SPARQLWrapper2(\"http://192.168.1.243:7200/repositories/EDR_NO_ES\") # local server\n",
    "sparql = SPARQLWrapper2(\"http://10.16.128.24:7200/repositories/EDR_NO_ES\") # RI server"
   ]
  },
  {
   "cell_type": "markdown",
   "metadata": {},
   "source": [
    "## define some standard prefixes to use in queries"
   ]
  },
  {
   "cell_type": "code",
   "execution_count": 7,
   "metadata": {},
   "outputs": [],
   "source": [
    "prefixes = \"\"\"\n",
    "PREFIX obo: <http://purl.obolibrary.org/obo/>\n",
    "PREFIX part_of: <http://purl.obolibrary.org/obo/BFO_0000050>\n",
    "PREFIX has_part: <http://purl.obolibrary.org/obo/BFO_0000051>\n",
    "PREFIX material: <http://purl.obolibrary.org/obo/OHD_0000000>\n",
    "PREFIX tooth: <http://purl.obolibrary.org/obo/FMA_12516>\n",
    "PREFIX restored_tooh: <http://purl.obolibrary.org/obo/OHD_0000189>\n",
    "PREFIX surface: <http://purl.obolibrary.org/obo/FMA_no_fmaid_Surface_enamel_of_tooth>\n",
    "PREFIX restored_surface: <http://purl.obolibrary.org/obo/OHD_0000208>\n",
    "PREFIX restored_buccal: <http://purl.obolibrary.org/obo/OHD_0000222>\n",
    "PREFIX restored_distal: <http://purl.obolibrary.org/obo/OHD_0000223>\n",
    "PREFIX restored_mesial: <http://purl.obolibrary.org/obo/OHD_0000227>\n",
    "PREFIX restored_labial: <http://purl.obolibrary.org/obo/OHD_0000225>\n",
    "PREFIX restored_lingual: <http://purl.obolibrary.org/obo/OHD_0000226>\n",
    "PREFIX restored_incisal: <http://purl.obolibrary.org/obo/OHD_0000224>\n",
    "PREFIX restored_occlusal: <http://purl.obolibrary.org/obo/OHD_0000228>\n",
    "PREFIX rdfs: <http://www.w3.org/2000/01/rdf-schema#>\n",
    "PREFIX owl: <http://www.w3.org/2002/07/owl#>\n",
    "PREFIX ada_num: <http://purl.obolibrary.org/obo/OHD_0000065>\n",
    "PREFIX patient: <http://purl.obolibrary.org/obo/OHD_0000012>\n",
    "PREFIX male_patient: <http://purl.obolibrary.org/obo/OHD_0000054>\n",
    "PREFIX female_patient: <http://purl.obolibrary.org/obo/OHD_0000049>\n",
    "PREFIX provider: <http://purl.obolibrary.org/obo/OHD_0000051>\n",
    "PREFIX procedure: <http://purl.obolibrary.org/obo/OHD_0000002>\n",
    "PREFIX restoration_procedure: <http://purl.obolibrary.org/obo/OHD_0000004>\n",
    "PREFIX participates_in: <http://purl.obolibrary.org/obo/BFO_0000056>\n",
    "PREFIX has_participant: <http://purl.obolibrary.org/obo/BFO_0000057>\n",
    "PREFIX has_specified_input: <http://purl.obolibrary.org/obo/OBI_0000293>\n",
    "PREFIX has_specified_output: <http://purl.obolibrary.org/obo/OBI_0000299>\n",
    "PREFIX sesame: <http://www.openrdf.org/schema/sesame#>\n",
    "PREFIX birth_date: <http://purl.obolibrary.org/obo/OHD_0000050>\n",
    "PREFIX npbrn_id: <http://purl.obolibrary.org/obo/OHD_0000273>\n",
    "PREFIX occur_date: <http://purl.obolibrary.org/obo/OHD_0000015>\n",
    "PREFIX cdt_code: <http://purl.obolibrary.org/obo/CDT_1000001>\n",
    "PREFIX is_about: <http://purl.obolibrary.org/obo/IAO_0000136>\n",
    "PREFIX dc: <http://purl.org/dc/elements/1.1/>\n",
    "PREFIX anterior_tooth: <http://purl.obolibrary.org/obo/OHD_0000307>\n",
    "PREFIX posterior_tooth: <http://purl.obolibrary.org/obo/OHD_0000308>\n",
    "PREFIX incisor: <http://purl.obolibrary.org/obo/FMA_12823>\n",
    "PREFIX canine: <http://purl.obolibrary.org/obo/FMA_55636>\n",
    "PREFIX premolar: <http://purl.obolibrary.org/obo/FMA_55637>\n",
    "PREFIX molar: <http://purl.obolibrary.org/obo/FMA_55638>\n",
    "\"\"\""
   ]
  },
  {
   "cell_type": "markdown",
   "metadata": {},
   "source": [
    "## find teeth (and their surfaces) that underwent a procedure"
   ]
  },
  {
   "cell_type": "code",
   "execution_count": 8,
   "metadata": {},
   "outputs": [],
   "source": [
    "q = \"\"\"\n",
    "%s\n",
    "select \n",
    "    ?patient_id\n",
    "    ?tooth_id\n",
    "    ?tooth_num\n",
    "    ?proc_id\n",
    "    ?event\n",
    "    ?event_date\n",
    "    ?cdt_code\n",
    "    ?cdt_label\n",
    "where {\n",
    "    ?patient_i a patient: .\n",
    "    ?tooth_i a tooth:;\n",
    "             part_of: ?patient_i;\n",
    "             sesame:directType ?tooth_t .\n",
    "    ?tooth_t ada_num: ?ada_num .\n",
    "            \n",
    "    ?proc_i a procedure:;\n",
    "            sesame:directType ?proc_t;\n",
    "            has_specified_input: ?tooth_i;\n",
    "            occur_date: ?occur_date .\n",
    "    ?proc_t rdfs:label ?proc_label .\n",
    "    \n",
    "    ?code_i a cdt_code:;\n",
    "               \tsesame:directType ?code_t;\n",
    "                is_about: ?proc_i .\n",
    "    \n",
    "    ?code_t dc:identifier ?cdt_code;\n",
    "            obo:cdt_label ?cdt_label .\n",
    "    \n",
    "    \n",
    "    filter (!isblank(?patient_i))\n",
    "    filter (!isblank(?tooth_i))\n",
    "    filter (!isblank(?proc_i))\n",
    "    \n",
    "    bind(strafter(str(?patient_i), \"patient/\") as ?patient_id)\n",
    "    bind(strafter(str(?tooth_i), \"tooth/\") as ?tooth_id)\n",
    "    bind(strafter(str(?proc_i), \"procedure/\") as ?proc_id)\n",
    "    bind(str(?proc_label) as ?event) # removes the laguage tags\n",
    "    bind(strafter(?ada_num, \"Tooth \") as ?tooth_num)\n",
    "    bind(strbefore(str(?occur_date), \"T\") as ?event_date)\n",
    "    \n",
    "} \n",
    "\"\"\" % prefixes\n",
    "# print(q)"
   ]
  },
  {
   "cell_type": "code",
   "execution_count": 9,
   "metadata": {},
   "outputs": [],
   "source": [
    "sparql.setQuery(q)\n",
    "res1 = sparql.query()\n",
    "tooth_proc_df = sparql_to_df(res1)"
   ]
  },
  {
   "cell_type": "code",
   "execution_count": 10,
   "metadata": {},
   "outputs": [
    {
     "data": {
      "text/plain": [
       "1645416"
      ]
     },
     "execution_count": 10,
     "metadata": {},
     "output_type": "execute_result"
    }
   ],
   "source": [
    "tooth_proc_df.drop_duplicates(inplace=True) # make sure there are not duplicates\n",
    "len(tooth_proc_df)"
   ]
  },
  {
   "cell_type": "markdown",
   "metadata": {},
   "source": [
    "## filter out invalid dates and convert datatypes (note: ignore warnings)"
   ]
  },
  {
   "cell_type": "code",
   "execution_count": 11,
   "metadata": {},
   "outputs": [],
   "source": [
    "tooth_proc_df = tooth_proc_df[tooth_proc_df.event_date.str.startswith('19') | tooth_proc_df.event_date.str.startswith('20')]"
   ]
  },
  {
   "cell_type": "code",
   "execution_count": 12,
   "metadata": {},
   "outputs": [],
   "source": [
    "tooth_proc_df.event_date = pds.to_datetime(tooth_proc_df.event_date)"
   ]
  },
  {
   "cell_type": "code",
   "execution_count": 13,
   "metadata": {},
   "outputs": [],
   "source": [
    "tooth_proc_df['patient_id'] = tooth_proc_df['patient_id'].astype(str)\n",
    "tooth_proc_df['tooth_id'] = tooth_proc_df['tooth_id'].astype(str)\n",
    "tooth_proc_df['tooth_num'] = tooth_proc_df['tooth_num'].astype(str)\n",
    "tooth_proc_df['cdt_code'] = tooth_proc_df['cdt_code'].astype(str)\n",
    "tooth_proc_df['cdt_label'] = tooth_proc_df['cdt_label'].astype(str)"
   ]
  },
  {
   "cell_type": "markdown",
   "metadata": {},
   "source": [
    "## save local copy of tooth/procedure info"
   ]
  },
  {
   "cell_type": "code",
   "execution_count": 15,
   "metadata": {},
   "outputs": [],
   "source": [
    "tooth_proc_df.to_csv('triplestore-tooth-procedure-info.tsv', sep='\\t')"
   ]
  },
  {
   "cell_type": "markdown",
   "metadata": {},
   "source": [
    "## find surfaces restored by procedures"
   ]
  },
  {
   "cell_type": "code",
   "execution_count": 16,
   "metadata": {},
   "outputs": [],
   "source": [
    "q = \"\"\"\n",
    "%s\n",
    "select \n",
    "    ?patient_id\n",
    "    ?tooth_id\n",
    "    ?tooth_num\n",
    "    ?proc_id\n",
    "\n",
    "where {\n",
    "    ?patient_i a patient: .\n",
    "    ?tooth_i a tooth:;\n",
    "             part_of: ?patient_i;\n",
    "             sesame:directType ?tooth_t .\n",
    "    ?tooth_t ada_num: ?ada_num .\n",
    "            \n",
    "    ?proc_i a procedure:;\n",
    "            sesame:directType ?proc_t;\n",
    "            has_specified_input: ?tooth_i;\n",
    "            occur_date: ?occur_date .\n",
    "    \n",
    "    filter (!isblank(?patient_i))\n",
    "    filter (!isblank(?tooth_i))\n",
    "    filter (!isblank(?proc_i))\n",
    "    \n",
    "    bind(strafter(str(?patient_i), \"patient/\") as ?patient_id)\n",
    "    bind(strafter(str(?tooth_i), \"tooth/\") as ?tooth_id)\n",
    "    bind(strafter(str(?proc_i), \"procedure/\") as ?proc_id)\n",
    "    bind(strafter(?ada_num, \"Tooth \") as ?tooth_num)\n",
    "\n",
    "} \n",
    "\"\"\" % prefixes\n",
    "# print(q)"
   ]
  },
  {
   "cell_type": "code",
   "execution_count": null,
   "metadata": {},
   "outputs": [],
   "source": []
  },
  {
   "cell_type": "code",
   "execution_count": null,
   "metadata": {},
   "outputs": [],
   "source": []
  },
  {
   "cell_type": "code",
   "execution_count": null,
   "metadata": {},
   "outputs": [],
   "source": []
  },
  {
   "cell_type": "markdown",
   "metadata": {},
   "source": [
    "## find tooth type metadata for each tooth"
   ]
  },
  {
   "cell_type": "code",
   "execution_count": 19,
   "metadata": {},
   "outputs": [],
   "source": [
    "q = \"\"\"\n",
    "%s\n",
    "select distinct\n",
    "    ?patient_id\n",
    "    ?tooth_id\n",
    "    ?tooth_num\n",
    "    ?anterior\n",
    "    ?posterior\n",
    "    ?incisor\n",
    "    ?canine\n",
    "    ?premolar\n",
    "    ?molar\n",
    "where {\n",
    "    values ?tooth_type {incisor: canine: premolar: molar:}\n",
    "    ?patient_i a patient: .\n",
    "    ?tooth_i a ?tooth_type;\n",
    "             part_of: ?patient_i;\n",
    "             sesame:directType ?tooth_t . \n",
    "    ?tooth_t ada_num: ?ada_num .\n",
    "    \n",
    "    ?proc_i a procedure:;\n",
    "            has_specified_input: ?tooth_i.\n",
    "    \n",
    "    filter (!isblank(?patient_i))\n",
    "    filter (!isblank(?tooth_i))\n",
    "    filter (!isblank(?proc_i))\n",
    "    \n",
    "    bind (strafter(str(?patient_i), \"patient/\") as ?patient_id)\n",
    "    bind (strafter(str(?tooth_i), \"tooth/\") as ?tooth_id)\n",
    "    bind (strafter(?ada_num, \"Tooth \") as ?tooth_num)\n",
    "    bind (if(?tooth_type in (incisor:, canine:), 1, 0) as ?anterior)\n",
    "    bind (if(?tooth_type in (premolar:, molar:), 1, 0) as ?posterior)\n",
    "    bind (if(?tooth_type = incisor:, 1, 0) as ?incisor)\n",
    "    bind (if(?tooth_type = canine:, 1, 0) as ?canine)\n",
    "    bind (if(?tooth_type = premolar:, 1, 0) as ?premolar)\n",
    "    bind (if(?tooth_type = molar:, 1, 0) as ?molar)\n",
    "}\n",
    "\"\"\" % prefixes\n",
    "# print(q)\n"
   ]
  },
  {
   "cell_type": "code",
   "execution_count": null,
   "metadata": {},
   "outputs": [],
   "source": [
    "sparql.setQuery(q)\n",
    "res3 = sparql.query()\n",
    "tooth_type_df = sparql_to_df(res3)"
   ]
  },
  {
   "cell_type": "code",
   "execution_count": null,
   "metadata": {},
   "outputs": [],
   "source": [
    "tooth_type_df.drop_duplicates(inplace=True) # make sure there are no dups\n",
    "len(tooth_type_df)"
   ]
  },
  {
   "cell_type": "markdown",
   "metadata": {},
   "source": [
    "## add maxillary maxilla (1-16) mandible (17-32) metadata"
   ]
  },
  {
   "cell_type": "code",
   "execution_count": null,
   "metadata": {},
   "outputs": [],
   "source": [
    "tooth_type_df.tooth_num = tooth_type_df.tooth_num.astype(int) # convert tooth_num to int\n",
    "tooth_type_df['maxillary'] = tooth_type_df.tooth_num.map(lambda x: 1 if x < 17 else 0)\n",
    "tooth_type_df['mandibular'] = tooth_type_df.tooth_num.map(lambda x: 1 if x > 16 else 0)"
   ]
  },
  {
   "cell_type": "markdown",
   "metadata": {},
   "source": [
    "## add left/right metadata"
   ]
  },
  {
   "cell_type": "code",
   "execution_count": null,
   "metadata": {},
   "outputs": [],
   "source": [
    "temp = tooth_type_df.copy()"
   ]
  },
  {
   "cell_type": "code",
   "execution_count": null,
   "metadata": {},
   "outputs": [],
   "source": [
    "tooth_type_df['left'] = tooth_type_df.tooth_num.map(lambda x: 1 if x > 8 and x < 25 else 0)\n",
    "tooth_type_df['right'] = tooth_type_df.tooth_num.map(lambda x: 1 if x < 9 or x > 24 else 0)"
   ]
  },
  {
   "cell_type": "markdown",
   "metadata": {},
   "source": [
    "## save local copy of tooth type metadata"
   ]
  },
  {
   "cell_type": "code",
   "execution_count": null,
   "metadata": {},
   "outputs": [],
   "source": [
    "tooth_type_df.to_csv('triplestore-tooth-type-info.tsv', sep='\\t')"
   ]
  },
  {
   "cell_type": "markdown",
   "metadata": {},
   "source": [
    "## find total number of teeth by tooth type that underwent a procedure"
   ]
  },
  {
   "cell_type": "code",
   "execution_count": 67,
   "metadata": {},
   "outputs": [],
   "source": [
    "toot_count_df = tooth_proc_df[['tooth_num']].copy()\n",
    "toot_count_df.tooth_num = toot_count_df.tooth_num.astype(int)\n",
    "tooth_count_query = \"\"\"\n",
    "select \n",
    "    tooth_num as [Tooth Number], count(*) as [Number of Teeth]\n",
    "from\n",
    "    toot_count_df\n",
    "group by\n",
    "    tooth_num\n",
    "order by\n",
    "    tooth_num\n",
    "\"\"\"\n",
    "temp_df = sqldf(tooth_count_query)"
   ]
  },
  {
   "cell_type": "code",
   "execution_count": 91,
   "metadata": {},
   "outputs": [],
   "source": [
    "temp_df.set_index('Tooth Number', inplace=True) # use tooth numbers for the index"
   ]
  },
  {
   "cell_type": "code",
   "execution_count": 93,
   "metadata": {},
   "outputs": [
    {
     "name": "stderr",
     "output_type": "stream",
     "text": [
      "/Users/widuncan/repos/git/NDPBRN/src/analysis/.env/lib/python3.7/site-packages/ipykernel_launcher.py:18: UserWarning: FixedFormatter should only be used together with FixedLocator\n"
     ]
    },
    {
     "data": {
      "image/png": "[encoded data removed]",
      "text/plain": [
       "<Figure size 864x504 with 1 Axes>"
      ]
     },
     "metadata": {
      "needs_background": "light"
     },
     "output_type": "display_data"
    }
   ],
   "source": [
    "%matplotlib inline\n",
    "colors = ['#4c72b0']\n",
    "sns.set_palette(colors)\n",
    "\n",
    "# draw bar chart showing the number of procedures performed on each tooth (number)\n",
    "ax = temp_df.plot.bar(figsize=(12,7), width=1.0) \n",
    "\n",
    "# rotate the ticks on the x axis\n",
    "plt.xticks(rotation=0)\n",
    "\n",
    "# configure labels\n",
    "# note the use of '\\n' to create space between ticks and labels\n",
    "ax.set_xlabel(\"\\nTooth Number\", fontsize=15)\n",
    "ax.set_ylabel(\"Number of Teeth that had a Procedure\\n\", fontsize=15)\n",
    "ax.tick_params(labelsize='large')\n",
    "\n",
    "\n",
    "ax.set_yticklabels(['{:,}'.format(int(x)) for x in ax.get_yticks().tolist()]) # put commas in y-ticks\n",
    "ax.get_legend().remove() # remove legend\n",
    "plt.savefig(\"figures/tooth-count-per-tooth.png\", dpi=600, bbox_inches=\"tight\")\n",
    "plt.show()"
   ]
  },
  {
   "cell_type": "code",
   "execution_count": 120,
   "metadata": {},
   "outputs": [
    {
     "data": {
      "text/html": [
       "<div>\n",
       "<style scoped>\n",
       "    .dataframe tbody tr th:only-of-type {\n",
       "        vertical-align: middle;\n",
       "    }\n",
       "\n",
       "    .dataframe tbody tr th {\n",
       "        vertical-align: top;\n",
       "    }\n",
       "\n",
       "    .dataframe thead th {\n",
       "        text-align: right;\n",
       "    }\n",
       "</style>\n",
       "<table border=\"1\" class=\"dataframe\">\n",
       "  <thead>\n",
       "    <tr style=\"text-align: right;\">\n",
       "      <th></th>\n",
       "      <th>patient_id</th>\n",
       "      <th>tooth_id</th>\n",
       "      <th>tooth_num</th>\n",
       "      <th>event</th>\n",
       "      <th>event_date</th>\n",
       "      <th>cdt_code</th>\n",
       "      <th>cdt_label</th>\n",
       "      <th>m</th>\n",
       "      <th>o</th>\n",
       "      <th>d</th>\n",
       "      <th>b</th>\n",
       "      <th>f</th>\n",
       "      <th>l</th>\n",
       "      <th>i</th>\n",
       "      <th>num_surfaces</th>\n",
       "    </tr>\n",
       "  </thead>\n",
       "  <tbody>\n",
       "  </tbody>\n",
       "</table>\n",
       "</div>"
      ],
      "text/plain": [
       "Empty DataFrame\n",
       "Columns: [patient_id, tooth_id, tooth_num, event, event_date, cdt_code, cdt_label, m, o, d, b, f, l, i, num_surfaces]\n",
       "Index: []"
      ]
     },
     "execution_count": 120,
     "metadata": {},
     "output_type": "execute_result"
    }
   ],
   "source": [
    "tooth_proc_df[tooth_proc_df.patient_id == \"A_1_1_248\"]"
   ]
  },
  {
   "cell_type": "code",
   "execution_count": 118,
   "metadata": {},
   "outputs": [
    {
     "data": {
      "text/html": [
       "<div>\n",
       "<style scoped>\n",
       "    .dataframe tbody tr th:only-of-type {\n",
       "        vertical-align: middle;\n",
       "    }\n",
       "\n",
       "    .dataframe tbody tr th {\n",
       "        vertical-align: top;\n",
       "    }\n",
       "\n",
       "    .dataframe thead th {\n",
       "        text-align: right;\n",
       "    }\n",
       "</style>\n",
       "<table border=\"1\" class=\"dataframe\">\n",
       "  <thead>\n",
       "    <tr style=\"text-align: right;\">\n",
       "      <th></th>\n",
       "      <th>patient_id</th>\n",
       "      <th>tooth_id</th>\n",
       "      <th>tooth_num</th>\n",
       "      <th>event</th>\n",
       "      <th>event_date</th>\n",
       "      <th>cdt_code</th>\n",
       "      <th>cdt_label</th>\n",
       "      <th>m</th>\n",
       "      <th>o</th>\n",
       "      <th>d</th>\n",
       "      <th>b</th>\n",
       "      <th>f</th>\n",
       "      <th>l</th>\n",
       "      <th>i</th>\n",
       "      <th>num_surfaces</th>\n",
       "    </tr>\n",
       "  </thead>\n",
       "  <tbody>\n",
       "    <tr>\n",
       "      <th>0</th>\n",
       "      <td>A_1_1_17</td>\n",
       "      <td>A_1_1_17_7</td>\n",
       "      <td>7</td>\n",
       "      <td>resin filling restoration procedure</td>\n",
       "      <td>2011-04-23</td>\n",
       "      <td>D2331</td>\n",
       "      <td>resin-based composite - two surfaces, anterior</td>\n",
       "      <td>1</td>\n",
       "      <td>0</td>\n",
       "      <td>0</td>\n",
       "      <td>0</td>\n",
       "      <td>0</td>\n",
       "      <td>0</td>\n",
       "      <td>1</td>\n",
       "      <td>2</td>\n",
       "    </tr>\n",
       "    <tr>\n",
       "      <th>1</th>\n",
       "      <td>A_1_1_22</td>\n",
       "      <td>A_1_1_22_7</td>\n",
       "      <td>7</td>\n",
       "      <td>resin filling restoration procedure</td>\n",
       "      <td>2004-07-11</td>\n",
       "      <td>D2330</td>\n",
       "      <td>resin-based composite - one surface, anterior</td>\n",
       "      <td>0</td>\n",
       "      <td>0</td>\n",
       "      <td>0</td>\n",
       "      <td>0</td>\n",
       "      <td>1</td>\n",
       "      <td>0</td>\n",
       "      <td>0</td>\n",
       "      <td>1</td>\n",
       "    </tr>\n",
       "    <tr>\n",
       "      <th>2</th>\n",
       "      <td>A_1_1_22</td>\n",
       "      <td>A_1_1_22_7</td>\n",
       "      <td>7</td>\n",
       "      <td>resin filling restoration procedure</td>\n",
       "      <td>2011-12-03</td>\n",
       "      <td>D2330</td>\n",
       "      <td>resin-based composite - one surface, anterior</td>\n",
       "      <td>0</td>\n",
       "      <td>0</td>\n",
       "      <td>1</td>\n",
       "      <td>0</td>\n",
       "      <td>0</td>\n",
       "      <td>0</td>\n",
       "      <td>0</td>\n",
       "      <td>1</td>\n",
       "    </tr>\n",
       "    <tr>\n",
       "      <th>3</th>\n",
       "      <td>A_1_1_342</td>\n",
       "      <td>A_1_1_342_7</td>\n",
       "      <td>7</td>\n",
       "      <td>ceramic crown restoration procedure</td>\n",
       "      <td>2013-03-18</td>\n",
       "      <td>D2740</td>\n",
       "      <td>crown - porcelain/ceramic substrate</td>\n",
       "      <td>0</td>\n",
       "      <td>0</td>\n",
       "      <td>0</td>\n",
       "      <td>0</td>\n",
       "      <td>0</td>\n",
       "      <td>0</td>\n",
       "      <td>0</td>\n",
       "      <td>0</td>\n",
       "    </tr>\n",
       "    <tr>\n",
       "      <th>4</th>\n",
       "      <td>A_1_1_412</td>\n",
       "      <td>A_1_1_412_7</td>\n",
       "      <td>7</td>\n",
       "      <td>resin filling restoration procedure</td>\n",
       "      <td>2012-01-22</td>\n",
       "      <td>D2331</td>\n",
       "      <td>resin-based composite - two surfaces, anterior</td>\n",
       "      <td>1</td>\n",
       "      <td>0</td>\n",
       "      <td>0</td>\n",
       "      <td>0</td>\n",
       "      <td>0</td>\n",
       "      <td>1</td>\n",
       "      <td>0</td>\n",
       "      <td>2</td>\n",
       "    </tr>\n",
       "  </tbody>\n",
       "</table>\n",
       "</div>"
      ],
      "text/plain": [
       "  patient_id     tooth_id tooth_num                                event  \\\n",
       "0   A_1_1_17   A_1_1_17_7         7  resin filling restoration procedure   \n",
       "1   A_1_1_22   A_1_1_22_7         7  resin filling restoration procedure   \n",
       "2   A_1_1_22   A_1_1_22_7         7  resin filling restoration procedure   \n",
       "3  A_1_1_342  A_1_1_342_7         7  ceramic crown restoration procedure   \n",
       "4  A_1_1_412  A_1_1_412_7         7  resin filling restoration procedure   \n",
       "\n",
       "  event_date cdt_code                                       cdt_label  m  o  \\\n",
       "0 2011-04-23    D2331  resin-based composite - two surfaces, anterior  1  0   \n",
       "1 2004-07-11    D2330   resin-based composite - one surface, anterior  0  0   \n",
       "2 2011-12-03    D2330   resin-based composite - one surface, anterior  0  0   \n",
       "3 2013-03-18    D2740             crown - porcelain/ceramic substrate  0  0   \n",
       "4 2012-01-22    D2331  resin-based composite - two surfaces, anterior  1  0   \n",
       "\n",
       "   d  b  f  l  i  num_surfaces  \n",
       "0  0  0  0  0  1             2  \n",
       "1  0  0  1  0  0             1  \n",
       "2  1  0  0  0  0             1  \n",
       "3  0  0  0  0  0             0  \n",
       "4  0  0  0  1  0             2  "
      ]
     },
     "execution_count": 118,
     "metadata": {},
     "output_type": "execute_result"
    }
   ],
   "source": [
    "tooth_proc_df.head()"
   ]
  },
  {
   "cell_type": "code",
   "execution_count": null,
   "metadata": {},
   "outputs": [],
   "source": []
  }
 ],
 "metadata": {
  "kernelspec": {
   "display_name": "Python 3",
   "language": "python",
   "name": "python3"
  },
  "language_info": {
   "codemirror_mode": {
    "name": "ipython",
    "version": 3
   },
   "file_extension": ".py",
   "mimetype": "text/x-python",
   "name": "python",
   "nbconvert_exporter": "python",
   "pygments_lexer": "ipython3",
   "version": "3.7.3"
  }
 },
 "nbformat": 4,
 "nbformat_minor": 4
}
