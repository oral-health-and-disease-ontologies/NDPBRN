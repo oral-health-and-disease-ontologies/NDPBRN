{
 "cells": [
  {
   "cell_type": "code",
   "execution_count": 1,
   "metadata": {},
   "outputs": [],
   "source": [
    "from rdflib import Graph, ConjunctiveGraph, RDF, RDFS, OWL\n",
    "from SPARQLWrapper import SPARQLWrapper2\n",
    "import pandas as pds\n",
    "import numpy as np\n",
    "import seaborn as sns\n",
    "import matplotlib.pyplot as plt\n",
    "from tabulate import tabulate\n",
    "import functools"
   ]
  },
  {
   "cell_type": "markdown",
   "metadata": {},
   "source": [
    "## define function for printing pandas dataframes as markdown"
   ]
  },
  {
   "cell_type": "code",
   "execution_count": 2,
   "metadata": {},
   "outputs": [],
   "source": [
    "def print_pandas_md(df):\n",
    "    print(tabulate(df, tablefmt=\"pipe\", headers=\"keys\"))"
   ]
  },
  {
   "cell_type": "markdown",
   "metadata": {},
   "source": [
    "## define function for converting sparql results to a dataframe"
   ]
  },
  {
   "cell_type": "code",
   "execution_count": 3,
   "metadata": {},
   "outputs": [],
   "source": [
    "def sparql_to_df(results):\n",
    "    data = {}\n",
    "    for variable in results.variables:\n",
    "        data[variable] = [x.value for x in results.getValues(variable)]\n",
    "    return pds.DataFrame(data)"
   ]
  },
  {
   "cell_type": "markdown",
   "metadata": {},
   "source": [
    "## define function to round values in an interval object"
   ]
  },
  {
   "cell_type": "code",
   "execution_count": 4,
   "metadata": {},
   "outputs": [],
   "source": [
    "def round_interval(interval):\n",
    "    left_val = round(interval.left)\n",
    "    right_val = round(interval.right)\n",
    "    return pds.Interval(left=left_val, right=right_val, closed='left')"
   ]
  },
  {
   "cell_type": "markdown",
   "metadata": {},
   "source": [
    "## set connection to local triple store"
   ]
  },
  {
   "cell_type": "code",
   "execution_count": 5,
   "metadata": {},
   "outputs": [],
   "source": [
    "sparql = SPARQLWrapper2(\"http://192.168.1.243:7200/repositories/EDR_NO_ES\")"
   ]
  },
  {
   "cell_type": "markdown",
   "metadata": {},
   "source": [
    "## define some standard prefixes to use in queries"
   ]
  },
  {
   "cell_type": "code",
   "execution_count": 6,
   "metadata": {},
   "outputs": [],
   "source": [
    "prefixes = \"\"\"\n",
    "PREFIX obo: <http://purl.obolibrary.org/obo/>\n",
    "PREFIX part_of: <http://purl.obolibrary.org/obo/BFO_0000050>\n",
    "PREFIX has_part: <http://purl.obolibrary.org/obo/BFO_0000051>\n",
    "PREFIX material: <http://purl.obolibrary.org/obo/OHD_0000000>\n",
    "PREFIX tooth: <http://purl.obolibrary.org/obo/FMA_12516>\n",
    "PREFIX restored_tooh: <http://purl.obolibrary.org/obo/OHD_0000189>\n",
    "PREFIX surface: <http://purl.obolibrary.org/obo/FMA_no_fmaid_Surface_enamel_of_tooth>\n",
    "PREFIX restored_surface: <http://purl.obolibrary.org/obo/OHD_0000208>\n",
    "PREFIX restored_buccal: <http://purl.obolibrary.org/obo/OHD_0000222>\n",
    "PREFIX restored_distal: <http://purl.obolibrary.org/obo/OHD_0000223>\n",
    "PREFIX restored_mesial: <http://purl.obolibrary.org/obo/OHD_0000227>\n",
    "PREFIX restored_labial: <http://purl.obolibrary.org/obo/OHD_0000225>\n",
    "PREFIX restored_lingual: <http://purl.obolibrary.org/obo/OHD_0000226>\n",
    "PREFIX restored_incisal: <http://purl.obolibrary.org/obo/OHD_0000224>\n",
    "PREFIX restored_occlusal: <http://purl.obolibrary.org/obo/OHD_0000228>\n",
    "PREFIX rdfs: <http://www.w3.org/2000/01/rdf-schema#>\n",
    "PREFIX owl: <http://www.w3.org/2002/07/owl#>\n",
    "PREFIX ada_num: <http://purl.obolibrary.org/obo/OHD_0000065>\n",
    "PREFIX patient: <http://purl.obolibrary.org/obo/OHD_0000012>\n",
    "PREFIX male_patient: <http://purl.obolibrary.org/obo/OHD_0000054>\n",
    "PREFIX female_patient: <http://purl.obolibrary.org/obo/OHD_0000049>\n",
    "PREFIX provider: <http://purl.obolibrary.org/obo/OHD_0000051>\n",
    "PREFIX procedure: <http://purl.obolibrary.org/obo/OHD_0000002>\n",
    "PREFIX restoration_procedure: <http://purl.obolibrary.org/obo/OHD_0000004>\n",
    "PREFIX participates_in: <http://purl.obolibrary.org/obo/BFO_0000056>\n",
    "PREFIX has_participant: <http://purl.obolibrary.org/obo/BFO_0000057>\n",
    "PREFIX has_specified_input: <http://purl.obolibrary.org/obo/OBI_0000293>\n",
    "PREFIX has_specified_output: <http://purl.obolibrary.org/obo/OBI_0000299>\n",
    "PREFIX sesame: <http://www.openrdf.org/schema/sesame#>\n",
    "PREFIX birth_date: <http://purl.obolibrary.org/obo/OHD_0000050>\n",
    "PREFIX npbrn_id: <http://purl.obolibrary.org/obo/OHD_0000273>\n",
    "PREFIX occur_date: <http://purl.obolibrary.org/obo/OHD_0000015>\n",
    "PREFIX cdt_code: <http://purl.obolibrary.org/obo/CDT_1000001>\n",
    "PREFIX is_about: <http://purl.obolibrary.org/obo/IAO_0000136>\n",
    "PREFIX dc: <http://purl.org/dc/elements/1.1/>\n",
    "\"\"\""
   ]
  },
  {
   "cell_type": "markdown",
   "metadata": {},
   "source": [
    "## find teeth that underwenta a procedure"
   ]
  },
  {
   "cell_type": "code",
   "execution_count": 9,
   "metadata": {},
   "outputs": [],
   "source": [
    "q = \"\"\"\n",
    "%s\n",
    "select \n",
    "    ?patient_id\n",
    "    ?tooth_id\n",
    "    ?tooth_num\n",
    "    ?event\n",
    "    ?event_date\n",
    "    ?cdt_code\n",
    "    ?cdt_label\n",
    "    ?m\n",
    "    ?o\n",
    "    ?d\n",
    "    ?b\n",
    "    ?f\n",
    "    ?l\n",
    "    ?i\n",
    "where {\n",
    "    ?patient_i a patient: .\n",
    "    ?tooth_i a tooth:;\n",
    "             part_of: ?patient_i;\n",
    "             sesame:directType ?tooth_t .\n",
    "    ?tooth_t ada_num: ?ada_num .\n",
    "            \n",
    "    ?proc_i a procedure:;\n",
    "            sesame:directType ?proc_t;\n",
    "            has_specified_input: ?tooth_i;\n",
    "            occur_date: ?occur_date .\n",
    "    ?proc_t rdfs:label ?proc_label .\n",
    "    \n",
    "    ?code_i a cdt_code:;\n",
    "               \tsesame:directType ?code_t;\n",
    "                is_about: ?proc_i .\n",
    "    \n",
    "    ?code_t dc:identifier ?cdt_code;\n",
    "            obo:cdt_label ?cdt_label .\n",
    "    \n",
    "    optional {\n",
    "        ?buccal_i a restored_buccal: .\n",
    "        ?proc_i has_specified_output: ?buccal_i .\n",
    "    }\n",
    "    bind(if(bound(?buccal_i), 1, 0) as ?b)\n",
    "    \n",
    "    optional {\n",
    "        ?distal_i a restored_distal: .\n",
    "        ?proc_i has_specified_output: ?distal_i .\n",
    "    }\n",
    "    bind(if(bound(?distal_i), 1, 0) as ?d)\n",
    "    \n",
    "    optional {\n",
    "        ?facial_i a restored_labial: .\n",
    "        ?proc_i has_specified_output: ?facial_i .\n",
    "    }\n",
    "     bind(if(bound(?facial_i), 1, 0) as ?f)\n",
    "    \n",
    "    optional {\n",
    "        ?incisal_i a restored_incisal: .\n",
    "        ?proc_i has_specified_output: ?incisal_i .\n",
    "    }\n",
    "     bind(if(bound(?incisal_i), 1, 0) as ?i)\n",
    "    \n",
    "    optional {\n",
    "        ?lingual_i a restored_lingual: .\n",
    "        ?proc_i has_specified_output: ?lingual_i .\n",
    "    }\n",
    "     bind(if(bound(?lingual_i), 1, 0) as ?l)\n",
    "    \n",
    "    optional {\n",
    "        ?mesial_i a restored_mesial: .\n",
    "        ?proc_i has_specified_output: ?mesial_i .\n",
    "    }\n",
    "     bind(if(bound(?mesial_i), 1, 0) as ?m)\n",
    "    \n",
    "    optional {\n",
    "        ?occlusal_i a restored_occlusal: .\n",
    "        ?proc_i has_specified_output: ?occlusal_i .\n",
    "    }\n",
    "    bind(if(bound(?occlusal_i), 1, 0) as ?o)\n",
    "    \n",
    "    filter (!isblank(?proc_i))\n",
    "    filter (!isblank(?tooth_i))\n",
    "    filter (!isblank(?proc_i))\n",
    "    \n",
    "    bind(strafter(str(?patient_i), \"patient/\") as ?patient_id)\n",
    "    bind(strafter(str(?tooth_i), \"tooth/\") as ?tooth_id)\n",
    "    bind(str(?proc_label) as ?event) # removes the laguage tags\n",
    "    bind(strafter(?ada_num, \"Tooth \") as ?tooth_num)\n",
    "    bind(strbefore(str(?occur_date), \"T\") as ?event_date)\n",
    "    \n",
    "}\n",
    "\"\"\" % prefixes\n",
    "# print(q)"
   ]
  },
  {
   "cell_type": "code",
   "execution_count": null,
   "metadata": {},
   "outputs": [],
   "source": [
    "sparql.setQuery(q)\n",
    "res = sparql.query()\n",
    "tooth_proc_df = sparql_to_df(res)"
   ]
  },
  {
   "cell_type": "code",
   "execution_count": null,
   "metadata": {},
   "outputs": [],
   "source": [
    "tooth_proc_df.drop_duplicates(inplace=True) # make sure there are not duplicates\n",
    "len(tooth_proc_df)"
   ]
  },
  {
   "cell_type": "code",
   "execution_count": null,
   "metadata": {},
   "outputs": [],
   "source": [
    "patient_df.to_csv('triplestore-tooth-procedure-info.tsv', sep='\\t')"
   ]
  },
  {
   "cell_type": "code",
   "execution_count": null,
   "metadata": {},
   "outputs": [],
   "source": []
  }
 ],
 "metadata": {
  "kernelspec": {
   "display_name": "Python 3",
   "language": "python",
   "name": "python3"
  },
  "language_info": {
   "codemirror_mode": {
    "name": "ipython",
    "version": 3
   },
   "file_extension": ".py",
   "mimetype": "text/x-python",
   "name": "python",
   "nbconvert_exporter": "python",
   "pygments_lexer": "ipython3",
   "version": "3.7.3"
  }
 },
 "nbformat": 4,
 "nbformat_minor": 4
}
