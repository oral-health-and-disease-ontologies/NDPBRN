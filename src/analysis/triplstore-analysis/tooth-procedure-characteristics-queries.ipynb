{
 "cells": [
  {
   "cell_type": "code",
   "execution_count": 1,
   "metadata": {},
   "outputs": [],
   "source": [
    "from SPARQLWrapper import SPARQLWrapper2\n",
    "import pandas as pds"
   ]
  },
  {
   "cell_type": "markdown",
   "metadata": {},
   "source": [
    "## define function for converting sparql results to a dataframe"
   ]
  },
  {
   "cell_type": "code",
   "execution_count": 3,
   "metadata": {},
   "outputs": [],
   "source": [
    "def sparql_to_df(results):\n",
    "    data = {}\n",
    "    for variable in results.variables:\n",
    "        data[variable] = [x.value for x in results.getValues(variable)]\n",
    "    return pds.DataFrame(data)"
   ]
  },
  {
   "cell_type": "markdown",
   "metadata": {},
   "source": [
    "## set connection to local triple store"
   ]
  },
  {
   "cell_type": "code",
   "execution_count": 5,
   "metadata": {},
   "outputs": [],
   "source": [
    "# sparql = SPARQLWrapper2(\"http://192.168.1.243:7200/repositories/EDR_NO_ES\") # local server\n",
    "sparql = SPARQLWrapper2(\"http://10.16.128.24:7200/repositories/EDR_NO_ES\") # RI server"
   ]
  },
  {
   "cell_type": "markdown",
   "metadata": {},
   "source": [
    "## define some standard prefixes to use in queries"
   ]
  },
  {
   "cell_type": "code",
   "execution_count": 6,
   "metadata": {},
   "outputs": [],
   "source": [
    "prefixes = \"\"\"\n",
    "PREFIX obo: <http://purl.obolibrary.org/obo/>\n",
    "PREFIX part_of: <http://purl.obolibrary.org/obo/BFO_0000050>\n",
    "PREFIX has_part: <http://purl.obolibrary.org/obo/BFO_0000051>\n",
    "PREFIX material: <http://purl.obolibrary.org/obo/OHD_0000000>\n",
    "PREFIX tooth: <http://purl.obolibrary.org/obo/FMA_12516>\n",
    "PREFIX restored_tooh: <http://purl.obolibrary.org/obo/OHD_0000189>\n",
    "PREFIX surface: <http://purl.obolibrary.org/obo/FMA_no_fmaid_Surface_enamel_of_tooth>\n",
    "PREFIX restored_surface: <http://purl.obolibrary.org/obo/OHD_0000208>\n",
    "PREFIX restored_buccal: <http://purl.obolibrary.org/obo/OHD_0000222>\n",
    "PREFIX restored_distal: <http://purl.obolibrary.org/obo/OHD_0000223>\n",
    "PREFIX restored_mesial: <http://purl.obolibrary.org/obo/OHD_0000227>\n",
    "PREFIX restored_labial: <http://purl.obolibrary.org/obo/OHD_0000225>\n",
    "PREFIX restored_lingual: <http://purl.obolibrary.org/obo/OHD_0000226>\n",
    "PREFIX restored_incisal: <http://purl.obolibrary.org/obo/OHD_0000224>\n",
    "PREFIX restored_occlusal: <http://purl.obolibrary.org/obo/OHD_0000228>\n",
    "PREFIX rdfs: <http://www.w3.org/2000/01/rdf-schema#>\n",
    "PREFIX owl: <http://www.w3.org/2002/07/owl#>\n",
    "PREFIX ada_num: <http://purl.obolibrary.org/obo/OHD_0000065>\n",
    "PREFIX patient: <http://purl.obolibrary.org/obo/OHD_0000012>\n",
    "PREFIX male_patient: <http://purl.obolibrary.org/obo/OHD_0000054>\n",
    "PREFIX female_patient: <http://purl.obolibrary.org/obo/OHD_0000049>\n",
    "PREFIX provider: <http://purl.obolibrary.org/obo/OHD_0000051>\n",
    "PREFIX procedure: <http://purl.obolibrary.org/obo/OHD_0000002>\n",
    "PREFIX restoration_procedure: <http://purl.obolibrary.org/obo/OHD_0000004>\n",
    "PREFIX crown_procedure: <http://purl.obolibrary.org/obo/OHD_0000033>\n",
    "PREFIX filling_procedure: <http://purl.obolibrary.org/obo/OHD_0000006>\n",
    "PREFIX veneer_procedure: <http://purl.obolibrary.org/obo/OHD_0000027>\n",
    "PREFIX endodontic_procedure: <http://purl.obolibrary.org/obo/OHD_0000003>\n",
    "PREFIX endodontic_restorative_procedure:<http://purl.obolibrary.org/obo/OHD_0000242>\n",
    "PREFIX root_canal_treatment: <http://purl.obolibrary.org/obo/OHD_0000230>\n",
    "PREFIX tooth_extraction: <http://purl.obolibrary.org/obo/OHD_0000057>\n",
    "PREFIX participates_in: <http://purl.obolibrary.org/obo/BFO_0000056>\n",
    "PREFIX has_participant: <http://purl.obolibrary.org/obo/BFO_0000057>\n",
    "PREFIX has_specified_input: <http://purl.obolibrary.org/obo/OBI_0000293>\n",
    "PREFIX has_specified_output: <http://purl.obolibrary.org/obo/OBI_0000299>\n",
    "PREFIX sesame: <http://www.openrdf.org/schema/sesame#>\n",
    "PREFIX birth_date: <http://purl.obolibrary.org/obo/OHD_0000050>\n",
    "PREFIX npbrn_id: <http://purl.obolibrary.org/obo/OHD_0000273>\n",
    "PREFIX occur_date: <http://purl.obolibrary.org/obo/OHD_0000015>\n",
    "PREFIX cdt_code: <http://purl.obolibrary.org/obo/CDT_1000001>\n",
    "PREFIX is_about: <http://purl.obolibrary.org/obo/IAO_0000136>\n",
    "PREFIX dc: <http://purl.org/dc/elements/1.1/>\n",
    "PREFIX anterior_tooth: <http://purl.obolibrary.org/obo/OHD_0000307>\n",
    "PREFIX posterior_tooth: <http://purl.obolibrary.org/obo/OHD_0000308>\n",
    "PREFIX incisor: <http://purl.obolibrary.org/obo/FMA_12823>\n",
    "PREFIX canine: <http://purl.obolibrary.org/obo/FMA_55636>\n",
    "PREFIX premolar: <http://purl.obolibrary.org/obo/FMA_55637>\n",
    "PREFIX molar: <http://purl.obolibrary.org/obo/FMA_55638>\n",
    "\"\"\""
   ]
  },
  {
   "cell_type": "markdown",
   "metadata": {},
   "source": [
    "# Query/download data from triplestore"
   ]
  },
  {
   "cell_type": "markdown",
   "metadata": {},
   "source": [
    "## find teeth (and their surfaces) that underwent a procedure"
   ]
  },
  {
   "cell_type": "code",
   "execution_count": 7,
   "metadata": {},
   "outputs": [],
   "source": [
    "q = \"\"\"\n",
    "%s\n",
    "select \n",
    "    ?patient_id\n",
    "    ?tooth_id\n",
    "    ?tooth_num\n",
    "    ?proc_id\n",
    "    ?event\n",
    "    ?event_date\n",
    "    ?cdt_code\n",
    "    ?cdt_label\n",
    "where {\n",
    "    ?patient_i a patient: .\n",
    "    ?tooth_i a tooth:;\n",
    "             part_of: ?patient_i;\n",
    "             sesame:directType ?tooth_t .\n",
    "    ?tooth_t ada_num: ?ada_num .\n",
    "            \n",
    "    ?proc_i a procedure:;\n",
    "            sesame:directType ?proc_t;\n",
    "            has_specified_input: ?tooth_i;\n",
    "            occur_date: ?occur_date .\n",
    "    ?proc_t rdfs:label ?proc_label .\n",
    "    \n",
    "    ?code_i a cdt_code:;\n",
    "               \tsesame:directType ?code_t;\n",
    "                is_about: ?proc_i .\n",
    "    \n",
    "    ?code_t dc:identifier ?cdt_code;\n",
    "            obo:cdt_label ?cdt_label .\n",
    "    \n",
    "    \n",
    "    filter (!isblank(?patient_i))\n",
    "    filter (!isblank(?tooth_i))\n",
    "    filter (!isblank(?proc_i))\n",
    "    \n",
    "    bind(strafter(str(?patient_i), \"patient/\") as ?patient_id)\n",
    "    bind(strafter(str(?tooth_i), \"tooth/\") as ?tooth_id)\n",
    "    bind(strafter(str(?proc_i), \"procedure/\") as ?proc_id)\n",
    "    bind(str(?proc_label) as ?event) # removes the laguage tags\n",
    "    bind(strafter(?ada_num, \"Tooth \") as ?tooth_num)\n",
    "    bind(strbefore(str(?occur_date), \"T\") as ?event_date)\n",
    "    \n",
    "} \n",
    "\"\"\" % prefixes\n",
    "# print(q)"
   ]
  },
  {
   "cell_type": "code",
   "execution_count": 8,
   "metadata": {},
   "outputs": [],
   "source": [
    "sparql.setQuery(q)\n",
    "res = sparql.query()\n",
    "tooth_proc_df = sparql_to_df(res)"
   ]
  },
  {
   "cell_type": "code",
   "execution_count": 9,
   "metadata": {},
   "outputs": [
    {
     "data": {
      "text/plain": [
       "1645416"
      ]
     },
     "execution_count": 9,
     "metadata": {},
     "output_type": "execute_result"
    }
   ],
   "source": [
    "tooth_proc_df.drop_duplicates(inplace=True) # make sure there are not duplicates\n",
    "len(tooth_proc_df)"
   ]
  },
  {
   "cell_type": "markdown",
   "metadata": {},
   "source": [
    "## filter out invalid dates and convert datatypes (note: ignore warnings)"
   ]
  },
  {
   "cell_type": "code",
   "execution_count": 10,
   "metadata": {},
   "outputs": [],
   "source": [
    "tooth_proc_df = tooth_proc_df[tooth_proc_df.event_date.str.startswith('19') | tooth_proc_df.event_date.str.startswith('20')]"
   ]
  },
  {
   "cell_type": "code",
   "execution_count": 11,
   "metadata": {},
   "outputs": [],
   "source": [
    "tooth_proc_df.event_date = pds.to_datetime(tooth_proc_df.event_date)"
   ]
  },
  {
   "cell_type": "code",
   "execution_count": 12,
   "metadata": {},
   "outputs": [],
   "source": [
    "tooth_proc_df['patient_id'] = tooth_proc_df['patient_id'].astype(str)\n",
    "tooth_proc_df['tooth_id'] = tooth_proc_df['tooth_id'].astype(str)\n",
    "tooth_proc_df['tooth_num'] = tooth_proc_df['tooth_num'].astype(str)\n",
    "tooth_proc_df['cdt_code'] = tooth_proc_df['cdt_code'].astype(str)\n",
    "tooth_proc_df['cdt_label'] = tooth_proc_df['cdt_label'].astype(str)"
   ]
  },
  {
   "cell_type": "markdown",
   "metadata": {},
   "source": [
    "## save local copy of tooth/procedure info"
   ]
  },
  {
   "cell_type": "code",
   "execution_count": 13,
   "metadata": {},
   "outputs": [],
   "source": [
    "tooth_proc_df.to_csv('triplestore-tooth-procedure-info.tsv', sep='\\t')"
   ]
  },
  {
   "cell_type": "markdown",
   "metadata": {},
   "source": [
    "## find surfaces restored by procedures"
   ]
  },
  {
   "cell_type": "code",
   "execution_count": 7,
   "metadata": {},
   "outputs": [],
   "source": [
    "q = \"\"\"\n",
    "%s\n",
    "select distinct\n",
    "    ?patient_id\n",
    "    ?tooth_id\n",
    "    ?tooth_i\n",
    "    ?tooth_num\n",
    "    ?proc_i\n",
    "    ?surface_i\n",
    "    ?m\n",
    "    ?o\n",
    "    ?d\n",
    "    ?b\n",
    "    ?f\n",
    "    ?l\n",
    "    ?i\n",
    "where {\n",
    "    ?patient_i a patient: .\n",
    "    ?tooth_i a tooth:;\n",
    "             part_of: ?patient_i;\n",
    "             sesame:directType ?tooth_t .\n",
    "    ?tooth_t ada_num: ?ada_num .\n",
    "    \n",
    "    ?surface_i a restored_surface:;\n",
    "               sesame:directType ?surface_t .\n",
    "    \n",
    "    ?proc_i a procedure:;\n",
    "            sesame:directType ?proc_t;\n",
    "            has_specified_input: ?tooth_i;\n",
    "            has_specified_output: ?surface_i;\n",
    "            occur_date: ?occur_date .\n",
    "    \n",
    "    filter (!isblank(?patient_i))\n",
    "    filter (!isblank(?tooth_i))\n",
    "    filter (!isblank(?proc_i))\n",
    "    filter (!isblank(?surface_i))\n",
    "    filter (!isblank(?surface_t))\n",
    "    \n",
    "    bind (strafter(str(?patient_i), \"patient/\") as ?patient_id)\n",
    "    bind (strafter(str(?tooth_i), \"tooth/\") as ?tooth_id)\n",
    "    bind (strafter(str(?proc_i), \"procedure/\") as ?proc_id)\n",
    "    bind (strafter(?ada_num, \"Tooth \") as ?tooth_num)\n",
    "    bind(if(?surface_t = restored_buccal:, 1, 0) as ?b)\n",
    "    bind(if(?surface_t = restored_distal:, 1, 0) as ?d)\n",
    "    bind(if(?surface_t = restored_mesial:, 1, 0) as ?m)\n",
    "    bind(if(?surface_t = restored_labial:, 1, 0) as ?f)\n",
    "    bind(if(?surface_t = restored_lingual:, 1, 0) as ?l)\n",
    "    bind(if(?surface_t = restored_incisal:, 1, 0) as ?i)\n",
    "    bind(if(?surface_t = restored_occlusal:, 1, 0) as ?o)\n",
    "    \n",
    "}\n",
    "\"\"\" % prefixes\n",
    "# print(q)"
   ]
  },
  {
   "cell_type": "code",
   "execution_count": 8,
   "metadata": {},
   "outputs": [],
   "source": [
    "sparql.setQuery(q)\n",
    "res = sparql.query()\n",
    "proc_surface_df = sparql_to_df(res)"
   ]
  },
  {
   "cell_type": "code",
   "execution_count": 9,
   "metadata": {},
   "outputs": [
    {
     "data": {
      "text/plain": [
       "2626650"
      ]
     },
     "execution_count": 9,
     "metadata": {},
     "output_type": "execute_result"
    }
   ],
   "source": [
    "proc_surface_df.drop_duplicates(inplace=True) # make sure there are no dups\n",
    "len(proc_surface_df)"
   ]
  },
  {
   "cell_type": "markdown",
   "metadata": {},
   "source": [
    "## save local copy of procedure/surface info"
   ]
  },
  {
   "cell_type": "code",
   "execution_count": 10,
   "metadata": {},
   "outputs": [],
   "source": [
    "proc_surface_df.to_csv('triplestore-procedure-surface-info.tsv', sep='\\t')"
   ]
  },
  {
   "cell_type": "markdown",
   "metadata": {},
   "source": [
    "## find tooth type metadata for each tooth"
   ]
  },
  {
   "cell_type": "code",
   "execution_count": 11,
   "metadata": {},
   "outputs": [],
   "source": [
    "q = \"\"\"\n",
    "%s\n",
    "select distinct\n",
    "    ?patient_id\n",
    "    ?tooth_id\n",
    "    ?tooth_num\n",
    "    ?anterior\n",
    "    ?posterior\n",
    "    ?incisor\n",
    "    ?canine\n",
    "    ?premolar\n",
    "    ?molar\n",
    "where {\n",
    "    values ?tooth_type {incisor: canine: premolar: molar:}\n",
    "    ?patient_i a patient: .\n",
    "    ?tooth_i a ?tooth_type;\n",
    "             part_of: ?patient_i;\n",
    "             sesame:directType ?tooth_t . \n",
    "    ?tooth_t ada_num: ?ada_num .\n",
    "    \n",
    "    ?proc_i a procedure:;\n",
    "            has_specified_input: ?tooth_i.\n",
    "    \n",
    "    filter (!isblank(?patient_i))\n",
    "    filter (!isblank(?tooth_i))\n",
    "    filter (!isblank(?tooth_t))\n",
    "    filter (!isblank(?proc_i))\n",
    "    \n",
    "    bind (strafter(str(?patient_i), \"patient/\") as ?patient_id)\n",
    "    bind (strafter(str(?tooth_i), \"tooth/\") as ?tooth_id)\n",
    "    bind (strafter(?ada_num, \"Tooth \") as ?tooth_num)\n",
    "    bind (if(?tooth_type in (incisor:, canine:), 1, 0) as ?anterior)\n",
    "    bind (if(?tooth_type in (premolar:, molar:), 1, 0) as ?posterior)\n",
    "    bind (if(?tooth_type = incisor:, 1, 0) as ?incisor)\n",
    "    bind (if(?tooth_type = canine:, 1, 0) as ?canine)\n",
    "    bind (if(?tooth_type = premolar:, 1, 0) as ?premolar)\n",
    "    bind (if(?tooth_type = molar:, 1, 0) as ?molar)\n",
    "}\n",
    "\"\"\" % prefixes\n",
    "# print(q)\n"
   ]
  },
  {
   "cell_type": "code",
   "execution_count": null,
   "metadata": {},
   "outputs": [],
   "source": [
    "sparql.setQuery(q)\n",
    "res = sparql.query()\n",
    "tooth_type_df = sparql_to_df(res)"
   ]
  },
  {
   "cell_type": "code",
   "execution_count": 12,
   "metadata": {},
   "outputs": [],
   "source": [
    "tooth_type_df = pds.read_csv('triplestore-tooth-type-info.tsv', sep='\\t')"
   ]
  },
  {
   "cell_type": "code",
   "execution_count": 13,
   "metadata": {},
   "outputs": [
    {
     "data": {
      "text/plain": [
       "1210430"
      ]
     },
     "execution_count": 13,
     "metadata": {},
     "output_type": "execute_result"
    }
   ],
   "source": [
    "tooth_type_df.drop_duplicates(inplace=True) # make sure there are no dups\n",
    "len(tooth_type_df)"
   ]
  },
  {
   "cell_type": "markdown",
   "metadata": {},
   "source": [
    "## add maxillary maxilla (1-16) mandible (17-32) metadata"
   ]
  },
  {
   "cell_type": "code",
   "execution_count": 14,
   "metadata": {},
   "outputs": [],
   "source": [
    "tooth_type_df.tooth_num = tooth_type_df.tooth_num.astype(int) # convert tooth_num to int\n",
    "tooth_type_df['maxillary'] = tooth_type_df.tooth_num.map(lambda x: 1 if x < 17 else 0)\n",
    "tooth_type_df['mandibular'] = tooth_type_df.tooth_num.map(lambda x: 1 if x > 16 else 0)"
   ]
  },
  {
   "cell_type": "markdown",
   "metadata": {},
   "source": [
    "## add left/right metadata"
   ]
  },
  {
   "cell_type": "code",
   "execution_count": 15,
   "metadata": {},
   "outputs": [],
   "source": [
    "tooth_type_df['left'] = tooth_type_df.tooth_num.map(lambda x: 1 if x > 8 and x < 25 else 0)\n",
    "tooth_type_df['right'] = tooth_type_df.tooth_num.map(lambda x: 1 if x < 9 or x > 24 else 0)"
   ]
  },
  {
   "cell_type": "markdown",
   "metadata": {},
   "source": [
    "## save local copy of tooth type metadata info"
   ]
  },
  {
   "cell_type": "code",
   "execution_count": 16,
   "metadata": {},
   "outputs": [],
   "source": [
    "tooth_type_df.to_csv('triplestore-tooth-type-info.tsv', sep='\\t')"
   ]
  },
  {
   "cell_type": "markdown",
   "metadata": {},
   "source": [
    "## find materials used crowns (inluding onlays), fillings (including inlays), and veneers"
   ]
  },
  {
   "cell_type": "code",
   "execution_count": 17,
   "metadata": {},
   "outputs": [],
   "source": [
    "q = \"\"\"\n",
    "%s\n",
    "select distinct\n",
    "    ?patient_id\n",
    "    ?tooth_id\n",
    "    ?tooth_num\n",
    "    ?proc_id\n",
    "    ?restoration_type\n",
    "    ?material\n",
    "where {\n",
    "    values ?restoration_proc {crown_procedure: filling_procedure: veneer_procedure:}\n",
    "    ?patient_i a patient: .\n",
    "    ?tooth_i a tooth:;\n",
    "             part_of: ?patient_i;\n",
    "             sesame:directType ?tooth_t .\n",
    "    ?tooth_t ada_num: ?ada_num .\n",
    "    \n",
    "    ?material_i a material:;\n",
    "                sesame:directType ?material_t .\n",
    "    ?material_t rdfs:label ?material_label .\n",
    "    \n",
    "    ?proc_i a ?restoration_proc;\n",
    "            sesame:directType ?proc_t;\n",
    "            has_specified_input: ?tooth_i;\n",
    "            has_specified_input: ?material_i .\n",
    "    ?proc_t rdfs:label ?proc_label .\n",
    "    ?restoration_proc rdfs:label ?restoraton_label .\n",
    "    \n",
    "    filter (!isblank(?patient_i))\n",
    "    filter (!isblank(?tooth_i))\n",
    "    filter (!isblank(?proc_i))\n",
    "    \n",
    "    bind (strafter(str(?patient_i), \"patient/\") as ?patient_id)\n",
    "    bind (strafter(str(?tooth_i), \"tooth/\") as ?tooth_id)\n",
    "    bind (strafter(str(?proc_i), \"procedure/\") as ?proc_id)\n",
    "    bind (strbefore(str(?restoraton_label), \" restoration procedure\") as ?restoration_type)\n",
    "    bind (strafter(?ada_num, \"Tooth \") as ?tooth_num)\n",
    "    bind (strbefore(str(?material_label), \" dental restoration material\") as ?material)\n",
    "    \n",
    "}\n",
    "\"\"\" % prefixes\n",
    "# print(q)"
   ]
  },
  {
   "cell_type": "code",
   "execution_count": 18,
   "metadata": {},
   "outputs": [],
   "source": [
    "sparql.setQuery(q)\n",
    "res = sparql.query()\n",
    "proc_material_df = sparql_to_df(res)"
   ]
  },
  {
   "cell_type": "code",
   "execution_count": 19,
   "metadata": {},
   "outputs": [
    {
     "data": {
      "text/plain": [
       "1686822"
      ]
     },
     "execution_count": 19,
     "metadata": {},
     "output_type": "execute_result"
    }
   ],
   "source": [
    "proc_material_df.drop_duplicates(inplace=True) # make sure there are no dups\n",
    "len(proc_material_df)"
   ]
  },
  {
   "cell_type": "markdown",
   "metadata": {},
   "source": [
    "## save local copy of procedure/material info"
   ]
  },
  {
   "cell_type": "code",
   "execution_count": 20,
   "metadata": {},
   "outputs": [],
   "source": [
    "proc_material_df.to_csv('triplestore-proc-material-info.tsv', sep='\\t')"
   ]
  },
  {
   "cell_type": "code",
   "execution_count": null,
   "metadata": {},
   "outputs": [],
   "source": []
  }
 ],
 "metadata": {
  "kernelspec": {
   "display_name": "Python 3",
   "language": "python",
   "name": "python3"
  },
  "language_info": {
   "codemirror_mode": {
    "name": "ipython",
    "version": 3
   },
   "file_extension": ".py",
   "mimetype": "text/x-python",
   "name": "python",
   "nbconvert_exporter": "python",
   "pygments_lexer": "ipython3",
   "version": "3.7.3"
  }
 },
 "nbformat": 4,
 "nbformat_minor": 4
}
