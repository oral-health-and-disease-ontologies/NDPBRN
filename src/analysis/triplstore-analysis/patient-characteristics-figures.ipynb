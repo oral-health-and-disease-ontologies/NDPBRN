{
 "cells": [
  {
   "cell_type": "code",
   "execution_count": 57,
   "metadata": {},
   "outputs": [],
   "source": [
    "import pandas as pds\n",
    "import numpy as np\n",
    "import seaborn as sns\n",
    "import matplotlib.pyplot as plt\n",
    "from pandasql import sqldf\n",
    "from tabulate import tabulate\n",
    "import functools"
   ]
  },
  {
   "cell_type": "markdown",
   "metadata": {},
   "source": [
    "## define function for printing pandas dataframes as markdown (in case it is needed)"
   ]
  },
  {
   "cell_type": "code",
   "execution_count": 58,
   "metadata": {},
   "outputs": [],
   "source": [
    "def print_pandas_md(df):\n",
    "    print(tabulate(df, tablefmt=\"pipe\", headers=\"keys\"))"
   ]
  },
  {
   "cell_type": "markdown",
   "metadata": {},
   "source": [
    "## define function to round values in an interval object"
   ]
  },
  {
   "cell_type": "code",
   "execution_count": 59,
   "metadata": {},
   "outputs": [],
   "source": [
    "def round_interval(interval):\n",
    "    left_val = round(interval.left)\n",
    "    right_val = round(interval.right)\n",
    "    return pds.Interval(left=left_val, right=right_val, closed='left')"
   ]
  },
  {
   "cell_type": "markdown",
   "metadata": {},
   "source": [
    "## helper fuction for showing values on bars\n",
    "adapted from: https://stackoverflow.com/questions/43214978/seaborn-barplot-displaying-values"
   ]
  },
  {
   "cell_type": "code",
   "execution_count": 60,
   "metadata": {},
   "outputs": [],
   "source": [
    "def show_values_on_bars(axs, h_v=\"v\", horizontal_space=5, vertical_space=5, ha=\"center\", va=\"bottom\", fontsize=12):\n",
    "    def _show_on_single_plot(ax):\n",
    "        if h_v == \"v\":\n",
    "            for p in ax.patches:\n",
    "                _x = p.get_x() + p.get_width() / 2\n",
    "                _y = p.get_y() + p.get_height() + float(vertical_space)\n",
    "                # print(p.get_height())\n",
    "                value = int(p.get_height())\n",
    "                value = f\"{value:,}\" # add comma to value\n",
    "                ax.text(_x, _y, value, ha=ha, va=va, fontsize=fontsize) \n",
    "        elif h_v == \"h\":\n",
    "            for p in ax.patches:\n",
    "                _x = p.get_x() + p.get_width() + float(horizontal_space)\n",
    "                # print(p.get_width())\n",
    "                _y = p.get_y() + p.get_height() / 2\n",
    "                value = int(p.get_width())\n",
    "                value = f\"{value:,}\" # add comma to value\n",
    "                ax.text(_x, _y, value, ha=ha, va=va, fontsize=fontsize)\n",
    "\n",
    "    if isinstance(axs, np.ndarray):\n",
    "        for idx, ax in np.ndenumerate(axs):\n",
    "            _show_on_single_plot(ax)\n",
    "    else:\n",
    "        _show_on_single_plot(axs)"
   ]
  },
  {
   "cell_type": "markdown",
   "metadata": {},
   "source": [
    "## load saved data"
   ]
  },
  {
   "cell_type": "code",
   "execution_count": 61,
   "metadata": {},
   "outputs": [],
   "source": [
    "patient_df = pds.read_csv('triplestore-patient-info.tsv', sep='\\t')"
   ]
  },
  {
   "cell_type": "code",
   "execution_count": 62,
   "metadata": {},
   "outputs": [],
   "source": [
    "tooth_proc_df = pds.read_csv('triplestore-tooth-procedure-info.tsv', sep='\\t')"
   ]
  },
  {
   "cell_type": "markdown",
   "metadata": {},
   "source": [
    "# Plot data"
   ]
  },
  {
   "cell_type": "markdown",
   "metadata": {},
   "source": [
    "## plot get patient counts by gender"
   ]
  },
  {
   "cell_type": "code",
   "execution_count": 199,
   "metadata": {},
   "outputs": [
    {
     "data": {
      "text/html": [
       "<div>\n",
       "<style scoped>\n",
       "    .dataframe tbody tr th:only-of-type {\n",
       "        vertical-align: middle;\n",
       "    }\n",
       "\n",
       "    .dataframe tbody tr th {\n",
       "        vertical-align: top;\n",
       "    }\n",
       "\n",
       "    .dataframe thead th {\n",
       "        text-align: right;\n",
       "    }\n",
       "</style>\n",
       "<table border=\"1\" class=\"dataframe\">\n",
       "  <thead>\n",
       "    <tr style=\"text-align: right;\">\n",
       "      <th></th>\n",
       "      <th>total</th>\n",
       "      <th>percent</th>\n",
       "    </tr>\n",
       "  </thead>\n",
       "  <tbody>\n",
       "    <tr>\n",
       "      <th>female</th>\n",
       "      <td>121855</td>\n",
       "      <td>56.2</td>\n",
       "    </tr>\n",
       "    <tr>\n",
       "      <th>male</th>\n",
       "      <td>95047</td>\n",
       "      <td>43.8</td>\n",
       "    </tr>\n",
       "    <tr>\n",
       "      <th>total</th>\n",
       "      <td>216902</td>\n",
       "      <td>100.0</td>\n",
       "    </tr>\n",
       "  </tbody>\n",
       "</table>\n",
       "</div>"
      ],
      "text/plain": [
       "         total  percent\n",
       "female  121855     56.2\n",
       "male     95047     43.8\n",
       "total   216902    100.0"
      ]
     },
     "execution_count": 199,
     "metadata": {},
     "output_type": "execute_result"
    }
   ],
   "source": [
    "gender_count = pds.DataFrame(patient_df.gender.value_counts())\n",
    "# gender_count = patient_df.gender.value_counts()\n",
    "gender_count.loc['total'] = len(patient_df)\n",
    "gender_count['percent'] = (gender_count['gender']/len(patient_df)) * 100\n",
    "gender_count['percent'] = round(gender_count['percent'], 1)\n",
    "gender_count.columns = ['total', 'percent']\n",
    "gender_count"
   ]
  },
  {
   "cell_type": "code",
   "execution_count": 200,
   "metadata": {},
   "outputs": [],
   "source": [
    "# print_pandas_md(pds.DataFrame(gender_count)) # in case I need the table in markdown"
   ]
  },
  {
   "cell_type": "code",
   "execution_count": 201,
   "metadata": {},
   "outputs": [
    {
     "name": "stderr",
     "output_type": "stream",
     "text": [
      "/var/folders/y_/64f732h167b9rmtn1k_dc8f00000gn/T/ipykernel_28002/331486333.py:14: UserWarning: FixedFormatter should only be used together with FixedLocator\n",
      "  ax.set_yticklabels(['{:,}'.format(int(x)) for x in ax.get_yticks().tolist()])\n"
     ]
    },
    {
     "data": {
      "image/png": "[encoded data removed]",
      "text/plain": [
       "<Figure size 432x288 with 1 Axes>"
      ]
     },
     "metadata": {},
     "output_type": "display_data"
    }
   ],
   "source": [
    "%matplotlib inline\n",
    "sns.set()\n",
    "colors = ['magenta', 'blue', 'green']\n",
    "sns.set_palette(colors)\n",
    "\n",
    "# plot gender counts\n",
    "ax = sns.barplot(x=gender_count.index, y=gender_count['total'])\n",
    "ax.set_xlabel(\"\\nPatient Gender\", size=20)\n",
    "ax.set_ylabel(\"Gender Count\\n\", size=20)\n",
    "plt.xticks(size=15)\n",
    "plt.yticks(size=15)\n",
    "\n",
    "## put commas in y-ticks\n",
    "ax.set_yticklabels(['{:,}'.format(int(x)) for x in ax.get_yticks().tolist()])\n",
    "\n",
    "## put numbers on each bar\n",
    "show_values_on_bars(ax, h_v=\"v\", vertical_space=100, fontsize=16)\n",
    "\n",
    "## add extra room at top of figure\n",
    "ax.set_ylim(0, 245000)\n",
    "\n",
    "plt.savefig(\"figures/patient-gender-counts.png\", dpi=600, bbox_inches=\"tight\")\n",
    "plt.show()"
   ]
  },
  {
   "cell_type": "markdown",
   "metadata": {},
   "source": [
    "## calculate age distributions and plot"
   ]
  },
  {
   "cell_type": "markdown",
   "metadata": {},
   "source": [
    "### determine age intervals (i.e., bins)"
   ]
  },
  {
   "cell_type": "markdown",
   "metadata": {},
   "source": [
    "find min max ages"
   ]
  },
  {
   "cell_type": "code",
   "execution_count": 139,
   "metadata": {},
   "outputs": [
    {
     "name": "stdout",
     "output_type": "stream",
     "text": [
      "min: 1\n",
      "max: 112\n"
     ]
    }
   ],
   "source": [
    "print('min:', patient_df['patient_age'].min())\n",
    "print('max:', patient_df['patient_age'].max())"
   ]
  },
  {
   "cell_type": "markdown",
   "metadata": {},
   "source": [
    "use min/max to define bins for histogram  \n",
    "**note**: add 1 to max to capture last age value"
   ]
  },
  {
   "cell_type": "code",
   "execution_count": 241,
   "metadata": {},
   "outputs": [
    {
     "data": {
      "text/plain": [
       "array([  0.,  13.,  25.,  38.,  50.,  63.,  75.,  88., 100., 113.])"
      ]
     },
     "execution_count": 241,
     "metadata": {},
     "output_type": "execute_result"
    }
   ],
   "source": [
    "age_bins = np.linspace(0, 113, 10)\n",
    "age_bins = np.around(age_bins, decimals=0)\n",
    "age_bins"
   ]
  },
  {
   "cell_type": "markdown",
   "metadata": {},
   "source": [
    "### use age bins to create:\n",
    "* age_table\n",
    "* female_age_table\n",
    "* male_age_table  \n",
    "\n",
    "when finished merge all tables to single table"
   ]
  },
  {
   "cell_type": "code",
   "execution_count": 301,
   "metadata": {},
   "outputs": [
    {
     "data": {
      "text/html": [
       "<div>\n",
       "<style scoped>\n",
       "    .dataframe tbody tr th:only-of-type {\n",
       "        vertical-align: middle;\n",
       "    }\n",
       "\n",
       "    .dataframe tbody tr th {\n",
       "        vertical-align: top;\n",
       "    }\n",
       "\n",
       "    .dataframe thead th {\n",
       "        text-align: right;\n",
       "    }\n",
       "</style>\n",
       "<table border=\"1\" class=\"dataframe\">\n",
       "  <thead>\n",
       "    <tr style=\"text-align: right;\">\n",
       "      <th></th>\n",
       "      <th>age_range</th>\n",
       "      <th>total</th>\n",
       "    </tr>\n",
       "  </thead>\n",
       "  <tbody>\n",
       "    <tr>\n",
       "      <th>0</th>\n",
       "      <td>[0.0, 13.0)</td>\n",
       "      <td>4351</td>\n",
       "    </tr>\n",
       "    <tr>\n",
       "      <th>1</th>\n",
       "      <td>[13.0, 25.0)</td>\n",
       "      <td>33787</td>\n",
       "    </tr>\n",
       "    <tr>\n",
       "      <th>2</th>\n",
       "      <td>[25.0, 38.0)</td>\n",
       "      <td>50820</td>\n",
       "    </tr>\n",
       "    <tr>\n",
       "      <th>3</th>\n",
       "      <td>[38.0, 50.0)</td>\n",
       "      <td>44080</td>\n",
       "    </tr>\n",
       "    <tr>\n",
       "      <th>4</th>\n",
       "      <td>[50.0, 63.0)</td>\n",
       "      <td>44480</td>\n",
       "    </tr>\n",
       "    <tr>\n",
       "      <th>5</th>\n",
       "      <td>[63.0, 75.0)</td>\n",
       "      <td>26246</td>\n",
       "    </tr>\n",
       "    <tr>\n",
       "      <th>6</th>\n",
       "      <td>[75.0, 88.0)</td>\n",
       "      <td>10808</td>\n",
       "    </tr>\n",
       "    <tr>\n",
       "      <th>7</th>\n",
       "      <td>[88.0, 100.0)</td>\n",
       "      <td>2190</td>\n",
       "    </tr>\n",
       "    <tr>\n",
       "      <th>8</th>\n",
       "      <td>[100.0, 113.0)</td>\n",
       "      <td>140</td>\n",
       "    </tr>\n",
       "  </tbody>\n",
       "</table>\n",
       "</div>"
      ],
      "text/plain": [
       "        age_range  total\n",
       "0     [0.0, 13.0)   4351\n",
       "1    [13.0, 25.0)  33787\n",
       "2    [25.0, 38.0)  50820\n",
       "3    [38.0, 50.0)  44080\n",
       "4    [50.0, 63.0)  44480\n",
       "5    [63.0, 75.0)  26246\n",
       "6    [75.0, 88.0)  10808\n",
       "7   [88.0, 100.0)   2190\n",
       "8  [100.0, 113.0)    140"
      ]
     },
     "execution_count": 301,
     "metadata": {},
     "output_type": "execute_result"
    }
   ],
   "source": [
    "# determine age range counts\n",
    "# NB: use right=False in cut to make counts match the histogram\n",
    "age_table = \\\n",
    "    pds.DataFrame(pds.cut(patient_df['patient_age'], age_bins, right=False)\\\n",
    "                  .value_counts().sort_index()).reset_index()\n",
    "age_table.rename(columns={'index': 'age_range', 'patient_age': 'total'}, inplace=True)\n",
    "age_table"
   ]
  },
  {
   "cell_type": "code",
   "execution_count": 267,
   "metadata": {},
   "outputs": [
    {
     "data": {
      "text/html": [
       "<div>\n",
       "<style scoped>\n",
       "    .dataframe tbody tr th:only-of-type {\n",
       "        vertical-align: middle;\n",
       "    }\n",
       "\n",
       "    .dataframe tbody tr th {\n",
       "        vertical-align: top;\n",
       "    }\n",
       "\n",
       "    .dataframe thead th {\n",
       "        text-align: right;\n",
       "    }\n",
       "</style>\n",
       "<table border=\"1\" class=\"dataframe\">\n",
       "  <thead>\n",
       "    <tr style=\"text-align: right;\">\n",
       "      <th></th>\n",
       "      <th>age_range</th>\n",
       "      <th>female_total</th>\n",
       "    </tr>\n",
       "  </thead>\n",
       "  <tbody>\n",
       "    <tr>\n",
       "      <th>0</th>\n",
       "      <td>[0.0, 13.0)</td>\n",
       "      <td>2348</td>\n",
       "    </tr>\n",
       "    <tr>\n",
       "      <th>1</th>\n",
       "      <td>[13.0, 25.0)</td>\n",
       "      <td>17880</td>\n",
       "    </tr>\n",
       "    <tr>\n",
       "      <th>2</th>\n",
       "      <td>[25.0, 38.0)</td>\n",
       "      <td>29622</td>\n",
       "    </tr>\n",
       "    <tr>\n",
       "      <th>3</th>\n",
       "      <td>[38.0, 50.0)</td>\n",
       "      <td>25424</td>\n",
       "    </tr>\n",
       "    <tr>\n",
       "      <th>4</th>\n",
       "      <td>[50.0, 63.0)</td>\n",
       "      <td>25086</td>\n",
       "    </tr>\n",
       "    <tr>\n",
       "      <th>5</th>\n",
       "      <td>[63.0, 75.0)</td>\n",
       "      <td>14273</td>\n",
       "    </tr>\n",
       "    <tr>\n",
       "      <th>6</th>\n",
       "      <td>[75.0, 88.0)</td>\n",
       "      <td>5818</td>\n",
       "    </tr>\n",
       "    <tr>\n",
       "      <th>7</th>\n",
       "      <td>[88.0, 100.0)</td>\n",
       "      <td>1307</td>\n",
       "    </tr>\n",
       "    <tr>\n",
       "      <th>8</th>\n",
       "      <td>[100.0, 113.0)</td>\n",
       "      <td>97</td>\n",
       "    </tr>\n",
       "  </tbody>\n",
       "</table>\n",
       "</div>"
      ],
      "text/plain": [
       "        age_range  female_total\n",
       "0     [0.0, 13.0)          2348\n",
       "1    [13.0, 25.0)         17880\n",
       "2    [25.0, 38.0)         29622\n",
       "3    [38.0, 50.0)         25424\n",
       "4    [50.0, 63.0)         25086\n",
       "5    [63.0, 75.0)         14273\n",
       "6    [75.0, 88.0)          5818\n",
       "7   [88.0, 100.0)          1307\n",
       "8  [100.0, 113.0)            97"
      ]
     },
     "execution_count": 267,
     "metadata": {},
     "output_type": "execute_result"
    }
   ],
   "source": [
    "# determine female age range counts\n",
    "# NB: use right=False in cut to make counts match the histogram\n",
    "females = patient_df.query(\"gender == 'female'\")['patient_age']\n",
    "female_age_table = \\\n",
    "    pds.DataFrame(pds.cut(females, age_bins, right=False)\\\n",
    "                  .value_counts().sort_index()).reset_index()\n",
    "female_age_table.rename(columns={'index': 'age_range', 'patient_age': 'female_total'}, inplace=True)\n",
    "female_age_table"
   ]
  },
  {
   "cell_type": "code",
   "execution_count": 268,
   "metadata": {},
   "outputs": [
    {
     "data": {
      "text/html": [
       "<div>\n",
       "<style scoped>\n",
       "    .dataframe tbody tr th:only-of-type {\n",
       "        vertical-align: middle;\n",
       "    }\n",
       "\n",
       "    .dataframe tbody tr th {\n",
       "        vertical-align: top;\n",
       "    }\n",
       "\n",
       "    .dataframe thead th {\n",
       "        text-align: right;\n",
       "    }\n",
       "</style>\n",
       "<table border=\"1\" class=\"dataframe\">\n",
       "  <thead>\n",
       "    <tr style=\"text-align: right;\">\n",
       "      <th></th>\n",
       "      <th>age_range</th>\n",
       "      <th>male_total</th>\n",
       "    </tr>\n",
       "  </thead>\n",
       "  <tbody>\n",
       "    <tr>\n",
       "      <th>0</th>\n",
       "      <td>[0.0, 13.0)</td>\n",
       "      <td>2003</td>\n",
       "    </tr>\n",
       "    <tr>\n",
       "      <th>1</th>\n",
       "      <td>[13.0, 25.0)</td>\n",
       "      <td>15907</td>\n",
       "    </tr>\n",
       "    <tr>\n",
       "      <th>2</th>\n",
       "      <td>[25.0, 38.0)</td>\n",
       "      <td>21198</td>\n",
       "    </tr>\n",
       "    <tr>\n",
       "      <th>3</th>\n",
       "      <td>[38.0, 50.0)</td>\n",
       "      <td>18656</td>\n",
       "    </tr>\n",
       "    <tr>\n",
       "      <th>4</th>\n",
       "      <td>[50.0, 63.0)</td>\n",
       "      <td>19394</td>\n",
       "    </tr>\n",
       "    <tr>\n",
       "      <th>5</th>\n",
       "      <td>[63.0, 75.0)</td>\n",
       "      <td>11973</td>\n",
       "    </tr>\n",
       "    <tr>\n",
       "      <th>6</th>\n",
       "      <td>[75.0, 88.0)</td>\n",
       "      <td>4990</td>\n",
       "    </tr>\n",
       "    <tr>\n",
       "      <th>7</th>\n",
       "      <td>[88.0, 100.0)</td>\n",
       "      <td>883</td>\n",
       "    </tr>\n",
       "    <tr>\n",
       "      <th>8</th>\n",
       "      <td>[100.0, 113.0)</td>\n",
       "      <td>43</td>\n",
       "    </tr>\n",
       "  </tbody>\n",
       "</table>\n",
       "</div>"
      ],
      "text/plain": [
       "        age_range  male_total\n",
       "0     [0.0, 13.0)        2003\n",
       "1    [13.0, 25.0)       15907\n",
       "2    [25.0, 38.0)       21198\n",
       "3    [38.0, 50.0)       18656\n",
       "4    [50.0, 63.0)       19394\n",
       "5    [63.0, 75.0)       11973\n",
       "6    [75.0, 88.0)        4990\n",
       "7   [88.0, 100.0)         883\n",
       "8  [100.0, 113.0)          43"
      ]
     },
     "execution_count": 268,
     "metadata": {},
     "output_type": "execute_result"
    }
   ],
   "source": [
    "# determine male age range counts\n",
    "# NB: use right=False in cut to make counts match the histogram\n",
    "males = patient_df.query(\"gender == 'male'\")['patient_age']\n",
    "male_age_table = \\\n",
    "    pds.DataFrame(pds.cut(males, age_bins, right=False)\\\n",
    "                  .value_counts().sort_index()).reset_index()\n",
    "male_age_table.rename(columns={'index': 'age_range', 'patient_age': 'male_total'}, inplace=True)\n",
    "male_age_table"
   ]
  },
  {
   "cell_type": "markdown",
   "metadata": {},
   "source": [
    "### merge into a single age table"
   ]
  },
  {
   "cell_type": "code",
   "execution_count": 302,
   "metadata": {},
   "outputs": [
    {
     "data": {
      "text/html": [
       "<div>\n",
       "<style scoped>\n",
       "    .dataframe tbody tr th:only-of-type {\n",
       "        vertical-align: middle;\n",
       "    }\n",
       "\n",
       "    .dataframe tbody tr th {\n",
       "        vertical-align: top;\n",
       "    }\n",
       "\n",
       "    .dataframe thead th {\n",
       "        text-align: right;\n",
       "    }\n",
       "</style>\n",
       "<table border=\"1\" class=\"dataframe\">\n",
       "  <thead>\n",
       "    <tr style=\"text-align: right;\">\n",
       "      <th></th>\n",
       "      <th>age_range</th>\n",
       "      <th>total</th>\n",
       "      <th>female_total</th>\n",
       "      <th>male_total</th>\n",
       "    </tr>\n",
       "  </thead>\n",
       "  <tbody>\n",
       "    <tr>\n",
       "      <th>0</th>\n",
       "      <td>[0.0, 13.0)</td>\n",
       "      <td>4351</td>\n",
       "      <td>2348</td>\n",
       "      <td>2003</td>\n",
       "    </tr>\n",
       "    <tr>\n",
       "      <th>1</th>\n",
       "      <td>[13.0, 25.0)</td>\n",
       "      <td>33787</td>\n",
       "      <td>17880</td>\n",
       "      <td>15907</td>\n",
       "    </tr>\n",
       "    <tr>\n",
       "      <th>2</th>\n",
       "      <td>[25.0, 38.0)</td>\n",
       "      <td>50820</td>\n",
       "      <td>29622</td>\n",
       "      <td>21198</td>\n",
       "    </tr>\n",
       "    <tr>\n",
       "      <th>3</th>\n",
       "      <td>[38.0, 50.0)</td>\n",
       "      <td>44080</td>\n",
       "      <td>25424</td>\n",
       "      <td>18656</td>\n",
       "    </tr>\n",
       "    <tr>\n",
       "      <th>4</th>\n",
       "      <td>[50.0, 63.0)</td>\n",
       "      <td>44480</td>\n",
       "      <td>25086</td>\n",
       "      <td>19394</td>\n",
       "    </tr>\n",
       "    <tr>\n",
       "      <th>5</th>\n",
       "      <td>[63.0, 75.0)</td>\n",
       "      <td>26246</td>\n",
       "      <td>14273</td>\n",
       "      <td>11973</td>\n",
       "    </tr>\n",
       "    <tr>\n",
       "      <th>6</th>\n",
       "      <td>[75.0, 88.0)</td>\n",
       "      <td>10808</td>\n",
       "      <td>5818</td>\n",
       "      <td>4990</td>\n",
       "    </tr>\n",
       "    <tr>\n",
       "      <th>7</th>\n",
       "      <td>[88.0, 100.0)</td>\n",
       "      <td>2190</td>\n",
       "      <td>1307</td>\n",
       "      <td>883</td>\n",
       "    </tr>\n",
       "    <tr>\n",
       "      <th>8</th>\n",
       "      <td>[100.0, 113.0)</td>\n",
       "      <td>140</td>\n",
       "      <td>97</td>\n",
       "      <td>43</td>\n",
       "    </tr>\n",
       "  </tbody>\n",
       "</table>\n",
       "</div>"
      ],
      "text/plain": [
       "        age_range  total  female_total  male_total\n",
       "0     [0.0, 13.0)   4351          2348        2003\n",
       "1    [13.0, 25.0)  33787         17880       15907\n",
       "2    [25.0, 38.0)  50820         29622       21198\n",
       "3    [38.0, 50.0)  44080         25424       18656\n",
       "4    [50.0, 63.0)  44480         25086       19394\n",
       "5    [63.0, 75.0)  26246         14273       11973\n",
       "6    [75.0, 88.0)  10808          5818        4990\n",
       "7   [88.0, 100.0)   2190          1307         883\n",
       "8  [100.0, 113.0)    140            97          43"
      ]
     },
     "execution_count": 302,
     "metadata": {},
     "output_type": "execute_result"
    }
   ],
   "source": [
    "age_table = pds.merge(pds.merge(age_table, female_age_table), male_age_table)\n",
    "age_table"
   ]
  },
  {
   "cell_type": "markdown",
   "metadata": {},
   "source": [
    "### calculate percentages"
   ]
  },
  {
   "cell_type": "code",
   "execution_count": 303,
   "metadata": {},
   "outputs": [
    {
     "data": {
      "text/html": [
       "<div>\n",
       "<style scoped>\n",
       "    .dataframe tbody tr th:only-of-type {\n",
       "        vertical-align: middle;\n",
       "    }\n",
       "\n",
       "    .dataframe tbody tr th {\n",
       "        vertical-align: top;\n",
       "    }\n",
       "\n",
       "    .dataframe thead th {\n",
       "        text-align: right;\n",
       "    }\n",
       "</style>\n",
       "<table border=\"1\" class=\"dataframe\">\n",
       "  <thead>\n",
       "    <tr style=\"text-align: right;\">\n",
       "      <th></th>\n",
       "      <th>age_range</th>\n",
       "      <th>total</th>\n",
       "      <th>female_total</th>\n",
       "      <th>male_total</th>\n",
       "      <th>percent</th>\n",
       "      <th>percent_female</th>\n",
       "      <th>percent_male</th>\n",
       "    </tr>\n",
       "  </thead>\n",
       "  <tbody>\n",
       "    <tr>\n",
       "      <th>0</th>\n",
       "      <td>[0.0, 13.0)</td>\n",
       "      <td>4351</td>\n",
       "      <td>2348</td>\n",
       "      <td>2003</td>\n",
       "      <td>2.0</td>\n",
       "      <td>54.0</td>\n",
       "      <td>46.0</td>\n",
       "    </tr>\n",
       "    <tr>\n",
       "      <th>1</th>\n",
       "      <td>[13.0, 25.0)</td>\n",
       "      <td>33787</td>\n",
       "      <td>17880</td>\n",
       "      <td>15907</td>\n",
       "      <td>15.6</td>\n",
       "      <td>52.9</td>\n",
       "      <td>47.1</td>\n",
       "    </tr>\n",
       "    <tr>\n",
       "      <th>2</th>\n",
       "      <td>[25.0, 38.0)</td>\n",
       "      <td>50820</td>\n",
       "      <td>29622</td>\n",
       "      <td>21198</td>\n",
       "      <td>23.4</td>\n",
       "      <td>58.3</td>\n",
       "      <td>41.7</td>\n",
       "    </tr>\n",
       "    <tr>\n",
       "      <th>3</th>\n",
       "      <td>[38.0, 50.0)</td>\n",
       "      <td>44080</td>\n",
       "      <td>25424</td>\n",
       "      <td>18656</td>\n",
       "      <td>20.3</td>\n",
       "      <td>57.7</td>\n",
       "      <td>42.3</td>\n",
       "    </tr>\n",
       "    <tr>\n",
       "      <th>4</th>\n",
       "      <td>[50.0, 63.0)</td>\n",
       "      <td>44480</td>\n",
       "      <td>25086</td>\n",
       "      <td>19394</td>\n",
       "      <td>20.5</td>\n",
       "      <td>56.4</td>\n",
       "      <td>43.6</td>\n",
       "    </tr>\n",
       "    <tr>\n",
       "      <th>5</th>\n",
       "      <td>[63.0, 75.0)</td>\n",
       "      <td>26246</td>\n",
       "      <td>14273</td>\n",
       "      <td>11973</td>\n",
       "      <td>12.1</td>\n",
       "      <td>54.4</td>\n",
       "      <td>45.6</td>\n",
       "    </tr>\n",
       "    <tr>\n",
       "      <th>6</th>\n",
       "      <td>[75.0, 88.0)</td>\n",
       "      <td>10808</td>\n",
       "      <td>5818</td>\n",
       "      <td>4990</td>\n",
       "      <td>5.0</td>\n",
       "      <td>53.8</td>\n",
       "      <td>46.2</td>\n",
       "    </tr>\n",
       "    <tr>\n",
       "      <th>7</th>\n",
       "      <td>[88.0, 100.0)</td>\n",
       "      <td>2190</td>\n",
       "      <td>1307</td>\n",
       "      <td>883</td>\n",
       "      <td>1.0</td>\n",
       "      <td>59.7</td>\n",
       "      <td>40.3</td>\n",
       "    </tr>\n",
       "    <tr>\n",
       "      <th>8</th>\n",
       "      <td>[100.0, 113.0)</td>\n",
       "      <td>140</td>\n",
       "      <td>97</td>\n",
       "      <td>43</td>\n",
       "      <td>0.1</td>\n",
       "      <td>69.3</td>\n",
       "      <td>30.7</td>\n",
       "    </tr>\n",
       "  </tbody>\n",
       "</table>\n",
       "</div>"
      ],
      "text/plain": [
       "        age_range  total  female_total  male_total  percent  percent_female  \\\n",
       "0     [0.0, 13.0)   4351          2348        2003      2.0            54.0   \n",
       "1    [13.0, 25.0)  33787         17880       15907     15.6            52.9   \n",
       "2    [25.0, 38.0)  50820         29622       21198     23.4            58.3   \n",
       "3    [38.0, 50.0)  44080         25424       18656     20.3            57.7   \n",
       "4    [50.0, 63.0)  44480         25086       19394     20.5            56.4   \n",
       "5    [63.0, 75.0)  26246         14273       11973     12.1            54.4   \n",
       "6    [75.0, 88.0)  10808          5818        4990      5.0            53.8   \n",
       "7   [88.0, 100.0)   2190          1307         883      1.0            59.7   \n",
       "8  [100.0, 113.0)    140            97          43      0.1            69.3   \n",
       "\n",
       "   percent_male  \n",
       "0          46.0  \n",
       "1          47.1  \n",
       "2          41.7  \n",
       "3          42.3  \n",
       "4          43.6  \n",
       "5          45.6  \n",
       "6          46.2  \n",
       "7          40.3  \n",
       "8          30.7  "
      ]
     },
     "execution_count": 303,
     "metadata": {},
     "output_type": "execute_result"
    }
   ],
   "source": [
    "age_table['percent'] = round((age_table['total'] / len(patient_df)) * 100, 1)\n",
    "age_table['percent_female'] = round((age_table['female_total'] / age_table['total']) * 100, 1)\n",
    "age_table['percent_male'] = round((age_table['male_total'] / age_table['total']) * 100, 1)\n",
    "age_table"
   ]
  },
  {
   "cell_type": "code",
   "execution_count": 288,
   "metadata": {
    "tags": []
   },
   "outputs": [
    {
     "name": "stderr",
     "output_type": "stream",
     "text": [
      "/var/folders/y_/64f732h167b9rmtn1k_dc8f00000gn/T/ipykernel_28002/520921909.py:15: UserWarning: FixedFormatter should only be used together with FixedLocator\n",
      "  ax.set_yticklabels(['{:,}'.format(int(x)) for x in ax.get_yticks().tolist()])\n",
      "No handles with labels found to put in legend.\n"
     ]
    },
    {
     "data": {
      "image/png": "[encoded data removed]",
      "text/plain": [
       "<Figure size 864x360 with 1 Axes>"
      ]
     },
     "metadata": {},
     "output_type": "display_data"
    }
   ],
   "source": [
    "%matplotlib inline\n",
    "sns.set()\n",
    "\n",
    "# plot age distribution\n",
    "ax = patient_df['patient_age']\\\n",
    "        .hist(bins=age_bins, color='green', edgecolor='black', linewidth=1.5,figsize=(12,5))\n",
    "\n",
    "ax.set_xlabel(\"\\nAge of Patient\", fontsize=15)\n",
    "ax.set_ylabel(\"Number of Patients\\n\", fontsize=17)\n",
    "\n",
    "ax.tick_params(labelsize='x-large') # use large labels\n",
    "plt.xticks(rotation=0)  # rotate the ticks on the x axis\n",
    "\n",
    "## put commas in y-ticks\n",
    "ax.set_yticklabels(['{:,}'.format(int(x)) for x in ax.get_yticks().tolist()])\n",
    "\n",
    "## put numbers on each bar\n",
    "show_values_on_bars(ax, h_v=\"v\", vertical_space=100, fontsize=16)\n",
    "\n",
    "## add extra room at top of figure\n",
    "ax.set_ylim(0, 55000)\n",
    "\n",
    "plt.legend(loc='upper right', prop={'size': 18})\n",
    "# plt.savefig(\"figures/patient-age-distribution.png\", dpi=600, bbox_inches=\"tight\")\n",
    "plt.show()"
   ]
  },
  {
   "cell_type": "markdown",
   "metadata": {},
   "source": [
    "### plot female/male age distribution"
   ]
  },
  {
   "cell_type": "code",
   "execution_count": 289,
   "metadata": {},
   "outputs": [
    {
     "name": "stderr",
     "output_type": "stream",
     "text": [
      "/var/folders/y_/64f732h167b9rmtn1k_dc8f00000gn/T/ipykernel_28002/2038010311.py:19: UserWarning: FixedFormatter should only be used together with FixedLocator\n",
      "  ax.set_yticklabels(['{:,}'.format(int(x)) for x in ax.get_yticks().tolist()])\n"
     ]
    },
    {
     "data": {
      "image/png": "[encoded data removed]",
      "text/plain": [
       "<Figure size 1584x576 with 1 Axes>"
      ]
     },
     "metadata": {},
     "output_type": "display_data"
    }
   ],
   "source": [
    "%matplotlib inline\n",
    "sns.set()\n",
    "colors = ['magenta', 'blue']\n",
    "sns.set_palette(colors)\n",
    "\n",
    "# create separate series for genders\n",
    "females = patient_df.query(\"gender == 'female'\")['patient_age']\n",
    "males = patient_df.query(\"gender == 'male'\")['patient_age']\n",
    "\n",
    "fig, ax = plt.subplots(figsize=(22,8)) \n",
    "ax.hist([females, males], bins=age_bins, edgecolor='black', linewidth=1.5, label=['female', 'male'])\n",
    "ax.set_xlabel(\"\\nAge of Patient\", fontsize=15)\n",
    "ax.set_ylabel(\"Number of Patients\\n\", fontsize=15)\n",
    "\n",
    "ax.tick_params(labelsize='x-large') # use large labels\n",
    "plt.xticks(rotation=0)  # rotate the ticks on the x axis\n",
    "\n",
    "## put commas in y-ticks\n",
    "ax.set_yticklabels(['{:,}'.format(int(x)) for x in ax.get_yticks().tolist()])\n",
    "\n",
    "## put numbers on each bar\n",
    "show_values_on_bars(ax, h_v=\"v\", vertical_space=100, fontsize=16)\n",
    "\n",
    "## add extra room at top of figure\n",
    "ax.set_ylim(0, 31500)\n",
    "\n",
    "# plt.figure(figsize=(12,7))\n",
    "plt.legend(loc='upper right', prop={'size': 18})\n",
    "# plt.savefig(\"figures/patient-age-gender-distribution.png\", dpi=600, bbox_inches=\"tight\")\n",
    "plt.show()"
   ]
  },
  {
   "cell_type": "code",
   "execution_count": 280,
   "metadata": {},
   "outputs": [
    {
     "data": {
      "text/html": [
       "<div>\n",
       "<style scoped>\n",
       "    .dataframe tbody tr th:only-of-type {\n",
       "        vertical-align: middle;\n",
       "    }\n",
       "\n",
       "    .dataframe tbody tr th {\n",
       "        vertical-align: top;\n",
       "    }\n",
       "\n",
       "    .dataframe thead th {\n",
       "        text-align: right;\n",
       "    }\n",
       "</style>\n",
       "<table border=\"1\" class=\"dataframe\">\n",
       "  <thead>\n",
       "    <tr style=\"text-align: right;\">\n",
       "      <th></th>\n",
       "      <th>age_range</th>\n",
       "      <th>total</th>\n",
       "      <th>female_total</th>\n",
       "      <th>male_total</th>\n",
       "      <th>percent_female</th>\n",
       "      <th>percent_male</th>\n",
       "    </tr>\n",
       "  </thead>\n",
       "  <tbody>\n",
       "    <tr>\n",
       "      <th>0</th>\n",
       "      <td>[0.0, 13.0)</td>\n",
       "      <td>4351</td>\n",
       "      <td>2348</td>\n",
       "      <td>2003</td>\n",
       "      <td>54.0</td>\n",
       "      <td>46.0</td>\n",
       "    </tr>\n",
       "    <tr>\n",
       "      <th>1</th>\n",
       "      <td>[13.0, 25.0)</td>\n",
       "      <td>33787</td>\n",
       "      <td>17880</td>\n",
       "      <td>15907</td>\n",
       "      <td>52.9</td>\n",
       "      <td>47.1</td>\n",
       "    </tr>\n",
       "    <tr>\n",
       "      <th>2</th>\n",
       "      <td>[25.0, 38.0)</td>\n",
       "      <td>50820</td>\n",
       "      <td>29622</td>\n",
       "      <td>21198</td>\n",
       "      <td>58.3</td>\n",
       "      <td>41.7</td>\n",
       "    </tr>\n",
       "    <tr>\n",
       "      <th>3</th>\n",
       "      <td>[38.0, 50.0)</td>\n",
       "      <td>44080</td>\n",
       "      <td>25424</td>\n",
       "      <td>18656</td>\n",
       "      <td>57.7</td>\n",
       "      <td>42.3</td>\n",
       "    </tr>\n",
       "    <tr>\n",
       "      <th>4</th>\n",
       "      <td>[50.0, 63.0)</td>\n",
       "      <td>44480</td>\n",
       "      <td>25086</td>\n",
       "      <td>19394</td>\n",
       "      <td>56.4</td>\n",
       "      <td>43.6</td>\n",
       "    </tr>\n",
       "    <tr>\n",
       "      <th>5</th>\n",
       "      <td>[63.0, 75.0)</td>\n",
       "      <td>26246</td>\n",
       "      <td>14273</td>\n",
       "      <td>11973</td>\n",
       "      <td>54.4</td>\n",
       "      <td>45.6</td>\n",
       "    </tr>\n",
       "    <tr>\n",
       "      <th>6</th>\n",
       "      <td>[75.0, 88.0)</td>\n",
       "      <td>10808</td>\n",
       "      <td>5818</td>\n",
       "      <td>4990</td>\n",
       "      <td>53.8</td>\n",
       "      <td>46.2</td>\n",
       "    </tr>\n",
       "    <tr>\n",
       "      <th>7</th>\n",
       "      <td>[88.0, 100.0)</td>\n",
       "      <td>2190</td>\n",
       "      <td>1307</td>\n",
       "      <td>883</td>\n",
       "      <td>59.7</td>\n",
       "      <td>40.3</td>\n",
       "    </tr>\n",
       "    <tr>\n",
       "      <th>8</th>\n",
       "      <td>[100.0, 113.0)</td>\n",
       "      <td>140</td>\n",
       "      <td>97</td>\n",
       "      <td>43</td>\n",
       "      <td>69.3</td>\n",
       "      <td>30.7</td>\n",
       "    </tr>\n",
       "  </tbody>\n",
       "</table>\n",
       "</div>"
      ],
      "text/plain": [
       "        age_range  total  female_total  male_total  percent_female  \\\n",
       "0     [0.0, 13.0)   4351          2348        2003            54.0   \n",
       "1    [13.0, 25.0)  33787         17880       15907            52.9   \n",
       "2    [25.0, 38.0)  50820         29622       21198            58.3   \n",
       "3    [38.0, 50.0)  44080         25424       18656            57.7   \n",
       "4    [50.0, 63.0)  44480         25086       19394            56.4   \n",
       "5    [63.0, 75.0)  26246         14273       11973            54.4   \n",
       "6    [75.0, 88.0)  10808          5818        4990            53.8   \n",
       "7   [88.0, 100.0)   2190          1307         883            59.7   \n",
       "8  [100.0, 113.0)    140            97          43            69.3   \n",
       "\n",
       "   percent_male  \n",
       "0          46.0  \n",
       "1          47.1  \n",
       "2          41.7  \n",
       "3          42.3  \n",
       "4          43.6  \n",
       "5          45.6  \n",
       "6          46.2  \n",
       "7          40.3  \n",
       "8          30.7  "
      ]
     },
     "execution_count": 280,
     "metadata": {},
     "output_type": "execute_result"
    }
   ],
   "source": [
    "age_table"
   ]
  },
  {
   "cell_type": "markdown",
   "metadata": {},
   "source": [
    "## summarize the number of patients (that had a procedure) over time"
   ]
  },
  {
   "cell_type": "markdown",
   "metadata": {},
   "source": [
    "### merge patient info with procedure date info"
   ]
  },
  {
   "cell_type": "code",
   "execution_count": 259,
   "metadata": {},
   "outputs": [],
   "source": [
    "patient_proc_date_df = \\\n",
    "    pds.merge(patient_df, tooth_proc_df[['patient_id', 'event_date']], how='inner', on='patient_id').drop_duplicates()"
   ]
  },
  {
   "cell_type": "code",
   "execution_count": 260,
   "metadata": {},
   "outputs": [],
   "source": [
    "# patient_proc_date_df.head()"
   ]
  },
  {
   "cell_type": "markdown",
   "metadata": {},
   "source": [
    "### add year of procedure"
   ]
  },
  {
   "cell_type": "code",
   "execution_count": 290,
   "metadata": {},
   "outputs": [],
   "source": [
    "patient_proc_date_df.event_date = pds.to_datetime(patient_proc_date_df.event_date) # convert to datetime\n",
    "patient_proc_date_df['event_year'] = pds.DatetimeIndex(patient_proc_date_df.event_date).year # get just the year\n",
    "patient_proc_date_df.drop_duplicates(inplace=True) # remove any duplicates"
   ]
  },
  {
   "cell_type": "code",
   "execution_count": 291,
   "metadata": {},
   "outputs": [],
   "source": [
    "# patient_proc_date_df.head()"
   ]
  },
  {
   "cell_type": "markdown",
   "metadata": {},
   "source": [
    "### drop any year beyond 2015"
   ]
  },
  {
   "cell_type": "code",
   "execution_count": 292,
   "metadata": {},
   "outputs": [],
   "source": [
    "patient_proc_date_df = patient_proc_date_df[patient_proc_date_df.event_year < 2016]"
   ]
  },
  {
   "cell_type": "markdown",
   "metadata": {},
   "source": [
    "### calculate yearly totals"
   ]
  },
  {
   "cell_type": "code",
   "execution_count": 293,
   "metadata": {},
   "outputs": [],
   "source": [
    "patient_proc_date_count_df = \\\n",
    "    pds.DataFrame(patient_proc_date_df.groupby('event_year')['event_year'].count()).rename(columns={'event_year': 'total'}).reset_index()"
   ]
  },
  {
   "cell_type": "code",
   "execution_count": 294,
   "metadata": {},
   "outputs": [
    {
     "data": {
      "text/html": [
       "<div>\n",
       "<style scoped>\n",
       "    .dataframe tbody tr th:only-of-type {\n",
       "        vertical-align: middle;\n",
       "    }\n",
       "\n",
       "    .dataframe tbody tr th {\n",
       "        vertical-align: top;\n",
       "    }\n",
       "\n",
       "    .dataframe thead th {\n",
       "        text-align: right;\n",
       "    }\n",
       "</style>\n",
       "<table border=\"1\" class=\"dataframe\">\n",
       "  <thead>\n",
       "    <tr style=\"text-align: right;\">\n",
       "      <th></th>\n",
       "      <th>event_year</th>\n",
       "      <th>total</th>\n",
       "    </tr>\n",
       "  </thead>\n",
       "  <tbody>\n",
       "    <tr>\n",
       "      <th>20</th>\n",
       "      <td>1999</td>\n",
       "      <td>13244</td>\n",
       "    </tr>\n",
       "    <tr>\n",
       "      <th>21</th>\n",
       "      <td>2000</td>\n",
       "      <td>18664</td>\n",
       "    </tr>\n",
       "    <tr>\n",
       "      <th>22</th>\n",
       "      <td>2001</td>\n",
       "      <td>25313</td>\n",
       "    </tr>\n",
       "    <tr>\n",
       "      <th>23</th>\n",
       "      <td>2002</td>\n",
       "      <td>32945</td>\n",
       "    </tr>\n",
       "    <tr>\n",
       "      <th>24</th>\n",
       "      <td>2003</td>\n",
       "      <td>43502</td>\n",
       "    </tr>\n",
       "    <tr>\n",
       "      <th>25</th>\n",
       "      <td>2004</td>\n",
       "      <td>48940</td>\n",
       "    </tr>\n",
       "    <tr>\n",
       "      <th>26</th>\n",
       "      <td>2005</td>\n",
       "      <td>52295</td>\n",
       "    </tr>\n",
       "    <tr>\n",
       "      <th>27</th>\n",
       "      <td>2006</td>\n",
       "      <td>51952</td>\n",
       "    </tr>\n",
       "    <tr>\n",
       "      <th>28</th>\n",
       "      <td>2007</td>\n",
       "      <td>54776</td>\n",
       "    </tr>\n",
       "    <tr>\n",
       "      <th>29</th>\n",
       "      <td>2008</td>\n",
       "      <td>58316</td>\n",
       "    </tr>\n",
       "    <tr>\n",
       "      <th>30</th>\n",
       "      <td>2009</td>\n",
       "      <td>60320</td>\n",
       "    </tr>\n",
       "    <tr>\n",
       "      <th>31</th>\n",
       "      <td>2010</td>\n",
       "      <td>59927</td>\n",
       "    </tr>\n",
       "    <tr>\n",
       "      <th>32</th>\n",
       "      <td>2011</td>\n",
       "      <td>61170</td>\n",
       "    </tr>\n",
       "    <tr>\n",
       "      <th>33</th>\n",
       "      <td>2012</td>\n",
       "      <td>63271</td>\n",
       "    </tr>\n",
       "    <tr>\n",
       "      <th>34</th>\n",
       "      <td>2013</td>\n",
       "      <td>64024</td>\n",
       "    </tr>\n",
       "    <tr>\n",
       "      <th>35</th>\n",
       "      <td>2014</td>\n",
       "      <td>62174</td>\n",
       "    </tr>\n",
       "    <tr>\n",
       "      <th>36</th>\n",
       "      <td>2015</td>\n",
       "      <td>56278</td>\n",
       "    </tr>\n",
       "  </tbody>\n",
       "</table>\n",
       "</div>"
      ],
      "text/plain": [
       "    event_year  total\n",
       "20        1999  13244\n",
       "21        2000  18664\n",
       "22        2001  25313\n",
       "23        2002  32945\n",
       "24        2003  43502\n",
       "25        2004  48940\n",
       "26        2005  52295\n",
       "27        2006  51952\n",
       "28        2007  54776\n",
       "29        2008  58316\n",
       "30        2009  60320\n",
       "31        2010  59927\n",
       "32        2011  61170\n",
       "33        2012  63271\n",
       "34        2013  64024\n",
       "35        2014  62174\n",
       "36        2015  56278"
      ]
     },
     "execution_count": 294,
     "metadata": {},
     "output_type": "execute_result"
    }
   ],
   "source": [
    "patient_proc_date_count_df[(patient_proc_date_count_df.event_year > 1998) & (patient_proc_date_count_df.event_year < 2016)]"
   ]
  },
  {
   "cell_type": "markdown",
   "metadata": {},
   "source": [
    "### plot"
   ]
  },
  {
   "cell_type": "code",
   "execution_count": 295,
   "metadata": {},
   "outputs": [
    {
     "name": "stderr",
     "output_type": "stream",
     "text": [
      "/var/folders/y_/64f732h167b9rmtn1k_dc8f00000gn/T/ipykernel_28002/822682154.py:15: UserWarning: FixedFormatter should only be used together with FixedLocator\n",
      "  ax.set_yticklabels(['{:,}'.format(int(x)) for x in ax.get_yticks().tolist()])\n"
     ]
    },
    {
     "data": {
      "image/png": "[encoded data removed]",
      "text/plain": [
       "<Figure size 864x504 with 1 Axes>"
      ]
     },
     "metadata": {},
     "output_type": "display_data"
    }
   ],
   "source": [
    "%matplotlib inline\n",
    "sns.set()\n",
    "\n",
    "# plot age distribution\n",
    "ax = patient_proc_date_df['event_year']\\\n",
    "        .hist(bins=50, color='green', edgecolor='black', linewidth=1.5,figsize=(12,7))\n",
    "\n",
    "ax.set_xlabel(\"\\nYear\", fontsize=15)\n",
    "ax.set_ylabel(\"Number of Patients that had a Procedure\\n\", fontsize=17)\n",
    "\n",
    "ax.tick_params(labelsize='x-large') # use large labels\n",
    "plt.xticks(rotation=0)  # rotate the ticks on the x axis\n",
    "\n",
    "## put commas in y-ticks\n",
    "ax.set_yticklabels(['{:,}'.format(int(x)) for x in ax.get_yticks().tolist()])\n",
    "\n",
    "plt.savefig(\"figures/patient-count-by-year-hist.png\", dpi=600, bbox_inches=\"tight\")\n",
    "plt.show()"
   ]
  },
  {
   "cell_type": "code",
   "execution_count": 296,
   "metadata": {},
   "outputs": [
    {
     "name": "stderr",
     "output_type": "stream",
     "text": [
      "/var/folders/y_/64f732h167b9rmtn1k_dc8f00000gn/T/ipykernel_28002/30735053.py:15: UserWarning: FixedFormatter should only be used together with FixedLocator\n",
      "  ax.set_yticklabels(['{:,}'.format(int(x)) for x in ax.get_yticks().tolist()])\n"
     ]
    },
    {
     "data": {
      "image/png": "[encoded data removed]",
      "text/plain": [
       "<Figure size 864x504 with 1 Axes>"
      ]
     },
     "metadata": {},
     "output_type": "display_data"
    }
   ],
   "source": [
    "%matplotlib inline\n",
    "sns.set()\n",
    "sns.set_context(rc={\"lines.linewidth\": 3})\n",
    "\n",
    "plt.figure(figsize=(12,7))\n",
    "ax = sns.lineplot(x=\"event_year\", y=\"total\", data=patient_proc_date_count_df, color=\"green\")\n",
    "\n",
    "ax.set_xlabel(\"\\nYear\", fontsize=15)\n",
    "ax.set_ylabel(\"Number of Patients that had a Procedure\\n\", fontsize=17)\n",
    "\n",
    "ax.tick_params(labelsize='x-large') # use large labels\n",
    "plt.xticks(rotation=0)  # rotate the ticks on the x axis\n",
    "\n",
    "## put commas in y-ticks\n",
    "ax.set_yticklabels(['{:,}'.format(int(x)) for x in ax.get_yticks().tolist()])\n",
    "\n",
    "# plt.savefig(\"figures/patient-count-by-year-line.png\", dpi=600, bbox_inches=\"tight\")\n",
    "plt.show()"
   ]
  },
  {
   "cell_type": "markdown",
   "metadata": {},
   "source": [
    "## summarize the number of patients (that had a procedure) over time by gender"
   ]
  },
  {
   "cell_type": "code",
   "execution_count": 297,
   "metadata": {},
   "outputs": [
    {
     "name": "stderr",
     "output_type": "stream",
     "text": [
      "/var/folders/y_/64f732h167b9rmtn1k_dc8f00000gn/T/ipykernel_28002/1759076017.py:19: UserWarning: FixedFormatter should only be used together with FixedLocator\n",
      "  ax.set_yticklabels(['{:,}'.format(int(x)) for x in ax.get_yticks().tolist()])\n"
     ]
    },
    {
     "data": {
      "image/png": "[encoded data removed]",
      "text/plain": [
       "<Figure size 864x504 with 1 Axes>"
      ]
     },
     "metadata": {},
     "output_type": "display_data"
    }
   ],
   "source": [
    "%matplotlib inline\n",
    "sns.set()\n",
    "colors = ['magenta', 'blue']\n",
    "sns.set_palette(colors)\n",
    "\n",
    "# create separate series for genders\n",
    "females_year = patient_proc_date_df.query(\"gender == 'female'\")['event_year']\n",
    "males_year = patient_proc_date_df.query(\"gender == 'male'\")['event_year']\n",
    "\n",
    "fig, ax = plt.subplots(figsize=(12,7)) \n",
    "ax.hist([females_year, males_year], bins=50, edgecolor='black', linewidth=1.5, label=['female', 'male'])\n",
    "ax.set_xlabel(\"\\nYear\", fontsize=15)\n",
    "ax.set_ylabel(\"Number of Patients that had a Procedure\\n\", fontsize=15)\n",
    "\n",
    "ax.tick_params(labelsize='x-large') # use large labels\n",
    "plt.xticks(rotation=0)  # rotate the ticks on the x axis\n",
    "\n",
    "## put commas in y-ticks\n",
    "ax.set_yticklabels(['{:,}'.format(int(x)) for x in ax.get_yticks().tolist()])\n",
    "\n",
    "plt.legend(loc='upper left', prop={'size': 18})\n",
    "plt.savefig(\"figures/patient-count-by-year-and-gender-bar.png\", dpi=600, bbox_inches=\"tight\")\n",
    "plt.show()"
   ]
  },
  {
   "cell_type": "code",
   "execution_count": 298,
   "metadata": {},
   "outputs": [],
   "source": [
    "patient_gender_proc_date_count_df = \\\n",
    "    pds.DataFrame(patient_proc_date_df.groupby(['event_year', 'gender'])['event_year'].count()).rename(columns={'event_year': 'total'}).reset_index()\n",
    "patient_gender_proc_date_count_df.sort_values(by='gender', inplace=True)"
   ]
  },
  {
   "cell_type": "code",
   "execution_count": 299,
   "metadata": {},
   "outputs": [],
   "source": [
    "# patient_gender_proc_date_count_df"
   ]
  },
  {
   "cell_type": "code",
   "execution_count": 300,
   "metadata": {},
   "outputs": [
    {
     "name": "stderr",
     "output_type": "stream",
     "text": [
      "/var/folders/y_/64f732h167b9rmtn1k_dc8f00000gn/T/ipykernel_28002/4186733128.py:17: UserWarning: FixedFormatter should only be used together with FixedLocator\n",
      "  ax.set_yticklabels(['{:,}'.format(int(x)) for x in ax.get_yticks().tolist()])\n"
     ]
    },
    {
     "data": {
      "image/png": "[encoded data removed]",
      "text/plain": [
       "<Figure size 864x504 with 1 Axes>"
      ]
     },
     "metadata": {},
     "output_type": "display_data"
    }
   ],
   "source": [
    "%matplotlib inline\n",
    "sns.set()\n",
    "sns.set_context(rc={\"lines.linewidth\": 3})\n",
    "colors = ['magenta', 'blue']\n",
    "sns.set_palette(colors)\n",
    "\n",
    "plt.figure(figsize=(12,7))\n",
    "ax = sns.lineplot(x=\"event_year\", y=\"total\", data=patient_gender_proc_date_count_df, hue=\"gender\", legend=False)\n",
    "\n",
    "ax.set_xlabel(\"\\nYear\", fontsize=20)\n",
    "ax.set_ylabel(\"Number of Patients that had a Procedure\\n\", fontsize=20)\n",
    "\n",
    "ax.tick_params(labelsize='x-large') # use large labels\n",
    "plt.xticks(rotation=0)  # rotate the ticks on the x axis\n",
    "\n",
    "## put commas in y-ticks\n",
    "ax.set_yticklabels(['{:,}'.format(int(x)) for x in ax.get_yticks().tolist()])\n",
    "\n",
    "plt.legend(loc='upper left', labels=['female', 'male'], prop={'size': 18})\n",
    "plt.savefig(\"figures/patient-count-by-year-and-gender-line.png\", dpi=600, bbox_inches=\"tight\")\n",
    "plt.show()"
   ]
  },
  {
   "cell_type": "code",
   "execution_count": null,
   "metadata": {},
   "outputs": [],
   "source": []
  }
 ],
 "metadata": {
  "kernelspec": {
   "display_name": "Python 3 (ipykernel)",
   "language": "python",
   "name": "python3"
  },
  "language_info": {
   "codemirror_mode": {
    "name": "ipython",
    "version": 3
   },
   "file_extension": ".py",
   "mimetype": "text/x-python",
   "name": "python",
   "nbconvert_exporter": "python",
   "pygments_lexer": "ipython3",
   "version": "3.9.10"
  }
 },
 "nbformat": 4,
 "nbformat_minor": 4
}
