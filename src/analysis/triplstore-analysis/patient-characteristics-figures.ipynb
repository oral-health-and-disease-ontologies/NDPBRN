{
 "cells": [
  {
   "cell_type": "code",
   "execution_count": 3,
   "metadata": {},
   "outputs": [],
   "source": [
    "import pandas as pds\n",
    "import numpy as np\n",
    "import seaborn as sns\n",
    "import matplotlib.pyplot as plt\n",
    "from tabulate import tabulate\n",
    "import functools"
   ]
  },
  {
   "cell_type": "markdown",
   "metadata": {},
   "source": [
    "## define function for printing pandas dataframes as markdown (in case it is needed)"
   ]
  },
  {
   "cell_type": "code",
   "execution_count": 2,
   "metadata": {},
   "outputs": [],
   "source": [
    "def print_pandas_md(df):\n",
    "    print(tabulate(df, tablefmt=\"pipe\", headers=\"keys\"))"
   ]
  },
  {
   "cell_type": "markdown",
   "metadata": {},
   "source": [
    "## define function to round values in an interval object"
   ]
  },
  {
   "cell_type": "code",
   "execution_count": 4,
   "metadata": {},
   "outputs": [],
   "source": [
    "def round_interval(interval):\n",
    "    left_val = round(interval.left)\n",
    "    right_val = round(interval.right)\n",
    "    return pds.Interval(left=left_val, right=right_val, closed='left')"
   ]
  },
  {
   "cell_type": "markdown",
   "metadata": {},
   "source": [
    "## load saved patient info"
   ]
  },
  {
   "cell_type": "code",
   "execution_count": 13,
   "metadata": {},
   "outputs": [],
   "source": [
    "patient_df = pds.read_csv('triplestore-patient-info.tsv', sep='\\t')"
   ]
  },
  {
   "cell_type": "markdown",
   "metadata": {},
   "source": [
    "# Plot data"
   ]
  },
  {
   "cell_type": "markdown",
   "metadata": {},
   "source": [
    "## plot get patient counts by gender"
   ]
  },
  {
   "cell_type": "code",
   "execution_count": 14,
   "metadata": {},
   "outputs": [
    {
     "data": {
      "text/plain": [
       "female    126692\n",
       "male      100106\n",
       "total     226798\n",
       "Name: gender, dtype: int64"
      ]
     },
     "execution_count": 14,
     "metadata": {},
     "output_type": "execute_result"
    }
   ],
   "source": [
    "gender_count = patient_df.gender.value_counts()\n",
    "gender_count.loc['total'] = len(patient_df)\n",
    "gender_count"
   ]
  },
  {
   "cell_type": "code",
   "execution_count": 15,
   "metadata": {},
   "outputs": [],
   "source": [
    "# print_pandas_md(pds.DataFrame(gender_count)) # in case I need the table in markdown"
   ]
  },
  {
   "cell_type": "code",
   "execution_count": 16,
   "metadata": {},
   "outputs": [
    {
     "name": "stderr",
     "output_type": "stream",
     "text": [
      "/Users/widuncan/repos/git/NDPBRN/src/analysis/.env/lib/python3.7/site-packages/ipykernel_launcher.py:14: UserWarning: FixedFormatter should only be used together with FixedLocator\n",
      "  \n"
     ]
    },
    {
     "data": {
      "image/png": "[encoded data removed]",
      "text/plain": [
       "<Figure size 432x288 with 1 Axes>"
      ]
     },
     "metadata": {
      "needs_background": "light"
     },
     "output_type": "display_data"
    }
   ],
   "source": [
    "%matplotlib inline\n",
    "\n",
    "# plot gender counts\n",
    "# ax = sns.countplot(x=\"gender\", data=group)\n",
    "colors = ['magenta', 'cyan', 'green']\n",
    "sns.set_palette(colors)\n",
    "ax = sns.barplot(x=gender_count.index, y=gender_count.values)\n",
    "ax.set_xlabel(\"\\nPatient Gender\", size=20)\n",
    "ax.set_ylabel(\"Gender Count\\n\", size=20)\n",
    "plt.xticks(size=15)\n",
    "plt.yticks(size=15)\n",
    "\n",
    "## put commas in y-ticks\n",
    "ax.set_yticklabels(['{:,}'.format(int(x)) for x in ax.get_yticks().tolist()])\n",
    "\n",
    "plt.savefig(\"figures/patient-gender-counts.png\", dpi=600, bbox_inches=\"tight\")\n",
    "plt.show()"
   ]
  },
  {
   "cell_type": "markdown",
   "metadata": {},
   "source": [
    "## calculate age distributions and plot"
   ]
  },
  {
   "cell_type": "code",
   "execution_count": 17,
   "metadata": {},
   "outputs": [
    {
     "data": {
      "text/html": [
       "<div>\n",
       "<style scoped>\n",
       "    .dataframe tbody tr th:only-of-type {\n",
       "        vertical-align: middle;\n",
       "    }\n",
       "\n",
       "    .dataframe tbody tr th {\n",
       "        vertical-align: top;\n",
       "    }\n",
       "\n",
       "    .dataframe thead th {\n",
       "        text-align: right;\n",
       "    }\n",
       "</style>\n",
       "<table border=\"1\" class=\"dataframe\">\n",
       "  <thead>\n",
       "    <tr style=\"text-align: right;\">\n",
       "      <th></th>\n",
       "      <th>Age Range</th>\n",
       "      <th>Total</th>\n",
       "      <th>Percent</th>\n",
       "    </tr>\n",
       "  </thead>\n",
       "  <tbody>\n",
       "    <tr>\n",
       "      <th>0</th>\n",
       "      <td>[2, 13)</td>\n",
       "      <td>8502</td>\n",
       "      <td>3.7</td>\n",
       "    </tr>\n",
       "    <tr>\n",
       "      <th>1</th>\n",
       "      <td>[13, 24)</td>\n",
       "      <td>32092</td>\n",
       "      <td>14.2</td>\n",
       "    </tr>\n",
       "    <tr>\n",
       "      <th>2</th>\n",
       "      <td>[24, 36)</td>\n",
       "      <td>42110</td>\n",
       "      <td>18.6</td>\n",
       "    </tr>\n",
       "    <tr>\n",
       "      <th>3</th>\n",
       "      <td>[36, 47)</td>\n",
       "      <td>42205</td>\n",
       "      <td>18.6</td>\n",
       "    </tr>\n",
       "    <tr>\n",
       "      <th>4</th>\n",
       "      <td>[47, 58)</td>\n",
       "      <td>43160</td>\n",
       "      <td>19.0</td>\n",
       "    </tr>\n",
       "    <tr>\n",
       "      <th>5</th>\n",
       "      <td>[58, 69)</td>\n",
       "      <td>32554</td>\n",
       "      <td>14.4</td>\n",
       "    </tr>\n",
       "    <tr>\n",
       "      <th>6</th>\n",
       "      <td>[69, 80)</td>\n",
       "      <td>17389</td>\n",
       "      <td>7.7</td>\n",
       "    </tr>\n",
       "    <tr>\n",
       "      <th>7</th>\n",
       "      <td>[80, 92)</td>\n",
       "      <td>7275</td>\n",
       "      <td>3.2</td>\n",
       "    </tr>\n",
       "    <tr>\n",
       "      <th>8</th>\n",
       "      <td>[92, 103)</td>\n",
       "      <td>1409</td>\n",
       "      <td>0.6</td>\n",
       "    </tr>\n",
       "    <tr>\n",
       "      <th>9</th>\n",
       "      <td>[103, 114)</td>\n",
       "      <td>102</td>\n",
       "      <td>0.0</td>\n",
       "    </tr>\n",
       "  </tbody>\n",
       "</table>\n",
       "</div>"
      ],
      "text/plain": [
       "    Age Range  Total  Percent\n",
       "0     [2, 13)   8502      3.7\n",
       "1    [13, 24)  32092     14.2\n",
       "2    [24, 36)  42110     18.6\n",
       "3    [36, 47)  42205     18.6\n",
       "4    [47, 58)  43160     19.0\n",
       "5    [58, 69)  32554     14.4\n",
       "6    [69, 80)  17389      7.7\n",
       "7    [80, 92)   7275      3.2\n",
       "8   [92, 103)   1409      0.6\n",
       "9  [103, 114)    102      0.0"
      ]
     },
     "execution_count": 17,
     "metadata": {},
     "output_type": "execute_result"
    }
   ],
   "source": [
    "age_table = \\\n",
    "    pds.DataFrame(pds.cut(patient_df['patient_age'], 10).value_counts().sort_index()).reset_index()\n",
    "age_table.rename(columns={'index': 'Age Range', 'patient_age': 'Total'}, inplace=True)\n",
    "age_table['Age Range'] = age_table['Age Range'].map(lambda x: round_interval(x))\n",
    "age_table['Percent'] = round((age_table['Total'] / 226798) * 100, 1)\n",
    "# print_pandas_md(age_table)\n",
    "age_table.to_clipboard()\n",
    "age_table"
   ]
  },
  {
   "cell_type": "code",
   "execution_count": 18,
   "metadata": {},
   "outputs": [
    {
     "name": "stderr",
     "output_type": "stream",
     "text": [
      "/Users/widuncan/repos/git/NDPBRN/src/analysis/.env/lib/python3.7/site-packages/ipykernel_launcher.py:14: UserWarning: FixedFormatter should only be used together with FixedLocator\n",
      "  \n",
      "No handles with labels found to put in legend.\n"
     ]
    },
    {
     "data": {
      "image/png": "[encoded data removed]",
      "text/plain": [
       "<Figure size 864x504 with 1 Axes>"
      ]
     },
     "metadata": {
      "needs_background": "light"
     },
     "output_type": "display_data"
    }
   ],
   "source": [
    "%matplotlib inline\n",
    "\n",
    "# plot age distribution\n",
    "ax = patient_df['patient_age']\\\n",
    "        .hist(bins=10, color='green', edgecolor='black', linewidth=1.5,figsize=(12,7))\n",
    "\n",
    "ax.set_xlabel(\"\\nAge of Patient\", fontsize=15)\n",
    "ax.set_ylabel(\"Number of Patients\\n\", fontsize=17)\n",
    "\n",
    "ax.tick_params(labelsize='x-large') # use large labels\n",
    "plt.xticks(rotation=0)  # rotate the ticks on the x axis\n",
    "\n",
    "## put commas in y-ticks\n",
    "ax.set_yticklabels(['{:,}'.format(int(x)) for x in ax.get_yticks().tolist()])\n",
    "\n",
    "plt.legend(loc='upper right', prop={'size': 18})\n",
    "plt.savefig(\"figures/patient-age-distribution.png\", dpi=600, bbox_inches=\"tight\")\n",
    "plt.show()"
   ]
  },
  {
   "cell_type": "markdown",
   "metadata": {},
   "source": [
    "### use the same intervals for females and males that was used for the total age distribution"
   ]
  },
  {
   "cell_type": "code",
   "execution_count": 19,
   "metadata": {
    "jupyter": {
     "source_hidden": true
    }
   },
   "outputs": [
    {
     "data": {
      "text/plain": [
       "IntervalIndex([[2, 13), [13, 24), [24, 36), [36, 47), [47, 58), [58, 69), [69, 80), [80, 92), [92, 103), [103, 114)],\n",
       "              closed='left',\n",
       "              name='Age Range',\n",
       "              dtype='interval[int64]')"
      ]
     },
     "execution_count": 19,
     "metadata": {},
     "output_type": "execute_result"
    }
   ],
   "source": [
    "age_bins = pds.IntervalIndex(age_table['Age Range'])\n",
    "age_bins"
   ]
  },
  {
   "cell_type": "markdown",
   "metadata": {},
   "source": [
    "### calculate female age intervals"
   ]
  },
  {
   "cell_type": "code",
   "execution_count": 20,
   "metadata": {},
   "outputs": [
    {
     "data": {
      "text/html": [
       "<div>\n",
       "<style scoped>\n",
       "    .dataframe tbody tr th:only-of-type {\n",
       "        vertical-align: middle;\n",
       "    }\n",
       "\n",
       "    .dataframe tbody tr th {\n",
       "        vertical-align: top;\n",
       "    }\n",
       "\n",
       "    .dataframe thead th {\n",
       "        text-align: right;\n",
       "    }\n",
       "</style>\n",
       "<table border=\"1\" class=\"dataframe\">\n",
       "  <thead>\n",
       "    <tr style=\"text-align: right;\">\n",
       "      <th></th>\n",
       "      <th>Age Range</th>\n",
       "      <th>Total</th>\n",
       "      <th>Percent Female</th>\n",
       "    </tr>\n",
       "  </thead>\n",
       "  <tbody>\n",
       "    <tr>\n",
       "      <th>0</th>\n",
       "      <td>[2, 13)</td>\n",
       "      <td>3451</td>\n",
       "      <td>1.5</td>\n",
       "    </tr>\n",
       "    <tr>\n",
       "      <th>1</th>\n",
       "      <td>[13, 24)</td>\n",
       "      <td>15690</td>\n",
       "      <td>6.9</td>\n",
       "    </tr>\n",
       "    <tr>\n",
       "      <th>2</th>\n",
       "      <td>[24, 36)</td>\n",
       "      <td>26056</td>\n",
       "      <td>11.5</td>\n",
       "    </tr>\n",
       "    <tr>\n",
       "      <th>3</th>\n",
       "      <td>[36, 47)</td>\n",
       "      <td>24658</td>\n",
       "      <td>10.9</td>\n",
       "    </tr>\n",
       "    <tr>\n",
       "      <th>4</th>\n",
       "      <td>[47, 58)</td>\n",
       "      <td>22545</td>\n",
       "      <td>9.9</td>\n",
       "    </tr>\n",
       "    <tr>\n",
       "      <th>5</th>\n",
       "      <td>[58, 69)</td>\n",
       "      <td>18790</td>\n",
       "      <td>8.3</td>\n",
       "    </tr>\n",
       "    <tr>\n",
       "      <th>6</th>\n",
       "      <td>[69, 80)</td>\n",
       "      <td>10110</td>\n",
       "      <td>4.5</td>\n",
       "    </tr>\n",
       "    <tr>\n",
       "      <th>7</th>\n",
       "      <td>[80, 92)</td>\n",
       "      <td>4464</td>\n",
       "      <td>2.0</td>\n",
       "    </tr>\n",
       "    <tr>\n",
       "      <th>8</th>\n",
       "      <td>[92, 103)</td>\n",
       "      <td>858</td>\n",
       "      <td>0.4</td>\n",
       "    </tr>\n",
       "    <tr>\n",
       "      <th>9</th>\n",
       "      <td>[103, 114)</td>\n",
       "      <td>69</td>\n",
       "      <td>0.0</td>\n",
       "    </tr>\n",
       "  </tbody>\n",
       "</table>\n",
       "</div>"
      ],
      "text/plain": [
       "    Age Range  Total  Percent Female\n",
       "0     [2, 13)   3451             1.5\n",
       "1    [13, 24)  15690             6.9\n",
       "2    [24, 36)  26056            11.5\n",
       "3    [36, 47)  24658            10.9\n",
       "4    [47, 58)  22545             9.9\n",
       "5    [58, 69)  18790             8.3\n",
       "6    [69, 80)  10110             4.5\n",
       "7    [80, 92)   4464             2.0\n",
       "8   [92, 103)    858             0.4\n",
       "9  [103, 114)     69             0.0"
      ]
     },
     "execution_count": 20,
     "metadata": {},
     "output_type": "execute_result"
    }
   ],
   "source": [
    "females = patient_df.query(\"gender == 'female'\")['patient_age']\n",
    "female_age_table = \\\n",
    "    pds.DataFrame(pds.cut(females, age_bins).value_counts().sort_index()).reset_index()\n",
    "female_age_table.rename(columns={'index': 'Age Range', 'patient_age': 'Total'}, inplace=True)\n",
    "female_age_table['Age Range'] = female_age_table['Age Range'].map(lambda x: round_interval(x))\n",
    "female_age_table['Percent Female'] = round((female_age_table['Total'] / 226798) * 100, 1)\n",
    "# print_pandas_md(female_age_table)\n",
    "female_age_table.to_clipboard()\n",
    "female_age_table"
   ]
  },
  {
   "cell_type": "markdown",
   "metadata": {},
   "source": [
    "### calculate male age intervals"
   ]
  },
  {
   "cell_type": "code",
   "execution_count": 21,
   "metadata": {},
   "outputs": [
    {
     "data": {
      "text/html": [
       "<div>\n",
       "<style scoped>\n",
       "    .dataframe tbody tr th:only-of-type {\n",
       "        vertical-align: middle;\n",
       "    }\n",
       "\n",
       "    .dataframe tbody tr th {\n",
       "        vertical-align: top;\n",
       "    }\n",
       "\n",
       "    .dataframe thead th {\n",
       "        text-align: right;\n",
       "    }\n",
       "</style>\n",
       "<table border=\"1\" class=\"dataframe\">\n",
       "  <thead>\n",
       "    <tr style=\"text-align: right;\">\n",
       "      <th></th>\n",
       "      <th>Age Range</th>\n",
       "      <th>Total</th>\n",
       "      <th>Percent Male</th>\n",
       "    </tr>\n",
       "  </thead>\n",
       "  <tbody>\n",
       "    <tr>\n",
       "      <th>0</th>\n",
       "      <td>[2, 13)</td>\n",
       "      <td>3228</td>\n",
       "      <td>1.4</td>\n",
       "    </tr>\n",
       "    <tr>\n",
       "      <th>1</th>\n",
       "      <td>[13, 24)</td>\n",
       "      <td>14656</td>\n",
       "      <td>6.5</td>\n",
       "    </tr>\n",
       "    <tr>\n",
       "      <th>2</th>\n",
       "      <td>[24, 36)</td>\n",
       "      <td>19623</td>\n",
       "      <td>8.7</td>\n",
       "    </tr>\n",
       "    <tr>\n",
       "      <th>3</th>\n",
       "      <td>[36, 47)</td>\n",
       "      <td>17547</td>\n",
       "      <td>7.7</td>\n",
       "    </tr>\n",
       "    <tr>\n",
       "      <th>4</th>\n",
       "      <td>[47, 58)</td>\n",
       "      <td>17105</td>\n",
       "      <td>7.5</td>\n",
       "    </tr>\n",
       "    <tr>\n",
       "      <th>5</th>\n",
       "      <td>[58, 69)</td>\n",
       "      <td>14802</td>\n",
       "      <td>6.5</td>\n",
       "    </tr>\n",
       "    <tr>\n",
       "      <th>6</th>\n",
       "      <td>[69, 80)</td>\n",
       "      <td>8793</td>\n",
       "      <td>3.9</td>\n",
       "    </tr>\n",
       "    <tr>\n",
       "      <th>7</th>\n",
       "      <td>[80, 92)</td>\n",
       "      <td>3769</td>\n",
       "      <td>1.7</td>\n",
       "    </tr>\n",
       "    <tr>\n",
       "      <th>8</th>\n",
       "      <td>[92, 103)</td>\n",
       "      <td>551</td>\n",
       "      <td>0.2</td>\n",
       "    </tr>\n",
       "    <tr>\n",
       "      <th>9</th>\n",
       "      <td>[103, 114)</td>\n",
       "      <td>32</td>\n",
       "      <td>0.0</td>\n",
       "    </tr>\n",
       "  </tbody>\n",
       "</table>\n",
       "</div>"
      ],
      "text/plain": [
       "    Age Range  Total  Percent Male\n",
       "0     [2, 13)   3228           1.4\n",
       "1    [13, 24)  14656           6.5\n",
       "2    [24, 36)  19623           8.7\n",
       "3    [36, 47)  17547           7.7\n",
       "4    [47, 58)  17105           7.5\n",
       "5    [58, 69)  14802           6.5\n",
       "6    [69, 80)   8793           3.9\n",
       "7    [80, 92)   3769           1.7\n",
       "8   [92, 103)    551           0.2\n",
       "9  [103, 114)     32           0.0"
      ]
     },
     "execution_count": 21,
     "metadata": {},
     "output_type": "execute_result"
    }
   ],
   "source": [
    "males = patient_df.query(\"gender == 'male'\")['patient_age']\n",
    "male_age_table = \\\n",
    "    pds.DataFrame(pds.cut(males, age_bins).value_counts().sort_index()).reset_index()\n",
    "male_age_table.rename(columns={'index': 'Age Range', 'patient_age': 'Total'}, inplace=True)\n",
    "male_age_table['Age Range'] = male_age_table['Age Range'].map(lambda x: round_interval(x))\n",
    "male_age_table['Percent Male'] = round((male_age_table['Total'] / 226798) * 100, 1)\n",
    "# print_pandas_md(male_age_table)\n",
    "male_age_table.to_clipboard()\n",
    "male_age_table"
   ]
  },
  {
   "cell_type": "markdown",
   "metadata": {},
   "source": [
    "### plot female/male age distribution"
   ]
  },
  {
   "cell_type": "code",
   "execution_count": 26,
   "metadata": {},
   "outputs": [
    {
     "name": "stderr",
     "output_type": "stream",
     "text": [
      "/Users/widuncan/repos/git/NDPBRN/src/analysis/.env/lib/python3.7/site-packages/ipykernel_launcher.py:18: UserWarning: FixedFormatter should only be used together with FixedLocator\n"
     ]
    },
    {
     "data": {
      "image/png": "[encoded data removed]",
      "text/plain": [
       "<Figure size 864x504 with 1 Axes>"
      ]
     },
     "metadata": {
      "needs_background": "light"
     },
     "output_type": "display_data"
    }
   ],
   "source": [
    "%matplotlib inline\n",
    "colors = ['magenta', 'cyan']\n",
    "sns.set_palette(colors)\n",
    "\n",
    "# create separate series for genders\n",
    "females = patient_df.query(\"gender == 'female'\")['patient_age']\n",
    "males = patient_df.query(\"gender == 'male'\")['patient_age']\n",
    "\n",
    "fig, ax = plt.subplots(figsize=(12,7)) \n",
    "ax.hist([females, males], bins=10, edgecolor='black', linewidth=1.5, label=['female', 'male'])\n",
    "ax.set_xlabel(\"\\nAge of Patient\", fontsize=15)\n",
    "ax.set_ylabel(\"Number of Patients\\n\", fontsize=15)\n",
    "\n",
    "ax.tick_params(labelsize='x-large') # use large labels\n",
    "plt.xticks(rotation=0)  # rotate the ticks on the x axis\n",
    "\n",
    "## put commas in y-ticks\n",
    "ax.set_yticklabels(['{:,}'.format(int(x)) for x in ax.get_yticks().tolist()])\n",
    "\n",
    "# plt.figure(figsize=(12,7))\n",
    "plt.legend(loc='upper right', prop={'size': 18})\n",
    "plt.savefig(\"figures/patient-age-gender-distribution.png\", dpi=600, bbox_inches=\"tight\")\n",
    "plt.show()"
   ]
  },
  {
   "cell_type": "code",
   "execution_count": 23,
   "metadata": {},
   "outputs": [],
   "source": [
    "############ OLD CODE ###########\n",
    "# %matplotlib inline\n",
    "\n",
    "# # plot age/gender distribution\n",
    "# ax = df_females[\"patient_age\"]\\\n",
    "#         .hist(bins=10, alpha=0.5, color='magenta', label='female', edgecolor='black', linewidth=1.5,figsize=(12,7))\n",
    "# ax = df_males[\"patient_age\"]\\\n",
    "#         .hist(bins=10, alpha=0.5, color='cyan', label='male', edgecolor='black', linewidth=1.5, figsize=(12,7))\n",
    "\n",
    "# ax.set_xlabel(\"\\nAge of Patient\", fontsize=15)\n",
    "# ax.set_ylabel(\"Number of Patients\\n\", fontsize=17)\n",
    "\n",
    "# ax.tick_params(labelsize='x-large') # use large labels\n",
    "# plt.xticks(rotation=0)  # rotate the ticks on the x axis\n",
    "\n",
    "# ## put commas in y-ticks\n",
    "# ax.set_yticklabels(['{:,}'.format(int(x)) for x in ax.get_yticks().tolist()])\n",
    "\n",
    "# plt.legend(loc='upper right', prop={'size': 18})\n",
    "# plt.savefig(\"figures/patient-age-gender-distribution.png\", dpi=600, bbox_inches=\"tight\")\n",
    "# plt.show()"
   ]
  },
  {
   "cell_type": "code",
   "execution_count": null,
   "metadata": {},
   "outputs": [],
   "source": []
  }
 ],
 "metadata": {
  "kernelspec": {
   "display_name": "Python 3",
   "language": "python",
   "name": "python3"
  },
  "language_info": {
   "codemirror_mode": {
    "name": "ipython",
    "version": 3
   },
   "file_extension": ".py",
   "mimetype": "text/x-python",
   "name": "python",
   "nbconvert_exporter": "python",
   "pygments_lexer": "ipython3",
   "version": "3.7.3"
  }
 },
 "nbformat": 4,
 "nbformat_minor": 4
}
