{
 "cells": [
  {
   "cell_type": "code",
   "execution_count": 61,
   "metadata": {},
   "outputs": [],
   "source": [
    "from SPARQLWrapper import SPARQLWrapper2\n",
    "import pandas as pds"
   ]
  },
  {
   "cell_type": "markdown",
   "metadata": {},
   "source": [
    "## define function for converting sparql results to a dataframe"
   ]
  },
  {
   "cell_type": "code",
   "execution_count": 62,
   "metadata": {},
   "outputs": [],
   "source": [
    "def sparql_to_df(results):\n",
    "    data = {}\n",
    "    for variable in results.variables:\n",
    "        data[variable] = [x.value for x in results.getValues(variable)]\n",
    "    return pds.DataFrame(data)"
   ]
  },
  {
   "cell_type": "markdown",
   "metadata": {},
   "source": [
    "## define function for retrieving sparql query"
   ]
  },
  {
   "cell_type": "code",
   "execution_count": 63,
   "metadata": {},
   "outputs": [],
   "source": [
    "def get_sparql(filename):\n",
    "    with open(filename, 'r') as f:\n",
    "        query = f.read()\n",
    "        return query"
   ]
  },
  {
   "cell_type": "markdown",
   "metadata": {},
   "source": [
    "## set connection to local triple store"
   ]
  },
  {
   "cell_type": "code",
   "execution_count": 64,
   "metadata": {},
   "outputs": [],
   "source": [
    "sparql = SPARQLWrapper2(\"http://192.168.1.243:7200/repositories/EDR_NO_ES\") # local server\n",
    "# sparql = SPARQLWrapper2(\"http://10.16.128.24:7200/repositories/EDR_NO_ES\") # RI server"
   ]
  },
  {
   "cell_type": "markdown",
   "metadata": {},
   "source": [
    "## define some standard prefixes to use in queries"
   ]
  },
  {
   "cell_type": "code",
   "execution_count": 65,
   "metadata": {},
   "outputs": [],
   "source": [
    "prefixes = get_sparql('queries/prefixes.sparql')\n",
    "# print(prefixes)"
   ]
  },
  {
   "cell_type": "markdown",
   "metadata": {},
   "source": [
    "## load patient info: this is needed b/c patients have been filtered for ages > 0, and we want to join our results on these patients"
   ]
  },
  {
   "cell_type": "code",
   "execution_count": 66,
   "metadata": {},
   "outputs": [],
   "source": [
    "patient_df = pds.read_csv('triplestore-patient-info.tsv', sep='\\t')"
   ]
  },
  {
   "cell_type": "markdown",
   "metadata": {},
   "source": [
    "# Query/download data from triplestore"
   ]
  },
  {
   "cell_type": "markdown",
   "metadata": {},
   "source": [
    "## find teeth (and their surfaces) that underwent a procedure"
   ]
  },
  {
   "cell_type": "code",
   "execution_count": 16,
   "metadata": {},
   "outputs": [],
   "source": [
    "q = prefixes + get_sparql('queries/tooth-procedure-info.sparql')\n",
    "# print(q)"
   ]
  },
  {
   "cell_type": "code",
   "execution_count": 17,
   "metadata": {},
   "outputs": [],
   "source": [
    "sparql.setQuery(q)\n",
    "res = sparql.query()\n",
    "tooth_proc_df = sparql_to_df(res)"
   ]
  },
  {
   "cell_type": "code",
   "execution_count": 18,
   "metadata": {},
   "outputs": [
    {
     "data": {
      "text/plain": [
       "1645416"
      ]
     },
     "execution_count": 18,
     "metadata": {},
     "output_type": "execute_result"
    }
   ],
   "source": [
    "tooth_proc_df.drop_duplicates(inplace=True) # make sure there are not duplicates\n",
    "len(tooth_proc_df)"
   ]
  },
  {
   "cell_type": "markdown",
   "metadata": {},
   "source": [
    "## filter out invalid dates and convert datatypes (note: ignore warnings)"
   ]
  },
  {
   "cell_type": "code",
   "execution_count": 19,
   "metadata": {},
   "outputs": [],
   "source": [
    "tooth_proc_df = tooth_proc_df[tooth_proc_df.event_date.str.startswith('19') | tooth_proc_df.event_date.str.startswith('20')]"
   ]
  },
  {
   "cell_type": "code",
   "execution_count": 20,
   "metadata": {},
   "outputs": [],
   "source": [
    "tooth_proc_df.event_date = pds.to_datetime(tooth_proc_df.event_date)"
   ]
  },
  {
   "cell_type": "code",
   "execution_count": 21,
   "metadata": {},
   "outputs": [],
   "source": [
    "tooth_proc_df['patient_id'] = tooth_proc_df['patient_id'].astype(str)\n",
    "tooth_proc_df['tooth_id'] = tooth_proc_df['tooth_id'].astype(str)\n",
    "tooth_proc_df['tooth_num'] = tooth_proc_df['tooth_num'].astype(str)\n",
    "tooth_proc_df['cdt_code'] = tooth_proc_df['cdt_code'].astype(str)\n",
    "tooth_proc_df['cdt_label'] = tooth_proc_df['cdt_label'].astype(str)"
   ]
  },
  {
   "cell_type": "markdown",
   "metadata": {},
   "source": [
    "## join with patient info to filter out invalid patients"
   ]
  },
  {
   "cell_type": "code",
   "execution_count": 22,
   "metadata": {},
   "outputs": [
    {
     "data": {
      "text/plain": [
       "1626907"
      ]
     },
     "execution_count": 22,
     "metadata": {},
     "output_type": "execute_result"
    }
   ],
   "source": [
    "tooth_proc_df = pds.merge(tooth_proc_df, patient_df[['patient_id']], how='inner', on='patient_id')\n",
    "len(tooth_proc_df)"
   ]
  },
  {
   "cell_type": "markdown",
   "metadata": {},
   "source": [
    "## save local copy of tooth/procedure info"
   ]
  },
  {
   "cell_type": "code",
   "execution_count": 23,
   "metadata": {},
   "outputs": [],
   "source": [
    "tooth_proc_df.to_csv('triplestore-tooth-procedure-info.tsv', sep='\\t', index=False)"
   ]
  },
  {
   "cell_type": "markdown",
   "metadata": {},
   "source": [
    "## find surfaces restored by procedures"
   ]
  },
  {
   "cell_type": "code",
   "execution_count": 67,
   "metadata": {},
   "outputs": [],
   "source": [
    "q = prefixes + get_sparql('queries/procedure-surface-info.sparql')\n",
    "# print(q)"
   ]
  },
  {
   "cell_type": "code",
   "execution_count": 68,
   "metadata": {},
   "outputs": [],
   "source": [
    "sparql.setQuery(q)\n",
    "res = sparql.query()\n",
    "proc_surface_df = sparql_to_df(res)"
   ]
  },
  {
   "cell_type": "code",
   "execution_count": 69,
   "metadata": {},
   "outputs": [
    {
     "data": {
      "text/plain": [
       "1252115"
      ]
     },
     "execution_count": 69,
     "metadata": {},
     "output_type": "execute_result"
    }
   ],
   "source": [
    "proc_surface_df.drop_duplicates(inplace=True) # make sure there are no dups\n",
    "len(proc_surface_df)"
   ]
  },
  {
   "cell_type": "markdown",
   "metadata": {},
   "source": [
    "## join with patient info to filter out invalid patients"
   ]
  },
  {
   "cell_type": "code",
   "execution_count": 70,
   "metadata": {},
   "outputs": [
    {
     "data": {
      "text/plain": [
       "1235505"
      ]
     },
     "execution_count": 70,
     "metadata": {},
     "output_type": "execute_result"
    }
   ],
   "source": [
    "proc_surface_df = pds.merge(proc_surface_df, patient_df[['patient_id']], how='inner', on='patient_id')\n",
    "len(proc_surface_df)"
   ]
  },
  {
   "cell_type": "code",
   "execution_count": 71,
   "metadata": {},
   "outputs": [
    {
     "data": {
      "text/html": [
       "<div>\n",
       "<style scoped>\n",
       "    .dataframe tbody tr th:only-of-type {\n",
       "        vertical-align: middle;\n",
       "    }\n",
       "\n",
       "    .dataframe tbody tr th {\n",
       "        vertical-align: top;\n",
       "    }\n",
       "\n",
       "    .dataframe thead th {\n",
       "        text-align: right;\n",
       "    }\n",
       "</style>\n",
       "<table border=\"1\" class=\"dataframe\">\n",
       "  <thead>\n",
       "    <tr style=\"text-align: right;\">\n",
       "      <th></th>\n",
       "      <th>patient_id</th>\n",
       "      <th>tooth_id</th>\n",
       "      <th>tooth_num</th>\n",
       "      <th>proc_id</th>\n",
       "      <th>m</th>\n",
       "      <th>o</th>\n",
       "      <th>d</th>\n",
       "      <th>b</th>\n",
       "      <th>f</th>\n",
       "      <th>l</th>\n",
       "      <th>i</th>\n",
       "    </tr>\n",
       "  </thead>\n",
       "  <tbody>\n",
       "    <tr>\n",
       "      <th>0</th>\n",
       "      <td>A_1_1_17</td>\n",
       "      <td>A_1_1_17_7</td>\n",
       "      <td>7</td>\n",
       "      <td>A_1_1_17_7_D2331_2011-04-23</td>\n",
       "      <td>1</td>\n",
       "      <td>0</td>\n",
       "      <td>0</td>\n",
       "      <td>0</td>\n",
       "      <td>0</td>\n",
       "      <td>0</td>\n",
       "      <td>1</td>\n",
       "    </tr>\n",
       "    <tr>\n",
       "      <th>1</th>\n",
       "      <td>A_1_1_17</td>\n",
       "      <td>A_1_1_17_9</td>\n",
       "      <td>9</td>\n",
       "      <td>A_1_1_17_9_D2335_2006-07-07</td>\n",
       "      <td>1</td>\n",
       "      <td>0</td>\n",
       "      <td>0</td>\n",
       "      <td>0</td>\n",
       "      <td>0</td>\n",
       "      <td>0</td>\n",
       "      <td>1</td>\n",
       "    </tr>\n",
       "    <tr>\n",
       "      <th>2</th>\n",
       "      <td>A_1_1_17</td>\n",
       "      <td>A_1_1_17_10</td>\n",
       "      <td>10</td>\n",
       "      <td>A_1_1_17_10_D2330_2008-10-12</td>\n",
       "      <td>1</td>\n",
       "      <td>0</td>\n",
       "      <td>0</td>\n",
       "      <td>0</td>\n",
       "      <td>0</td>\n",
       "      <td>0</td>\n",
       "      <td>0</td>\n",
       "    </tr>\n",
       "    <tr>\n",
       "      <th>3</th>\n",
       "      <td>A_1_1_17</td>\n",
       "      <td>A_1_1_17_10</td>\n",
       "      <td>10</td>\n",
       "      <td>A_1_1_17_10_D2335_2014-03-16</td>\n",
       "      <td>1</td>\n",
       "      <td>0</td>\n",
       "      <td>0</td>\n",
       "      <td>0</td>\n",
       "      <td>1</td>\n",
       "      <td>1</td>\n",
       "      <td>1</td>\n",
       "    </tr>\n",
       "    <tr>\n",
       "      <th>4</th>\n",
       "      <td>A_1_1_17</td>\n",
       "      <td>A_1_1_17_12</td>\n",
       "      <td>12</td>\n",
       "      <td>A_1_1_17_12_D2392_2012-01-23</td>\n",
       "      <td>0</td>\n",
       "      <td>1</td>\n",
       "      <td>1</td>\n",
       "      <td>0</td>\n",
       "      <td>0</td>\n",
       "      <td>0</td>\n",
       "      <td>0</td>\n",
       "    </tr>\n",
       "  </tbody>\n",
       "</table>\n",
       "</div>"
      ],
      "text/plain": [
       "  patient_id     tooth_id tooth_num                       proc_id  m  o  d  b  \\\n",
       "0   A_1_1_17   A_1_1_17_7         7   A_1_1_17_7_D2331_2011-04-23  1  0  0  0   \n",
       "1   A_1_1_17   A_1_1_17_9         9   A_1_1_17_9_D2335_2006-07-07  1  0  0  0   \n",
       "2   A_1_1_17  A_1_1_17_10        10  A_1_1_17_10_D2330_2008-10-12  1  0  0  0   \n",
       "3   A_1_1_17  A_1_1_17_10        10  A_1_1_17_10_D2335_2014-03-16  1  0  0  0   \n",
       "4   A_1_1_17  A_1_1_17_12        12  A_1_1_17_12_D2392_2012-01-23  0  1  1  0   \n",
       "\n",
       "   f  l  i  \n",
       "0  0  0  1  \n",
       "1  0  0  1  \n",
       "2  0  0  0  \n",
       "3  1  1  1  \n",
       "4  0  0  0  "
      ]
     },
     "execution_count": 71,
     "metadata": {},
     "output_type": "execute_result"
    }
   ],
   "source": [
    "proc_surface_df.head()"
   ]
  },
  {
   "cell_type": "markdown",
   "metadata": {},
   "source": [
    "## add colum with total number of surfaces restored"
   ]
  },
  {
   "cell_type": "code",
   "execution_count": 72,
   "metadata": {},
   "outputs": [],
   "source": [
    "proc_surface_df['m'] = proc_surface_df['m'].astype(int) \n",
    "proc_surface_df['o'] = proc_surface_df['o'].astype(int)\n",
    "proc_surface_df['d'] = proc_surface_df['d'].astype(int)\n",
    "proc_surface_df['b'] = proc_surface_df['b'].astype(int)\n",
    "proc_surface_df['f'] = proc_surface_df['f'].astype(int)\n",
    "proc_surface_df['l'] = proc_surface_df['l'].astype(int) \n",
    "proc_surface_df['i'] = proc_surface_df['i'].astype(int)"
   ]
  },
  {
   "cell_type": "code",
   "execution_count": 73,
   "metadata": {},
   "outputs": [],
   "source": [
    "proc_surface_df['num_surfaces'] = \\\n",
    "    proc_surface_df['m'] + proc_surface_df['o'] + proc_surface_df['d'] + \\\n",
    "    proc_surface_df['b'] + proc_surface_df['f'] + proc_surface_df['l'] + proc_surface_df['i']"
   ]
  },
  {
   "cell_type": "markdown",
   "metadata": {},
   "source": [
    "## save local copy of procedure/surface info"
   ]
  },
  {
   "cell_type": "code",
   "execution_count": 76,
   "metadata": {},
   "outputs": [],
   "source": [
    "proc_surface_df.to_csv('triplestore-procedure-surface-info.tsv', sep='\\t', index=False)"
   ]
  },
  {
   "cell_type": "markdown",
   "metadata": {},
   "source": [
    "## find tooth type metadata for each tooth"
   ]
  },
  {
   "cell_type": "code",
   "execution_count": 29,
   "metadata": {},
   "outputs": [],
   "source": [
    "q = prefixes + get_sparql('queries/tooth-type-info.sparql')\n",
    "# print(q)"
   ]
  },
  {
   "cell_type": "code",
   "execution_count": 30,
   "metadata": {},
   "outputs": [],
   "source": [
    "sparql.setQuery(q)\n",
    "res = sparql.query()\n",
    "tooth_type_df = sparql_to_df(res)"
   ]
  },
  {
   "cell_type": "code",
   "execution_count": 31,
   "metadata": {},
   "outputs": [],
   "source": [
    "tooth_type_df = pds.read_csv('triplestore-tooth-type-info.tsv', sep='\\t')"
   ]
  },
  {
   "cell_type": "code",
   "execution_count": 32,
   "metadata": {},
   "outputs": [
    {
     "data": {
      "text/plain": [
       "1210430"
      ]
     },
     "execution_count": 32,
     "metadata": {},
     "output_type": "execute_result"
    }
   ],
   "source": [
    "tooth_type_df.drop_duplicates(inplace=True) # make sure there are no dups\n",
    "len(tooth_type_df)"
   ]
  },
  {
   "cell_type": "markdown",
   "metadata": {},
   "source": [
    "## add maxillary maxilla (1-16) mandible (17-32) metadata"
   ]
  },
  {
   "cell_type": "code",
   "execution_count": 33,
   "metadata": {},
   "outputs": [],
   "source": [
    "tooth_type_df.tooth_num = tooth_type_df.tooth_num.astype(int) # convert tooth_num to int\n",
    "tooth_type_df['maxillary'] = tooth_type_df.tooth_num.map(lambda x: 1 if x < 17 else 0)\n",
    "tooth_type_df['mandibular'] = tooth_type_df.tooth_num.map(lambda x: 1 if x > 16 else 0)"
   ]
  },
  {
   "cell_type": "markdown",
   "metadata": {},
   "source": [
    "## add left/right metadata"
   ]
  },
  {
   "cell_type": "code",
   "execution_count": 34,
   "metadata": {},
   "outputs": [],
   "source": [
    "tooth_type_df['left'] = tooth_type_df.tooth_num.map(lambda x: 1 if x > 8 and x < 25 else 0)\n",
    "tooth_type_df['right'] = tooth_type_df.tooth_num.map(lambda x: 1 if x < 9 or x > 24 else 0)"
   ]
  },
  {
   "cell_type": "markdown",
   "metadata": {},
   "source": [
    "## join with patient info to filter out invalid patients"
   ]
  },
  {
   "cell_type": "code",
   "execution_count": 35,
   "metadata": {},
   "outputs": [
    {
     "data": {
      "text/plain": [
       "1194463"
      ]
     },
     "execution_count": 35,
     "metadata": {},
     "output_type": "execute_result"
    }
   ],
   "source": [
    "tooth_type_df = pds.merge(tooth_type_df, patient_df[['patient_id']], how='inner', on='patient_id')\n",
    "len(tooth_type_df)"
   ]
  },
  {
   "cell_type": "markdown",
   "metadata": {},
   "source": [
    "## save local copy of tooth type metadata info"
   ]
  },
  {
   "cell_type": "code",
   "execution_count": 36,
   "metadata": {},
   "outputs": [],
   "source": [
    "tooth_type_df.to_csv('triplestore-tooth-type-info.tsv', sep='\\t', index=False)"
   ]
  },
  {
   "cell_type": "markdown",
   "metadata": {},
   "source": [
    "## find materials used crowns (inluding onlays), fillings (including inlays), and veneers"
   ]
  },
  {
   "cell_type": "code",
   "execution_count": 77,
   "metadata": {},
   "outputs": [],
   "source": [
    "q = prefixes + get_sparql('queries/proc-material-info.sparql')\n",
    "# print(q)"
   ]
  },
  {
   "cell_type": "code",
   "execution_count": 78,
   "metadata": {},
   "outputs": [],
   "source": [
    "sparql.setQuery(q)\n",
    "res = sparql.query()\n",
    "proc_material_df = sparql_to_df(res)"
   ]
  },
  {
   "cell_type": "code",
   "execution_count": 79,
   "metadata": {},
   "outputs": [
    {
     "data": {
      "text/plain": [
       "1686822"
      ]
     },
     "execution_count": 79,
     "metadata": {},
     "output_type": "execute_result"
    }
   ],
   "source": [
    "proc_material_df.drop_duplicates(inplace=True) # make sure there are no dups\n",
    "len(proc_material_df)"
   ]
  },
  {
   "cell_type": "markdown",
   "metadata": {},
   "source": [
    "## join with patient info to filter out invalid patients"
   ]
  },
  {
   "cell_type": "code",
   "execution_count": 80,
   "metadata": {},
   "outputs": [
    {
     "data": {
      "text/plain": [
       "1668204"
      ]
     },
     "execution_count": 80,
     "metadata": {},
     "output_type": "execute_result"
    }
   ],
   "source": [
    "proc_material_df = pds.merge(proc_material_df, patient_df[['patient_id']], how='inner', on='patient_id')\n",
    "len(proc_material_df)"
   ]
  },
  {
   "cell_type": "markdown",
   "metadata": {},
   "source": [
    "## save local copy of procedure/material info"
   ]
  },
  {
   "cell_type": "code",
   "execution_count": 81,
   "metadata": {},
   "outputs": [],
   "source": [
    "proc_material_df.to_csv('triplestore-proc-material-info.tsv', sep='\\t', index=False)"
   ]
  },
  {
   "cell_type": "code",
   "execution_count": null,
   "metadata": {},
   "outputs": [],
   "source": []
  }
 ],
 "metadata": {
  "kernelspec": {
   "display_name": "Python 3",
   "language": "python",
   "name": "python3"
  },
  "language_info": {
   "codemirror_mode": {
    "name": "ipython",
    "version": 3
   },
   "file_extension": ".py",
   "mimetype": "text/x-python",
   "name": "python",
   "nbconvert_exporter": "python",
   "pygments_lexer": "ipython3",
   "version": "3.7.3"
  }
 },
 "nbformat": 4,
 "nbformat_minor": 4
}
