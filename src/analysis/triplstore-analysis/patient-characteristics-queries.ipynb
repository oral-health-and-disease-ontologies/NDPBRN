{
 "cells": [
  {
   "cell_type": "code",
   "execution_count": 1,
   "metadata": {},
   "outputs": [],
   "source": [
    "from SPARQLWrapper import SPARQLWrapper2 # SPARQLWrapper2 works with a JSON SELECT return result only\n",
    "import pandas as pds"
   ]
  },
  {
   "cell_type": "markdown",
   "metadata": {},
   "source": [
    "## define function for converting sparql results to a dataframe"
   ]
  },
  {
   "cell_type": "code",
   "execution_count": 3,
   "metadata": {},
   "outputs": [],
   "source": [
    "def sparql_to_df(results):\n",
    "    data = {}\n",
    "    for variable in results.variables:\n",
    "        data[variable] = [x.value for x in results.getValues(variable)]\n",
    "    return pds.DataFrame(data)"
   ]
  },
  {
   "cell_type": "markdown",
   "metadata": {},
   "source": [
    "## set connection to local triple store"
   ]
  },
  {
   "cell_type": "code",
   "execution_count": 10,
   "metadata": {},
   "outputs": [],
   "source": [
    "# sparql = SPARQLWrapper2(\"http://192.168.1.243:7200/repositories/EDR_NO_ES\") # local server\n",
    "sparql = SPARQLWrapper2(\"http://10.16.128.24:7200/repositories/EDR_NO_ES\") # RI server"
   ]
  },
  {
   "cell_type": "markdown",
   "metadata": {},
   "source": [
    "## test getting some results"
   ]
  },
  {
   "cell_type": "code",
   "execution_count": 11,
   "metadata": {},
   "outputs": [
    {
     "data": {
      "text/html": [
       "<div>\n",
       "<style scoped>\n",
       "    .dataframe tbody tr th:only-of-type {\n",
       "        vertical-align: middle;\n",
       "    }\n",
       "\n",
       "    .dataframe tbody tr th {\n",
       "        vertical-align: top;\n",
       "    }\n",
       "\n",
       "    .dataframe thead th {\n",
       "        text-align: right;\n",
       "    }\n",
       "</style>\n",
       "<table border=\"1\" class=\"dataframe\">\n",
       "  <thead>\n",
       "    <tr style=\"text-align: right;\">\n",
       "      <th></th>\n",
       "      <th>s</th>\n",
       "      <th>p</th>\n",
       "      <th>o</th>\n",
       "    </tr>\n",
       "  </thead>\n",
       "  <tbody>\n",
       "    <tr>\n",
       "      <th>0</th>\n",
       "      <td>http://www.w3.org/1999/02/22-rdf-syntax-ns#type</td>\n",
       "      <td>http://www.w3.org/1999/02/22-rdf-syntax-ns#type</td>\n",
       "      <td>http://www.w3.org/1999/02/22-rdf-syntax-ns#Pro...</td>\n",
       "    </tr>\n",
       "    <tr>\n",
       "      <th>1</th>\n",
       "      <td>http://www.w3.org/1999/02/22-rdf-syntax-ns#type</td>\n",
       "      <td>http://www.w3.org/1999/02/22-rdf-syntax-ns#type</td>\n",
       "      <td>http://www.w3.org/2002/07/owl#Thing</td>\n",
       "    </tr>\n",
       "    <tr>\n",
       "      <th>2</th>\n",
       "      <td>http://www.w3.org/1999/02/22-rdf-syntax-ns#type</td>\n",
       "      <td>http://www.w3.org/1999/02/22-rdf-syntax-ns#type</td>\n",
       "      <td>http://www.w3.org/2002/07/owl#ObjectProperty</td>\n",
       "    </tr>\n",
       "    <tr>\n",
       "      <th>3</th>\n",
       "      <td>http://www.w3.org/1999/02/22-rdf-syntax-ns#Pro...</td>\n",
       "      <td>http://www.w3.org/1999/02/22-rdf-syntax-ns#type</td>\n",
       "      <td>http://www.w3.org/2000/01/rdf-schema#Class</td>\n",
       "    </tr>\n",
       "    <tr>\n",
       "      <th>4</th>\n",
       "      <td>http://www.w3.org/1999/02/22-rdf-syntax-ns#Pro...</td>\n",
       "      <td>http://www.w3.org/1999/02/22-rdf-syntax-ns#type</td>\n",
       "      <td>http://www.w3.org/2002/07/owl#Class</td>\n",
       "    </tr>\n",
       "  </tbody>\n",
       "</table>\n",
       "</div>"
      ],
      "text/plain": [
       "                                                   s  \\\n",
       "0    http://www.w3.org/1999/02/22-rdf-syntax-ns#type   \n",
       "1    http://www.w3.org/1999/02/22-rdf-syntax-ns#type   \n",
       "2    http://www.w3.org/1999/02/22-rdf-syntax-ns#type   \n",
       "3  http://www.w3.org/1999/02/22-rdf-syntax-ns#Pro...   \n",
       "4  http://www.w3.org/1999/02/22-rdf-syntax-ns#Pro...   \n",
       "\n",
       "                                                 p  \\\n",
       "0  http://www.w3.org/1999/02/22-rdf-syntax-ns#type   \n",
       "1  http://www.w3.org/1999/02/22-rdf-syntax-ns#type   \n",
       "2  http://www.w3.org/1999/02/22-rdf-syntax-ns#type   \n",
       "3  http://www.w3.org/1999/02/22-rdf-syntax-ns#type   \n",
       "4  http://www.w3.org/1999/02/22-rdf-syntax-ns#type   \n",
       "\n",
       "                                                   o  \n",
       "0  http://www.w3.org/1999/02/22-rdf-syntax-ns#Pro...  \n",
       "1                http://www.w3.org/2002/07/owl#Thing  \n",
       "2       http://www.w3.org/2002/07/owl#ObjectProperty  \n",
       "3         http://www.w3.org/2000/01/rdf-schema#Class  \n",
       "4                http://www.w3.org/2002/07/owl#Class  "
      ]
     },
     "execution_count": 11,
     "metadata": {},
     "output_type": "execute_result"
    }
   ],
   "source": [
    "q = \"select ?s ?p ?o where { ?s ?p ?o } limit 5\"\n",
    "sparql.setQuery(q)\n",
    "res = sparql.query()\n",
    "sparql_to_df(res)"
   ]
  },
  {
   "cell_type": "markdown",
   "metadata": {},
   "source": [
    "## define some standard prefixes to use in queries"
   ]
  },
  {
   "cell_type": "code",
   "execution_count": 16,
   "metadata": {},
   "outputs": [],
   "source": [
    "prefixes = \"\"\"\n",
    "PREFIX obo: <http://purl.obolibrary.org/obo/>\n",
    "PREFIX part_of: <http://purl.obolibrary.org/obo/BFO_0000050>\n",
    "PREFIX has_part: <http://purl.obolibrary.org/obo/BFO_0000051>\n",
    "PREFIX material: <http://purl.obolibrary.org/obo/OHD_0000000>\n",
    "PREFIX tooth: <http://purl.obolibrary.org/obo/FMA_12516>\n",
    "PREFIX rdfs: <http://www.w3.org/2000/01/rdf-schema#>\n",
    "PREFIX owl: <http://www.w3.org/2002/07/owl#>\n",
    "PREFIX ada_num: <http://purl.obolibrary.org/obo/OHD_0000065>\n",
    "PREFIX patient: <http://purl.obolibrary.org/obo/OHD_0000012>\n",
    "PREFIX male_patient: <http://purl.obolibrary.org/obo/OHD_0000054>\n",
    "PREFIX female_patient: <http://purl.obolibrary.org/obo/OHD_0000049>\n",
    "PREFIX provider: <http://purl.obolibrary.org/obo/OHD_0000051>\n",
    "PREFIX procedure: <http://purl.obolibrary.org/obo/OHD_0000002>\n",
    "PREFIX restoration_procedure: <http://purl.obolibrary.org/obo/OHD_0000004>\n",
    "PREFIX participates_in: <http://purl.obolibrary.org/obo/BFO_0000056>\n",
    "PREFIX has_participant: <http://purl.obolibrary.org/obo/BFO_0000057>\n",
    "PREFIX has_specified_input: <http://purl.obolibrary.org/obo/OBI_0000293>\n",
    "PREFIX has_specified_output: <http://purl.obolibrary.org/obo/OBI_0000299>\n",
    "PREFIX sesame: <http://www.openrdf.org/schema/sesame#>\n",
    "PREFIX birth_date: <http://purl.obolibrary.org/obo/OHD_0000050>\n",
    "PREFIX npbrn_id: <http://purl.obolibrary.org/obo/OHD_0000273>\n",
    "\"\"\""
   ]
  },
  {
   "cell_type": "markdown",
   "metadata": {},
   "source": [
    "## find patients that had a procedure"
   ]
  },
  {
   "cell_type": "code",
   "execution_count": 17,
   "metadata": {},
   "outputs": [],
   "source": [
    "q = \"\"\"\n",
    "%s\n",
    "select distinct ?patient_id ?gender ?dob ?practice where {\n",
    "    values ?gender_type {obo:OHD_0000049 obo:OHD_0000054}\n",
    "    ?patient_i a patient:;\n",
    "               birth_date: ?bdate;\n",
    "               npbrn_id: ?npbrn_id;\n",
    "             sesame:directType ?gender_type .\n",
    "    ?tooth_i a tooth:;\n",
    "           part_of: ?patient_i .\n",
    "    ?proc_i a procedure:;\n",
    "          has_specified_input: ?tooth_i .\n",
    "    filter (!isblank(?patient_i))\n",
    "\n",
    "    bind(strafter(str(?patient_i), \"patient/\") as ?patient_id)\n",
    "    bind(strbefore(str(?bdate), \"T\") as ?dob)\n",
    "    bind(strafter(str(?npbrn_id), \"NDPBRN practice \") as ?practice)\n",
    "    bind (if(?gender_type = obo:OHD_0000049, \"female\", \"male\") as ?gender )\n",
    "}\n",
    "\"\"\" % prefixes\n",
    "# print(q)"
   ]
  },
  {
   "cell_type": "code",
   "execution_count": 66,
   "metadata": {},
   "outputs": [],
   "source": [
    "sparql.setQuery(q)\n",
    "res = sparql.query()\n",
    "patient_df = sparql_to_df(res)"
   ]
  },
  {
   "cell_type": "code",
   "execution_count": 90,
   "metadata": {},
   "outputs": [
    {
     "data": {
      "text/plain": [
       "226800"
      ]
     },
     "execution_count": 90,
     "metadata": {},
     "output_type": "execute_result"
    }
   ],
   "source": [
    "patient_df.drop_duplicates(inplace=True) # make sure there are not duplicates\n",
    "len(patient_df)"
   ]
  },
  {
   "cell_type": "markdown",
   "metadata": {},
   "source": [
    "## calculate patients age as of 2017, include only patients with age > 0"
   ]
  },
  {
   "cell_type": "code",
   "execution_count": 305,
   "metadata": {},
   "outputs": [],
   "source": [
    "## calculate age of patient as of 2017\n",
    "patient_df.dob = pds.to_datetime(patient_df.dob)\n",
    "patient_df['patient_age'] = 2017 - pds.to_datetime(patient_df.dob).dt.year"
   ]
  },
  {
   "cell_type": "code",
   "execution_count": 306,
   "metadata": {},
   "outputs": [],
   "source": [
    "# drop patients with age less than 0\n",
    "patient_df = patient_df.query('patient_age > 0')"
   ]
  },
  {
   "cell_type": "markdown",
   "metadata": {},
   "source": [
    "## save local copy of patient info"
   ]
  },
  {
   "cell_type": "code",
   "execution_count": 307,
   "metadata": {},
   "outputs": [],
   "source": [
    "patient_df.to_csv('triplestore-patient-info.tsv', sep='\\t')"
   ]
  },
  {
   "cell_type": "code",
   "execution_count": null,
   "metadata": {},
   "outputs": [],
   "source": []
  }
 ],
 "metadata": {
  "kernelspec": {
   "display_name": "Python 3",
   "language": "python",
   "name": "python3"
  },
  "language_info": {
   "codemirror_mode": {
    "name": "ipython",
    "version": 3
   },
   "file_extension": ".py",
   "mimetype": "text/x-python",
   "name": "python",
   "nbconvert_exporter": "python",
   "pygments_lexer": "ipython3",
   "version": "3.7.3"
  }
 },
 "nbformat": 4,
 "nbformat_minor": 4
}
