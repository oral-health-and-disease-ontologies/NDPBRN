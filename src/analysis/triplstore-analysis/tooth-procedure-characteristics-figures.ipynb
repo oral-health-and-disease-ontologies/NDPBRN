{
 "cells": [
  {
   "cell_type": "code",
   "execution_count": 1,
   "metadata": {},
   "outputs": [],
   "source": [
    "import pandas as pds\n",
    "import numpy as np\n",
    "import seaborn as sns\n",
    "import matplotlib.pyplot as plt\n",
    "from tabulate import tabulate\n",
    "from pandasql import sqldf\n",
    "import functools"
   ]
  },
  {
   "cell_type": "markdown",
   "metadata": {},
   "source": [
    "## define function for printing pandas dataframes as markdown"
   ]
  },
  {
   "cell_type": "code",
   "execution_count": 2,
   "metadata": {},
   "outputs": [],
   "source": [
    "def print_pandas_md(df):\n",
    "    print(tabulate(df, tablefmt=\"pipe\", headers=\"keys\"))"
   ]
  },
  {
   "cell_type": "markdown",
   "metadata": {},
   "source": [
    "## define function to round values in an interval object"
   ]
  },
  {
   "cell_type": "code",
   "execution_count": 3,
   "metadata": {},
   "outputs": [],
   "source": [
    "def round_interval(interval):\n",
    "    left_val = round(interval.left)\n",
    "    right_val = round(interval.right)\n",
    "    return pds.Interval(left=left_val, right=right_val, closed='left')"
   ]
  },
  {
   "cell_type": "markdown",
   "metadata": {},
   "source": [
    "## load local copies of data"
   ]
  },
  {
   "cell_type": "code",
   "execution_count": 4,
   "metadata": {},
   "outputs": [],
   "source": [
    "patient_df = pds.read_csv('triplestore-patient-info.tsv', sep='\\t')"
   ]
  },
  {
   "cell_type": "code",
   "execution_count": 5,
   "metadata": {},
   "outputs": [],
   "source": [
    "tooth_proc_df = pds.read_csv('triplestore-tooth-procedure-info.tsv', sep='\\t')"
   ]
  },
  {
   "cell_type": "code",
   "execution_count": 6,
   "metadata": {},
   "outputs": [],
   "source": [
    "tooth_type_df = pds.read_csv('triplestore-tooth-type-info.tsv', sep='\\t')"
   ]
  },
  {
   "cell_type": "code",
   "execution_count": 7,
   "metadata": {},
   "outputs": [],
   "source": [
    "proc_surface_df = pds.read_csv('triplestore-procedure-surface-info.tsv', sep='\\t')"
   ]
  },
  {
   "cell_type": "code",
   "execution_count": 8,
   "metadata": {},
   "outputs": [],
   "source": [
    "proc_material_df = pds.read_csv('triplestore-proc-material-info.tsv', sep='\\t')"
   ]
  },
  {
   "cell_type": "markdown",
   "metadata": {},
   "source": [
    "# Plot data"
   ]
  },
  {
   "cell_type": "markdown",
   "metadata": {},
   "source": [
    "## plot total number of distinct teeth by tooth type that underwent a procedure"
   ]
  },
  {
   "cell_type": "markdown",
   "metadata": {},
   "source": [
    "### calculate the number of each tooth type"
   ]
  },
  {
   "cell_type": "code",
   "execution_count": 9,
   "metadata": {},
   "outputs": [],
   "source": [
    "tooth_df = tooth_proc_df[['patient_id', 'tooth_num']].copy()\n",
    "tooth_df.tooth_num = tooth_df.tooth_num.astype(int)\n",
    "tooth_count_query = \"\"\"\n",
    "select \n",
    "    tooth_num, count(*) as num_teeth\n",
    "from\n",
    "    tooth_df\n",
    "group by\n",
    "    tooth_num\n",
    "order by\n",
    "    tooth_num\n",
    "\"\"\"\n",
    "tooth_count_df = sqldf(tooth_count_query)"
   ]
  },
  {
   "cell_type": "code",
   "execution_count": 10,
   "metadata": {},
   "outputs": [],
   "source": [
    "# tooth_count_df.head()"
   ]
  },
  {
   "cell_type": "markdown",
   "metadata": {},
   "source": [
    "### plot"
   ]
  },
  {
   "cell_type": "code",
   "execution_count": 39,
   "metadata": {},
   "outputs": [
    {
     "name": "stderr",
     "output_type": "stream",
     "text": [
      "/Users/wdduncan/repos/oral-health-and-disease-ontologies/NDPBRN/src/analysis/.env/lib/python3.7/site-packages/ipykernel_launcher.py:12: UserWarning: FixedFormatter should only be used together with FixedLocator\n",
      "  if sys.path[0] == '':\n",
      "/Users/wdduncan/repos/oral-health-and-disease-ontologies/NDPBRN/src/analysis/.env/lib/python3.7/site-packages/ipykernel_launcher.py:14: UserWarning: FixedFormatter should only be used together with FixedLocator\n",
      "  \n"
     ]
    },
    {
     "data": {
      "image/png": "[encoded data removed]",
      "text/plain": [
       "<Figure size 864x504 with 1 Axes>"
      ]
     },
     "metadata": {},
     "output_type": "display_data"
    }
   ],
   "source": [
    "%matplotlib inline\n",
    "sns.set()\n",
    "\n",
    "plt.figure(figsize=(12,7))\n",
    "ax = sns.barplot(x='tooth_num', y='num_teeth',data=tooth_count_df, color='#4c72b0')\n",
    "\n",
    "ax.set_xlabel(\"\\nTooth Number\", fontsize=15)\n",
    "ax.set_ylabel(\"Number of Teeth that had a Procedure\\n\", fontsize=15)\n",
    "\n",
    "tooth_nums = [x for x in range(1,33)] # create list of tooth nums\n",
    "ax.set_xticklabels(tooth_nums, size=13)\n",
    "ax.set_yticklabels(ax.get_yticks(), size=13)\n",
    "\n",
    "ax.set_yticklabels(['{:,}'.format(int(x)) for x in ax.get_yticks().tolist()]) # put commas in y-ticks\n",
    "plt.savefig(\"figures/tooth-count-per-tooth.png\", dpi=600, bbox_inches=\"tight\")\n",
    "plt.show()"
   ]
  },
  {
   "cell_type": "markdown",
   "metadata": {},
   "source": [
    "## plot total number of distinct teeth by tooth type that underwent a procedure by gender"
   ]
  },
  {
   "cell_type": "markdown",
   "metadata": {},
   "source": [
    "### join tooth information to gender information"
   ]
  },
  {
   "cell_type": "code",
   "execution_count": 12,
   "metadata": {},
   "outputs": [],
   "source": [
    "tooth_gender_query = \"\"\"\n",
    "select\n",
    "    tooth_df.patient_id, tooth_num, gender\n",
    "from\n",
    "    tooth_df\n",
    "inner join\n",
    "    patient_df\n",
    "on\n",
    "    tooth_df.patient_id = patient_df.patient_id\n",
    "order by\n",
    "    tooth_num\n",
    "\"\"\"\n",
    "tooth_gender_df = sqldf(tooth_gender_query)"
   ]
  },
  {
   "cell_type": "markdown",
   "metadata": {},
   "source": [
    "### calculate the number of teeth for each tooth type and gender"
   ]
  },
  {
   "cell_type": "code",
   "execution_count": 13,
   "metadata": {},
   "outputs": [],
   "source": [
    "tooth_gender_count_query = \"\"\"\n",
    "select \n",
    "    tooth_num, gender, count(*) as num_teeth\n",
    "from\n",
    "    tooth_gender_df\n",
    "group by\n",
    "    tooth_num, gender\n",
    "order by\n",
    "    tooth_num\n",
    "\"\"\"\n",
    "tooth_gender_count_df = sqldf(tooth_gender_count_query)"
   ]
  },
  {
   "cell_type": "code",
   "execution_count": 14,
   "metadata": {},
   "outputs": [],
   "source": [
    "# tooth_gender_count_df.head()"
   ]
  },
  {
   "cell_type": "markdown",
   "metadata": {},
   "source": [
    "### plot"
   ]
  },
  {
   "cell_type": "code",
   "execution_count": 40,
   "metadata": {},
   "outputs": [
    {
     "name": "stderr",
     "output_type": "stream",
     "text": [
      "/Users/wdduncan/repos/oral-health-and-disease-ontologies/NDPBRN/src/analysis/.env/lib/python3.7/site-packages/ipykernel_launcher.py:14: UserWarning: FixedFormatter should only be used together with FixedLocator\n",
      "  \n",
      "/Users/wdduncan/repos/oral-health-and-disease-ontologies/NDPBRN/src/analysis/.env/lib/python3.7/site-packages/ipykernel_launcher.py:17: UserWarning: FixedFormatter should only be used together with FixedLocator\n"
     ]
    },
    {
     "data": {
      "image/png": "[encoded data removed]",
      "text/plain": [
       "<Figure size 864x504 with 1 Axes>"
      ]
     },
     "metadata": {},
     "output_type": "display_data"
    }
   ],
   "source": [
    "%matplotlib inline\n",
    "sns.set()\n",
    "colors = ['magenta', 'cyan']\n",
    "sns.set_palette(colors)\n",
    "\n",
    "plt.figure(figsize=(12,7))\n",
    "ax = sns.barplot(x='tooth_num', y='num_teeth', hue=\"gender\",data=tooth_gender_count_df)\n",
    "\n",
    "ax.set_xlabel(\"\\nTooth Number\", fontsize=15)\n",
    "ax.set_ylabel(\"Number of Teeth that had a Procedure\\n\", fontsize=15)\n",
    "\n",
    "tooth_nums = [x for x in range(1,33)] # create list of tooth nums\n",
    "ax.set_xticklabels(tooth_nums, size=13)\n",
    "ax.set_yticklabels(ax.get_yticks(), size=13)\n",
    "ax.legend(loc='upper right', fontsize=15, bbox_to_anchor=(0.9, 1))\n",
    "\n",
    "ax.set_yticklabels(['{:,}'.format(int(x)) for x in ax.get_yticks().tolist()]) # put commas in y-ticks\n",
    "plt.savefig(\"figures/tooth-count-per-tooth-by-gender.png\", dpi=600, bbox_inches=\"tight\")\n",
    "plt.show()"
   ]
  },
  {
   "cell_type": "markdown",
   "metadata": {},
   "source": [
    "## create table with tooth number totals for females, males, and all (i.e., males and females)\n",
    "### this table is helpful for error checking and putting into paper"
   ]
  },
  {
   "cell_type": "code",
   "execution_count": 16,
   "metadata": {},
   "outputs": [],
   "source": [
    "## this looks a little hairy, but it only a merger of two queries\n",
    "## followed by the subset of data we want\n",
    "## followed by renaming the columns output by the merge\n",
    "gender_count_table = \\\n",
    "    pds.merge(tooth_gender_count_df.query(\"gender == 'female'\"),\n",
    "    tooth_gender_count_df.query(\"gender == 'male'\"),\n",
    "    how='inner',\n",
    "    on='tooth_num')[['tooth_num', 'num_teeth_x', 'num_teeth_y']].rename(columns={'num_teeth_x': 'female', 'num_teeth_y': 'male'})"
   ]
  },
  {
   "cell_type": "code",
   "execution_count": 17,
   "metadata": {},
   "outputs": [],
   "source": [
    "# gender_count_table.head()"
   ]
  },
  {
   "cell_type": "code",
   "execution_count": 18,
   "metadata": {},
   "outputs": [],
   "source": [
    "## merge gender counts with the totals of all teet\n",
    "all_tooth_count_table = \\\n",
    "    pds.merge(gender_count_table, tooth_count_df, how='inner', on='tooth_num').rename(columns={'num_teeth': 'total'})"
   ]
  },
  {
   "cell_type": "code",
   "execution_count": 19,
   "metadata": {},
   "outputs": [
    {
     "data": {
      "text/html": [
       "<div>\n",
       "<style scoped>\n",
       "    .dataframe tbody tr th:only-of-type {\n",
       "        vertical-align: middle;\n",
       "    }\n",
       "\n",
       "    .dataframe tbody tr th {\n",
       "        vertical-align: top;\n",
       "    }\n",
       "\n",
       "    .dataframe thead th {\n",
       "        text-align: right;\n",
       "    }\n",
       "</style>\n",
       "<table border=\"1\" class=\"dataframe\">\n",
       "  <thead>\n",
       "    <tr style=\"text-align: right;\">\n",
       "      <th></th>\n",
       "      <th>tooth_num</th>\n",
       "      <th>female</th>\n",
       "      <th>male</th>\n",
       "      <th>total</th>\n",
       "    </tr>\n",
       "  </thead>\n",
       "  <tbody>\n",
       "    <tr>\n",
       "      <th>0</th>\n",
       "      <td>1</td>\n",
       "      <td>2956</td>\n",
       "      <td>3623</td>\n",
       "      <td>6579</td>\n",
       "    </tr>\n",
       "    <tr>\n",
       "      <th>1</th>\n",
       "      <td>2</td>\n",
       "      <td>48644</td>\n",
       "      <td>38915</td>\n",
       "      <td>87559</td>\n",
       "    </tr>\n",
       "    <tr>\n",
       "      <th>2</th>\n",
       "      <td>3</td>\n",
       "      <td>62118</td>\n",
       "      <td>47690</td>\n",
       "      <td>109808</td>\n",
       "    </tr>\n",
       "    <tr>\n",
       "      <th>3</th>\n",
       "      <td>4</td>\n",
       "      <td>37956</td>\n",
       "      <td>27955</td>\n",
       "      <td>65911</td>\n",
       "    </tr>\n",
       "    <tr>\n",
       "      <th>4</th>\n",
       "      <td>5</td>\n",
       "      <td>31684</td>\n",
       "      <td>24125</td>\n",
       "      <td>55809</td>\n",
       "    </tr>\n",
       "  </tbody>\n",
       "</table>\n",
       "</div>"
      ],
      "text/plain": [
       "   tooth_num  female   male   total\n",
       "0          1    2956   3623    6579\n",
       "1          2   48644  38915   87559\n",
       "2          3   62118  47690  109808\n",
       "3          4   37956  27955   65911\n",
       "4          5   31684  24125   55809"
      ]
     },
     "execution_count": 19,
     "metadata": {},
     "output_type": "execute_result"
    }
   ],
   "source": [
    "all_tooth_count_table.head()"
   ]
  },
  {
   "cell_type": "markdown",
   "metadata": {},
   "source": [
    "## summarize number of surfaces restored"
   ]
  },
  {
   "cell_type": "code",
   "execution_count": 20,
   "metadata": {},
   "outputs": [
    {
     "data": {
      "text/html": [
       "<div>\n",
       "<style scoped>\n",
       "    .dataframe tbody tr th:only-of-type {\n",
       "        vertical-align: middle;\n",
       "    }\n",
       "\n",
       "    .dataframe tbody tr th {\n",
       "        vertical-align: top;\n",
       "    }\n",
       "\n",
       "    .dataframe thead th {\n",
       "        text-align: right;\n",
       "    }\n",
       "</style>\n",
       "<table border=\"1\" class=\"dataframe\">\n",
       "  <thead>\n",
       "    <tr style=\"text-align: right;\">\n",
       "      <th></th>\n",
       "      <th>patient_id</th>\n",
       "      <th>tooth_id</th>\n",
       "      <th>tooth_num</th>\n",
       "      <th>proc_id</th>\n",
       "      <th>m</th>\n",
       "      <th>o</th>\n",
       "      <th>d</th>\n",
       "      <th>b</th>\n",
       "      <th>f</th>\n",
       "      <th>l</th>\n",
       "      <th>i</th>\n",
       "      <th>num_surfaces</th>\n",
       "    </tr>\n",
       "  </thead>\n",
       "  <tbody>\n",
       "    <tr>\n",
       "      <th>0</th>\n",
       "      <td>A_1_1_17</td>\n",
       "      <td>A_1_1_17_7</td>\n",
       "      <td>7</td>\n",
       "      <td>A_1_1_17_7_D2331_2011-04-23</td>\n",
       "      <td>1</td>\n",
       "      <td>0</td>\n",
       "      <td>0</td>\n",
       "      <td>0</td>\n",
       "      <td>0</td>\n",
       "      <td>0</td>\n",
       "      <td>1</td>\n",
       "      <td>2</td>\n",
       "    </tr>\n",
       "    <tr>\n",
       "      <th>1</th>\n",
       "      <td>A_1_1_17</td>\n",
       "      <td>A_1_1_17_9</td>\n",
       "      <td>9</td>\n",
       "      <td>A_1_1_17_9_D2335_2006-07-07</td>\n",
       "      <td>1</td>\n",
       "      <td>0</td>\n",
       "      <td>0</td>\n",
       "      <td>0</td>\n",
       "      <td>0</td>\n",
       "      <td>0</td>\n",
       "      <td>1</td>\n",
       "      <td>2</td>\n",
       "    </tr>\n",
       "    <tr>\n",
       "      <th>2</th>\n",
       "      <td>A_1_1_17</td>\n",
       "      <td>A_1_1_17_10</td>\n",
       "      <td>10</td>\n",
       "      <td>A_1_1_17_10_D2330_2008-10-12</td>\n",
       "      <td>1</td>\n",
       "      <td>0</td>\n",
       "      <td>0</td>\n",
       "      <td>0</td>\n",
       "      <td>0</td>\n",
       "      <td>0</td>\n",
       "      <td>0</td>\n",
       "      <td>1</td>\n",
       "    </tr>\n",
       "    <tr>\n",
       "      <th>3</th>\n",
       "      <td>A_1_1_17</td>\n",
       "      <td>A_1_1_17_10</td>\n",
       "      <td>10</td>\n",
       "      <td>A_1_1_17_10_D2335_2014-03-16</td>\n",
       "      <td>1</td>\n",
       "      <td>0</td>\n",
       "      <td>0</td>\n",
       "      <td>0</td>\n",
       "      <td>1</td>\n",
       "      <td>1</td>\n",
       "      <td>1</td>\n",
       "      <td>4</td>\n",
       "    </tr>\n",
       "    <tr>\n",
       "      <th>4</th>\n",
       "      <td>A_1_1_17</td>\n",
       "      <td>A_1_1_17_12</td>\n",
       "      <td>12</td>\n",
       "      <td>A_1_1_17_12_D2392_2012-01-23</td>\n",
       "      <td>0</td>\n",
       "      <td>1</td>\n",
       "      <td>1</td>\n",
       "      <td>0</td>\n",
       "      <td>0</td>\n",
       "      <td>0</td>\n",
       "      <td>0</td>\n",
       "      <td>2</td>\n",
       "    </tr>\n",
       "  </tbody>\n",
       "</table>\n",
       "</div>"
      ],
      "text/plain": [
       "  patient_id     tooth_id  tooth_num                       proc_id  m  o  d  \\\n",
       "0   A_1_1_17   A_1_1_17_7          7   A_1_1_17_7_D2331_2011-04-23  1  0  0   \n",
       "1   A_1_1_17   A_1_1_17_9          9   A_1_1_17_9_D2335_2006-07-07  1  0  0   \n",
       "2   A_1_1_17  A_1_1_17_10         10  A_1_1_17_10_D2330_2008-10-12  1  0  0   \n",
       "3   A_1_1_17  A_1_1_17_10         10  A_1_1_17_10_D2335_2014-03-16  1  0  0   \n",
       "4   A_1_1_17  A_1_1_17_12         12  A_1_1_17_12_D2392_2012-01-23  0  1  1   \n",
       "\n",
       "   b  f  l  i  num_surfaces  \n",
       "0  0  0  0  1             2  \n",
       "1  0  0  0  1             2  \n",
       "2  0  0  0  0             1  \n",
       "3  0  1  1  1             4  \n",
       "4  0  0  0  0             2  "
      ]
     },
     "execution_count": 20,
     "metadata": {},
     "output_type": "execute_result"
    }
   ],
   "source": [
    "proc_surface_df.head()"
   ]
  },
  {
   "cell_type": "code",
   "execution_count": 21,
   "metadata": {},
   "outputs": [],
   "source": [
    "surface_proc_count_query = \"\"\"\n",
    "select \n",
    "    sum(m) as M,\n",
    "    sum(o) as O,\n",
    "    sum(d) as D,\n",
    "    sum(b) as B,\n",
    "    sum(f) as F,\n",
    "    sum(l) as L,\n",
    "    sum(i) as I\n",
    "from\n",
    "    proc_surface_df\n",
    "\"\"\"\n",
    "surface_proc_count_df = sqldf(surface_proc_count_query)"
   ]
  },
  {
   "cell_type": "code",
   "execution_count": 22,
   "metadata": {},
   "outputs": [
    {
     "data": {
      "text/html": [
       "<div>\n",
       "<style scoped>\n",
       "    .dataframe tbody tr th:only-of-type {\n",
       "        vertical-align: middle;\n",
       "    }\n",
       "\n",
       "    .dataframe tbody tr th {\n",
       "        vertical-align: top;\n",
       "    }\n",
       "\n",
       "    .dataframe thead th {\n",
       "        text-align: right;\n",
       "    }\n",
       "</style>\n",
       "<table border=\"1\" class=\"dataframe\">\n",
       "  <thead>\n",
       "    <tr style=\"text-align: right;\">\n",
       "      <th></th>\n",
       "      <th>M</th>\n",
       "      <th>O</th>\n",
       "      <th>D</th>\n",
       "      <th>B</th>\n",
       "      <th>F</th>\n",
       "      <th>L</th>\n",
       "      <th>I</th>\n",
       "    </tr>\n",
       "  </thead>\n",
       "  <tbody>\n",
       "    <tr>\n",
       "      <th>0</th>\n",
       "      <td>349287</td>\n",
       "      <td>828423</td>\n",
       "      <td>379686</td>\n",
       "      <td>89869</td>\n",
       "      <td>293902</td>\n",
       "      <td>288136</td>\n",
       "      <td>34517</td>\n",
       "    </tr>\n",
       "  </tbody>\n",
       "</table>\n",
       "</div>"
      ],
      "text/plain": [
       "        M       O       D      B       F       L      I\n",
       "0  349287  828423  379686  89869  293902  288136  34517"
      ]
     },
     "execution_count": 22,
     "metadata": {},
     "output_type": "execute_result"
    }
   ],
   "source": [
    "surface_proc_count_df"
   ]
  },
  {
   "cell_type": "markdown",
   "metadata": {},
   "source": [
    "### melt dataframe for plotting"
   ]
  },
  {
   "cell_type": "code",
   "execution_count": 23,
   "metadata": {},
   "outputs": [],
   "source": [
    "surface_melt_df = pds.melt(surface_proc_count_df, value_vars=['M', 'O', 'D', 'B', 'F', 'L', 'I'], var_name='surface', value_name='total')"
   ]
  },
  {
   "cell_type": "code",
   "execution_count": 24,
   "metadata": {},
   "outputs": [
    {
     "data": {
      "text/html": [
       "<div>\n",
       "<style scoped>\n",
       "    .dataframe tbody tr th:only-of-type {\n",
       "        vertical-align: middle;\n",
       "    }\n",
       "\n",
       "    .dataframe tbody tr th {\n",
       "        vertical-align: top;\n",
       "    }\n",
       "\n",
       "    .dataframe thead th {\n",
       "        text-align: right;\n",
       "    }\n",
       "</style>\n",
       "<table border=\"1\" class=\"dataframe\">\n",
       "  <thead>\n",
       "    <tr style=\"text-align: right;\">\n",
       "      <th></th>\n",
       "      <th>surface</th>\n",
       "      <th>total</th>\n",
       "    </tr>\n",
       "  </thead>\n",
       "  <tbody>\n",
       "    <tr>\n",
       "      <th>0</th>\n",
       "      <td>M</td>\n",
       "      <td>349287</td>\n",
       "    </tr>\n",
       "    <tr>\n",
       "      <th>1</th>\n",
       "      <td>O</td>\n",
       "      <td>828423</td>\n",
       "    </tr>\n",
       "    <tr>\n",
       "      <th>2</th>\n",
       "      <td>D</td>\n",
       "      <td>379686</td>\n",
       "    </tr>\n",
       "    <tr>\n",
       "      <th>3</th>\n",
       "      <td>B</td>\n",
       "      <td>89869</td>\n",
       "    </tr>\n",
       "    <tr>\n",
       "      <th>4</th>\n",
       "      <td>F</td>\n",
       "      <td>293902</td>\n",
       "    </tr>\n",
       "    <tr>\n",
       "      <th>5</th>\n",
       "      <td>L</td>\n",
       "      <td>288136</td>\n",
       "    </tr>\n",
       "    <tr>\n",
       "      <th>6</th>\n",
       "      <td>I</td>\n",
       "      <td>34517</td>\n",
       "    </tr>\n",
       "  </tbody>\n",
       "</table>\n",
       "</div>"
      ],
      "text/plain": [
       "  surface   total\n",
       "0       M  349287\n",
       "1       O  828423\n",
       "2       D  379686\n",
       "3       B   89869\n",
       "4       F  293902\n",
       "5       L  288136\n",
       "6       I   34517"
      ]
     },
     "execution_count": 24,
     "metadata": {},
     "output_type": "execute_result"
    }
   ],
   "source": [
    "surface_melt_df"
   ]
  },
  {
   "cell_type": "markdown",
   "metadata": {},
   "source": [
    "### plot"
   ]
  },
  {
   "cell_type": "code",
   "execution_count": 25,
   "metadata": {},
   "outputs": [
    {
     "name": "stderr",
     "output_type": "stream",
     "text": [
      "/Users/wdduncan/repos/oral-health-and-disease-ontologies/NDPBRN/src/analysis/.env/lib/python3.7/site-packages/ipykernel_launcher.py:11: UserWarning: FixedFormatter should only be used together with FixedLocator\n",
      "  # This is added back by InteractiveShellApp.init_path()\n",
      "No handles with labels found to put in legend.\n",
      "/Users/wdduncan/repos/oral-health-and-disease-ontologies/NDPBRN/src/analysis/.env/lib/python3.7/site-packages/ipykernel_launcher.py:16: UserWarning: FixedFormatter should only be used together with FixedLocator\n",
      "  app.launch_new_instance()\n"
     ]
    },
    {
     "data": {
      "image/png": "[encoded data removed]",
      "text/plain": [
       "<Figure size 864x504 with 1 Axes>"
      ]
     },
     "metadata": {},
     "output_type": "display_data"
    }
   ],
   "source": [
    "%matplotlib inline\n",
    "sns.set()\n",
    "\n",
    "plt.figure(figsize=(12,7))\n",
    "ax = sns.barplot(x='total', y='surface', data=surface_melt_df)\n",
    "\n",
    "ax.set_xlabel(\"\\nNumber of Tooth Surfaces\", fontsize=15)\n",
    "ax.set_ylabel(\"Tooth Surface\\n\", fontsize=15)\n",
    "\n",
    "y_ticks = ['M', 'O', 'D', 'B', 'F', 'L', 'I']\n",
    "ax.set_xticklabels(ax.get_yticks(), size=13)\n",
    "ax.set_yticklabels(y_ticks, size=13)\n",
    "\n",
    "ax.legend(loc='upper right', fontsize=15, bbox_to_anchor=(0.9, 1))\n",
    "\n",
    "ax.set_xticklabels(['{:,}'.format(int(x)) for x in ax.get_xticks().tolist()]) # put commas in x-ticks\n",
    "\n",
    "plt.savefig(\"figures/surfaces-restored-count.png\", dpi=600, bbox_inches=\"tight\")\n",
    "plt.show()"
   ]
  },
  {
   "cell_type": "markdown",
   "metadata": {},
   "source": [
    "## summarize number of surfaces restored for each tooth type"
   ]
  },
  {
   "cell_type": "code",
   "execution_count": 26,
   "metadata": {},
   "outputs": [],
   "source": [
    "tooth_surface_proc_count_query = \"\"\"\n",
    "select\n",
    "    case \n",
    "        when incisor = 1 then 'incisor'\n",
    "        when canine = 1 then 'canine'\n",
    "        when premolar = 1 then 'premolar'\n",
    "        when molar = 1 then 'molar'\n",
    "    end as tooth_type,\n",
    "    case \n",
    "        when num_surfaces = 1 then '1 surface'\n",
    "        when num_surfaces = 2 then '2 surfaces'\n",
    "        when num_surfaces > 2 then '3+ surfaces'\n",
    "    end as surface_category,\n",
    "    count(*) as total\n",
    "from \n",
    "    proc_surface_df\n",
    "inner join\n",
    "    tooth_type_df\n",
    "on \n",
    "    proc_surface_df.tooth_id = tooth_type_df.tooth_id\n",
    "where \n",
    "    num_surfaces > 0\n",
    "group by \n",
    "    tooth_type, surface_category\n",
    "order by\n",
    "    surface_category, tooth_type\n",
    "\"\"\"\n",
    "tooth_surface_proc_count_df = sqldf(tooth_surface_proc_count_query)"
   ]
  },
  {
   "cell_type": "code",
   "execution_count": 27,
   "metadata": {},
   "outputs": [
    {
     "data": {
      "text/html": [
       "<div>\n",
       "<style scoped>\n",
       "    .dataframe tbody tr th:only-of-type {\n",
       "        vertical-align: middle;\n",
       "    }\n",
       "\n",
       "    .dataframe tbody tr th {\n",
       "        vertical-align: top;\n",
       "    }\n",
       "\n",
       "    .dataframe thead th {\n",
       "        text-align: right;\n",
       "    }\n",
       "</style>\n",
       "<table border=\"1\" class=\"dataframe\">\n",
       "  <thead>\n",
       "    <tr style=\"text-align: right;\">\n",
       "      <th></th>\n",
       "      <th>tooth_type</th>\n",
       "      <th>surface_category</th>\n",
       "      <th>total</th>\n",
       "    </tr>\n",
       "  </thead>\n",
       "  <tbody>\n",
       "    <tr>\n",
       "      <th>0</th>\n",
       "      <td>canine</td>\n",
       "      <td>1 surface</td>\n",
       "      <td>39039</td>\n",
       "    </tr>\n",
       "    <tr>\n",
       "      <th>1</th>\n",
       "      <td>incisor</td>\n",
       "      <td>1 surface</td>\n",
       "      <td>65656</td>\n",
       "    </tr>\n",
       "    <tr>\n",
       "      <th>2</th>\n",
       "      <td>molar</td>\n",
       "      <td>1 surface</td>\n",
       "      <td>305022</td>\n",
       "    </tr>\n",
       "    <tr>\n",
       "      <th>3</th>\n",
       "      <td>premolar</td>\n",
       "      <td>1 surface</td>\n",
       "      <td>112547</td>\n",
       "    </tr>\n",
       "    <tr>\n",
       "      <th>4</th>\n",
       "      <td>canine</td>\n",
       "      <td>2 surfaces</td>\n",
       "      <td>25324</td>\n",
       "    </tr>\n",
       "    <tr>\n",
       "      <th>5</th>\n",
       "      <td>incisor</td>\n",
       "      <td>2 surfaces</td>\n",
       "      <td>60660</td>\n",
       "    </tr>\n",
       "    <tr>\n",
       "      <th>6</th>\n",
       "      <td>molar</td>\n",
       "      <td>2 surfaces</td>\n",
       "      <td>242478</td>\n",
       "    </tr>\n",
       "    <tr>\n",
       "      <th>7</th>\n",
       "      <td>premolar</td>\n",
       "      <td>2 surfaces</td>\n",
       "      <td>140076</td>\n",
       "    </tr>\n",
       "    <tr>\n",
       "      <th>8</th>\n",
       "      <td>canine</td>\n",
       "      <td>3+ surfaces</td>\n",
       "      <td>15874</td>\n",
       "    </tr>\n",
       "    <tr>\n",
       "      <th>9</th>\n",
       "      <td>incisor</td>\n",
       "      <td>3+ surfaces</td>\n",
       "      <td>62067</td>\n",
       "    </tr>\n",
       "    <tr>\n",
       "      <th>10</th>\n",
       "      <td>molar</td>\n",
       "      <td>3+ surfaces</td>\n",
       "      <td>101453</td>\n",
       "    </tr>\n",
       "    <tr>\n",
       "      <th>11</th>\n",
       "      <td>premolar</td>\n",
       "      <td>3+ surfaces</td>\n",
       "      <td>65277</td>\n",
       "    </tr>\n",
       "  </tbody>\n",
       "</table>\n",
       "</div>"
      ],
      "text/plain": [
       "   tooth_type surface_category   total\n",
       "0      canine        1 surface   39039\n",
       "1     incisor        1 surface   65656\n",
       "2       molar        1 surface  305022\n",
       "3    premolar        1 surface  112547\n",
       "4      canine       2 surfaces   25324\n",
       "5     incisor       2 surfaces   60660\n",
       "6       molar       2 surfaces  242478\n",
       "7    premolar       2 surfaces  140076\n",
       "8      canine      3+ surfaces   15874\n",
       "9     incisor      3+ surfaces   62067\n",
       "10      molar      3+ surfaces  101453\n",
       "11   premolar      3+ surfaces   65277"
      ]
     },
     "execution_count": 27,
     "metadata": {},
     "output_type": "execute_result"
    }
   ],
   "source": [
    "tooth_surface_proc_count_df"
   ]
  },
  {
   "cell_type": "markdown",
   "metadata": {},
   "source": [
    "### plot"
   ]
  },
  {
   "cell_type": "code",
   "execution_count": 28,
   "metadata": {},
   "outputs": [
    {
     "name": "stderr",
     "output_type": "stream",
     "text": [
      "/Users/wdduncan/repos/oral-health-and-disease-ontologies/NDPBRN/src/analysis/.env/lib/python3.7/site-packages/ipykernel_launcher.py:13: UserWarning: FixedFormatter should only be used together with FixedLocator\n",
      "  del sys.path[0]\n",
      "/Users/wdduncan/repos/oral-health-and-disease-ontologies/NDPBRN/src/analysis/.env/lib/python3.7/site-packages/ipykernel_launcher.py:17: UserWarning: FixedFormatter should only be used together with FixedLocator\n"
     ]
    },
    {
     "data": {
      "image/png": "[encoded data removed]",
      "text/plain": [
       "<Figure size 864x504 with 1 Axes>"
      ]
     },
     "metadata": {},
     "output_type": "display_data"
    }
   ],
   "source": [
    "%matplotlib inline\n",
    "sns.set()\n",
    "\n",
    "plt.figure(figsize=(12,7))\n",
    "ax = sns.barplot(x='surface_category', y='total', data=tooth_surface_proc_count_df,\n",
    "                 hue=\"tooth_type\", hue_order=['incisor', 'canine', 'premolar', 'molar'])\n",
    "\n",
    "ax.set_xlabel(\"\\nNumber of Surfaces Restored\", fontsize=15)\n",
    "ax.set_ylabel(\"Number of Teeth Restored\\n\", fontsize=15)\n",
    "\n",
    "x_ticks = ['1 surface', '2 surfaces', '3+ surfaces']\n",
    "ax.set_xticklabels(x_ticks, size=13)\n",
    "ax.set_yticklabels(ax.get_yticks(), size=13)\n",
    "\n",
    "ax.legend(loc='upper right', fontsize=15, bbox_to_anchor=(0.9, 1))\n",
    "\n",
    "ax.set_yticklabels(['{:,}'.format(int(x)) for x in ax.get_yticks().tolist()]) # put commas in y-ticks\n",
    "plt.savefig(\"figures/surfaces-restored-by-tooth-type-count.png\", dpi=600, bbox_inches=\"tight\")\n",
    "plt.show()"
   ]
  },
  {
   "cell_type": "markdown",
   "metadata": {},
   "source": [
    "## summarize materials used for tooth type"
   ]
  },
  {
   "cell_type": "markdown",
   "metadata": {},
   "source": [
    "### create a column with three general categories of materials: ceramic, metal, resin"
   ]
  },
  {
   "cell_type": "code",
   "execution_count": 29,
   "metadata": {},
   "outputs": [],
   "source": [
    "def get_material_category(material):\n",
    "    if pds.isnull(material): return material\n",
    "    \n",
    "    if material in ['ceramic', 'porcelain']:\n",
    "        return 'ceramic'\n",
    "    elif material in ['metal', 'predominantly base metal', 'stainless steel', 'noble metal', 'high noble metal', 'amalgam', 'gold foil']:\n",
    "        return 'metal'\n",
    "    elif material in ['resin']:\n",
    "        return 'resin'\n",
    "    else:\n",
    "        return None"
   ]
  },
  {
   "cell_type": "code",
   "execution_count": 30,
   "metadata": {},
   "outputs": [],
   "source": [
    "proc_material_df['material_category'] = proc_material_df['material'].map(lambda x: get_material_category(x))"
   ]
  },
  {
   "cell_type": "code",
   "execution_count": 31,
   "metadata": {},
   "outputs": [],
   "source": [
    "# proc_material_df.head()"
   ]
  },
  {
   "cell_type": "markdown",
   "metadata": {},
   "source": [
    "### build data frame of each the material used in each tooth\n",
    "### note: use dropna to remove procedures with no materials"
   ]
  },
  {
   "cell_type": "code",
   "execution_count": 32,
   "metadata": {},
   "outputs": [],
   "source": [
    "tooth_material_proc_df = \\\n",
    "    pds.merge(proc_material_df.dropna(), \n",
    "              tooth_type_df[['tooth_id','anterior','posterior','incisor','canine','premolar','molar','maxillary','mandibular','left','right']], \n",
    "              how='inner', \n",
    "              on='tooth_id')"
   ]
  },
  {
   "cell_type": "code",
   "execution_count": 33,
   "metadata": {},
   "outputs": [],
   "source": [
    "# tooth_material_proc_df.head()"
   ]
  },
  {
   "cell_type": "code",
   "execution_count": 34,
   "metadata": {},
   "outputs": [],
   "source": [
    "tooth_material_proc_count_df = \\\n",
    "    tooth_material_proc_df[['material_category','incisor','canine','premolar','molar']].groupby('material_category').sum()\n",
    "tooth_material_proc_count_df.reset_index(inplace=True)"
   ]
  },
  {
   "cell_type": "code",
   "execution_count": 35,
   "metadata": {},
   "outputs": [
    {
     "data": {
      "text/html": [
       "<div>\n",
       "<style scoped>\n",
       "    .dataframe tbody tr th:only-of-type {\n",
       "        vertical-align: middle;\n",
       "    }\n",
       "\n",
       "    .dataframe tbody tr th {\n",
       "        vertical-align: top;\n",
       "    }\n",
       "\n",
       "    .dataframe thead th {\n",
       "        text-align: right;\n",
       "    }\n",
       "</style>\n",
       "<table border=\"1\" class=\"dataframe\">\n",
       "  <thead>\n",
       "    <tr style=\"text-align: right;\">\n",
       "      <th></th>\n",
       "      <th>material_category</th>\n",
       "      <th>incisor</th>\n",
       "      <th>canine</th>\n",
       "      <th>premolar</th>\n",
       "      <th>molar</th>\n",
       "    </tr>\n",
       "  </thead>\n",
       "  <tbody>\n",
       "    <tr>\n",
       "      <th>0</th>\n",
       "      <td>ceramic</td>\n",
       "      <td>30916</td>\n",
       "      <td>13267</td>\n",
       "      <td>67849</td>\n",
       "      <td>126982</td>\n",
       "    </tr>\n",
       "    <tr>\n",
       "      <th>1</th>\n",
       "      <td>metal</td>\n",
       "      <td>18299</td>\n",
       "      <td>11171</td>\n",
       "      <td>86910</td>\n",
       "      <td>214456</td>\n",
       "    </tr>\n",
       "    <tr>\n",
       "      <th>2</th>\n",
       "      <td>resin</td>\n",
       "      <td>187773</td>\n",
       "      <td>78645</td>\n",
       "      <td>283226</td>\n",
       "      <td>546268</td>\n",
       "    </tr>\n",
       "  </tbody>\n",
       "</table>\n",
       "</div>"
      ],
      "text/plain": [
       "  material_category  incisor  canine  premolar   molar\n",
       "0           ceramic    30916   13267     67849  126982\n",
       "1             metal    18299   11171     86910  214456\n",
       "2             resin   187773   78645    283226  546268"
      ]
     },
     "execution_count": 35,
     "metadata": {},
     "output_type": "execute_result"
    }
   ],
   "source": [
    " tooth_material_proc_count_df"
   ]
  },
  {
   "cell_type": "markdown",
   "metadata": {},
   "source": [
    "### melt dataframe for plotting"
   ]
  },
  {
   "cell_type": "code",
   "execution_count": 36,
   "metadata": {},
   "outputs": [],
   "source": [
    "tooth_material_proc_count_melt_df = \\\n",
    "    tooth_material_proc_count_df.melt(id_vars=['material_category'], var_name='tooth_type', \n",
    "                                      value_vars=['incisor', 'canine', 'premolar', 'molar'], value_name='total')"
   ]
  },
  {
   "cell_type": "code",
   "execution_count": 37,
   "metadata": {},
   "outputs": [
    {
     "data": {
      "text/html": [
       "<div>\n",
       "<style scoped>\n",
       "    .dataframe tbody tr th:only-of-type {\n",
       "        vertical-align: middle;\n",
       "    }\n",
       "\n",
       "    .dataframe tbody tr th {\n",
       "        vertical-align: top;\n",
       "    }\n",
       "\n",
       "    .dataframe thead th {\n",
       "        text-align: right;\n",
       "    }\n",
       "</style>\n",
       "<table border=\"1\" class=\"dataframe\">\n",
       "  <thead>\n",
       "    <tr style=\"text-align: right;\">\n",
       "      <th></th>\n",
       "      <th>material_category</th>\n",
       "      <th>tooth_type</th>\n",
       "      <th>total</th>\n",
       "    </tr>\n",
       "  </thead>\n",
       "  <tbody>\n",
       "    <tr>\n",
       "      <th>0</th>\n",
       "      <td>ceramic</td>\n",
       "      <td>incisor</td>\n",
       "      <td>30916</td>\n",
       "    </tr>\n",
       "    <tr>\n",
       "      <th>1</th>\n",
       "      <td>metal</td>\n",
       "      <td>incisor</td>\n",
       "      <td>18299</td>\n",
       "    </tr>\n",
       "    <tr>\n",
       "      <th>2</th>\n",
       "      <td>resin</td>\n",
       "      <td>incisor</td>\n",
       "      <td>187773</td>\n",
       "    </tr>\n",
       "    <tr>\n",
       "      <th>3</th>\n",
       "      <td>ceramic</td>\n",
       "      <td>canine</td>\n",
       "      <td>13267</td>\n",
       "    </tr>\n",
       "    <tr>\n",
       "      <th>4</th>\n",
       "      <td>metal</td>\n",
       "      <td>canine</td>\n",
       "      <td>11171</td>\n",
       "    </tr>\n",
       "    <tr>\n",
       "      <th>5</th>\n",
       "      <td>resin</td>\n",
       "      <td>canine</td>\n",
       "      <td>78645</td>\n",
       "    </tr>\n",
       "    <tr>\n",
       "      <th>6</th>\n",
       "      <td>ceramic</td>\n",
       "      <td>premolar</td>\n",
       "      <td>67849</td>\n",
       "    </tr>\n",
       "    <tr>\n",
       "      <th>7</th>\n",
       "      <td>metal</td>\n",
       "      <td>premolar</td>\n",
       "      <td>86910</td>\n",
       "    </tr>\n",
       "    <tr>\n",
       "      <th>8</th>\n",
       "      <td>resin</td>\n",
       "      <td>premolar</td>\n",
       "      <td>283226</td>\n",
       "    </tr>\n",
       "    <tr>\n",
       "      <th>9</th>\n",
       "      <td>ceramic</td>\n",
       "      <td>molar</td>\n",
       "      <td>126982</td>\n",
       "    </tr>\n",
       "    <tr>\n",
       "      <th>10</th>\n",
       "      <td>metal</td>\n",
       "      <td>molar</td>\n",
       "      <td>214456</td>\n",
       "    </tr>\n",
       "    <tr>\n",
       "      <th>11</th>\n",
       "      <td>resin</td>\n",
       "      <td>molar</td>\n",
       "      <td>546268</td>\n",
       "    </tr>\n",
       "  </tbody>\n",
       "</table>\n",
       "</div>"
      ],
      "text/plain": [
       "   material_category tooth_type   total\n",
       "0            ceramic    incisor   30916\n",
       "1              metal    incisor   18299\n",
       "2              resin    incisor  187773\n",
       "3            ceramic     canine   13267\n",
       "4              metal     canine   11171\n",
       "5              resin     canine   78645\n",
       "6            ceramic   premolar   67849\n",
       "7              metal   premolar   86910\n",
       "8              resin   premolar  283226\n",
       "9            ceramic      molar  126982\n",
       "10             metal      molar  214456\n",
       "11             resin      molar  546268"
      ]
     },
     "execution_count": 37,
     "metadata": {},
     "output_type": "execute_result"
    }
   ],
   "source": [
    "tooth_material_proc_count_melt_df"
   ]
  },
  {
   "cell_type": "markdown",
   "metadata": {},
   "source": [
    "### plot"
   ]
  },
  {
   "cell_type": "code",
   "execution_count": 38,
   "metadata": {},
   "outputs": [
    {
     "name": "stderr",
     "output_type": "stream",
     "text": [
      "/Users/wdduncan/repos/oral-health-and-disease-ontologies/NDPBRN/src/analysis/.env/lib/python3.7/site-packages/ipykernel_launcher.py:12: UserWarning: FixedFormatter should only be used together with FixedLocator\n",
      "  if sys.path[0] == '':\n",
      "/Users/wdduncan/repos/oral-health-and-disease-ontologies/NDPBRN/src/analysis/.env/lib/python3.7/site-packages/ipykernel_launcher.py:16: UserWarning: FixedFormatter should only be used together with FixedLocator\n",
      "  app.launch_new_instance()\n"
     ]
    },
    {
     "data": {
      "image/png": "[encoded data removed]",
      "text/plain": [
       "<Figure size 864x504 with 1 Axes>"
      ]
     },
     "metadata": {},
     "output_type": "display_data"
    }
   ],
   "source": [
    "%matplotlib inline\n",
    "sns.set()\n",
    "\n",
    "plt.figure(figsize=(12,7))\n",
    "ax = sns.barplot(x='material_category', y='total', data=tooth_material_proc_count_melt_df, hue='tooth_type')\n",
    "\n",
    "ax.set_xlabel(\"\\nRestoration Material\", fontsize=15)\n",
    "ax.set_ylabel(\"Number of Teeth Restored\\n\", fontsize=15)\n",
    "\n",
    "x_ticks = ['ceramic', 'metal', 'resin']\n",
    "ax.set_xticklabels(x_ticks, size=13)\n",
    "ax.set_yticklabels(ax.get_yticks(), size=13)\n",
    "\n",
    "ax.legend(loc='upper left', fontsize=15)\n",
    "\n",
    "ax.set_yticklabels(['{:,}'.format(int(x)) for x in ax.get_yticks().tolist()]) # put commas in y-ticks\n",
    "plt.savefig(\"figures/restoration-materials-per-tooth-count.png\", dpi=600, bbox_inches=\"tight\")\n",
    "plt.show()"
   ]
  },
  {
   "cell_type": "code",
   "execution_count": null,
   "metadata": {},
   "outputs": [],
   "source": []
  }
 ],
 "metadata": {
  "kernelspec": {
   "display_name": "Python 3",
   "language": "python",
   "name": "python3"
  },
  "language_info": {
   "codemirror_mode": {
    "name": "ipython",
    "version": 3
   },
   "file_extension": ".py",
   "mimetype": "text/x-python",
   "name": "python",
   "nbconvert_exporter": "python",
   "pygments_lexer": "ipython3",
   "version": "3.7.4"
  }
 },
 "nbformat": 4,
 "nbformat_minor": 4
}
