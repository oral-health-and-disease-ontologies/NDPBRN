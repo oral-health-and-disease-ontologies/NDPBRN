{
 "cells": [
  {
   "cell_type": "code",
   "execution_count": 1,
   "metadata": {},
   "outputs": [],
   "source": [
    "import pandas as pds\n",
    "import numpy as np\n",
    "import seaborn as sns\n",
    "import matplotlib.pyplot as plt\n",
    "from tabulate import tabulate\n",
    "from pandasql import sqldf\n",
    "import functools"
   ]
  },
  {
   "cell_type": "markdown",
   "metadata": {},
   "source": [
    "## define function for printing pandas dataframes as markdown"
   ]
  },
  {
   "cell_type": "code",
   "execution_count": 2,
   "metadata": {},
   "outputs": [],
   "source": [
    "def print_pandas_md(df):\n",
    "    print(tabulate(df, tablefmt=\"pipe\", headers=\"keys\"))"
   ]
  },
  {
   "cell_type": "markdown",
   "metadata": {},
   "source": [
    "## define function to round values in an interval object"
   ]
  },
  {
   "cell_type": "code",
   "execution_count": 3,
   "metadata": {},
   "outputs": [],
   "source": [
    "def round_interval(interval):\n",
    "    left_val = round(interval.left)\n",
    "    right_val = round(interval.right)\n",
    "    return pds.Interval(left=left_val, right=right_val, closed='left')"
   ]
  },
  {
   "cell_type": "markdown",
   "metadata": {},
   "source": [
    "## load local copies of data"
   ]
  },
  {
   "cell_type": "code",
   "execution_count": 4,
   "metadata": {},
   "outputs": [],
   "source": [
    "tooth_proc_df = pds.read_csv('triplestore-tooth-procedure-info.tsv', sep='\\t')"
   ]
  },
  {
   "cell_type": "code",
   "execution_count": 5,
   "metadata": {},
   "outputs": [],
   "source": [
    "tooth_type_df = pds.read_csv('triplestore-tooth-type-info.tsv', sep='\\t')"
   ]
  },
  {
   "cell_type": "code",
   "execution_count": 6,
   "metadata": {},
   "outputs": [],
   "source": [
    "proc_surface_df = pds.read_csv('triplestore-procedure-surface-info.tsv', sep='\\t')"
   ]
  },
  {
   "cell_type": "code",
   "execution_count": 7,
   "metadata": {},
   "outputs": [],
   "source": [
    "proc_material_df = pds.read_csv('triplestore-proc-material-info.tsv', sep='\\t')"
   ]
  },
  {
   "cell_type": "markdown",
   "metadata": {},
   "source": [
    "# Plot data"
   ]
  },
  {
   "cell_type": "markdown",
   "metadata": {},
   "source": [
    "## plot total number of distinct teeth by tooth type that underwent a procedure"
   ]
  },
  {
   "cell_type": "code",
   "execution_count": 36,
   "metadata": {},
   "outputs": [],
   "source": [
    "tooth_count_df = tooth_proc_df[['tooth_num']].copy()\n",
    "tooth_count_df.tooth_num = tooth_count_df.tooth_num.astype(int)\n",
    "tooth_count_query = \"\"\"\n",
    "select \n",
    "    tooth_num as [Tooth Number], count(*) as [Number of Teeth]\n",
    "from\n",
    "    tooth_count_df\n",
    "group by\n",
    "    tooth_num\n",
    "order by\n",
    "    tooth_num\n",
    "\"\"\"\n",
    "temp_df = sqldf(tooth_count_query)"
   ]
  },
  {
   "cell_type": "code",
   "execution_count": 37,
   "metadata": {},
   "outputs": [],
   "source": [
    "temp_df.set_index('Tooth Number', inplace=True) # use tooth numbers for the index"
   ]
  },
  {
   "cell_type": "code",
   "execution_count": 38,
   "metadata": {},
   "outputs": [
    {
     "name": "stderr",
     "output_type": "stream",
     "text": [
      "/Users/widuncan/repos/git/NDPBRN/src/analysis/.env/lib/python3.7/site-packages/ipykernel_launcher.py:18: UserWarning: FixedFormatter should only be used together with FixedLocator\n"
     ]
    },
    {
     "data": {
      "image/png": "[encoded data removed]",
      "text/plain": [
       "<Figure size 864x504 with 1 Axes>"
      ]
     },
     "metadata": {
      "needs_background": "light"
     },
     "output_type": "display_data"
    }
   ],
   "source": [
    "%matplotlib inline\n",
    "colors = ['#4c72b0']\n",
    "sns.set_palette(colors)\n",
    "\n",
    "# draw bar chart showing the number of procedures performed on each tooth (number)\n",
    "ax = temp_df.plot.bar(figsize=(12,7)) \n",
    "\n",
    "# rotate the ticks on the x axis\n",
    "plt.xticks(rotation=0)\n",
    "\n",
    "# configure labels\n",
    "# note the use of '\\n' to create space between ticks and labels\n",
    "ax.set_xlabel(\"\\nTooth Number\", fontsize=15)\n",
    "ax.set_ylabel(\"Number of Teeth that had a Procedure\\n\", fontsize=15)\n",
    "ax.tick_params(labelsize='large')\n",
    "\n",
    "\n",
    "ax.set_yticklabels(['{:,}'.format(int(x)) for x in ax.get_yticks().tolist()]) # put commas in y-ticks\n",
    "ax.get_legend().remove() # remove legend\n",
    "plt.savefig(\"figures/tooth-count-per-tooth.png\", dpi=600, bbox_inches=\"tight\")\n",
    "plt.show()"
   ]
  },
  {
   "cell_type": "markdown",
   "metadata": {},
   "source": [
    "## plot total number of distinct teeth by tooth type that underwent a procedure by gender"
   ]
  },
  {
   "cell_type": "code",
   "execution_count": 40,
   "metadata": {},
   "outputs": [],
   "source": [
    "patient_df = pds.read_csv('triplestore-patient-info.tsv', sep='\\t') # load patient info"
   ]
  },
  {
   "cell_type": "code",
   "execution_count": 86,
   "metadata": {},
   "outputs": [],
   "source": [
    "tooth_count_df = tooth_proc_df[['patient_id', 'tooth_num']].copy()\n",
    "tooth_count_gender_query = \"\"\"\n",
    "select\n",
    "    tooth_num, gender, count(*) as num_teeth\n",
    "from\n",
    "    tooth_count_df\n",
    "inner join\n",
    "    patient_df\n",
    "on\n",
    "    tooth_count_df.patient_id = patient_df.patient_id\n",
    "group by\n",
    "    tooth_num, gender\n",
    "order by\n",
    "    tooth_num\n",
    "\"\"\"\n",
    "temp_df = sqldf(tooth_count_gender_query)"
   ]
  },
  {
   "cell_type": "code",
   "execution_count": 87,
   "metadata": {},
   "outputs": [
    {
     "data": {
      "text/html": [
       "<div>\n",
       "<style scoped>\n",
       "    .dataframe tbody tr th:only-of-type {\n",
       "        vertical-align: middle;\n",
       "    }\n",
       "\n",
       "    .dataframe tbody tr th {\n",
       "        vertical-align: top;\n",
       "    }\n",
       "\n",
       "    .dataframe thead th {\n",
       "        text-align: right;\n",
       "    }\n",
       "</style>\n",
       "<table border=\"1\" class=\"dataframe\">\n",
       "  <thead>\n",
       "    <tr style=\"text-align: right;\">\n",
       "      <th></th>\n",
       "      <th>tooth_num</th>\n",
       "      <th>gender</th>\n",
       "      <th>num_teeth</th>\n",
       "    </tr>\n",
       "  </thead>\n",
       "  <tbody>\n",
       "    <tr>\n",
       "      <th>0</th>\n",
       "      <td>1</td>\n",
       "      <td>female</td>\n",
       "      <td>2956</td>\n",
       "    </tr>\n",
       "    <tr>\n",
       "      <th>1</th>\n",
       "      <td>1</td>\n",
       "      <td>male</td>\n",
       "      <td>3623</td>\n",
       "    </tr>\n",
       "    <tr>\n",
       "      <th>2</th>\n",
       "      <td>2</td>\n",
       "      <td>female</td>\n",
       "      <td>48644</td>\n",
       "    </tr>\n",
       "    <tr>\n",
       "      <th>3</th>\n",
       "      <td>2</td>\n",
       "      <td>male</td>\n",
       "      <td>38915</td>\n",
       "    </tr>\n",
       "    <tr>\n",
       "      <th>4</th>\n",
       "      <td>3</td>\n",
       "      <td>female</td>\n",
       "      <td>62118</td>\n",
       "    </tr>\n",
       "  </tbody>\n",
       "</table>\n",
       "</div>"
      ],
      "text/plain": [
       "   tooth_num  gender  num_teeth\n",
       "0          1  female       2956\n",
       "1          1    male       3623\n",
       "2          2  female      48644\n",
       "3          2    male      38915\n",
       "4          3  female      62118"
      ]
     },
     "execution_count": 87,
     "metadata": {},
     "output_type": "execute_result"
    }
   ],
   "source": [
    "# temp_df.set_index('tooth_num', inplace=True)\n",
    "temp_df.head()"
   ]
  },
  {
   "cell_type": "code",
   "execution_count": 64,
   "metadata": {},
   "outputs": [],
   "source": [
    "females = temp_df.query(\"gender == 'female'\")[['tooth_num', 'num_teeth']]\n",
    "males = temp_df.query(\"gender == 'male'\")[['tooth_num', 'num_teeth']]"
   ]
  },
  {
   "cell_type": "code",
   "execution_count": 67,
   "metadata": {},
   "outputs": [],
   "source": [
    "females.set_index('tooth_num', inplace=True) # use tooth numbers for the index\n",
    "males.set_index('tooth_num', inplace=True) # use tooth numbers for the index"
   ]
  },
  {
   "cell_type": "code",
   "execution_count": 68,
   "metadata": {},
   "outputs": [
    {
     "data": {
      "text/html": [
       "<div>\n",
       "<style scoped>\n",
       "    .dataframe tbody tr th:only-of-type {\n",
       "        vertical-align: middle;\n",
       "    }\n",
       "\n",
       "    .dataframe tbody tr th {\n",
       "        vertical-align: top;\n",
       "    }\n",
       "\n",
       "    .dataframe thead th {\n",
       "        text-align: right;\n",
       "    }\n",
       "</style>\n",
       "<table border=\"1\" class=\"dataframe\">\n",
       "  <thead>\n",
       "    <tr style=\"text-align: right;\">\n",
       "      <th></th>\n",
       "      <th>num_teeth</th>\n",
       "    </tr>\n",
       "    <tr>\n",
       "      <th>tooth_num</th>\n",
       "      <th></th>\n",
       "    </tr>\n",
       "  </thead>\n",
       "  <tbody>\n",
       "    <tr>\n",
       "      <th>1</th>\n",
       "      <td>3623</td>\n",
       "    </tr>\n",
       "    <tr>\n",
       "      <th>2</th>\n",
       "      <td>38915</td>\n",
       "    </tr>\n",
       "    <tr>\n",
       "      <th>3</th>\n",
       "      <td>47690</td>\n",
       "    </tr>\n",
       "    <tr>\n",
       "      <th>4</th>\n",
       "      <td>27955</td>\n",
       "    </tr>\n",
       "    <tr>\n",
       "      <th>5</th>\n",
       "      <td>24125</td>\n",
       "    </tr>\n",
       "  </tbody>\n",
       "</table>\n",
       "</div>"
      ],
      "text/plain": [
       "           num_teeth\n",
       "tooth_num           \n",
       "1               3623\n",
       "2              38915\n",
       "3              47690\n",
       "4              27955\n",
       "5              24125"
      ]
     },
     "execution_count": 68,
     "metadata": {},
     "output_type": "execute_result"
    }
   ],
   "source": [
    "males.head()"
   ]
  },
  {
   "cell_type": "code",
   "execution_count": 131,
   "metadata": {},
   "outputs": [
    {
     "name": "stderr",
     "output_type": "stream",
     "text": [
      "/Users/widuncan/repos/git/NDPBRN/src/analysis/.env/lib/python3.7/site-packages/ipykernel_launcher.py:12: UserWarning: FixedFormatter should only be used together with FixedLocator\n",
      "  if sys.path[0] == '':\n",
      "/Users/widuncan/repos/git/NDPBRN/src/analysis/.env/lib/python3.7/site-packages/ipykernel_launcher.py:15: UserWarning: FixedFormatter should only be used together with FixedLocator\n",
      "  from ipykernel import kernelapp as app\n"
     ]
    },
    {
     "data": {
      "image/png": "[encoded data removed]",
      "text/plain": [
       "<Figure size 864x504 with 1 Axes>"
      ]
     },
     "metadata": {
      "needs_background": "light"
     },
     "output_type": "display_data"
    }
   ],
   "source": [
    "%matplotlib inline\n",
    "colors = ['magenta', 'cyan']\n",
    "sns.set_palette(colors)\n",
    "# sns.set(font_scale=1)\n",
    "\n",
    "plt.figure(figsize=(12,7))\n",
    "ax = sns.barplot(x='tooth_num', y='num_teeth', hue=\"gender\",data=temp_df)\n",
    "\n",
    "ax.set_xlabel(\"\\nTooth Number\", fontsize=15)\n",
    "ax.set_ylabel(\"Number of Teeth that had a Procedure\\n\", fontsize=15)\n",
    "ax.set_xticklabels(ax.get_xticks(), size=13)\n",
    "ax.set_yticklabels(ax.get_yticks(), size=13)\n",
    "ax.legend(loc='upper right', fontsize=15, bbox_to_anchor=(0.9, 1))\n",
    "\n",
    "ax.set_yticklabels(['{:,}'.format(int(x)) for x in ax.get_yticks().tolist()]) # put commas in y-ticks\n",
    "plt.savefig(\"figures/tooth-count-per-tooth-by-gender.png\", dpi=600, bbox_inches=\"tight\")\n",
    "plt.show()"
   ]
  },
  {
   "cell_type": "code",
   "execution_count": null,
   "metadata": {},
   "outputs": [],
   "source": []
  }
 ],
 "metadata": {
  "kernelspec": {
   "display_name": "Python 3",
   "language": "python",
   "name": "python3"
  },
  "language_info": {
   "codemirror_mode": {
    "name": "ipython",
    "version": 3
   },
   "file_extension": ".py",
   "mimetype": "text/x-python",
   "name": "python",
   "nbconvert_exporter": "python",
   "pygments_lexer": "ipython3",
   "version": "3.7.3"
  }
 },
 "nbformat": 4,
 "nbformat_minor": 4
}
