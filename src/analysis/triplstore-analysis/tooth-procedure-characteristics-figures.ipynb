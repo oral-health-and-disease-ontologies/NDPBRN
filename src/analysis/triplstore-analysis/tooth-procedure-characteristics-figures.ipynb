{
 "cells": [
  {
   "cell_type": "code",
   "execution_count": 254,
   "metadata": {},
   "outputs": [],
   "source": [
    "import pandas as pds\n",
    "import numpy as np\n",
    "import seaborn as sns\n",
    "import matplotlib.pyplot as plt\n",
    "from tabulate import tabulate\n",
    "from pandasql import sqldf\n",
    "import functools"
   ]
  },
  {
   "cell_type": "markdown",
   "metadata": {},
   "source": [
    "## define function for printing pandas dataframes as markdown"
   ]
  },
  {
   "cell_type": "code",
   "execution_count": 255,
   "metadata": {},
   "outputs": [],
   "source": [
    "def print_pandas_md(df):\n",
    "    print(tabulate(df, tablefmt=\"pipe\", headers=\"keys\"))"
   ]
  },
  {
   "cell_type": "markdown",
   "metadata": {},
   "source": [
    "## define function to round values in an interval object"
   ]
  },
  {
   "cell_type": "code",
   "execution_count": 256,
   "metadata": {},
   "outputs": [],
   "source": [
    "def round_interval(interval):\n",
    "    left_val = round(interval.left)\n",
    "    right_val = round(interval.right)\n",
    "    return pds.Interval(left=left_val, right=right_val, closed='left')"
   ]
  },
  {
   "cell_type": "markdown",
   "metadata": {},
   "source": [
    "## load local copies of data"
   ]
  },
  {
   "cell_type": "code",
   "execution_count": 257,
   "metadata": {},
   "outputs": [],
   "source": [
    "patient_df = pds.read_csv('triplestore-patient-info.tsv', sep='\\t')"
   ]
  },
  {
   "cell_type": "code",
   "execution_count": 258,
   "metadata": {},
   "outputs": [],
   "source": [
    "tooth_proc_df = pds.read_csv('triplestore-tooth-procedure-info.tsv', sep='\\t')"
   ]
  },
  {
   "cell_type": "code",
   "execution_count": 259,
   "metadata": {},
   "outputs": [],
   "source": [
    "tooth_type_df = pds.read_csv('triplestore-tooth-type-info.tsv', sep='\\t')"
   ]
  },
  {
   "cell_type": "code",
   "execution_count": 260,
   "metadata": {},
   "outputs": [],
   "source": [
    "proc_surface_df = pds.read_csv('triplestore-procedure-surface-info.tsv', sep='\\t')"
   ]
  },
  {
   "cell_type": "code",
   "execution_count": 261,
   "metadata": {},
   "outputs": [],
   "source": [
    "proc_material_df = pds.read_csv('triplestore-proc-material-info.tsv', sep='\\t')"
   ]
  },
  {
   "cell_type": "markdown",
   "metadata": {},
   "source": [
    "# Plot data"
   ]
  },
  {
   "cell_type": "markdown",
   "metadata": {},
   "source": [
    "## plot total number of distinct teeth by tooth type that underwent a procedure"
   ]
  },
  {
   "cell_type": "markdown",
   "metadata": {},
   "source": [
    "### calculate the number of each tooth type"
   ]
  },
  {
   "cell_type": "code",
   "execution_count": 262,
   "metadata": {},
   "outputs": [],
   "source": [
    "tooth_df = tooth_proc_df[['patient_id', 'tooth_num']].copy()\n",
    "tooth_df.tooth_num = tooth_df.tooth_num.astype(int)\n",
    "tooth_count_query = \"\"\"\n",
    "select \n",
    "    tooth_num, count(*) as num_teeth\n",
    "from\n",
    "    tooth_df\n",
    "group by\n",
    "    tooth_num\n",
    "order by\n",
    "    tooth_num\n",
    "\"\"\"\n",
    "tooth_count_df = sqldf(tooth_count_query)"
   ]
  },
  {
   "cell_type": "code",
   "execution_count": 263,
   "metadata": {},
   "outputs": [],
   "source": [
    "# tooth_count_df.head()"
   ]
  },
  {
   "cell_type": "markdown",
   "metadata": {},
   "source": [
    "### plot"
   ]
  },
  {
   "cell_type": "code",
   "execution_count": 264,
   "metadata": {},
   "outputs": [
    {
     "data": {
      "image/png": "[encoded data removed]",
      "text/plain": [
       "<Figure size 864x504 with 1 Axes>"
      ]
     },
     "metadata": {},
     "output_type": "display_data"
    }
   ],
   "source": [
    "%matplotlib inline\n",
    "sns.set()\n",
    "\n",
    "plt.figure(figsize=(12,7))\n",
    "ax = sns.barplot(x='tooth_num', y='num_teeth',data=tooth_count_df, color='#4c72b0')\n",
    "\n",
    "ax.set_xlabel(\"\\nTooth Number\", fontsize=15)\n",
    "ax.set_ylabel(\"Number of Teeth that had a Procedure\\n\", fontsize=15)\n",
    "\n",
    "tooth_nums = [x for x in range(1,33)] # create list of tooth nums\n",
    "ax.set_xticklabels(tooth_nums, size=13)\n",
    "ax.set_yticklabels(ax.get_yticks(), size=13)\n",
    "\n",
    "ax.set_yticklabels(['{:,}'.format(int(x)) for x in ax.get_yticks().tolist()]) # put commas in y-ticks\n",
    "plt.savefig(\"figures/tooth-count-per-tooth.png\", dpi=600, bbox_inches=\"tight\")\n",
    "plt.show()"
   ]
  },
  {
   "cell_type": "markdown",
   "metadata": {},
   "source": [
    "## plot total number of distinct teeth by tooth type that underwent a procedure by gender"
   ]
  },
  {
   "cell_type": "markdown",
   "metadata": {},
   "source": [
    "### join tooth information to gender information"
   ]
  },
  {
   "cell_type": "code",
   "execution_count": 265,
   "metadata": {},
   "outputs": [],
   "source": [
    "tooth_gender_query = \"\"\"\n",
    "select\n",
    "    tooth_df.patient_id, tooth_num, gender\n",
    "from\n",
    "    tooth_df\n",
    "inner join\n",
    "    patient_df\n",
    "on\n",
    "    tooth_df.patient_id = patient_df.patient_id\n",
    "order by\n",
    "    tooth_num\n",
    "\"\"\"\n",
    "tooth_gender_df = sqldf(tooth_gender_query)"
   ]
  },
  {
   "cell_type": "markdown",
   "metadata": {},
   "source": [
    "### calculate the number of teeth for each tooth type and gender"
   ]
  },
  {
   "cell_type": "code",
   "execution_count": 266,
   "metadata": {},
   "outputs": [],
   "source": [
    "tooth_gender_count_query = \"\"\"\n",
    "select \n",
    "    tooth_num, gender, count(*) as num_teeth\n",
    "from\n",
    "    tooth_gender_df\n",
    "group by\n",
    "    tooth_num, gender\n",
    "order by\n",
    "    tooth_num\n",
    "\"\"\"\n",
    "tooth_gender_count_df = sqldf(tooth_gender_count_query)"
   ]
  },
  {
   "cell_type": "code",
   "execution_count": 267,
   "metadata": {},
   "outputs": [],
   "source": [
    "# tooth_gender_count_df.head()"
   ]
  },
  {
   "cell_type": "markdown",
   "metadata": {},
   "source": [
    "### plot"
   ]
  },
  {
   "cell_type": "code",
   "execution_count": 268,
   "metadata": {},
   "outputs": [
    {
     "data": {
      "image/png": "[encoded data removed]",
      "text/plain": [
       "<Figure size 864x504 with 1 Axes>"
      ]
     },
     "metadata": {},
     "output_type": "display_data"
    }
   ],
   "source": [
    "%matplotlib inline\n",
    "sns.set()\n",
    "colors = ['magenta', 'cyan']\n",
    "sns.set_palette(colors)\n",
    "\n",
    "plt.figure(figsize=(12,7))\n",
    "ax = sns.barplot(x='tooth_num', y='num_teeth', hue=\"gender\",data=tooth_gender_count_df)\n",
    "\n",
    "ax.set_xlabel(\"\\nTooth Number\", fontsize=15)\n",
    "ax.set_ylabel(\"Number of Teeth that had a Procedure\\n\", fontsize=15)\n",
    "\n",
    "tooth_nums = [x for x in range(1,33)] # create list of tooth nums\n",
    "ax.set_xticklabels(tooth_nums, size=13)\n",
    "ax.set_yticklabels(ax.get_yticks(), size=13)\n",
    "ax.legend(loc='upper right', fontsize=15, bbox_to_anchor=(0.9, 1))\n",
    "\n",
    "ax.set_yticklabels(['{:,}'.format(int(x)) for x in ax.get_yticks().tolist()]) # put commas in y-ticks\n",
    "plt.savefig(\"figures/tooth-count-per-tooth-by-gender.png\", dpi=600, bbox_inches=\"tight\")\n",
    "plt.show()"
   ]
  },
  {
   "cell_type": "markdown",
   "metadata": {},
   "source": [
    "## create table with tooth number totals for females, males, and all (i.e., males and females)\n",
    "### this table is helpful for error checking and putting into paper"
   ]
  },
  {
   "cell_type": "code",
   "execution_count": 269,
   "metadata": {},
   "outputs": [],
   "source": [
    "## this looks a little hairy, but it only a merger of two queries\n",
    "## followed by the subset of data we want\n",
    "## followed by renaming the columns output by the merge\n",
    "gender_count_table = \\\n",
    "    pds.merge(tooth_gender_count_df.query(\"gender == 'female'\"),\n",
    "    tooth_gender_count_df.query(\"gender == 'male'\"),\n",
    "    how='inner',\n",
    "    on='tooth_num')[['tooth_num', 'num_teeth_x', 'num_teeth_y']].rename(columns={'num_teeth_x': 'female', 'num_teeth_y': 'male'})"
   ]
  },
  {
   "cell_type": "code",
   "execution_count": 270,
   "metadata": {},
   "outputs": [],
   "source": [
    "# gender_count_table.head()"
   ]
  },
  {
   "cell_type": "code",
   "execution_count": 271,
   "metadata": {},
   "outputs": [],
   "source": [
    "## merge gender counts with the totals of all teet\n",
    "all_tooth_count_table = \\\n",
    "    pds.merge(gender_count_table, tooth_count_df, how='inner', on='tooth_num').rename(columns={'num_teeth': 'total'})"
   ]
  },
  {
   "cell_type": "code",
   "execution_count": 272,
   "metadata": {},
   "outputs": [
    {
     "data": {
      "text/html": [
       "<div>\n",
       "<style scoped>\n",
       "    .dataframe tbody tr th:only-of-type {\n",
       "        vertical-align: middle;\n",
       "    }\n",
       "\n",
       "    .dataframe tbody tr th {\n",
       "        vertical-align: top;\n",
       "    }\n",
       "\n",
       "    .dataframe thead th {\n",
       "        text-align: right;\n",
       "    }\n",
       "</style>\n",
       "<table border=\"1\" class=\"dataframe\">\n",
       "  <thead>\n",
       "    <tr style=\"text-align: right;\">\n",
       "      <th></th>\n",
       "      <th>tooth_num</th>\n",
       "      <th>female</th>\n",
       "      <th>male</th>\n",
       "      <th>total</th>\n",
       "    </tr>\n",
       "  </thead>\n",
       "  <tbody>\n",
       "    <tr>\n",
       "      <th>0</th>\n",
       "      <td>1</td>\n",
       "      <td>2956</td>\n",
       "      <td>3623</td>\n",
       "      <td>6579</td>\n",
       "    </tr>\n",
       "    <tr>\n",
       "      <th>1</th>\n",
       "      <td>2</td>\n",
       "      <td>48644</td>\n",
       "      <td>38915</td>\n",
       "      <td>87559</td>\n",
       "    </tr>\n",
       "    <tr>\n",
       "      <th>2</th>\n",
       "      <td>3</td>\n",
       "      <td>62118</td>\n",
       "      <td>47690</td>\n",
       "      <td>109808</td>\n",
       "    </tr>\n",
       "    <tr>\n",
       "      <th>3</th>\n",
       "      <td>4</td>\n",
       "      <td>37956</td>\n",
       "      <td>27955</td>\n",
       "      <td>65911</td>\n",
       "    </tr>\n",
       "    <tr>\n",
       "      <th>4</th>\n",
       "      <td>5</td>\n",
       "      <td>31684</td>\n",
       "      <td>24125</td>\n",
       "      <td>55809</td>\n",
       "    </tr>\n",
       "  </tbody>\n",
       "</table>\n",
       "</div>"
      ],
      "text/plain": [
       "   tooth_num  female   male   total\n",
       "0          1    2956   3623    6579\n",
       "1          2   48644  38915   87559\n",
       "2          3   62118  47690  109808\n",
       "3          4   37956  27955   65911\n",
       "4          5   31684  24125   55809"
      ]
     },
     "execution_count": 272,
     "metadata": {},
     "output_type": "execute_result"
    }
   ],
   "source": [
    "all_tooth_count_table.head()"
   ]
  },
  {
   "cell_type": "markdown",
   "metadata": {},
   "source": [
    "## summarize number of surfaces restored"
   ]
  },
  {
   "cell_type": "code",
   "execution_count": 273,
   "metadata": {},
   "outputs": [
    {
     "data": {
      "text/html": [
       "<div>\n",
       "<style scoped>\n",
       "    .dataframe tbody tr th:only-of-type {\n",
       "        vertical-align: middle;\n",
       "    }\n",
       "\n",
       "    .dataframe tbody tr th {\n",
       "        vertical-align: top;\n",
       "    }\n",
       "\n",
       "    .dataframe thead th {\n",
       "        text-align: right;\n",
       "    }\n",
       "</style>\n",
       "<table border=\"1\" class=\"dataframe\">\n",
       "  <thead>\n",
       "    <tr style=\"text-align: right;\">\n",
       "      <th></th>\n",
       "      <th>patient_id</th>\n",
       "      <th>tooth_id</th>\n",
       "      <th>tooth_num</th>\n",
       "      <th>proc_id</th>\n",
       "      <th>m</th>\n",
       "      <th>o</th>\n",
       "      <th>d</th>\n",
       "      <th>b</th>\n",
       "      <th>f</th>\n",
       "      <th>l</th>\n",
       "      <th>i</th>\n",
       "      <th>num_surfaces</th>\n",
       "    </tr>\n",
       "  </thead>\n",
       "  <tbody>\n",
       "    <tr>\n",
       "      <th>0</th>\n",
       "      <td>A_1_1_17</td>\n",
       "      <td>A_1_1_17_7</td>\n",
       "      <td>7</td>\n",
       "      <td>A_1_1_17_7_D2331_2011-04-23</td>\n",
       "      <td>1</td>\n",
       "      <td>0</td>\n",
       "      <td>0</td>\n",
       "      <td>0</td>\n",
       "      <td>0</td>\n",
       "      <td>0</td>\n",
       "      <td>1</td>\n",
       "      <td>2</td>\n",
       "    </tr>\n",
       "    <tr>\n",
       "      <th>1</th>\n",
       "      <td>A_1_1_17</td>\n",
       "      <td>A_1_1_17_9</td>\n",
       "      <td>9</td>\n",
       "      <td>A_1_1_17_9_D2335_2006-07-07</td>\n",
       "      <td>1</td>\n",
       "      <td>0</td>\n",
       "      <td>0</td>\n",
       "      <td>0</td>\n",
       "      <td>0</td>\n",
       "      <td>0</td>\n",
       "      <td>1</td>\n",
       "      <td>2</td>\n",
       "    </tr>\n",
       "    <tr>\n",
       "      <th>2</th>\n",
       "      <td>A_1_1_17</td>\n",
       "      <td>A_1_1_17_10</td>\n",
       "      <td>10</td>\n",
       "      <td>A_1_1_17_10_D2330_2008-10-12</td>\n",
       "      <td>1</td>\n",
       "      <td>0</td>\n",
       "      <td>0</td>\n",
       "      <td>0</td>\n",
       "      <td>0</td>\n",
       "      <td>0</td>\n",
       "      <td>0</td>\n",
       "      <td>1</td>\n",
       "    </tr>\n",
       "    <tr>\n",
       "      <th>3</th>\n",
       "      <td>A_1_1_17</td>\n",
       "      <td>A_1_1_17_10</td>\n",
       "      <td>10</td>\n",
       "      <td>A_1_1_17_10_D2335_2014-03-16</td>\n",
       "      <td>1</td>\n",
       "      <td>0</td>\n",
       "      <td>0</td>\n",
       "      <td>0</td>\n",
       "      <td>1</td>\n",
       "      <td>1</td>\n",
       "      <td>1</td>\n",
       "      <td>4</td>\n",
       "    </tr>\n",
       "    <tr>\n",
       "      <th>4</th>\n",
       "      <td>A_1_1_17</td>\n",
       "      <td>A_1_1_17_12</td>\n",
       "      <td>12</td>\n",
       "      <td>A_1_1_17_12_D2392_2012-01-23</td>\n",
       "      <td>0</td>\n",
       "      <td>1</td>\n",
       "      <td>1</td>\n",
       "      <td>0</td>\n",
       "      <td>0</td>\n",
       "      <td>0</td>\n",
       "      <td>0</td>\n",
       "      <td>2</td>\n",
       "    </tr>\n",
       "  </tbody>\n",
       "</table>\n",
       "</div>"
      ],
      "text/plain": [
       "  patient_id     tooth_id  tooth_num                       proc_id  m  o  d  \\\n",
       "0   A_1_1_17   A_1_1_17_7          7   A_1_1_17_7_D2331_2011-04-23  1  0  0   \n",
       "1   A_1_1_17   A_1_1_17_9          9   A_1_1_17_9_D2335_2006-07-07  1  0  0   \n",
       "2   A_1_1_17  A_1_1_17_10         10  A_1_1_17_10_D2330_2008-10-12  1  0  0   \n",
       "3   A_1_1_17  A_1_1_17_10         10  A_1_1_17_10_D2335_2014-03-16  1  0  0   \n",
       "4   A_1_1_17  A_1_1_17_12         12  A_1_1_17_12_D2392_2012-01-23  0  1  1   \n",
       "\n",
       "   b  f  l  i  num_surfaces  \n",
       "0  0  0  0  1             2  \n",
       "1  0  0  0  1             2  \n",
       "2  0  0  0  0             1  \n",
       "3  0  1  1  1             4  \n",
       "4  0  0  0  0             2  "
      ]
     },
     "execution_count": 273,
     "metadata": {},
     "output_type": "execute_result"
    }
   ],
   "source": [
    "proc_surface_df.head()"
   ]
  },
  {
   "cell_type": "code",
   "execution_count": 274,
   "metadata": {},
   "outputs": [],
   "source": [
    "surface_proc_count_query = \"\"\"\n",
    "select \n",
    "    sum(m) as M,\n",
    "    sum(o) as O,\n",
    "    sum(d) as D,\n",
    "    sum(b) as B,\n",
    "    sum(f) as F,\n",
    "    sum(l) as L,\n",
    "    sum(i) as I\n",
    "from\n",
    "    proc_surface_df\n",
    "\"\"\"\n",
    "surface_proc_count_df = sqldf(surface_proc_count_query)"
   ]
  },
  {
   "cell_type": "code",
   "execution_count": 275,
   "metadata": {},
   "outputs": [
    {
     "data": {
      "text/html": [
       "<div>\n",
       "<style scoped>\n",
       "    .dataframe tbody tr th:only-of-type {\n",
       "        vertical-align: middle;\n",
       "    }\n",
       "\n",
       "    .dataframe tbody tr th {\n",
       "        vertical-align: top;\n",
       "    }\n",
       "\n",
       "    .dataframe thead th {\n",
       "        text-align: right;\n",
       "    }\n",
       "</style>\n",
       "<table border=\"1\" class=\"dataframe\">\n",
       "  <thead>\n",
       "    <tr style=\"text-align: right;\">\n",
       "      <th></th>\n",
       "      <th>M</th>\n",
       "      <th>O</th>\n",
       "      <th>D</th>\n",
       "      <th>B</th>\n",
       "      <th>F</th>\n",
       "      <th>L</th>\n",
       "      <th>I</th>\n",
       "    </tr>\n",
       "  </thead>\n",
       "  <tbody>\n",
       "    <tr>\n",
       "      <th>0</th>\n",
       "      <td>349287</td>\n",
       "      <td>828423</td>\n",
       "      <td>379686</td>\n",
       "      <td>89869</td>\n",
       "      <td>293902</td>\n",
       "      <td>288136</td>\n",
       "      <td>34517</td>\n",
       "    </tr>\n",
       "  </tbody>\n",
       "</table>\n",
       "</div>"
      ],
      "text/plain": [
       "        M       O       D      B       F       L      I\n",
       "0  349287  828423  379686  89869  293902  288136  34517"
      ]
     },
     "execution_count": 275,
     "metadata": {},
     "output_type": "execute_result"
    }
   ],
   "source": [
    "surface_proc_count_df"
   ]
  },
  {
   "cell_type": "markdown",
   "metadata": {},
   "source": [
    "### melt dataframe for plotting"
   ]
  },
  {
   "cell_type": "code",
   "execution_count": 276,
   "metadata": {},
   "outputs": [],
   "source": [
    "surface_melt_df = pds.melt(surface_proc_count_df, value_vars=['M', 'O', 'D', 'B', 'F', 'L', 'I'], var_name='surface', value_name='total')"
   ]
  },
  {
   "cell_type": "code",
   "execution_count": 277,
   "metadata": {},
   "outputs": [
    {
     "data": {
      "text/html": [
       "<div>\n",
       "<style scoped>\n",
       "    .dataframe tbody tr th:only-of-type {\n",
       "        vertical-align: middle;\n",
       "    }\n",
       "\n",
       "    .dataframe tbody tr th {\n",
       "        vertical-align: top;\n",
       "    }\n",
       "\n",
       "    .dataframe thead th {\n",
       "        text-align: right;\n",
       "    }\n",
       "</style>\n",
       "<table border=\"1\" class=\"dataframe\">\n",
       "  <thead>\n",
       "    <tr style=\"text-align: right;\">\n",
       "      <th></th>\n",
       "      <th>surface</th>\n",
       "      <th>total</th>\n",
       "    </tr>\n",
       "  </thead>\n",
       "  <tbody>\n",
       "    <tr>\n",
       "      <th>0</th>\n",
       "      <td>M</td>\n",
       "      <td>349287</td>\n",
       "    </tr>\n",
       "    <tr>\n",
       "      <th>1</th>\n",
       "      <td>O</td>\n",
       "      <td>828423</td>\n",
       "    </tr>\n",
       "    <tr>\n",
       "      <th>2</th>\n",
       "      <td>D</td>\n",
       "      <td>379686</td>\n",
       "    </tr>\n",
       "    <tr>\n",
       "      <th>3</th>\n",
       "      <td>B</td>\n",
       "      <td>89869</td>\n",
       "    </tr>\n",
       "    <tr>\n",
       "      <th>4</th>\n",
       "      <td>F</td>\n",
       "      <td>293902</td>\n",
       "    </tr>\n",
       "    <tr>\n",
       "      <th>5</th>\n",
       "      <td>L</td>\n",
       "      <td>288136</td>\n",
       "    </tr>\n",
       "    <tr>\n",
       "      <th>6</th>\n",
       "      <td>I</td>\n",
       "      <td>34517</td>\n",
       "    </tr>\n",
       "  </tbody>\n",
       "</table>\n",
       "</div>"
      ],
      "text/plain": [
       "  surface   total\n",
       "0       M  349287\n",
       "1       O  828423\n",
       "2       D  379686\n",
       "3       B   89869\n",
       "4       F  293902\n",
       "5       L  288136\n",
       "6       I   34517"
      ]
     },
     "execution_count": 277,
     "metadata": {},
     "output_type": "execute_result"
    }
   ],
   "source": [
    "surface_melt_df"
   ]
  },
  {
   "cell_type": "markdown",
   "metadata": {},
   "source": [
    "### plot"
   ]
  },
  {
   "cell_type": "code",
   "execution_count": 278,
   "metadata": {},
   "outputs": [
    {
     "name": "stderr",
     "output_type": "stream",
     "text": [
      "No handles with labels found to put in legend.\n"
     ]
    },
    {
     "data": {
      "image/png": "[encoded data removed]",
      "text/plain": [
       "<Figure size 864x504 with 1 Axes>"
      ]
     },
     "metadata": {},
     "output_type": "display_data"
    }
   ],
   "source": [
    "%matplotlib inline\n",
    "sns.set()\n",
    "\n",
    "plt.figure(figsize=(12,7))\n",
    "ax = sns.barplot(x='total', y='surface', data=surface_melt_df)\n",
    "\n",
    "ax.set_xlabel(\"\\nNumber of Tooth Surfaces\", fontsize=15)\n",
    "ax.set_ylabel(\"Tooth Surface\\n\", fontsize=15)\n",
    "\n",
    "y_ticks = ['M', 'O', 'D', 'B', 'F', 'L', 'I']\n",
    "ax.set_xticklabels(ax.get_yticks(), size=13)\n",
    "ax.set_yticklabels(y_ticks, size=13)\n",
    "\n",
    "ax.legend(loc='upper right', fontsize=15, bbox_to_anchor=(0.9, 1))\n",
    "\n",
    "ax.set_xticklabels(['{:,}'.format(int(x)) for x in ax.get_xticks().tolist()]) # put commas in x-ticks\n",
    "\n",
    "plt.savefig(\"figures/surfaces-restored-count.png\", dpi=600, bbox_inches=\"tight\")\n",
    "plt.show()"
   ]
  },
  {
   "cell_type": "markdown",
   "metadata": {},
   "source": [
    "## summarize number of surfaces restored for each tooth type"
   ]
  },
  {
   "cell_type": "code",
   "execution_count": 279,
   "metadata": {},
   "outputs": [],
   "source": [
    "tooth_surface_proc_count_query = \"\"\"\n",
    "select\n",
    "    case \n",
    "        when incisor = 1 then 'incisor'\n",
    "        when canine = 1 then 'canine'\n",
    "        when premolar = 1 then 'premolar'\n",
    "        when molar = 1 then 'molar'\n",
    "    end as tooth_type,\n",
    "    case \n",
    "        when num_surfaces = 1 then '1 surface'\n",
    "        when num_surfaces = 2 then '2 surfaces'\n",
    "        when num_surfaces > 2 then '3+ surfaces'\n",
    "    end as surface_category,\n",
    "    count(*) as total\n",
    "from \n",
    "    proc_surface_df\n",
    "inner join\n",
    "    tooth_type_df\n",
    "on \n",
    "    proc_surface_df.tooth_id = tooth_type_df.tooth_id\n",
    "where \n",
    "    num_surfaces > 0\n",
    "group by \n",
    "    tooth_type, surface_category\n",
    "order by\n",
    "    surface_category, tooth_type\n",
    "\"\"\"\n",
    "tooth_surface_proc_count_df = sqldf(tooth_surface_proc_count_query)"
   ]
  },
  {
   "cell_type": "code",
   "execution_count": 280,
   "metadata": {},
   "outputs": [
    {
     "data": {
      "text/html": [
       "<div>\n",
       "<style scoped>\n",
       "    .dataframe tbody tr th:only-of-type {\n",
       "        vertical-align: middle;\n",
       "    }\n",
       "\n",
       "    .dataframe tbody tr th {\n",
       "        vertical-align: top;\n",
       "    }\n",
       "\n",
       "    .dataframe thead th {\n",
       "        text-align: right;\n",
       "    }\n",
       "</style>\n",
       "<table border=\"1\" class=\"dataframe\">\n",
       "  <thead>\n",
       "    <tr style=\"text-align: right;\">\n",
       "      <th></th>\n",
       "      <th>tooth_type</th>\n",
       "      <th>surface_category</th>\n",
       "      <th>total</th>\n",
       "    </tr>\n",
       "  </thead>\n",
       "  <tbody>\n",
       "    <tr>\n",
       "      <th>0</th>\n",
       "      <td>canine</td>\n",
       "      <td>1 surface</td>\n",
       "      <td>39039</td>\n",
       "    </tr>\n",
       "    <tr>\n",
       "      <th>1</th>\n",
       "      <td>incisor</td>\n",
       "      <td>1 surface</td>\n",
       "      <td>65656</td>\n",
       "    </tr>\n",
       "    <tr>\n",
       "      <th>2</th>\n",
       "      <td>molar</td>\n",
       "      <td>1 surface</td>\n",
       "      <td>305022</td>\n",
       "    </tr>\n",
       "    <tr>\n",
       "      <th>3</th>\n",
       "      <td>premolar</td>\n",
       "      <td>1 surface</td>\n",
       "      <td>112547</td>\n",
       "    </tr>\n",
       "    <tr>\n",
       "      <th>4</th>\n",
       "      <td>canine</td>\n",
       "      <td>2 surfaces</td>\n",
       "      <td>25324</td>\n",
       "    </tr>\n",
       "    <tr>\n",
       "      <th>5</th>\n",
       "      <td>incisor</td>\n",
       "      <td>2 surfaces</td>\n",
       "      <td>60660</td>\n",
       "    </tr>\n",
       "    <tr>\n",
       "      <th>6</th>\n",
       "      <td>molar</td>\n",
       "      <td>2 surfaces</td>\n",
       "      <td>242478</td>\n",
       "    </tr>\n",
       "    <tr>\n",
       "      <th>7</th>\n",
       "      <td>premolar</td>\n",
       "      <td>2 surfaces</td>\n",
       "      <td>140076</td>\n",
       "    </tr>\n",
       "    <tr>\n",
       "      <th>8</th>\n",
       "      <td>canine</td>\n",
       "      <td>3+ surfaces</td>\n",
       "      <td>15874</td>\n",
       "    </tr>\n",
       "    <tr>\n",
       "      <th>9</th>\n",
       "      <td>incisor</td>\n",
       "      <td>3+ surfaces</td>\n",
       "      <td>62067</td>\n",
       "    </tr>\n",
       "    <tr>\n",
       "      <th>10</th>\n",
       "      <td>molar</td>\n",
       "      <td>3+ surfaces</td>\n",
       "      <td>101453</td>\n",
       "    </tr>\n",
       "    <tr>\n",
       "      <th>11</th>\n",
       "      <td>premolar</td>\n",
       "      <td>3+ surfaces</td>\n",
       "      <td>65277</td>\n",
       "    </tr>\n",
       "  </tbody>\n",
       "</table>\n",
       "</div>"
      ],
      "text/plain": [
       "   tooth_type surface_category   total\n",
       "0      canine        1 surface   39039\n",
       "1     incisor        1 surface   65656\n",
       "2       molar        1 surface  305022\n",
       "3    premolar        1 surface  112547\n",
       "4      canine       2 surfaces   25324\n",
       "5     incisor       2 surfaces   60660\n",
       "6       molar       2 surfaces  242478\n",
       "7    premolar       2 surfaces  140076\n",
       "8      canine      3+ surfaces   15874\n",
       "9     incisor      3+ surfaces   62067\n",
       "10      molar      3+ surfaces  101453\n",
       "11   premolar      3+ surfaces   65277"
      ]
     },
     "execution_count": 280,
     "metadata": {},
     "output_type": "execute_result"
    }
   ],
   "source": [
    "tooth_surface_proc_count_df"
   ]
  },
  {
   "cell_type": "markdown",
   "metadata": {},
   "source": [
    "### plot"
   ]
  },
  {
   "cell_type": "code",
   "execution_count": 281,
   "metadata": {},
   "outputs": [
    {
     "data": {
      "image/png": "[encoded data removed]",
      "text/plain": [
       "<Figure size 864x504 with 1 Axes>"
      ]
     },
     "metadata": {},
     "output_type": "display_data"
    }
   ],
   "source": [
    "%matplotlib inline\n",
    "sns.set()\n",
    "\n",
    "plt.figure(figsize=(12,7))\n",
    "ax = sns.barplot(x='surface_category', y='total', data=tooth_surface_proc_count_df,\n",
    "                 hue=\"tooth_type\", hue_order=['incisor', 'canine', 'premolar', 'molar'])\n",
    "\n",
    "ax.set_xlabel(\"\\nNumber of Surfaces Restored\", fontsize=15)\n",
    "ax.set_ylabel(\"Number of Teeth Restored\\n\", fontsize=15)\n",
    "\n",
    "x_ticks = ['1 surface', '2 surfaces', '3+ surfaces']\n",
    "ax.set_xticklabels(x_ticks, size=13)\n",
    "ax.set_yticklabels(ax.get_yticks(), size=13)\n",
    "\n",
    "ax.legend(loc='upper right', fontsize=15, bbox_to_anchor=(0.9, 1))\n",
    "\n",
    "ax.set_yticklabels(['{:,}'.format(int(x)) for x in ax.get_yticks().tolist()]) # put commas in y-ticks\n",
    "plt.savefig(\"figures/surfaces-restored-by-tooth-type-count.png\", dpi=600, bbox_inches=\"tight\")\n",
    "plt.show()"
   ]
  },
  {
   "cell_type": "markdown",
   "metadata": {},
   "source": [
    "## summarize materials used for tooth type"
   ]
  },
  {
   "cell_type": "markdown",
   "metadata": {},
   "source": [
    "### create a column with three general categories of materials: ceramic, metal, resin"
   ]
  },
  {
   "cell_type": "code",
   "execution_count": 282,
   "metadata": {},
   "outputs": [],
   "source": [
    "def get_material_category(material):\n",
    "    if pds.isnull(material): return material\n",
    "    \n",
    "    if material in ['ceramic', 'porcelain']:\n",
    "        return 'ceramic'\n",
    "    elif material in ['metal', 'predominantly base metal', 'stainless steel', 'noble metal', 'high noble metal', 'amalgam', 'gold foil']:\n",
    "        return 'metal'\n",
    "    elif material in ['resin']:\n",
    "        return 'resin'\n",
    "    else:\n",
    "        return None"
   ]
  },
  {
   "cell_type": "code",
   "execution_count": 283,
   "metadata": {},
   "outputs": [],
   "source": [
    "proc_material_df['material_category'] = proc_material_df['material'].map(lambda x: get_material_category(x))"
   ]
  },
  {
   "cell_type": "code",
   "execution_count": 284,
   "metadata": {},
   "outputs": [],
   "source": [
    "# proc_material_df.head()"
   ]
  },
  {
   "cell_type": "markdown",
   "metadata": {},
   "source": [
    "### build data frame of each the material used in each tooth\n",
    "### note: use dropna to remove procedures with no materials"
   ]
  },
  {
   "cell_type": "code",
   "execution_count": 285,
   "metadata": {},
   "outputs": [],
   "source": [
    "tooth_material_proc_df = \\\n",
    "    pds.merge(proc_material_df.dropna(), \n",
    "              tooth_type_df[['tooth_id','anterior','posterior','incisor','canine','premolar','molar','maxillary','mandibular','left','right']], \n",
    "              how='inner', \n",
    "              on='tooth_id')"
   ]
  },
  {
   "cell_type": "code",
   "execution_count": 286,
   "metadata": {},
   "outputs": [],
   "source": [
    "# tooth_material_proc_df.head()"
   ]
  },
  {
   "cell_type": "code",
   "execution_count": 287,
   "metadata": {},
   "outputs": [],
   "source": [
    "tooth_material_proc_count_df = \\\n",
    "    tooth_material_proc_df[['material_category','incisor','canine','premolar','molar']].groupby('material_category').sum()\n",
    "tooth_material_proc_count_df.reset_index(inplace=True)"
   ]
  },
  {
   "cell_type": "code",
   "execution_count": 288,
   "metadata": {},
   "outputs": [
    {
     "data": {
      "text/html": [
       "<div>\n",
       "<style scoped>\n",
       "    .dataframe tbody tr th:only-of-type {\n",
       "        vertical-align: middle;\n",
       "    }\n",
       "\n",
       "    .dataframe tbody tr th {\n",
       "        vertical-align: top;\n",
       "    }\n",
       "\n",
       "    .dataframe thead th {\n",
       "        text-align: right;\n",
       "    }\n",
       "</style>\n",
       "<table border=\"1\" class=\"dataframe\">\n",
       "  <thead>\n",
       "    <tr style=\"text-align: right;\">\n",
       "      <th></th>\n",
       "      <th>material_category</th>\n",
       "      <th>incisor</th>\n",
       "      <th>canine</th>\n",
       "      <th>premolar</th>\n",
       "      <th>molar</th>\n",
       "    </tr>\n",
       "  </thead>\n",
       "  <tbody>\n",
       "    <tr>\n",
       "      <th>0</th>\n",
       "      <td>ceramic</td>\n",
       "      <td>30916</td>\n",
       "      <td>13267</td>\n",
       "      <td>67849</td>\n",
       "      <td>126982</td>\n",
       "    </tr>\n",
       "    <tr>\n",
       "      <th>1</th>\n",
       "      <td>metal</td>\n",
       "      <td>18299</td>\n",
       "      <td>11171</td>\n",
       "      <td>86910</td>\n",
       "      <td>214456</td>\n",
       "    </tr>\n",
       "    <tr>\n",
       "      <th>2</th>\n",
       "      <td>resin</td>\n",
       "      <td>187773</td>\n",
       "      <td>78645</td>\n",
       "      <td>283226</td>\n",
       "      <td>546268</td>\n",
       "    </tr>\n",
       "  </tbody>\n",
       "</table>\n",
       "</div>"
      ],
      "text/plain": [
       "  material_category  incisor  canine  premolar   molar\n",
       "0           ceramic    30916   13267     67849  126982\n",
       "1             metal    18299   11171     86910  214456\n",
       "2             resin   187773   78645    283226  546268"
      ]
     },
     "execution_count": 288,
     "metadata": {},
     "output_type": "execute_result"
    }
   ],
   "source": [
    " tooth_material_proc_count_df"
   ]
  },
  {
   "cell_type": "markdown",
   "metadata": {},
   "source": [
    "### melt dataframe for plotting"
   ]
  },
  {
   "cell_type": "code",
   "execution_count": 289,
   "metadata": {},
   "outputs": [],
   "source": [
    "tooth_material_proc_count_melt_df = \\\n",
    "    tooth_material_proc_count_df.melt(id_vars=['material_category'], var_name='tooth_type', \n",
    "                                      value_vars=['incisor', 'canine', 'premolar', 'molar'], value_name='total')"
   ]
  },
  {
   "cell_type": "code",
   "execution_count": 290,
   "metadata": {},
   "outputs": [
    {
     "data": {
      "text/html": [
       "<div>\n",
       "<style scoped>\n",
       "    .dataframe tbody tr th:only-of-type {\n",
       "        vertical-align: middle;\n",
       "    }\n",
       "\n",
       "    .dataframe tbody tr th {\n",
       "        vertical-align: top;\n",
       "    }\n",
       "\n",
       "    .dataframe thead th {\n",
       "        text-align: right;\n",
       "    }\n",
       "</style>\n",
       "<table border=\"1\" class=\"dataframe\">\n",
       "  <thead>\n",
       "    <tr style=\"text-align: right;\">\n",
       "      <th></th>\n",
       "      <th>material_category</th>\n",
       "      <th>tooth_type</th>\n",
       "      <th>total</th>\n",
       "    </tr>\n",
       "  </thead>\n",
       "  <tbody>\n",
       "    <tr>\n",
       "      <th>0</th>\n",
       "      <td>ceramic</td>\n",
       "      <td>incisor</td>\n",
       "      <td>30916</td>\n",
       "    </tr>\n",
       "    <tr>\n",
       "      <th>1</th>\n",
       "      <td>metal</td>\n",
       "      <td>incisor</td>\n",
       "      <td>18299</td>\n",
       "    </tr>\n",
       "    <tr>\n",
       "      <th>2</th>\n",
       "      <td>resin</td>\n",
       "      <td>incisor</td>\n",
       "      <td>187773</td>\n",
       "    </tr>\n",
       "    <tr>\n",
       "      <th>3</th>\n",
       "      <td>ceramic</td>\n",
       "      <td>canine</td>\n",
       "      <td>13267</td>\n",
       "    </tr>\n",
       "    <tr>\n",
       "      <th>4</th>\n",
       "      <td>metal</td>\n",
       "      <td>canine</td>\n",
       "      <td>11171</td>\n",
       "    </tr>\n",
       "    <tr>\n",
       "      <th>5</th>\n",
       "      <td>resin</td>\n",
       "      <td>canine</td>\n",
       "      <td>78645</td>\n",
       "    </tr>\n",
       "    <tr>\n",
       "      <th>6</th>\n",
       "      <td>ceramic</td>\n",
       "      <td>premolar</td>\n",
       "      <td>67849</td>\n",
       "    </tr>\n",
       "    <tr>\n",
       "      <th>7</th>\n",
       "      <td>metal</td>\n",
       "      <td>premolar</td>\n",
       "      <td>86910</td>\n",
       "    </tr>\n",
       "    <tr>\n",
       "      <th>8</th>\n",
       "      <td>resin</td>\n",
       "      <td>premolar</td>\n",
       "      <td>283226</td>\n",
       "    </tr>\n",
       "    <tr>\n",
       "      <th>9</th>\n",
       "      <td>ceramic</td>\n",
       "      <td>molar</td>\n",
       "      <td>126982</td>\n",
       "    </tr>\n",
       "    <tr>\n",
       "      <th>10</th>\n",
       "      <td>metal</td>\n",
       "      <td>molar</td>\n",
       "      <td>214456</td>\n",
       "    </tr>\n",
       "    <tr>\n",
       "      <th>11</th>\n",
       "      <td>resin</td>\n",
       "      <td>molar</td>\n",
       "      <td>546268</td>\n",
       "    </tr>\n",
       "  </tbody>\n",
       "</table>\n",
       "</div>"
      ],
      "text/plain": [
       "   material_category tooth_type   total\n",
       "0            ceramic    incisor   30916\n",
       "1              metal    incisor   18299\n",
       "2              resin    incisor  187773\n",
       "3            ceramic     canine   13267\n",
       "4              metal     canine   11171\n",
       "5              resin     canine   78645\n",
       "6            ceramic   premolar   67849\n",
       "7              metal   premolar   86910\n",
       "8              resin   premolar  283226\n",
       "9            ceramic      molar  126982\n",
       "10             metal      molar  214456\n",
       "11             resin      molar  546268"
      ]
     },
     "execution_count": 290,
     "metadata": {},
     "output_type": "execute_result"
    }
   ],
   "source": [
    "tooth_material_proc_count_melt_df"
   ]
  },
  {
   "cell_type": "markdown",
   "metadata": {},
   "source": [
    "### plot"
   ]
  },
  {
   "cell_type": "code",
   "execution_count": 291,
   "metadata": {},
   "outputs": [
    {
     "data": {
      "image/png": "[encoded data removed]",
      "text/plain": [
       "<Figure size 864x504 with 1 Axes>"
      ]
     },
     "metadata": {},
     "output_type": "display_data"
    }
   ],
   "source": [
    "%matplotlib inline\n",
    "sns.set()\n",
    "\n",
    "plt.figure(figsize=(12,7))\n",
    "ax = sns.barplot(x='material_category', y='total', data=tooth_material_proc_count_melt_df, hue='tooth_type')\n",
    "\n",
    "ax.set_xlabel(\"\\nRestoration Material\", fontsize=15)\n",
    "ax.set_ylabel(\"Number of Teeth Restored\\n\", fontsize=15)\n",
    "\n",
    "x_ticks = ['ceramic', 'metal', 'resin']\n",
    "ax.set_xticklabels(x_ticks, size=13)\n",
    "ax.set_yticklabels(ax.get_yticks(), size=13)\n",
    "\n",
    "ax.legend(loc='upper left', fontsize=15)\n",
    "\n",
    "ax.set_yticklabels(['{:,}'.format(int(x)) for x in ax.get_yticks().tolist()]) # put commas in y-ticks\n",
    "plt.savefig(\"figures/restoration-materials-per-tooth-count.png\", dpi=600, bbox_inches=\"tight\")\n",
    "plt.show()"
   ]
  },
  {
   "cell_type": "markdown",
   "metadata": {},
   "source": [
    "## plot material use over time"
   ]
  },
  {
   "cell_type": "markdown",
   "metadata": {},
   "source": [
    "### add procedure dates to the tooth/materal dataframe"
   ]
  },
  {
   "cell_type": "code",
   "execution_count": 292,
   "metadata": {},
   "outputs": [],
   "source": [
    "tooth_material_proc_date_df = \\\n",
    "    pds.merge(tooth_material_proc_df, tooth_proc_df[['proc_id', 'event_date']], how='inner', on='proc_id')\n",
    "tooth_material_proc_date_df.event_date = pds.to_datetime(tooth_material_proc_date_df.event_date)\n",
    "tooth_material_proc_date_df['event_year'] = pds.DatetimeIndex(tooth_material_proc_date_df.event_date).year"
   ]
  },
  {
   "cell_type": "markdown",
   "metadata": {},
   "source": [
    "### drop any years > 2015"
   ]
  },
  {
   "cell_type": "code",
   "execution_count": 293,
   "metadata": {},
   "outputs": [],
   "source": [
    "tooth_material_proc_date_df = tooth_material_proc_date_df[tooth_material_proc_date_df.event_year < 2016]"
   ]
  },
  {
   "cell_type": "code",
   "execution_count": 294,
   "metadata": {},
   "outputs": [],
   "source": [
    "material_proc_date_count_df = \\\n",
    "    pds.DataFrame(tooth_material_proc_date_df.groupby(['event_year', 'material_category'])['material_category']\\\n",
    "                  .count())\\\n",
    "                  .rename(columns={'material_category': 'total'})\\\n",
    "                  .reset_index()"
   ]
  },
  {
   "cell_type": "code",
   "execution_count": 295,
   "metadata": {},
   "outputs": [
    {
     "data": {
      "text/html": [
       "<div>\n",
       "<style scoped>\n",
       "    .dataframe tbody tr th:only-of-type {\n",
       "        vertical-align: middle;\n",
       "    }\n",
       "\n",
       "    .dataframe tbody tr th {\n",
       "        vertical-align: top;\n",
       "    }\n",
       "\n",
       "    .dataframe thead th {\n",
       "        text-align: right;\n",
       "    }\n",
       "</style>\n",
       "<table border=\"1\" class=\"dataframe\">\n",
       "  <thead>\n",
       "    <tr style=\"text-align: right;\">\n",
       "      <th></th>\n",
       "      <th>event_year</th>\n",
       "      <th>material_category</th>\n",
       "      <th>total</th>\n",
       "    </tr>\n",
       "  </thead>\n",
       "  <tbody>\n",
       "    <tr>\n",
       "      <th>98</th>\n",
       "      <td>2014</td>\n",
       "      <td>ceramic</td>\n",
       "      <td>15266</td>\n",
       "    </tr>\n",
       "    <tr>\n",
       "      <th>99</th>\n",
       "      <td>2014</td>\n",
       "      <td>metal</td>\n",
       "      <td>12238</td>\n",
       "    </tr>\n",
       "    <tr>\n",
       "      <th>100</th>\n",
       "      <td>2014</td>\n",
       "      <td>resin</td>\n",
       "      <td>85261</td>\n",
       "    </tr>\n",
       "    <tr>\n",
       "      <th>101</th>\n",
       "      <td>2015</td>\n",
       "      <td>ceramic</td>\n",
       "      <td>13870</td>\n",
       "    </tr>\n",
       "    <tr>\n",
       "      <th>102</th>\n",
       "      <td>2015</td>\n",
       "      <td>metal</td>\n",
       "      <td>9641</td>\n",
       "    </tr>\n",
       "    <tr>\n",
       "      <th>103</th>\n",
       "      <td>2015</td>\n",
       "      <td>resin</td>\n",
       "      <td>75311</td>\n",
       "    </tr>\n",
       "  </tbody>\n",
       "</table>\n",
       "</div>"
      ],
      "text/plain": [
       "     event_year material_category  total\n",
       "98         2014           ceramic  15266\n",
       "99         2014             metal  12238\n",
       "100        2014             resin  85261\n",
       "101        2015           ceramic  13870\n",
       "102        2015             metal   9641\n",
       "103        2015             resin  75311"
      ]
     },
     "execution_count": 295,
     "metadata": {},
     "output_type": "execute_result"
    }
   ],
   "source": [
    "material_proc_date_count_df[material_proc_date_count_df.event_year > 2013]"
   ]
  },
  {
   "cell_type": "markdown",
   "metadata": {},
   "source": [
    "### plot"
   ]
  },
  {
   "cell_type": "code",
   "execution_count": null,
   "metadata": {},
   "outputs": [],
   "source": [
    "%matplotlib inline\n",
    "sns.set()\n",
    "sns.set_context(rc={\"lines.linewidth\": 3})\n",
    "colors = ['magenta', 'blue', 'orange']\n",
    "sns.set_palette(colors)\n",
    "\n",
    "plt.figure(figsize=(12,7))\n",
    "ax = sns.lineplot(x=\"event_year\", y=\"total\", data=material_proc_date_count_df, hue=\"material_category\", legend=False)\n",
    "\n",
    "ax.set_xlabel(\"\\nYear\", fontsize=20)\n",
    "ax.set_ylabel(\"Number of Procedures\\n\", fontsize=20)\n",
    "\n",
    "ax.tick_params(labelsize='x-large') # use large labels\n",
    "plt.xticks(rotation=0)  # rotate the ticks on the x axis\n",
    "\n",
    "## put commas in y-ticks\n",
    "ax.set_yticklabels(['{:,}'.format(int(x)) for x in ax.get_yticks().tolist()])\n",
    "\n",
    "plt.legend(loc='upper left', labels=['ceramic', 'metal', 'resin'], prop={'size': 18})\n",
    "plt.savefig(\"figures/materials-used-by-year-line.png\", dpi=600, bbox_inches=\"tight\")\n",
    "plt.show()"
   ]
  },
  {
   "cell_type": "markdown",
   "metadata": {},
   "source": [
    "### plot tooth by matial use over time"
   ]
  },
  {
   "cell_type": "code",
   "execution_count": null,
   "metadata": {},
   "outputs": [],
   "source": [
    "# tooth_material_proc_date_df.head()"
   ]
  },
  {
   "cell_type": "code",
   "execution_count": null,
   "metadata": {},
   "outputs": [],
   "source": [
    "tooth_material_over_time_count_df = \\\n",
    "    pds.DataFrame(tooth_material_proc_date_df[['material_category', 'event_year', 'anterior', 'posterior']]\\\n",
    "                  .groupby(['event_year','material_category'])\n",
    "                  .sum())\\\n",
    "                  .reset_index()"
   ]
  },
  {
   "cell_type": "code",
   "execution_count": null,
   "metadata": {},
   "outputs": [],
   "source": [
    "# tooth_material_over_time_count_df.head()"
   ]
  },
  {
   "cell_type": "code",
   "execution_count": null,
   "metadata": {},
   "outputs": [],
   "source": [
    "tooth_material_over_time_count_df[tooth_material_over_time_count_df.event_year > 2013]"
   ]
  },
  {
   "cell_type": "markdown",
   "metadata": {},
   "source": [
    "### melt dataframe for plotting"
   ]
  },
  {
   "cell_type": "code",
   "execution_count": null,
   "metadata": {},
   "outputs": [],
   "source": [
    "tooth_material_over_time_count_melt_df = \\\n",
    "    tooth_material_over_time_count_df.melt(id_vars=['material_category', 'event_year'], var_name='tooth_type', \n",
    "                                           value_vars=['anterior', 'posterior'], value_name='total')"
   ]
  },
  {
   "cell_type": "code",
   "execution_count": null,
   "metadata": {},
   "outputs": [],
   "source": [
    "tooth_material_over_time_count_melt_df[tooth_material_over_time_count_melt_df.event_year > 2013]"
   ]
  },
  {
   "cell_type": "markdown",
   "metadata": {},
   "source": [
    "### plot"
   ]
  },
  {
   "cell_type": "code",
   "execution_count": null,
   "metadata": {},
   "outputs": [],
   "source": [
    "%matplotlib inline\n",
    "sns.set_context(rc={\"lines.linewidth\": 3})\n",
    "colors = ['magenta', 'blue', 'orange']\n",
    "sns.set_palette(colors)\n",
    "\n",
    "g = sns.FacetGrid(tooth_material_over_time_count_melt_df, col='tooth_type', hue='material_category', height=7)\n",
    "g = g.map(sns.lineplot, 'event_year', 'total', ci=None).add_legend(title=\"material\")\n",
    "\n",
    "## set x and y labels\n",
    "g.axes[0,0].set_xlabel('\\nYear')\n",
    "g.axes[0,1].set_xlabel('\\nYear')\n",
    "g.axes[0,0].set_ylabel('Number of Procedures\\n')\n",
    "\n",
    "## set title for left and right\n",
    "g.axes[0,0].set_title('Anterior Teeth')\n",
    "g.axes[0,1].set_title('Posterior Teeth')\n",
    "\n",
    "\n",
    "## set size of xticks\n",
    "g.axes[0,0].set_xticklabels(g.axes[0,0].get_xticklabels(), size=20)\n",
    "g.axes[0,1].set_xticklabels(g.axes[0,1].get_xticklabels(), size=20)\n",
    "\n",
    "## set size of y ticks and add commas to numbers\n",
    "g.axes[0,0].set_yticklabels(g.axes[0,0].get_yticklabels(), size=20)\n",
    "g.axes[0,0].set_yticklabels(['{:,}'.format(int(x)) for x in g.axes[0,0].get_yticks().tolist()])\n",
    "\n",
    "plt.savefig(\"figures/tooth-and-materials-used-by-year-line.png\", dpi=600, bbox_inches=\"tight\")\n",
    "plt.show()"
   ]
  },
  {
   "cell_type": "code",
   "execution_count": null,
   "metadata": {},
   "outputs": [],
   "source": []
  }
 ],
 "metadata": {
  "kernelspec": {
   "display_name": "Python 3",
   "language": "python",
   "name": "python3"
  },
  "language_info": {
   "codemirror_mode": {
    "name": "ipython",
    "version": 3
   },
   "file_extension": ".py",
   "mimetype": "text/x-python",
   "name": "python",
   "nbconvert_exporter": "python",
   "pygments_lexer": "ipython3",
   "version": "3.7.3"
  }
 },
 "nbformat": 4,
 "nbformat_minor": 4
}
