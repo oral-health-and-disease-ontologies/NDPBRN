{
 "cells": [
  {
   "cell_type": "code",
   "execution_count": 291,
   "metadata": {},
   "outputs": [],
   "source": [
    "import pandas as pds\n",
    "import numpy as np\n",
    "import seaborn as sns\n",
    "import matplotlib.pyplot as plt\n",
    "from tabulate import tabulate\n",
    "from pandasql import sqldf\n",
    "import functools"
   ]
  },
  {
   "cell_type": "markdown",
   "metadata": {},
   "source": [
    "## define function for printing pandas dataframes as markdown"
   ]
  },
  {
   "cell_type": "code",
   "execution_count": 292,
   "metadata": {},
   "outputs": [],
   "source": [
    "def print_pandas_md(df):\n",
    "    print(tabulate(df, tablefmt=\"pipe\", headers=\"keys\"))"
   ]
  },
  {
   "cell_type": "markdown",
   "metadata": {},
   "source": [
    "## define function to round values in an interval object"
   ]
  },
  {
   "cell_type": "code",
   "execution_count": 293,
   "metadata": {},
   "outputs": [],
   "source": [
    "def round_interval(interval):\n",
    "    left_val = round(interval.left)\n",
    "    right_val = round(interval.right)\n",
    "    return pds.Interval(left=left_val, right=right_val, closed='left')"
   ]
  },
  {
   "cell_type": "markdown",
   "metadata": {},
   "source": [
    "## load local copies of data"
   ]
  },
  {
   "cell_type": "code",
   "execution_count": 294,
   "metadata": {
    "jupyter": {
     "source_hidden": true
    }
   },
   "outputs": [],
   "source": [
    "patient_df = pds.read_csv('triplestore-patient-info.tsv', sep='\\t')"
   ]
  },
  {
   "cell_type": "code",
   "execution_count": 335,
   "metadata": {},
   "outputs": [],
   "source": [
    "tooth_proc_df = pds.read_csv('triplestore-tooth-procedure-info.tsv', sep='\\t')"
   ]
  },
  {
   "cell_type": "code",
   "execution_count": 336,
   "metadata": {},
   "outputs": [],
   "source": [
    "tooth_type_df = pds.read_csv('triplestore-tooth-type-info.tsv', sep='\\t')"
   ]
  },
  {
   "cell_type": "code",
   "execution_count": 337,
   "metadata": {},
   "outputs": [],
   "source": [
    "proc_surface_df = pds.read_csv('triplestore-procedure-surface-info.tsv', sep='\\t')"
   ]
  },
  {
   "cell_type": "code",
   "execution_count": 338,
   "metadata": {},
   "outputs": [],
   "source": [
    "proc_material_df = pds.read_csv('triplestore-proc-material-info.tsv', sep='\\t')"
   ]
  },
  {
   "cell_type": "markdown",
   "metadata": {},
   "source": [
    "# Plot data"
   ]
  },
  {
   "cell_type": "markdown",
   "metadata": {},
   "source": [
    "## plot total number of distinct teeth by tooth type that underwent a procedure"
   ]
  },
  {
   "cell_type": "markdown",
   "metadata": {},
   "source": [
    "### calculate the number of each tooth type"
   ]
  },
  {
   "cell_type": "code",
   "execution_count": 339,
   "metadata": {},
   "outputs": [],
   "source": [
    "tooth_df = tooth_proc_df[['patient_id', 'tooth_num']].copy()\n",
    "tooth_df.tooth_num = tooth_df.tooth_num.astype(int)\n",
    "tooth_count_query = \"\"\"\n",
    "select \n",
    "    tooth_num, count(*) as num_teeth\n",
    "from\n",
    "    tooth_df\n",
    "group by\n",
    "    tooth_num\n",
    "order by\n",
    "    tooth_num\n",
    "\"\"\"\n",
    "tooth_count_df = sqldf(tooth_count_query)"
   ]
  },
  {
   "cell_type": "code",
   "execution_count": 340,
   "metadata": {},
   "outputs": [],
   "source": [
    "# tooth_count_df.head()"
   ]
  },
  {
   "cell_type": "markdown",
   "metadata": {},
   "source": [
    "### plot"
   ]
  },
  {
   "cell_type": "code",
   "execution_count": 341,
   "metadata": {},
   "outputs": [
    {
     "name": "stderr",
     "output_type": "stream",
     "text": [
      "/Users/widuncan/repos/git/NDPBRN/src/analysis/.env/lib/python3.7/site-packages/ipykernel_launcher.py:11: UserWarning: FixedFormatter should only be used together with FixedLocator\n",
      "  # This is added back by InteractiveShellApp.init_path()\n",
      "/Users/widuncan/repos/git/NDPBRN/src/analysis/.env/lib/python3.7/site-packages/ipykernel_launcher.py:13: UserWarning: FixedFormatter should only be used together with FixedLocator\n",
      "  del sys.path[0]\n"
     ]
    },
    {
     "data": {
      "image/png": "[encoded data removed]",
      "text/plain": [
       "<Figure size 864x504 with 1 Axes>"
      ]
     },
     "metadata": {
      "needs_background": "light"
     },
     "output_type": "display_data"
    }
   ],
   "source": [
    "%matplotlib inline\n",
    "\n",
    "plt.figure(figsize=(12,7))\n",
    "ax = sns.barplot(x='tooth_num', y='num_teeth',data=tooth_count_df, color='#4c72b0')\n",
    "\n",
    "ax.set_xlabel(\"\\nTooth Number\", fontsize=15)\n",
    "ax.set_ylabel(\"Number of Teeth that had a Procedure\\n\", fontsize=15)\n",
    "\n",
    "tooth_nums = [x for x in range(1,33)] # create list of tooth nums\n",
    "ax.set_xticklabels(tooth_nums, size=13)\n",
    "ax.set_yticklabels(ax.get_yticks(), size=13)\n",
    "\n",
    "ax.set_yticklabels(['{:,}'.format(int(x)) for x in ax.get_yticks().tolist()]) # put commas in y-ticks\n",
    "# plt.savefig(\"figures/tooth-count-per-tooth.png\", dpi=600, bbox_inches=\"tight\")\n",
    "plt.show()"
   ]
  },
  {
   "cell_type": "markdown",
   "metadata": {},
   "source": [
    "## plot total number of distinct teeth by tooth type that underwent a procedure by gender"
   ]
  },
  {
   "cell_type": "markdown",
   "metadata": {},
   "source": [
    "### join tooth information to gender information"
   ]
  },
  {
   "cell_type": "code",
   "execution_count": 342,
   "metadata": {},
   "outputs": [],
   "source": [
    "tooth_gender_query = \"\"\"\n",
    "select\n",
    "    tooth_df.patient_id, tooth_num, gender\n",
    "from\n",
    "    tooth_df\n",
    "inner join\n",
    "    patient_df\n",
    "on\n",
    "    tooth_df.patient_id = patient_df.patient_id\n",
    "order by\n",
    "    tooth_num\n",
    "\"\"\"\n",
    "tooth_gender_df = sqldf(tooth_gender_query)"
   ]
  },
  {
   "cell_type": "markdown",
   "metadata": {},
   "source": [
    "### calculate the number of teeth for each tooth type and gender"
   ]
  },
  {
   "cell_type": "code",
   "execution_count": 343,
   "metadata": {},
   "outputs": [],
   "source": [
    "tooth_gender_count_query = \"\"\"\n",
    "select \n",
    "    tooth_num, gender, count(*) as num_teeth\n",
    "from\n",
    "    tooth_gender_df\n",
    "group by\n",
    "    tooth_num, gender\n",
    "order by\n",
    "    tooth_num\n",
    "\"\"\"\n",
    "tooth_gender_count_df = sqldf(tooth_gender_count_query)"
   ]
  },
  {
   "cell_type": "code",
   "execution_count": 344,
   "metadata": {},
   "outputs": [],
   "source": [
    "# tooth_gender_count_df.head()"
   ]
  },
  {
   "cell_type": "markdown",
   "metadata": {},
   "source": [
    "### plot"
   ]
  },
  {
   "cell_type": "code",
   "execution_count": 345,
   "metadata": {},
   "outputs": [
    {
     "name": "stderr",
     "output_type": "stream",
     "text": [
      "/Users/widuncan/repos/git/NDPBRN/src/analysis/.env/lib/python3.7/site-packages/ipykernel_launcher.py:14: UserWarning: FixedFormatter should only be used together with FixedLocator\n",
      "  \n",
      "/Users/widuncan/repos/git/NDPBRN/src/analysis/.env/lib/python3.7/site-packages/ipykernel_launcher.py:17: UserWarning: FixedFormatter should only be used together with FixedLocator\n"
     ]
    },
    {
     "data": {
      "image/png": "[encoded data removed]",
      "text/plain": [
       "<Figure size 864x504 with 1 Axes>"
      ]
     },
     "metadata": {
      "needs_background": "light"
     },
     "output_type": "display_data"
    }
   ],
   "source": [
    "%matplotlib inline\n",
    "colors = ['magenta', 'cyan']\n",
    "sns.set_palette(colors)\n",
    "# sns.set(font_scale=1)\n",
    "\n",
    "plt.figure(figsize=(12,7))\n",
    "ax = sns.barplot(x='tooth_num', y='num_teeth', hue=\"gender\",data=tooth_gender_count_df)\n",
    "\n",
    "ax.set_xlabel(\"\\nTooth Number\", fontsize=15)\n",
    "ax.set_ylabel(\"Number of Teeth that had a Procedure\\n\", fontsize=15)\n",
    "\n",
    "tooth_nums = [x for x in range(1,33)] # create list of tooth nums\n",
    "ax.set_xticklabels(tooth_nums, size=13)\n",
    "ax.set_yticklabels(ax.get_yticks(), size=13)\n",
    "ax.legend(loc='upper right', fontsize=15, bbox_to_anchor=(0.9, 1))\n",
    "\n",
    "ax.set_yticklabels(['{:,}'.format(int(x)) for x in ax.get_yticks().tolist()]) # put commas in y-ticks\n",
    "plt.savefig(\"figures/tooth-count-per-tooth-by-gender.png\", dpi=600, bbox_inches=\"tight\")\n",
    "plt.show()"
   ]
  },
  {
   "cell_type": "markdown",
   "metadata": {},
   "source": [
    "## create table with tooth number totals for females, males, and all (i.e., males and females)\n",
    "### this table is helpful for error checking and putting in to paper"
   ]
  },
  {
   "cell_type": "code",
   "execution_count": 346,
   "metadata": {},
   "outputs": [],
   "source": [
    "## this looks a little hairy, but it only a merger of two queries\n",
    "## followed by the subset of data we want\n",
    "## followed by renaming the columns output by the merge\n",
    "gender_count_table = \\\n",
    "    pds.merge(tooth_gender_count_df.query(\"gender == 'female'\"),\n",
    "    tooth_gender_count_df.query(\"gender == 'male'\"),\n",
    "    how='inner',\n",
    "    on='tooth_num')[['tooth_num', 'num_teeth_x', 'num_teeth_y']].rename(columns={'num_teeth_x': 'female', 'num_teeth_y': 'male'})"
   ]
  },
  {
   "cell_type": "code",
   "execution_count": 347,
   "metadata": {},
   "outputs": [],
   "source": [
    "# gender_count_table.head()"
   ]
  },
  {
   "cell_type": "code",
   "execution_count": 348,
   "metadata": {},
   "outputs": [],
   "source": [
    "## merge gender counts with the totals of all teet\n",
    "all_tooth_count_table = \\\n",
    "    pds.merge(gender_count_table, tooth_count_df, how='inner', on='tooth_num').rename(columns={'num_teeth': 'total'})"
   ]
  },
  {
   "cell_type": "code",
   "execution_count": 349,
   "metadata": {},
   "outputs": [
    {
     "data": {
      "text/html": [
       "<div>\n",
       "<style scoped>\n",
       "    .dataframe tbody tr th:only-of-type {\n",
       "        vertical-align: middle;\n",
       "    }\n",
       "\n",
       "    .dataframe tbody tr th {\n",
       "        vertical-align: top;\n",
       "    }\n",
       "\n",
       "    .dataframe thead th {\n",
       "        text-align: right;\n",
       "    }\n",
       "</style>\n",
       "<table border=\"1\" class=\"dataframe\">\n",
       "  <thead>\n",
       "    <tr style=\"text-align: right;\">\n",
       "      <th></th>\n",
       "      <th>tooth_num</th>\n",
       "      <th>female</th>\n",
       "      <th>male</th>\n",
       "      <th>total</th>\n",
       "    </tr>\n",
       "  </thead>\n",
       "  <tbody>\n",
       "    <tr>\n",
       "      <th>0</th>\n",
       "      <td>1</td>\n",
       "      <td>2956</td>\n",
       "      <td>3623</td>\n",
       "      <td>6579</td>\n",
       "    </tr>\n",
       "    <tr>\n",
       "      <th>1</th>\n",
       "      <td>2</td>\n",
       "      <td>48644</td>\n",
       "      <td>38915</td>\n",
       "      <td>87559</td>\n",
       "    </tr>\n",
       "    <tr>\n",
       "      <th>2</th>\n",
       "      <td>3</td>\n",
       "      <td>62118</td>\n",
       "      <td>47690</td>\n",
       "      <td>109808</td>\n",
       "    </tr>\n",
       "    <tr>\n",
       "      <th>3</th>\n",
       "      <td>4</td>\n",
       "      <td>37956</td>\n",
       "      <td>27955</td>\n",
       "      <td>65911</td>\n",
       "    </tr>\n",
       "    <tr>\n",
       "      <th>4</th>\n",
       "      <td>5</td>\n",
       "      <td>31684</td>\n",
       "      <td>24125</td>\n",
       "      <td>55809</td>\n",
       "    </tr>\n",
       "  </tbody>\n",
       "</table>\n",
       "</div>"
      ],
      "text/plain": [
       "   tooth_num  female   male   total\n",
       "0          1    2956   3623    6579\n",
       "1          2   48644  38915   87559\n",
       "2          3   62118  47690  109808\n",
       "3          4   37956  27955   65911\n",
       "4          5   31684  24125   55809"
      ]
     },
     "execution_count": 349,
     "metadata": {},
     "output_type": "execute_result"
    }
   ],
   "source": [
    "all_tooth_count_table.head()"
   ]
  },
  {
   "cell_type": "code",
   "execution_count": null,
   "metadata": {},
   "outputs": [],
   "source": []
  }
 ],
 "metadata": {
  "kernelspec": {
   "display_name": "Python 3",
   "language": "python",
   "name": "python3"
  },
  "language_info": {
   "codemirror_mode": {
    "name": "ipython",
    "version": 3
   },
   "file_extension": ".py",
   "mimetype": "text/x-python",
   "name": "python",
   "nbconvert_exporter": "python",
   "pygments_lexer": "ipython3",
   "version": "3.7.3"
  }
 },
 "nbformat": 4,
 "nbformat_minor": 4
}
